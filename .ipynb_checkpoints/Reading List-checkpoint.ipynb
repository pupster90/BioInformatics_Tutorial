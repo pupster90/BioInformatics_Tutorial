{
 "cells": [
  {
   "cell_type": "markdown",
   "metadata": {},
   "source": [
    "# Create Reading List "
   ]
  },
  {
   "cell_type": "code",
   "execution_count": null,
   "metadata": {},
   "outputs": [],
   "source": [
    "%run ~/Public/Cytoscape/Embed.ipynb\n",
    "#Graph.embed()"
   ]
  },
  {
   "cell_type": "code",
   "execution_count": null,
   "metadata": {},
   "outputs": [],
   "source": [
    "display( Graph.box.start )"
   ]
  },
  {
   "cell_type": "code",
   "execution_count": null,
   "metadata": {
    "cell_style": "split"
   },
   "outputs": [],
   "source": [
    "display( Graph.html.cy )"
   ]
  },
  {
   "cell_type": "code",
   "execution_count": null,
   "metadata": {
    "cell_style": "split"
   },
   "outputs": [],
   "source": [
    "display( Graph.box.editor ) "
   ]
  },
  {
   "cell_type": "code",
   "execution_count": null,
   "metadata": {
    "cell_style": "split"
   },
   "outputs": [],
   "source": [
    "display( Graph.html.table ) "
   ]
  },
  {
   "cell_type": "code",
   "execution_count": null,
   "metadata": {
    "cell_style": "split",
    "scrolled": true
   },
   "outputs": [],
   "source": [
    "display( Graph.box.loadSave ) "
   ]
  },
  {
   "cell_type": "code",
   "execution_count": null,
   "metadata": {},
   "outputs": [],
   "source": []
  }
 ],
 "metadata": {
  "hide_input": false,
  "kernelspec": {
   "display_name": "Python 3",
   "language": "python",
   "name": "python3"
  },
  "language_info": {
   "codemirror_mode": {
    "name": "ipython",
    "version": 3
   },
   "file_extension": ".py",
   "mimetype": "text/x-python",
   "name": "python",
   "nbconvert_exporter": "python",
   "pygments_lexer": "ipython3",
   "version": "3.6.6"
  },
  "toc": {
   "base_numbering": 1,
   "nav_menu": {},
   "number_sections": true,
   "sideBar": true,
   "skip_h1_title": false,
   "title_cell": "Table of Contents",
   "title_sidebar": "Contents",
   "toc_cell": false,
   "toc_position": {},
   "toc_section_display": true,
   "toc_window_display": false
  },
  "varInspector": {
   "cols": {
    "lenName": 16,
    "lenType": 16,
    "lenVar": 40
   },
   "kernels_config": {
    "python": {
     "delete_cmd_postfix": "",
     "delete_cmd_prefix": "del ",
     "library": "var_list.py",
     "varRefreshCmd": "print(var_dic_list())"
    },
    "r": {
     "delete_cmd_postfix": ") ",
     "delete_cmd_prefix": "rm(",
     "library": "var_list.r",
     "varRefreshCmd": "cat(var_dic_list()) "
    }
   },
   "types_to_exclude": [
    "module",
    "function",
    "builtin_function_or_method",
    "instance",
    "_Feature"
   ],
   "window_display": false
  },
  "widgets": {
   "application/vnd.jupyter.widget-state+json": {
    "state": {
     "00095be2352846769b80df453220508f": {
      "model_module": "@jupyter-widgets/controls",
      "model_module_version": "1.2.0",
      "model_name": "LabelModel",
      "state": {
       "layout": "IPY_MODEL_6ffbcb277b324a09a4f630b701c62227",
       "style": "IPY_MODEL_3d7054bcfa7a4551868410605c8ed0e8",
       "value": "Line Style :"
      }
     },
     "001a76bf74d346789afc95b8e4e88c2a": {
      "model_module": "@jupyter-widgets/controls",
      "model_module_version": "1.2.0",
      "model_name": "DescriptionStyleModel",
      "state": {
       "description_width": ""
      }
     },
     "003287ea3cc9476e885a715bb0a92469": {
      "model_module": "@jupyter-widgets/controls",
      "model_module_version": "1.2.0",
      "model_name": "DescriptionStyleModel",
      "state": {
       "description_width": ""
      }
     },
     "003ec4b6d9ac4bc88c47fdd9aea5cea0": {
      "model_module": "@jupyter-widgets/base",
      "model_module_version": "1.0.0",
      "model_name": "LayoutModel",
      "state": {
       "padding": "10px 0px 0px 0px"
      }
     },
     "0045dbdd1148438388abd36c4f29cf59": {
      "model_module": "@jupyter-widgets/controls",
      "model_module_version": "1.2.0",
      "model_name": "DescriptionStyleModel",
      "state": {
       "description_width": ""
      }
     },
     "0047c5a4da1b4fb4bd4ea7dcb6a32a29": {
      "model_module": "@jupyter-widgets/base",
      "model_module_version": "1.0.0",
      "model_name": "LayoutModel",
      "state": {
       "margin": "2px 25px 2px 0px",
       "width": "auto"
      }
     },
     "00a0211292fe48529c031ecc1e7fff6a": {
      "model_module": "@jupyter-widgets/controls",
      "model_module_version": "1.2.0",
      "model_name": "DescriptionStyleModel",
      "state": {
       "description_width": ""
      }
     },
     "00a643e4a3154b29984b1b316f86df18": {
      "model_module": "@jupyter-widgets/base",
      "model_module_version": "1.0.0",
      "model_name": "LayoutModel",
      "state": {}
     },
     "00ae23b97c90478988c8fef3516524b5": {
      "model_module": "@jupyter-widgets/controls",
      "model_module_version": "1.2.0",
      "model_name": "DescriptionStyleModel",
      "state": {
       "description_width": ""
      }
     },
     "00c1bfb9b208489d9712d4e206b424ab": {
      "model_module": "@jupyter-widgets/controls",
      "model_module_version": "1.2.0",
      "model_name": "DescriptionStyleModel",
      "state": {
       "description_width": ""
      }
     },
     "00d45f0f32e44a53bd357f4d38669f9d": {
      "model_module": "@jupyter-widgets/controls",
      "model_module_version": "1.2.0",
      "model_name": "ButtonModel",
      "state": {
       "button_style": "success",
       "icon": "image",
       "layout": "IPY_MODEL_c620764f28e24aec9b38cca7fe9fb968",
       "style": "IPY_MODEL_5feb2cd6a01a4ab495c87de3e6a99554"
      }
     },
     "00f02963dac148bbb1557ec7e0a9c43d": {
      "model_module": "@jupyter-widgets/controls",
      "model_module_version": "1.2.0",
      "model_name": "HBoxModel",
      "state": {
       "children": [
        "IPY_MODEL_199b25a447a2446f80e01ed49e943255",
        "IPY_MODEL_a722b09068a64216a007702e47623014",
        "IPY_MODEL_79456a079feb4f00b17014d6470c2bd2"
       ],
       "layout": "IPY_MODEL_2d6c9ceeb84749e2be87e6f75203b216"
      }
     },
     "0119f794a9844820a51ddf8300693010": {
      "model_module": "@jupyter-widgets/controls",
      "model_module_version": "1.2.0",
      "model_name": "HBoxModel",
      "state": {
       "children": [
        "IPY_MODEL_0c1f412e08d149b79fd5dbda2dd12249",
        "IPY_MODEL_09f5d4bd42744984a07df0f07b25d9c3",
        "IPY_MODEL_00d45f0f32e44a53bd357f4d38669f9d"
       ],
       "layout": "IPY_MODEL_0ebcffda5c6e40ac9840227aeb0331c4"
      }
     },
     "01473824e5db4964b6986d9136f0333f": {
      "model_module": "@jupyter-widgets/base",
      "model_module_version": "1.0.0",
      "model_name": "LayoutModel",
      "state": {
       "width": "auto"
      }
     },
     "017287db4ed746c99d186d9c871ff763": {
      "model_module": "@jupyter-widgets/base",
      "model_module_version": "1.0.0",
      "model_name": "LayoutModel",
      "state": {
       "justify_content": "center",
       "padding": "10px 0px 0px 0px"
      }
     },
     "0184ba9d4d0e46feafa70079828fa28c": {
      "model_module": "@jupyter-widgets/controls",
      "model_module_version": "1.2.0",
      "model_name": "DescriptionStyleModel",
      "state": {
       "description_width": ""
      }
     },
     "0199e092a19546b3855eb593ff593bcb": {
      "model_module": "@jupyter-widgets/controls",
      "model_module_version": "1.2.0",
      "model_name": "DescriptionStyleModel",
      "state": {
       "description_width": ""
      }
     },
     "019df461c33c474794f9f15cadd87df4": {
      "model_module": "@jupyter-widgets/controls",
      "model_module_version": "1.2.0",
      "model_name": "DescriptionStyleModel",
      "state": {
       "description_width": ""
      }
     },
     "01b780e0b8c94e4c9836e1e7f7e2ba71": {
      "model_module": "@jupyter-widgets/base",
      "model_module_version": "1.0.0",
      "model_name": "LayoutModel",
      "state": {
       "padding": "0 15px 0 35px"
      }
     },
     "01bdfac1296f435b993e2171e595bad3": {
      "model_module": "@jupyter-widgets/base",
      "model_module_version": "1.0.0",
      "model_name": "LayoutModel",
      "state": {
       "padding": "10px 0px 0px 0px"
      }
     },
     "02183961d4074c88876776129afc0e82": {
      "model_module": "@jupyter-widgets/base",
      "model_module_version": "1.0.0",
      "model_name": "LayoutModel",
      "state": {}
     },
     "022ac30070224b9185fefcf8d86a609b": {
      "model_module": "@jupyter-widgets/base",
      "model_module_version": "1.0.0",
      "model_name": "LayoutModel",
      "state": {
       "height": "40px",
       "min_width": "50px",
       "width": "10%"
      }
     },
     "024cf5d295c740d0b6de7008a7105667": {
      "model_module": "@jupyter-widgets/controls",
      "model_module_version": "1.2.0",
      "model_name": "TextModel",
      "state": {
       "description": "Username :",
       "layout": "IPY_MODEL_72be962233324ef6b5e45e49a83775d9",
       "style": "IPY_MODEL_961678da94c349039c713dfed370ed03"
      }
     },
     "0296bd2ea6674da59391b9b5dee64fba": {
      "model_module": "@jupyter-widgets/base",
      "model_module_version": "1.0.0",
      "model_name": "LayoutModel",
      "state": {}
     },
     "02c6b4911d464685a0d4819016198302": {
      "model_module": "@jupyter-widgets/base",
      "model_module_version": "1.0.0",
      "model_name": "LayoutModel",
      "state": {}
     },
     "02d8c67bdef64f58996a85b12cebdef7": {
      "model_module": "@jupyter-widgets/controls",
      "model_module_version": "1.2.0",
      "model_name": "TextModel",
      "state": {
       "layout": "IPY_MODEL_c0055664a5bd4c8db701fd2b929e0b4f",
       "style": "IPY_MODEL_adbd9708126141f580a4cee92563e13e"
      }
     },
     "031323772e6943a1bc41bd1b58c6f59a": {
      "model_module": "@jupyter-widgets/controls",
      "model_module_version": "1.2.0",
      "model_name": "HTMLModel",
      "state": {
       "layout": "IPY_MODEL_28e2ac3194f84e6894037776cce5a962",
       "style": "IPY_MODEL_c43c386b70364972b2a77fd99d3bd8e5",
       "value": "<h3> </h3>"
      }
     },
     "032841e400f64ff0b913856ed9506ac7": {
      "model_module": "@jupyter-widgets/controls",
      "model_module_version": "1.2.0",
      "model_name": "FloatSliderModel",
      "state": {
       "layout": "IPY_MODEL_2eecb9ab1e894b3984f783902d0427be",
       "max": 1,
       "step": 0.05,
       "style": "IPY_MODEL_ba058dec794b41e7891489af6678f600",
       "value": 0.5
      }
     },
     "0354773920cd4bb5a0b33bbc85e267d9": {
      "model_module": "@jupyter-widgets/base",
      "model_module_version": "1.0.0",
      "model_name": "LayoutModel",
      "state": {
       "padding": "10px 0px 0px 0px"
      }
     },
     "035d4dcad11542c9b0d120eafc81a51e": {
      "model_module": "@jupyter-widgets/base",
      "model_module_version": "1.0.0",
      "model_name": "LayoutModel",
      "state": {
       "padding": "10px 0px 0px 0px"
      }
     },
     "03fbc34986c1460ea715d7de881612fa": {
      "model_module": "@jupyter-widgets/controls",
      "model_module_version": "1.2.0",
      "model_name": "ButtonStyleModel",
      "state": {}
     },
     "04663fca7a0c49ee8344a465c2cb8261": {
      "model_module": "@jupyter-widgets/controls",
      "model_module_version": "1.2.0",
      "model_name": "DescriptionStyleModel",
      "state": {
       "description_width": ""
      }
     },
     "047c36f264374787b4b8a8ee4f18bc5c": {
      "model_module": "@jupyter-widgets/base",
      "model_module_version": "1.0.0",
      "model_name": "LayoutModel",
      "state": {
       "visibility": "hidden"
      }
     },
     "048859755a1f4e26804c133f6d3f8522": {
      "model_module": "@jupyter-widgets/base",
      "model_module_version": "1.0.0",
      "model_name": "LayoutModel",
      "state": {}
     },
     "04c3b90ad37e4bf29e568564903dbc19": {
      "model_module": "@jupyter-widgets/base",
      "model_module_version": "1.0.0",
      "model_name": "LayoutModel",
      "state": {}
     },
     "04d46b4112254459a7ef6a82d5732f30": {
      "model_module": "@jupyter-widgets/controls",
      "model_module_version": "1.2.0",
      "model_name": "DescriptionStyleModel",
      "state": {
       "description_width": ""
      }
     },
     "04d496355c1a4ed196ad85948e8e2401": {
      "model_module": "@jupyter-widgets/base",
      "model_module_version": "1.0.0",
      "model_name": "LayoutModel",
      "state": {}
     },
     "04dcc706c383416ab40167c2a2f54b72": {
      "model_module": "@jupyter-widgets/controls",
      "model_module_version": "1.2.0",
      "model_name": "DescriptionStyleModel",
      "state": {
       "description_width": ""
      }
     },
     "050796974cfb4a40a8dd03eaddd97b79": {
      "model_module": "@jupyter-widgets/controls",
      "model_module_version": "1.2.0",
      "model_name": "HBoxModel",
      "state": {
       "children": [
        "IPY_MODEL_e8a9c1a49fac41afa5b3b3642116a781",
        "IPY_MODEL_c8383c7551e3476d9730bfad7a7beca5"
       ],
       "layout": "IPY_MODEL_035d4dcad11542c9b0d120eafc81a51e"
      }
     },
     "0517eca5958c4195be8c5fd9a711fedf": {
      "model_module": "@jupyter-widgets/base",
      "model_module_version": "1.0.0",
      "model_name": "LayoutModel",
      "state": {}
     },
     "053c33246f6d4f59894b7111fc766acc": {
      "model_module": "@jupyter-widgets/controls",
      "model_module_version": "1.2.0",
      "model_name": "DescriptionStyleModel",
      "state": {
       "description_width": ""
      }
     },
     "05450e6494084cf3b452dd6c56ea747a": {
      "model_module": "@jupyter-widgets/base",
      "model_module_version": "1.0.0",
      "model_name": "LayoutModel",
      "state": {}
     },
     "0546930bb92b4454922bd71975e33894": {
      "model_module": "@jupyter-widgets/controls",
      "model_module_version": "1.2.0",
      "model_name": "ToggleButtonsStyleModel",
      "state": {
       "button_width": "",
       "description_width": ""
      }
     },
     "0565ed9ae943428db2176104a04e20ef": {
      "model_module": "@jupyter-widgets/controls",
      "model_module_version": "1.2.0",
      "model_name": "HBoxModel",
      "state": {
       "children": [
        "IPY_MODEL_1f69f0db24a64c5aa3123e36362cf08c",
        "IPY_MODEL_16ab956ca94a473c9dc01d3d43fd2ef3"
       ],
       "layout": "IPY_MODEL_10d398aedebd4824b1eb8ebed6e5bbf9"
      }
     },
     "058d941cae5a4cbcbdaace9e35ffa71a": {
      "model_module": "@jupyter-widgets/controls",
      "model_module_version": "1.2.0",
      "model_name": "ButtonModel",
      "state": {
       "button_style": "success",
       "description": "Upload",
       "layout": "IPY_MODEL_a25042318fb843139c567ed71e626697",
       "style": "IPY_MODEL_123d9fd5326b4a76a8184b5f1f758372"
      }
     },
     "059bec1b4a6e4b71a1615c2cc32d269a": {
      "model_module": "@jupyter-widgets/controls",
      "model_module_version": "1.2.0",
      "model_name": "ButtonModel",
      "state": {
       "button_style": "primary",
       "description": "Undo",
       "disabled": true,
       "layout": "IPY_MODEL_34149446393048b49e6fe61d260109cc",
       "style": "IPY_MODEL_aac5375b79f8452cb9e45a1211928930"
      }
     },
     "05bdd6cfc8714d7bbfd46a9bc4fb8a51": {
      "model_module": "@jupyter-widgets/base",
      "model_module_version": "1.0.0",
      "model_name": "LayoutModel",
      "state": {}
     },
     "05bfc8e27ae64a0fb01d77c3340d4428": {
      "model_module": "@jupyter-widgets/controls",
      "model_module_version": "1.2.0",
      "model_name": "SliderStyleModel",
      "state": {
       "description_width": ""
      }
     },
     "05ca1bef06d64864bf5ed39dd3a31622": {
      "model_module": "@jupyter-widgets/base",
      "model_module_version": "1.0.0",
      "model_name": "LayoutModel",
      "state": {}
     },
     "05df1406c27c4814a3fbe8d0ffe34c02": {
      "model_module": "@jupyter-widgets/base",
      "model_module_version": "1.0.0",
      "model_name": "LayoutModel",
      "state": {}
     },
     "05f98a062ecd49e29c5e1eb94512d826": {
      "model_module": "@jupyter-widgets/base",
      "model_module_version": "1.0.0",
      "model_name": "LayoutModel",
      "state": {}
     },
     "0604f4a223da4eb09a05b9b708b9ada3": {
      "model_module": "@jupyter-widgets/base",
      "model_module_version": "1.0.0",
      "model_name": "LayoutModel",
      "state": {}
     },
     "0619fe0441b64cd483dfa568fc960897": {
      "model_module": "@jupyter-widgets/controls",
      "model_module_version": "1.2.0",
      "model_name": "HTMLModel",
      "state": {
       "layout": "IPY_MODEL_59b60be9534941f39dd96ed81e8fed4e",
       "style": "IPY_MODEL_a9e9e9263f9c48efb9dd0f45015e8769",
       "value": "<h5>Name  &nbsp</h5> "
      }
     },
     "06244774084140c0895013c6854f16ed": {
      "model_module": "@jupyter-widgets/controls",
      "model_module_version": "1.2.0",
      "model_name": "HBoxModel",
      "state": {
       "children": [
        "IPY_MODEL_42de4c15906a4aab843d464f67803b22",
        "IPY_MODEL_8c519822f96d4e7fa024169adb166e0e"
       ],
       "layout": "IPY_MODEL_a5fa82e000c8410aa9d3a9ccc6756575"
      }
     },
     "06265fb846ef4dd4ac33cfdeb09a44d6": {
      "model_module": "@jupyter-widgets/controls",
      "model_module_version": "1.2.0",
      "model_name": "HBoxModel",
      "state": {
       "children": [
        "IPY_MODEL_5264f469f014448987383c79e380cdf1",
        "IPY_MODEL_6c3ed88a0c6044beb2721d91d993e245",
        "IPY_MODEL_bfdab1b375794b069fb19c57a734e651"
       ],
       "layout": "IPY_MODEL_fbcf6953d2744a94b11ba4264740fae6"
      }
     },
     "063173b04ef64a57b0c374dc0b56c936": {
      "model_module": "@jupyter-widgets/controls",
      "model_module_version": "1.2.0",
      "model_name": "SelectModel",
      "state": {
       "_options_labels": [
        "Number",
        "Text"
       ],
       "index": 0,
       "layout": "IPY_MODEL_c35fdf58668b41acb6edb58eb38f6d3b",
       "style": "IPY_MODEL_ed839ab49de34c7792335c3a75ef8c5e"
      }
     },
     "06386e140a3a4bf7935398fc7ce082d0": {
      "model_module": "@jupyter-widgets/base",
      "model_module_version": "1.0.0",
      "model_name": "LayoutModel",
      "state": {}
     },
     "0655d8e8a2934688a75f8e0d162eec79": {
      "model_module": "@jupyter-widgets/controls",
      "model_module_version": "1.2.0",
      "model_name": "ButtonStyleModel",
      "state": {}
     },
     "0696195b44c54357a9e9267ccca851b4": {
      "model_module": "@jupyter-widgets/base",
      "model_module_version": "1.0.0",
      "model_name": "LayoutModel",
      "state": {}
     },
     "069d2fa8369a412b9e3e6a2db346006e": {
      "model_module": "@jupyter-widgets/base",
      "model_module_version": "1.0.0",
      "model_name": "LayoutModel",
      "state": {}
     },
     "06d456d798c5465e96014f8fddf01cf2": {
      "model_module": "@jupyter-widgets/controls",
      "model_module_version": "1.2.0",
      "model_name": "DescriptionStyleModel",
      "state": {
       "description_width": ""
      }
     },
     "06f92e7d8efe47ef8bd75fb57acc78df": {
      "model_module": "@jupyter-widgets/base",
      "model_module_version": "1.0.0",
      "model_name": "LayoutModel",
      "state": {}
     },
     "070a1792e83049fca6c66c154ece76af": {
      "model_module": "@jupyter-widgets/base",
      "model_module_version": "1.0.0",
      "model_name": "LayoutModel",
      "state": {}
     },
     "071e90e64cfc43f8bb5c61fb44819416": {
      "model_module": "@jupyter-widgets/controls",
      "model_module_version": "1.2.0",
      "model_name": "TextModel",
      "state": {
       "description": "Username :",
       "layout": "IPY_MODEL_24dd89fd2aec47f7863b1b500414a07b",
       "style": "IPY_MODEL_24dcb9bda72f4315a0f33535d1b14979"
      }
     },
     "075758b6a2a34340b69291a79f3b3973": {
      "model_module": "@jupyter-widgets/controls",
      "model_module_version": "1.2.0",
      "model_name": "ButtonStyleModel",
      "state": {}
     },
     "0792063c711240628e7d71c4fd454679": {
      "model_module": "@jupyter-widgets/base",
      "model_module_version": "1.0.0",
      "model_name": "LayoutModel",
      "state": {}
     },
     "07929a6675bf42e997cd9e63447dfdad": {
      "model_module": "@jupyter-widgets/controls",
      "model_module_version": "1.2.0",
      "model_name": "DescriptionStyleModel",
      "state": {
       "description_width": ""
      }
     },
     "07d58491232241b0b317d48755b4ba04": {
      "model_module": "@jupyter-widgets/controls",
      "model_module_version": "1.2.0",
      "model_name": "DescriptionStyleModel",
      "state": {
       "description_width": ""
      }
     },
     "07d6297022f64c65b9d3586153ff1a33": {
      "model_module": "@jupyter-widgets/controls",
      "model_module_version": "1.2.0",
      "model_name": "ToggleButtonsModel",
      "state": {
       "_options_labels": [
        "Python",
        "HTML",
        "NDEX"
       ],
       "button_style": "danger",
       "icons": [],
       "index": 0,
       "layout": "IPY_MODEL_6a350c99eeaa48288f2e55b06ee7b900",
       "style": "IPY_MODEL_ed4314950b234b8aac5670c716369126",
       "tooltips": []
      }
     },
     "0843293724d343108ff25549a6358c1f": {
      "model_module": "@jupyter-widgets/controls",
      "model_module_version": "1.2.0",
      "model_name": "LabelModel",
      "state": {
       "layout": "IPY_MODEL_d85ebdaaee35470c987c047037afc2f4",
       "style": "IPY_MODEL_2d6615b7a5264299a3d2f199caa79fd0",
       "value": "Style"
      }
     },
     "0850d92c665a403f913ad85764281618": {
      "model_module": "@jupyter-widgets/base",
      "model_module_version": "1.0.0",
      "model_name": "LayoutModel",
      "state": {}
     },
     "0860a0f14e91448884a70df05945ca4e": {
      "model_module": "@jupyter-widgets/base",
      "model_module_version": "1.0.0",
      "model_name": "LayoutModel",
      "state": {
       "margin": "0 15px 0 0px",
       "width": "auto"
      }
     },
     "08a21e3f054c4df6b90af354e66748d4": {
      "model_module": "@jupyter-widgets/controls",
      "model_module_version": "1.2.0",
      "model_name": "HTMLModel",
      "state": {
       "layout": "IPY_MODEL_4bc6ebfa44a44b5aa1ca0237879d28da",
       "style": "IPY_MODEL_c4645f4a49bd4bcd9023e306ce6d0021",
       "value": "<h5>Name  &nbsp</h5> "
      }
     },
     "08b5063b73724f5a8638b1e1eb83a111": {
      "model_module": "@jupyter-widgets/base",
      "model_module_version": "1.0.0",
      "model_name": "LayoutModel",
      "state": {}
     },
     "08cfbc5d42f8456080234d9d219631f7": {
      "model_module": "@jupyter-widgets/controls",
      "model_module_version": "1.2.0",
      "model_name": "HBoxModel",
      "state": {
       "children": [
        "IPY_MODEL_c6d910c40128412fa569cfe54d105b81",
        "IPY_MODEL_7a2f80d989c048e7a0af11fa0e79fb5f",
        "IPY_MODEL_d9b322a0db984805a50929decdf6c6f0",
        "IPY_MODEL_7a3e0d36949545dba75c7d624c38a67b"
       ],
       "layout": "IPY_MODEL_45015035fcc8460b8baf7320532d8905"
      }
     },
     "090706503df74bab82773fd443659b2b": {
      "model_module": "@jupyter-widgets/controls",
      "model_module_version": "1.2.0",
      "model_name": "DescriptionStyleModel",
      "state": {
       "description_width": ""
      }
     },
     "091b5e74be2f428da0aa00fb7b1d7951": {
      "model_module": "@jupyter-widgets/base",
      "model_module_version": "1.0.0",
      "model_name": "LayoutModel",
      "state": {}
     },
     "094736f138d34487b83f8ff62240910e": {
      "model_module": "@jupyter-widgets/base",
      "model_module_version": "1.0.0",
      "model_name": "LayoutModel",
      "state": {
       "align_items": "center"
      }
     },
     "0949cd35f6714b0091304fa335b3f89c": {
      "model_module": "@jupyter-widgets/base",
      "model_module_version": "1.0.0",
      "model_name": "LayoutModel",
      "state": {
       "min_width": "30px"
      }
     },
     "094b6da8ee1e4847b6f8af25279adac0": {
      "model_module": "@jupyter-widgets/controls",
      "model_module_version": "1.2.0",
      "model_name": "HBoxModel",
      "state": {
       "children": [
        "IPY_MODEL_f44715436a6a493e9be44ab7e5185174",
        "IPY_MODEL_87863a94572d4d72a36d1b385fdaf4f5",
        "IPY_MODEL_5894477881fa4403be8f601e2153ccf0"
       ],
       "layout": "IPY_MODEL_cbc59a1239fa4495a1164cc9747a205d"
      }
     },
     "095b7385930040df917c80105942a53a": {
      "model_module": "@jupyter-widgets/base",
      "model_module_version": "1.0.0",
      "model_name": "LayoutModel",
      "state": {}
     },
     "096b73656cb6400392cba4c5db567369": {
      "model_module": "@jupyter-widgets/controls",
      "model_module_version": "1.2.0",
      "model_name": "HTMLModel",
      "state": {
       "layout": "IPY_MODEL_414e8e21e7aa45ea86ec668e0aff943d",
       "style": "IPY_MODEL_ab8006036dfa4738b1a1b4adb80b0f54",
       "value": "<h5>Title  &nbsp</h5> "
      }
     },
     "0975037862dd4ef2b73b68d9ae6d56e2": {
      "model_module": "@jupyter-widgets/controls",
      "model_module_version": "1.2.0",
      "model_name": "DropdownModel",
      "state": {
       "_options_labels": [
        "ellipse",
        "triangle",
        "rectangle",
        "rhomboid",
        "diamond",
        "pentagon",
        "hexagon",
        "concavehexagon",
        "heptagon",
        "octagon",
        "star",
        "tag",
        "vee"
       ],
       "index": 0,
       "layout": "IPY_MODEL_5977feeacbb7476eb21bea1ff7f40a9f",
       "style": "IPY_MODEL_e2ffcc59c15244fea660204b192fde6f"
      }
     },
     "09905afbcb0b4fcf8621704d9da0f45d": {
      "model_module": "@jupyter-widgets/controls",
      "model_module_version": "1.2.0",
      "model_name": "HBoxModel",
      "state": {
       "children": [
        "IPY_MODEL_dd8445ef87df42668658744d1cbbf60d",
        "IPY_MODEL_0dee33d74bb6443fbab11d9bd33f8373"
       ],
       "layout": "IPY_MODEL_5094038ba37343cf8edb7a521bb6fb67"
      }
     },
     "09a8b4e5119740f086a8843174ac1795": {
      "model_module": "@jupyter-widgets/controls",
      "model_module_version": "1.2.0",
      "model_name": "ToggleButtonsModel",
      "state": {
       "_options_labels": [
        "Python",
        "HTML",
        "NDEX"
       ],
       "button_style": "danger",
       "icons": [],
       "index": 0,
       "layout": "IPY_MODEL_58630b43706e43998dd215596efc0a25",
       "style": "IPY_MODEL_7536497e35e348be983f90222b56b5fa",
       "tooltips": []
      }
     },
     "09f5d4bd42744984a07df0f07b25d9c3": {
      "model_module": "@jupyter-widgets/controls",
      "model_module_version": "1.2.0",
      "model_name": "TextModel",
      "state": {
       "layout": "IPY_MODEL_a4285a9185d04faea18a92d6eed64284",
       "style": "IPY_MODEL_a62d8456b3054a4fb5578c2ad9c4e646"
      }
     },
     "0a29503ad436430bab92ddb5743ecd29": {
      "model_module": "@jupyter-widgets/base",
      "model_module_version": "1.0.0",
      "model_name": "LayoutModel",
      "state": {}
     },
     "0a515ebeefd24e7c955e0cde6fcbbef6": {
      "model_module": "@jupyter-widgets/base",
      "model_module_version": "1.0.0",
      "model_name": "LayoutModel",
      "state": {}
     },
     "0a65107490d04844a054d050695a81de": {
      "model_module": "@jupyter-widgets/controls",
      "model_module_version": "1.2.0",
      "model_name": "ButtonModel",
      "state": {
       "button_style": "primary",
       "description": "Load",
       "layout": "IPY_MODEL_486e8d7527664ba9a6ca6277204812a3",
       "style": "IPY_MODEL_6e09310cc96a4722a43baa0c501cd515"
      }
     },
     "0a7a988b034044a49690a0ac48e2459a": {
      "model_module": "@jupyter-widgets/controls",
      "model_module_version": "1.2.0",
      "model_name": "HTMLModel",
      "state": {
       "layout": "IPY_MODEL_be3e936c92a74b0ba1d293e70ff0f2c1",
       "style": "IPY_MODEL_9088f58047c44cda8ecece66c8f66afb",
       "value": "<hr style='padding: 2px; margin: 2px'>"
      }
     },
     "0ad2a3a17df84430b97a0b11357a857d": {
      "model_module": "@jupyter-widgets/controls",
      "model_module_version": "1.2.0",
      "model_name": "ButtonStyleModel",
      "state": {}
     },
     "0adf986021fc4a9ba6c08b338c56e10e": {
      "model_module": "@jupyter-widgets/base",
      "model_module_version": "1.0.0",
      "model_name": "LayoutModel",
      "state": {}
     },
     "0af132b80c7641e59bbb9086f0ebaba5": {
      "model_module": "@jupyter-widgets/controls",
      "model_module_version": "1.2.0",
      "model_name": "DescriptionStyleModel",
      "state": {
       "description_width": ""
      }
     },
     "0af2564589b146f191c6a7467bafcdf8": {
      "model_module": "@jupyter-widgets/controls",
      "model_module_version": "1.2.0",
      "model_name": "IntSliderModel",
      "state": {
       "layout": "IPY_MODEL_d0556e1cfa5146b380a634593f561ad4",
       "max": 200,
       "min": 1,
       "style": "IPY_MODEL_4ad151ef66d2487cb59e153b1e3b489d",
       "value": 53
      }
     },
     "0b0a6507a9244358bb6145096d72a0cf": {
      "model_module": "@jupyter-widgets/controls",
      "model_module_version": "1.2.0",
      "model_name": "ColorPickerModel",
      "state": {
       "disabled": false,
       "layout": "IPY_MODEL_90dc25efc81647e692b2e352af3e1d6a",
       "style": "IPY_MODEL_300a54a25d2440a58713185366b91e2b"
      }
     },
     "0b2cced9da6d44b8ab1523f4b22f6d12": {
      "model_module": "@jupyter-widgets/controls",
      "model_module_version": "1.2.0",
      "model_name": "HTMLModel",
      "state": {
       "layout": "IPY_MODEL_de5048bf11bf4e368262bc4e3c51cf39",
       "style": "IPY_MODEL_56b1876aab7448ab8a47cc2f14de0fa8",
       "value": "<h3 class='text-center' style='color:red'>Error in .html File</h3>"
      }
     },
     "0b62b8ad6ed44273ad3df1e23589ff38": {
      "model_module": "@jupyter-widgets/controls",
      "model_module_version": "1.2.0",
      "model_name": "DescriptionStyleModel",
      "state": {
       "description_width": ""
      }
     },
     "0b990358c10944eb95b506ecf1243e57": {
      "model_module": "@jupyter-widgets/controls",
      "model_module_version": "1.2.0",
      "model_name": "DescriptionStyleModel",
      "state": {
       "description_width": ""
      }
     },
     "0be432a6655d419b928c3ab686f610eb": {
      "model_module": "@jupyter-widgets/controls",
      "model_module_version": "1.2.0",
      "model_name": "HTMLModel",
      "state": {
       "layout": "IPY_MODEL_63eca3df9188434693a3d0b52a6dfca4",
       "style": "IPY_MODEL_f377e6f70fe045d6b2a37a560075761b",
       "value": "<h5>Here you save your graph as a <a href='https://www.datacamp.com/community/tutorials/pandas-tutorial-dataframe-python'>Pandas DataFrame</a> called <font color=\"blue\">Graph.data</font> .\nThis is great for doing data analysis in <font color=\"blue\">python</font>.</h5>"
      }
     },
     "0be7c87503df44f5b3dd2865427db534": {
      "model_module": "@jupyter-widgets/controls",
      "model_module_version": "1.2.0",
      "model_name": "HTMLModel",
      "state": {
       "layout": "IPY_MODEL_3ceede669c1844638b7159b5f17f269a",
       "style": "IPY_MODEL_b92077dc85e64413b5bcaac179ccef44",
       "value": "<h1 class='text-center text-success' style='margin:0'>Saved!</h1>"
      }
     },
     "0bf9b61192fa41e4add15fee6fbd8213": {
      "model_module": "@jupyter-widgets/controls",
      "model_module_version": "1.2.0",
      "model_name": "AccordionModel",
      "state": {
       "_titles": {
        "0": "Style",
        "1": "Label",
        "2": "Variables"
       },
       "children": [
        "IPY_MODEL_f3345b6b71214baf81bf2c15e28f966e",
        "IPY_MODEL_5cf9e499533948dbb856aae27357eec5",
        "IPY_MODEL_9d683056d340405c853334d59dd07130"
       ],
       "layout": "IPY_MODEL_870bdc9ab53142cfb84a603a2ec0cd63"
      }
     },
     "0bfda0413c83416090e31c35b0543cc6": {
      "model_module": "@jupyter-widgets/controls",
      "model_module_version": "1.2.0",
      "model_name": "DescriptionStyleModel",
      "state": {
       "description_width": ""
      }
     },
     "0bfded4e8599495eae7fe616b1efd7b3": {
      "model_module": "@jupyter-widgets/base",
      "model_module_version": "1.0.0",
      "model_name": "LayoutModel",
      "state": {}
     },
     "0c1a46109a2141e48fcd6d94e07ebb38": {
      "model_module": "@jupyter-widgets/controls",
      "model_module_version": "1.2.0",
      "model_name": "VBoxModel",
      "state": {
       "children": [
        "IPY_MODEL_3b814a581a174893a7c06eb59148595e",
        "IPY_MODEL_17259069242a4f409fbfa1210569d249"
       ],
       "layout": "IPY_MODEL_2c033ab57c3244ef81e118842fc7f051"
      }
     },
     "0c1f412e08d149b79fd5dbda2dd12249": {
      "model_module": "@jupyter-widgets/controls",
      "model_module_version": "1.2.0",
      "model_name": "LabelModel",
      "state": {
       "layout": "IPY_MODEL_31182893fb3946c792d5479b15467d6b",
       "style": "IPY_MODEL_91607196b3024179822f8e0626a01317",
       "value": "Image : "
      }
     },
     "0c2e84c076b64af5a277082404aa3e02": {
      "model_module": "@jupyter-widgets/controls",
      "model_module_version": "1.2.0",
      "model_name": "ToggleButtonsModel",
      "state": {
       "_options_labels": [
        "Python",
        "HTML",
        "NDEX"
       ],
       "button_style": "success",
       "icons": [],
       "index": 0,
       "layout": "IPY_MODEL_b7ac35c8a26149a789a44bed0a29efc4",
       "style": "IPY_MODEL_78c4885ce9d4440b9f021f60ec0b08b8",
       "tooltips": []
      }
     },
     "0c4304890a284114849d12435d4bb34e": {
      "model_module": "@jupyter-widgets/base",
      "model_module_version": "1.0.0",
      "model_name": "LayoutModel",
      "state": {
       "padding": "0 15px 0 35px"
      }
     },
     "0c54fc87bb3341a0bb273ba694a3a34a": {
      "model_module": "@jupyter-widgets/controls",
      "model_module_version": "1.2.0",
      "model_name": "ToggleButtonModel",
      "state": {
       "icon": "eye",
       "layout": "IPY_MODEL_2a25bf07153a4e50b531cf9b68b53f1b",
       "style": "IPY_MODEL_f90eb10dda3c482fadfea0fa35a42f4b"
      }
     },
     "0c8ad7e7c09a452b91e9d38ff20605b5": {
      "model_module": "@jupyter-widgets/controls",
      "model_module_version": "1.2.0",
      "model_name": "VBoxModel",
      "state": {
       "children": [
        "IPY_MODEL_a8ffbf5423ae4bb9a2df3c3caebb9017",
        "IPY_MODEL_95cbd8cc63ff4a6b8fb59ef5472cdf43"
       ],
       "layout": "IPY_MODEL_7049dfaee735419f927bf83e15d206b8"
      }
     },
     "0ce86f67d6ed4c3b82210ccac035f799": {
      "model_module": "@jupyter-widgets/controls",
      "model_module_version": "1.2.0",
      "model_name": "DropdownModel",
      "state": {
       "_options_labels": [
        "ellipse",
        "triangle",
        "rectangle",
        "rhomboid",
        "diamond",
        "pentagon",
        "hexagon",
        "concavehexagon",
        "heptagon",
        "octagon",
        "star",
        "tag",
        "vee"
       ],
       "index": 2,
       "layout": "IPY_MODEL_882c2fbd45bb4a0c8efb1aa828ed1d4e",
       "style": "IPY_MODEL_04663fca7a0c49ee8344a465c2cb8261"
      }
     },
     "0d264c1213044c578ee7e8fea773319a": {
      "model_module": "@jupyter-widgets/controls",
      "model_module_version": "1.2.0",
      "model_name": "VBoxModel",
      "state": {
       "children": [
        "IPY_MODEL_52ee17e58edc49f29a878d18d050b0d1",
        "IPY_MODEL_7455b08d292a427c86c8e572163a399a",
        "IPY_MODEL_aceee12260f94281a0de48ab75bb6dd5",
        "IPY_MODEL_132514c471f1487abcddcdb618e26148"
       ],
       "layout": "IPY_MODEL_6ea54630d28346768ae98893fba67b1a"
      }
     },
     "0d81425474314eaeb5c0676515fd6f1a": {
      "model_module": "@jupyter-widgets/base",
      "model_module_version": "1.0.0",
      "model_name": "LayoutModel",
      "state": {
       "padding": "10px 0px 0px 0px"
      }
     },
     "0d834bc6bf114883934886ae87ab76cc": {
      "model_module": "@jupyter-widgets/controls",
      "model_module_version": "1.2.0",
      "model_name": "PasswordModel",
      "state": {
       "description": "Password :",
       "layout": "IPY_MODEL_19046dd46a1d4a60a637c1be01347e3e",
       "style": "IPY_MODEL_4d7e746f37e14090a607a5b20a22f5da"
      }
     },
     "0d9caf0b73c44ebc857655edeb66b14c": {
      "model_module": "@jupyter-widgets/base",
      "model_module_version": "1.0.0",
      "model_name": "LayoutModel",
      "state": {}
     },
     "0de77b096f364003bef859252757ce2a": {
      "model_module": "@jupyter-widgets/controls",
      "model_module_version": "1.2.0",
      "model_name": "HTMLModel",
      "state": {
       "layout": "IPY_MODEL_1b9343475d7e440a8b53fb101b8418a0",
       "style": "IPY_MODEL_a8d75f1f2e1441508cd8a1b3df06eaa8",
       "value": "<h5>Description</h5>"
      }
     },
     "0dee33d74bb6443fbab11d9bd33f8373": {
      "model_module": "@jupyter-widgets/controls",
      "model_module_version": "1.2.0",
      "model_name": "TextModel",
      "state": {
       "layout": "IPY_MODEL_ec96e5a13a5c4baabea8ba1972ac41df",
       "style": "IPY_MODEL_3d239f3d32774907b0fc446cbae94e40"
      }
     },
     "0e6791a1d0ad4855a1d7908173080ba8": {
      "model_module": "@jupyter-widgets/base",
      "model_module_version": "1.0.0",
      "model_name": "LayoutModel",
      "state": {}
     },
     "0e8c9922b2124edd892dbd4203bcaacd": {
      "model_module": "@jupyter-widgets/base",
      "model_module_version": "1.0.0",
      "model_name": "LayoutModel",
      "state": {
       "align_items": "center"
      }
     },
     "0ebcffda5c6e40ac9840227aeb0331c4": {
      "model_module": "@jupyter-widgets/base",
      "model_module_version": "1.0.0",
      "model_name": "LayoutModel",
      "state": {
       "padding": "10px 0px 0px 0px"
      }
     },
     "0ed543298b0f4f74b076d7acfff9527b": {
      "model_module": "@jupyter-widgets/controls",
      "model_module_version": "1.2.0",
      "model_name": "DescriptionStyleModel",
      "state": {
       "description_width": ""
      }
     },
     "0efc1ed4a04e48b7a508b982959ef9df": {
      "model_module": "@jupyter-widgets/base",
      "model_module_version": "1.0.0",
      "model_name": "LayoutModel",
      "state": {
       "min_width": "30px"
      }
     },
     "0f16c37dcadc44838ae65ffbaf4d3cae": {
      "model_module": "@jupyter-widgets/base",
      "model_module_version": "1.0.0",
      "model_name": "LayoutModel",
      "state": {}
     },
     "0f1ed229636c46a68b19b0feff611589": {
      "model_module": "@jupyter-widgets/base",
      "model_module_version": "1.0.0",
      "model_name": "LayoutModel",
      "state": {
       "align_items": "center",
       "display": "none"
      }
     },
     "0f206448a8e54a8e8a69450975e933d4": {
      "model_module": "@jupyter-widgets/base",
      "model_module_version": "1.0.0",
      "model_name": "LayoutModel",
      "state": {}
     },
     "0f2720e4ffa441659edb63bbdd651db1": {
      "model_module": "@jupyter-widgets/controls",
      "model_module_version": "1.2.0",
      "model_name": "ButtonStyleModel",
      "state": {}
     },
     "0f32cfe27cb84e3db77cdda003d76e7a": {
      "model_module": "@jupyter-widgets/controls",
      "model_module_version": "1.2.0",
      "model_name": "DescriptionStyleModel",
      "state": {
       "description_width": ""
      }
     },
     "0f6c5527e49a49de8db460678b60ac09": {
      "model_module": "@jupyter-widgets/controls",
      "model_module_version": "1.2.0",
      "model_name": "VBoxModel",
      "state": {
       "children": [
        "IPY_MODEL_97d35fc56fad4034b3bba3f1961031f5",
        "IPY_MODEL_d3cf9ead0c5543daa2275d2ead1828d1",
        "IPY_MODEL_0de77b096f364003bef859252757ce2a",
        "IPY_MODEL_852345f94853472a8c862b6b65e90b48",
        "IPY_MODEL_5ccc4d456686488296dd0f2378a423e9",
        "IPY_MODEL_0be7c87503df44f5b3dd2865427db534"
       ],
       "layout": "IPY_MODEL_0f1ed229636c46a68b19b0feff611589"
      }
     },
     "0f8174a89ccb4abb8f4131a2c3f32579": {
      "model_module": "@jupyter-widgets/controls",
      "model_module_version": "1.2.0",
      "model_name": "HBoxModel",
      "state": {
       "children": [
        "IPY_MODEL_ea2498f2c53241e097dbb434bfac88bd",
        "IPY_MODEL_0975037862dd4ef2b73b68d9ae6d56e2"
       ],
       "layout": "IPY_MODEL_26186418e437446e92c46ceb234ed26a"
      }
     },
     "0fa82a4827ab4c9bb75d2d16c75101a6": {
      "model_module": "@jupyter-widgets/base",
      "model_module_version": "1.0.0",
      "model_name": "LayoutModel",
      "state": {}
     },
     "0fab488c412d49e4a6a00cb04686beaf": {
      "model_module": "@jupyter-widgets/controls",
      "model_module_version": "1.2.0",
      "model_name": "DescriptionStyleModel",
      "state": {
       "description_width": ""
      }
     },
     "0fc3f53555bd4bd9b670e61e0d62a2fc": {
      "model_module": "@jupyter-widgets/controls",
      "model_module_version": "1.2.0",
      "model_name": "HTMLModel",
      "state": {
       "layout": "IPY_MODEL_25f633a34726476e91317d600f72c560",
       "style": "IPY_MODEL_70f4e3f816d7419b89ba908322526553",
       "value": "<h4 style='color: purple' >Edges</h4>"
      }
     },
     "0ff5cb87f36844ed94d6941b01c007c3": {
      "model_module": "@jupyter-widgets/base",
      "model_module_version": "1.0.0",
      "model_name": "LayoutModel",
      "state": {}
     },
     "1041302cb3a64fd8ac0e842a926fab05": {
      "model_module": "@jupyter-widgets/controls",
      "model_module_version": "1.2.0",
      "model_name": "TextModel",
      "state": {
       "continuous_update": false,
       "description": "Search :",
       "layout": "IPY_MODEL_7dcec704df124020a92bb947e38224f8",
       "style": "IPY_MODEL_6dcd012191a848ad81dbc62a5dfb90d4"
      }
     },
     "1074f3a48ab2448f8d28e1d8510a07e6": {
      "model_module": "@jupyter-widgets/base",
      "model_module_version": "1.0.0",
      "model_name": "LayoutModel",
      "state": {
       "align_items": "center"
      }
     },
     "10a91579c2de43ae97b73f199c4cb636": {
      "model_module": "@jupyter-widgets/controls",
      "model_module_version": "1.2.0",
      "model_name": "DescriptionStyleModel",
      "state": {
       "description_width": ""
      }
     },
     "10af059d5ecf43c6acc87579adb25e67": {
      "model_module": "@jupyter-widgets/controls",
      "model_module_version": "1.2.0",
      "model_name": "HBoxModel",
      "state": {
       "children": [
        "IPY_MODEL_32f93f614db24ccf9d7d047edadec24a",
        "IPY_MODEL_1c6cf08165b74bc28c6dd6f3a7c8aacc"
       ],
       "layout": "IPY_MODEL_5a7eb19de25d46aab386379ef3121c0d"
      }
     },
     "10b5a2ae5e154dc599f871b42191a4f4": {
      "model_module": "@jupyter-widgets/controls",
      "model_module_version": "1.2.0",
      "model_name": "DescriptionStyleModel",
      "state": {
       "description_width": ""
      }
     },
     "10beed100dae4942bf302fec2091a37c": {
      "model_module": "@jupyter-widgets/base",
      "model_module_version": "1.0.0",
      "model_name": "LayoutModel",
      "state": {}
     },
     "10d398aedebd4824b1eb8ebed6e5bbf9": {
      "model_module": "@jupyter-widgets/base",
      "model_module_version": "1.0.0",
      "model_name": "LayoutModel",
      "state": {}
     },
     "1118c40dd40246bea400ebccb9f15a66": {
      "model_module": "@jupyter-widgets/base",
      "model_module_version": "1.0.0",
      "model_name": "LayoutModel",
      "state": {}
     },
     "116630c906f64be4a55944262f3ca2a0": {
      "model_module": "@jupyter-widgets/base",
      "model_module_version": "1.0.0",
      "model_name": "LayoutModel",
      "state": {
       "padding": "10px 0px 0px 0px"
      }
     },
     "116a36f83a7445b7836b02b7dd2390bb": {
      "model_module": "@jupyter-widgets/controls",
      "model_module_version": "1.2.0",
      "model_name": "HTMLModel",
      "state": {
       "layout": "IPY_MODEL_a4e6483a8f134efb915a0b386fbd56cc",
       "style": "IPY_MODEL_7e7af20477214b28b5335e81d0387a70",
       "value": "<h5>Description</h5>"
      }
     },
     "1210dc398a0445e5a06739affb876d02": {
      "model_module": "@jupyter-widgets/controls",
      "model_module_version": "1.2.0",
      "model_name": "DescriptionStyleModel",
      "state": {
       "description_width": ""
      }
     },
     "121a875c529a47bd956fccab870a4ebb": {
      "model_module": "@jupyter-widgets/controls",
      "model_module_version": "1.2.0",
      "model_name": "DescriptionStyleModel",
      "state": {
       "description_width": ""
      }
     },
     "123178fbe8604ee1bbeb3829119e62ee": {
      "model_module": "@jupyter-widgets/controls",
      "model_module_version": "1.2.0",
      "model_name": "DescriptionStyleModel",
      "state": {
       "description_width": ""
      }
     },
     "123d9fd5326b4a76a8184b5f1f758372": {
      "model_module": "@jupyter-widgets/controls",
      "model_module_version": "1.2.0",
      "model_name": "ButtonStyleModel",
      "state": {}
     },
     "124c17cd2cb74fe0b89bcebcd8d395b7": {
      "model_module": "@jupyter-widgets/base",
      "model_module_version": "1.0.0",
      "model_name": "LayoutModel",
      "state": {}
     },
     "124d41367bb848e7ad33870037e8003e": {
      "model_module": "@jupyter-widgets/base",
      "model_module_version": "1.0.0",
      "model_name": "LayoutModel",
      "state": {}
     },
     "12815a1b018a45e7a6203646cb29899c": {
      "model_module": "@jupyter-widgets/base",
      "model_module_version": "1.0.0",
      "model_name": "LayoutModel",
      "state": {}
     },
     "12e315bcc9b54ab9b536caa7cb72918a": {
      "model_module": "@jupyter-widgets/controls",
      "model_module_version": "1.2.0",
      "model_name": "DescriptionStyleModel",
      "state": {
       "description_width": ""
      }
     },
     "12e47021dc9a4965a4ae897e12bfa550": {
      "model_module": "@jupyter-widgets/controls",
      "model_module_version": "1.2.0",
      "model_name": "LabelModel",
      "state": {
       "layout": "IPY_MODEL_a63e7f95db5745daaf8d1982b934aff7",
       "style": "IPY_MODEL_eb17570367f74c1d8e117500290ef336",
       "value": "Size :"
      }
     },
     "12edab4719354361914d43bd0d5ac096": {
      "model_module": "@jupyter-widgets/controls",
      "model_module_version": "1.2.0",
      "model_name": "DescriptionStyleModel",
      "state": {
       "description_width": ""
      }
     },
     "132514c471f1487abcddcdb618e26148": {
      "model_module": "@jupyter-widgets/controls",
      "model_module_version": "1.2.0",
      "model_name": "HTMLModel",
      "state": {
       "layout": "IPY_MODEL_5f7d7592a49446199a34be7925f375d9",
       "style": "IPY_MODEL_8a84866378f64e8296c6e3a5e3f35f2b",
       "value": "<h2 class='text-danger text-center'>Coming Soon! Wait for Update</h2>"
      }
     },
     "145015b476524664b8d8d76138f58efc": {
      "model_module": "@jupyter-widgets/controls",
      "model_module_version": "1.2.0",
      "model_name": "DescriptionStyleModel",
      "state": {
       "description_width": ""
      }
     },
     "149056e3c7c94b2d9dae38c85ac6c9a0": {
      "model_module": "@jupyter-widgets/controls",
      "model_module_version": "1.2.0",
      "model_name": "DescriptionStyleModel",
      "state": {
       "description_width": ""
      }
     },
     "149f4682ee5e46638822feafb0c64348": {
      "model_module": "@jupyter-widgets/controls",
      "model_module_version": "1.2.0",
      "model_name": "AccordionModel",
      "state": {
       "_titles": {
        "0": "Load",
        "1": "Save"
       },
       "children": [
        "IPY_MODEL_275ce0c0dae84327b56dfbc1fc56986b",
        "IPY_MODEL_0d264c1213044c578ee7e8fea773319a"
       ],
       "layout": "IPY_MODEL_de63e5521f964087b36c30a9193b2bf8"
      }
     },
     "149f9f3c1d034b49af6922034fea5f05": {
      "model_module": "@jupyter-widgets/controls",
      "model_module_version": "1.2.0",
      "model_name": "IntSliderModel",
      "state": {
       "layout": "IPY_MODEL_75c586096ac0487bb106d03a43f766a4",
       "max": 200,
       "min": 1,
       "style": "IPY_MODEL_893e5cb2ec384eb6acc5e6f97c60f1d5",
       "value": 30
      }
     },
     "14d2a30ad80f4faaa7cbc83a37f58875": {
      "model_module": "@jupyter-widgets/controls",
      "model_module_version": "1.2.0",
      "model_name": "DescriptionStyleModel",
      "state": {
       "description_width": ""
      }
     },
     "14d49c97ff094cc3856b98be575aaf11": {
      "model_module": "@jupyter-widgets/controls",
      "model_module_version": "1.2.0",
      "model_name": "SliderStyleModel",
      "state": {
       "description_width": ""
      }
     },
     "14e155e43587495aa49f461a332349bb": {
      "model_module": "@jupyter-widgets/controls",
      "model_module_version": "1.2.0",
      "model_name": "LabelModel",
      "state": {
       "layout": "IPY_MODEL_24131c6cff464fceb7044bfe6bdd370b",
       "style": "IPY_MODEL_926455508aa840efb31cc39b7b012dd8",
       "value": "Behind/In-Front :"
      }
     },
     "14f788e6f99148a88e2eac7f71334e1e": {
      "model_module": "@jupyter-widgets/base",
      "model_module_version": "1.0.0",
      "model_name": "LayoutModel",
      "state": {}
     },
     "14fb8c89a73d478396e5dbeaf4dc32d7": {
      "model_module": "@jupyter-widgets/controls",
      "model_module_version": "1.2.0",
      "model_name": "HTMLModel",
      "state": {
       "layout": "IPY_MODEL_43d30f064d504eb784fc71c19ceb2a61",
       "style": "IPY_MODEL_d1290994ad1649e597249c25289c2123",
       "value": "<h5>You can save your graph as a <font color='darkKhaki'>index.html</font> file.\n<font color='darkKhaki'>index.html</font> files have lots of cool features, as explained in the intro video. </h5>"
      }
     },
     "14fd77a822694dd1aa1a7eb58bcf63ee": {
      "model_module": "@jupyter-widgets/controls",
      "model_module_version": "1.2.0",
      "model_name": "DescriptionStyleModel",
      "state": {
       "description_width": ""
      }
     },
     "1511617fd14245daa5f9d26aa53e5933": {
      "model_module": "@jupyter-widgets/base",
      "model_module_version": "1.0.0",
      "model_name": "LayoutModel",
      "state": {}
     },
     "155b2eda6634494a9c8afb0e795372dc": {
      "model_module": "@jupyter-widgets/controls",
      "model_module_version": "1.2.0",
      "model_name": "HBoxModel",
      "state": {
       "children": [
        "IPY_MODEL_99636097fd034d3e98e9acac5f2d774c",
        "IPY_MODEL_423493a40486414db3995ab50afa008d",
        "IPY_MODEL_5c1eaa137a4d44e0adbf00daaf835d69",
        "IPY_MODEL_9c6e843ceef749e7baf1105982c30755"
       ],
       "layout": "IPY_MODEL_5982c86c661b4ae691afb4ad37177ffb"
      }
     },
     "1568bebb6c4d4650baabd87a303261eb": {
      "model_module": "@jupyter-widgets/base",
      "model_module_version": "1.0.0",
      "model_name": "LayoutModel",
      "state": {}
     },
     "15750e9555774127ba44aef0668f90c7": {
      "model_module": "@jupyter-widgets/base",
      "model_module_version": "1.0.0",
      "model_name": "LayoutModel",
      "state": {}
     },
     "15d10b160cee49ba9b10015e59b0e1a2": {
      "model_module": "@jupyter-widgets/base",
      "model_module_version": "1.0.0",
      "model_name": "LayoutModel",
      "state": {}
     },
     "15e02418f152459ab6ba5a76c2320876": {
      "model_module": "@jupyter-widgets/controls",
      "model_module_version": "1.2.0",
      "model_name": "VBoxModel",
      "state": {
       "children": [
        "IPY_MODEL_14fb8c89a73d478396e5dbeaf4dc32d7",
        "IPY_MODEL_10af059d5ecf43c6acc87579adb25e67",
        "IPY_MODEL_6825afc9c8614dc5a32fd5b21c2a4561",
        "IPY_MODEL_9a64c9be774c4e17876fa15462162ddc",
        "IPY_MODEL_7eee45465c1d465cb8a72ec402b0d203",
        "IPY_MODEL_57efc45e8d2a44ae903cf7424d7424af"
       ],
       "layout": "IPY_MODEL_6d16affc09b84057943dc6445028ad04"
      }
     },
     "15fc71f2f8144cbc818f904a657820c9": {
      "model_module": "@jupyter-widgets/base",
      "model_module_version": "1.0.0",
      "model_name": "LayoutModel",
      "state": {
       "align_items": "center"
      }
     },
     "167573cb3a7442cbbacf4206c8e1b2ec": {
      "model_module": "@jupyter-widgets/base",
      "model_module_version": "1.0.0",
      "model_name": "LayoutModel",
      "state": {}
     },
     "169299251380481dba503a49799b34e8": {
      "model_module": "@jupyter-widgets/controls",
      "model_module_version": "1.2.0",
      "model_name": "DescriptionStyleModel",
      "state": {
       "description_width": ""
      }
     },
     "169855ced68747fdbf4b5e76f50f0ec6": {
      "model_module": "@jupyter-widgets/controls",
      "model_module_version": "1.2.0",
      "model_name": "ButtonStyleModel",
      "state": {}
     },
     "16ab956ca94a473c9dc01d3d43fd2ef3": {
      "model_module": "@jupyter-widgets/controls",
      "model_module_version": "1.2.0",
      "model_name": "DropdownModel",
      "state": {
       "_options_labels": [
        "none",
        "triangle",
        "tee",
        "diamond",
        "square",
        "circle",
        "vee",
        "triangle-tee"
       ],
       "index": 0,
       "layout": "IPY_MODEL_2e7e8528061744e8bc3a6cd903975763",
       "style": "IPY_MODEL_f73d0e910bff41f5a92b749d163acf45"
      }
     },
     "16ada0c9cc924dedac2406290f50e146": {
      "model_module": "@jupyter-widgets/controls",
      "model_module_version": "1.2.0",
      "model_name": "VBoxModel",
      "state": {
       "children": [
        "IPY_MODEL_c61e1de3dbaa48b29cef07b0c2f4ddcc",
        "IPY_MODEL_a689d80156634d9f93ef2c4382985dbc"
       ],
       "layout": "IPY_MODEL_0517eca5958c4195be8c5fd9a711fedf"
      }
     },
     "16b632ae8c3b4154ae03af8f822b6a9f": {
      "model_module": "@jupyter-widgets/base",
      "model_module_version": "1.0.0",
      "model_name": "LayoutModel",
      "state": {}
     },
     "16ba59495f1048e0b22c5e8efcca5685": {
      "model_module": "@jupyter-widgets/base",
      "model_module_version": "1.0.0",
      "model_name": "LayoutModel",
      "state": {}
     },
     "17012bee08254a5db4b0e2b0b7480d82": {
      "model_module": "@jupyter-widgets/controls",
      "model_module_version": "1.2.0",
      "model_name": "HBoxModel",
      "state": {
       "children": [
        "IPY_MODEL_c14279bccbe94643ad3fa1a7134e562d",
        "IPY_MODEL_47ebe9396f6243428a960daacf86410a"
       ],
       "layout": "IPY_MODEL_8a3447dce53d4e94a37de4d880500f71"
      }
     },
     "170e025feabe4c34919a8c3e4e701312": {
      "model_module": "@jupyter-widgets/base",
      "model_module_version": "1.0.0",
      "model_name": "LayoutModel",
      "state": {}
     },
     "17259069242a4f409fbfa1210569d249": {
      "model_module": "@jupyter-widgets/controls",
      "model_module_version": "1.2.0",
      "model_name": "AccordionModel",
      "state": {
       "_titles": {
        "0": "Style",
        "1": "Label",
        "2": "Variables"
       },
       "children": [
        "IPY_MODEL_97c23e1762b34ebf841db9b809cd4af2",
        "IPY_MODEL_f8f5190fc5f74d4094682367d2d9f27b",
        "IPY_MODEL_973513ec87f24ce79f55d27096c81b13"
       ],
       "layout": "IPY_MODEL_b4bde35e14644481a1629bfd06b0ddf1"
      }
     },
     "172b7d3367af48efab3258c46627c75a": {
      "model_module": "@jupyter-widgets/controls",
      "model_module_version": "1.2.0",
      "model_name": "HTMLModel",
      "state": {
       "layout": "IPY_MODEL_0792063c711240628e7d71c4fd454679",
       "style": "IPY_MODEL_06d456d798c5465e96014f8fddf01cf2",
       "value": "<hr style='padding: 2px; margin: 2px'>"
      }
     },
     "1741ac3e092f4e43b3843ae5c1e40114": {
      "model_module": "@jupyter-widgets/controls",
      "model_module_version": "1.2.0",
      "model_name": "HTMLModel",
      "state": {
       "layout": "IPY_MODEL_3ef181973e734400974bf230e102531f",
       "style": "IPY_MODEL_37351833a383403a8e733c44fe113722",
       "value": " <h3 class='text-center text-success' style='margin:0'> Saved!</h3>"
      }
     },
     "174ea80ee1d642e790247b98fd2ae927": {
      "model_module": "@jupyter-widgets/controls",
      "model_module_version": "1.2.0",
      "model_name": "ButtonStyleModel",
      "state": {}
     },
     "175b8e2f5a5445898b7f061b32a5b69c": {
      "model_module": "@jupyter-widgets/base",
      "model_module_version": "1.0.0",
      "model_name": "LayoutModel",
      "state": {}
     },
     "179b90977fda4b3ba4d068d6f2f49bff": {
      "model_module": "@jupyter-widgets/controls",
      "model_module_version": "1.2.0",
      "model_name": "DescriptionStyleModel",
      "state": {
       "description_width": ""
      }
     },
     "17a12d507416489f813855697aeaabcf": {
      "model_module": "@jupyter-widgets/controls",
      "model_module_version": "1.2.0",
      "model_name": "DescriptionStyleModel",
      "state": {
       "description_width": ""
      }
     },
     "17a9175e6335431c91e382dcbe47c858": {
      "model_module": "@jupyter-widgets/base",
      "model_module_version": "1.0.0",
      "model_name": "LayoutModel",
      "state": {
       "padding": "10px 0px 0px 0px"
      }
     },
     "17b8f19f3ca54c559e0c68268dd12961": {
      "model_module": "@jupyter-widgets/controls",
      "model_module_version": "1.2.0",
      "model_name": "HTMLModel",
      "state": {
       "layout": "IPY_MODEL_3d9f290e1b57458cb4ed88da5e91c01d",
       "style": "IPY_MODEL_33369f6b2f1e47a494ca02762cbb39e5",
       "value": "<h5>You can save your graph as a <font color='darkKhaki'>index.html</font> file.\n<font color='darkKhaki'>index.html</font> files have lots of cool features, as explained in the intro video. </h5>"
      }
     },
     "17b90f5039604df99b8fa814d7031be2": {
      "model_module": "@jupyter-widgets/controls",
      "model_module_version": "1.2.0",
      "model_name": "HTMLModel",
      "state": {
       "layout": "IPY_MODEL_9e759ebaaac646ea8fe32a4f79dcfd8d",
       "style": "IPY_MODEL_4c57530bc1584ea0a5db4d230a296262",
       "value": "<h5>Title  &nbsp</h5> "
      }
     },
     "17d96518f0a244d4a9f229848938eed5": {
      "model_module": "@jupyter-widgets/base",
      "model_module_version": "1.0.0",
      "model_name": "LayoutModel",
      "state": {
       "padding": "10px 0px 0px 0px"
      }
     },
     "17e3cc81662e42d38de546f92b743fbb": {
      "model_module": "@jupyter-widgets/controls",
      "model_module_version": "1.2.0",
      "model_name": "HBoxModel",
      "state": {
       "children": [
        "IPY_MODEL_1e19fb069ec44d9fa7b23467c8a141b3",
        "IPY_MODEL_36636f7bb53b4c1aa99c1696283a48b6",
        "IPY_MODEL_fdbddb57ce1d445a931542a00741a386",
        "IPY_MODEL_7d05a0465cdf44a983c8db0af749de09"
       ],
       "layout": "IPY_MODEL_2eed345d16534fd7a5484310814a1b73"
      }
     },
     "1800e6bbeb5049c89220a13306d38ab9": {
      "model_module": "@jupyter-widgets/controls",
      "model_module_version": "1.2.0",
      "model_name": "DescriptionStyleModel",
      "state": {
       "description_width": ""
      }
     },
     "1865d41df0af4a42aa7ac593db80640a": {
      "model_module": "@jupyter-widgets/controls",
      "model_module_version": "1.2.0",
      "model_name": "DescriptionStyleModel",
      "state": {
       "description_width": ""
      }
     },
     "1878af1d20f54b45a1306defa6a35023": {
      "model_module": "@jupyter-widgets/controls",
      "model_module_version": "1.2.0",
      "model_name": "DescriptionStyleModel",
      "state": {
       "description_width": ""
      }
     },
     "18b2dec182724dfa9f86aad22bbcb466": {
      "model_module": "@jupyter-widgets/controls",
      "model_module_version": "1.2.0",
      "model_name": "ButtonStyleModel",
      "state": {}
     },
     "18e359081bd84108b7d2575970f13e58": {
      "model_module": "@jupyter-widgets/controls",
      "model_module_version": "1.2.0",
      "model_name": "HBoxModel",
      "state": {
       "children": [
        "IPY_MODEL_99d6030ee6ef4d57be64f6994b78b201",
        "IPY_MODEL_f1d50ac44f914dd9a5fb32cd3c2d4273"
       ],
       "layout": "IPY_MODEL_6da3a620bcdb4619b101cd25a98a57d3"
      }
     },
     "18e6178a7ad641dc95779bb141e0fa40": {
      "model_module": "@jupyter-widgets/controls",
      "model_module_version": "1.2.0",
      "model_name": "IntSliderModel",
      "state": {
       "layout": "IPY_MODEL_74209806c78c4277866a5c12347fe3f3",
       "max": 5,
       "min": 1,
       "style": "IPY_MODEL_5addfcb98e134bcca5771bf1e41f3103",
       "value": 1
      }
     },
     "18fe6c4452314bccbf3f9f71dae4141f": {
      "model_module": "@jupyter-widgets/controls",
      "model_module_version": "1.2.0",
      "model_name": "HBoxModel",
      "state": {
       "children": [
        "IPY_MODEL_f1b777af17174c35b3dc7de4484d8fb1",
        "IPY_MODEL_fb75fe283fe64e5c985beac72b75cca5"
       ],
       "layout": "IPY_MODEL_96560f1173f344578586e53b90062153"
      }
     },
     "18ff99486bf947b1b60e9cee0261ae7e": {
      "model_module": "@jupyter-widgets/base",
      "model_module_version": "1.0.0",
      "model_name": "LayoutModel",
      "state": {}
     },
     "1900e77c52c74030964b5b80b0664af1": {
      "model_module": "@jupyter-widgets/controls",
      "model_module_version": "1.2.0",
      "model_name": "TextModel",
      "state": {
       "description": "URL :",
       "layout": "IPY_MODEL_e88791e83d8b46ba9a1a9f4159b1f303",
       "style": "IPY_MODEL_dbcbc2952c33414cbad57d0faea3f816"
      }
     },
     "19046dd46a1d4a60a637c1be01347e3e": {
      "model_module": "@jupyter-widgets/base",
      "model_module_version": "1.0.0",
      "model_name": "LayoutModel",
      "state": {}
     },
     "192b19365707438d9faa69204905391b": {
      "model_module": "@jupyter-widgets/controls",
      "model_module_version": "1.2.0",
      "model_name": "HBoxModel",
      "state": {
       "children": [
        "IPY_MODEL_1041302cb3a64fd8ac0e842a926fab05",
        "IPY_MODEL_a1e94ee1440e46d5b42b49dcebb00304",
        "IPY_MODEL_b7cd9b7bb1364e3899d8f69dd15a38a1"
       ],
       "layout": "IPY_MODEL_37fff3b12aac4a6ba5abe966c1c86067"
      }
     },
     "19316bc8bb6d4d8fb94f225afcea08c0": {
      "model_module": "@jupyter-widgets/base",
      "model_module_version": "1.0.0",
      "model_name": "LayoutModel",
      "state": {}
     },
     "1939e6bc3f534a91a083dda174cbeaa0": {
      "model_module": "@jupyter-widgets/controls",
      "model_module_version": "1.2.0",
      "model_name": "DescriptionStyleModel",
      "state": {
       "description_width": ""
      }
     },
     "19701db03f71455ba50e99952b348c42": {
      "model_module": "@jupyter-widgets/controls",
      "model_module_version": "1.2.0",
      "model_name": "ButtonModel",
      "state": {
       "button_style": "success",
       "description": "Save",
       "layout": "IPY_MODEL_caf7f6c3080945c7b471c51f3e8442a6",
       "style": "IPY_MODEL_4147287300fa432d810c09eee59909b5"
      }
     },
     "199b25a447a2446f80e01ed49e943255": {
      "model_module": "@jupyter-widgets/controls",
      "model_module_version": "1.2.0",
      "model_name": "LabelModel",
      "state": {
       "layout": "IPY_MODEL_1a863c9dc862406ca5552f79b6dd3d9b",
       "style": "IPY_MODEL_b615313e6add477eb92b57130dd104b8",
       "value": "See-Through :"
      }
     },
     "19a42e27c65a45fa8e3e88d366337348": {
      "model_module": "@jupyter-widgets/controls",
      "model_module_version": "1.2.0",
      "model_name": "DescriptionStyleModel",
      "state": {
       "description_width": ""
      }
     },
     "19a512f16fad4261bbb063181072354d": {
      "model_module": "@jupyter-widgets/controls",
      "model_module_version": "1.2.0",
      "model_name": "TextModel",
      "state": {
       "layout": "IPY_MODEL_e2cdfa6c1ca6479e8e4bcbce42ee8100",
       "placeholder": "Variable Name:",
       "style": "IPY_MODEL_e7f5174c5af2463fa64cdd4e4056ec28"
      }
     },
     "1a04778926874b788e22a58adfe106e3": {
      "model_module": "@jupyter-widgets/controls",
      "model_module_version": "1.2.0",
      "model_name": "HTMLModel",
      "state": {
       "layout": "IPY_MODEL_b17cd089b7564cb9ba55bf77cbd47529",
       "style": "IPY_MODEL_41dec2cf53f4409b93e66735d415fc88",
       "value": "<p>&nbsp&nbsp&nbsp&nbsp&nbsp</p>"
      }
     },
     "1a09f08e8a7b4cecbbdf4dcabc91843b": {
      "model_module": "@jupyter-widgets/base",
      "model_module_version": "1.0.0",
      "model_name": "LayoutModel",
      "state": {
       "min_width": "30px"
      }
     },
     "1a328568874b4dc697621705015ba690": {
      "model_module": "@jupyter-widgets/controls",
      "model_module_version": "1.2.0",
      "model_name": "HBoxModel",
      "state": {
       "children": [
        "IPY_MODEL_28aacc14a9e14193855bd5450dbec91e",
        "IPY_MODEL_f36f9d8320154e3397b2a57ee33b51fe"
       ],
       "layout": "IPY_MODEL_2f3c80a15d7042e78fcc6bf945bf695c"
      }
     },
     "1a484c329511473b975233f3936b776c": {
      "model_module": "@jupyter-widgets/controls",
      "model_module_version": "1.2.0",
      "model_name": "DescriptionStyleModel",
      "state": {
       "description_width": ""
      }
     },
     "1a863c9dc862406ca5552f79b6dd3d9b": {
      "model_module": "@jupyter-widgets/base",
      "model_module_version": "1.0.0",
      "model_name": "LayoutModel",
      "state": {}
     },
     "1a951d9992c648b8881a17560354e72d": {
      "model_module": "@jupyter-widgets/controls",
      "model_module_version": "1.2.0",
      "model_name": "DescriptionStyleModel",
      "state": {
       "description_width": ""
      }
     },
     "1aa19d7a35e14036a9f4ffa376ef0192": {
      "model_module": "@jupyter-widgets/controls",
      "model_module_version": "1.2.0",
      "model_name": "LabelModel",
      "state": {
       "layout": "IPY_MODEL_6df9ebca1f514914a50b8e581470bbeb",
       "style": "IPY_MODEL_c5c3bd9837b845c289ce05c36a61ec52",
       "value": "Color :"
      }
     },
     "1ab76bace79c4d498b426666935a5f7f": {
      "model_module": "@jupyter-widgets/controls",
      "model_module_version": "1.2.0",
      "model_name": "TextModel",
      "state": {
       "layout": "IPY_MODEL_455ced24295d4623acd5d5ee6d147542",
       "style": "IPY_MODEL_d720de6712754c338518d880dc04dbf3"
      }
     },
     "1b083364df24494ca9e8c6ca62c9e451": {
      "model_module": "@jupyter-widgets/controls",
      "model_module_version": "1.2.0",
      "model_name": "DropdownModel",
      "state": {
       "index": null,
       "layout": "IPY_MODEL_6e399e318049477993bd9542a9b67aab",
       "style": "IPY_MODEL_977a26288693418b95a33727abe0e943"
      }
     },
     "1b8cd85b95ff4e6f802e15fb1725bf03": {
      "model_module": "@jupyter-widgets/base",
      "model_module_version": "1.0.0",
      "model_name": "LayoutModel",
      "state": {
       "padding": "10px 0px 0px 0px"
      }
     },
     "1b9343475d7e440a8b53fb101b8418a0": {
      "model_module": "@jupyter-widgets/base",
      "model_module_version": "1.0.0",
      "model_name": "LayoutModel",
      "state": {}
     },
     "1c1917b8f6f94bbaadc06db09adfafa0": {
      "model_module": "@jupyter-widgets/controls",
      "model_module_version": "1.2.0",
      "model_name": "HTMLModel",
      "state": {
       "layout": "IPY_MODEL_aeb0fe42763a4de38b0df331dd3a9376",
       "style": "IPY_MODEL_6cc1182139b046c2ae96b713680ca3d4",
       "value": "<h5>You can save your graph as a <font color='darkKhaki'>index.html</font> file.\n<font color='darkKhaki'>index.html</font> files have lots of cool features, as explained in the intro video. </h5>"
      }
     },
     "1c40e47f5bf24fe29f0d1941f2d6d157": {
      "model_module": "@jupyter-widgets/base",
      "model_module_version": "1.0.0",
      "model_name": "LayoutModel",
      "state": {}
     },
     "1c581d84d51145d882bdc4458f2dd090": {
      "model_module": "@jupyter-widgets/base",
      "model_module_version": "1.0.0",
      "model_name": "LayoutModel",
      "state": {
       "justify_content": "center",
       "padding": "10px 0px 0px 0px"
      }
     },
     "1c6cf08165b74bc28c6dd6f3a7c8aacc": {
      "model_module": "@jupyter-widgets/controls",
      "model_module_version": "1.2.0",
      "model_name": "TextModel",
      "state": {
       "layout": "IPY_MODEL_9a19c8f30b954303950fa0db319fdafb",
       "style": "IPY_MODEL_1a484c329511473b975233f3936b776c"
      }
     },
     "1c95fc9f72884c618401c6e60fa8af79": {
      "model_module": "@jupyter-widgets/controls",
      "model_module_version": "1.2.0",
      "model_name": "DescriptionStyleModel",
      "state": {
       "description_width": ""
      }
     },
     "1cbaf55103554ba788cd869a6a8a52fe": {
      "model_module": "@jupyter-widgets/controls",
      "model_module_version": "1.2.0",
      "model_name": "HTMLModel",
      "state": {
       "layout": "IPY_MODEL_23d04b80610d4a048eb9ec703a92ab92",
       "style": "IPY_MODEL_21700106ea6a4466a651827c8e276c6b",
       "value": "<h4 style='color:DarkKhaki'>Node :</h4>"
      }
     },
     "1cd193ab4c2e4821b3fab3003b8b492b": {
      "model_module": "@jupyter-widgets/controls",
      "model_module_version": "1.2.0",
      "model_name": "SliderStyleModel",
      "state": {
       "description_width": ""
      }
     },
     "1ce6c6fd30c64ace8ef93d7993bee884": {
      "model_module": "@jupyter-widgets/controls",
      "model_module_version": "1.2.0",
      "model_name": "DescriptionStyleModel",
      "state": {
       "description_width": ""
      }
     },
     "1d09b32cfdb94370b89bacb10d8bff81": {
      "model_module": "@jupyter-widgets/controls",
      "model_module_version": "1.2.0",
      "model_name": "VBoxModel",
      "state": {
       "children": [
        "IPY_MODEL_78ead834653e44ff8609a1f97fa7cd14",
        "IPY_MODEL_9ffd74e07d04445988f92010ce48aa32"
       ],
       "layout": "IPY_MODEL_5a507a5d7ff24328a8f733513a831ddd"
      }
     },
     "1d841d13ba0e45ac8fef25619046251c": {
      "model_module": "@jupyter-widgets/base",
      "model_module_version": "1.0.0",
      "model_name": "LayoutModel",
      "state": {}
     },
     "1d86765c1d174b16846fd814fa1bd332": {
      "model_module": "@jupyter-widgets/controls",
      "model_module_version": "1.2.0",
      "model_name": "VBoxModel",
      "state": {
       "children": [
        "IPY_MODEL_940f3dcf5a9a4e1798793f9c3b701ee9",
        "IPY_MODEL_b13609b6120e432ab74ee96d4ec7ba76",
        "IPY_MODEL_77a4c97f249e4f11be8e269394e03d77",
        "IPY_MODEL_491454b7afdb45ee9a34de5d3fe795a2"
       ],
       "layout": "IPY_MODEL_fbe6689fd97b4c9ba90ece3758dd934f"
      }
     },
     "1d95c15e319b424eb077fd4a473c29f0": {
      "model_module": "@jupyter-widgets/controls",
      "model_module_version": "1.2.0",
      "model_name": "HBoxModel",
      "state": {
       "children": [
        "IPY_MODEL_24367883964e4aa3b739727224ddbfde",
        "IPY_MODEL_a159d869a2b144e39a35013c9cfa478c"
       ],
       "layout": "IPY_MODEL_69dc03fdb60548479144e7087a7cea9d"
      }
     },
     "1dabc397a34a450f8c9b872ae3fb9e13": {
      "model_module": "@jupyter-widgets/controls",
      "model_module_version": "1.2.0",
      "model_name": "VBoxModel",
      "state": {
       "children": [
        "IPY_MODEL_6b8e905f7345415194db203c2ef775fd",
        "IPY_MODEL_75fbcff338f446c1badfb1cb1c07f178",
        "IPY_MODEL_20cfb61cfd8d47239025b404e9c4798a",
        "IPY_MODEL_63846b158dc541ffbb01a1bd0e4560a8"
       ],
       "layout": "IPY_MODEL_2b9e573f32324de59d30a07be2432f51"
      }
     },
     "1dc2e01639524f4aaebf31427a31d032": {
      "model_module": "@jupyter-widgets/controls",
      "model_module_version": "1.2.0",
      "model_name": "HBoxModel",
      "state": {
       "children": [
        "IPY_MODEL_a46dedeb622e4ca1939e54bfa84b6749",
        "IPY_MODEL_149f9f3c1d034b49af6922034fea5f05"
       ],
       "layout": "IPY_MODEL_c574c7fdd756430685c0c5b1a9b3d8fe"
      }
     },
     "1dd7ed9228d54da6a9eff546b27d1de7": {
      "model_module": "@jupyter-widgets/controls",
      "model_module_version": "1.2.0",
      "model_name": "ToggleButtonModel",
      "state": {
       "button_style": "primary",
       "description": "Box",
       "layout": "IPY_MODEL_b64d7cb96e264517beade858c1dad81f",
       "style": "IPY_MODEL_f4f8b7711f7d4b5da5c1cc10e524949a"
      }
     },
     "1df21fd4b50147f88a3002524bfece35": {
      "model_module": "@jupyter-widgets/controls",
      "model_module_version": "1.2.0",
      "model_name": "SliderStyleModel",
      "state": {
       "description_width": ""
      }
     },
     "1e01a58b86f648148a011a9ff8bee531": {
      "model_module": "@jupyter-widgets/controls",
      "model_module_version": "1.2.0",
      "model_name": "ButtonStyleModel",
      "state": {}
     },
     "1e09a95069a844b68011d86103968e9b": {
      "model_module": "@jupyter-widgets/base",
      "model_module_version": "1.0.0",
      "model_name": "LayoutModel",
      "state": {}
     },
     "1e19fb069ec44d9fa7b23467c8a141b3": {
      "model_module": "@jupyter-widgets/controls",
      "model_module_version": "1.2.0",
      "model_name": "LabelModel",
      "state": {
       "layout": "IPY_MODEL_a376e29ef0874a66b5e1fc29c611b2ba",
       "style": "IPY_MODEL_4d60d0e5c2b74ae6ac60d145d867eb02",
       "value": "Color :"
      }
     },
     "1e2fb9d97857467eaf44f204d82f4247": {
      "model_module": "@jupyter-widgets/base",
      "model_module_version": "1.0.0",
      "model_name": "LayoutModel",
      "state": {}
     },
     "1e9865827ddf43caab328319b44519e5": {
      "model_module": "@jupyter-widgets/base",
      "model_module_version": "1.0.0",
      "model_name": "LayoutModel",
      "state": {}
     },
     "1ea0d9569bf641ec8eafce83aa5a3d6b": {
      "model_module": "@jupyter-widgets/base",
      "model_module_version": "1.0.0",
      "model_name": "LayoutModel",
      "state": {}
     },
     "1ea1b109082540eda4cf16a3b850b087": {
      "model_module": "@jupyter-widgets/controls",
      "model_module_version": "1.2.0",
      "model_name": "DescriptionStyleModel",
      "state": {
       "description_width": ""
      }
     },
     "1ebd45aca24f4501b178ece0044e1abe": {
      "model_module": "@jupyter-widgets/base",
      "model_module_version": "1.0.0",
      "model_name": "LayoutModel",
      "state": {}
     },
     "1ef83bc7264249bfaf1e372dc00aa665": {
      "model_module": "@jupyter-widgets/base",
      "model_module_version": "1.0.0",
      "model_name": "LayoutModel",
      "state": {
       "height": "80px",
       "width": "99%"
      }
     },
     "1ef8c82cea2e40e48e230ec0a24a323b": {
      "model_module": "@jupyter-widgets/controls",
      "model_module_version": "1.2.0",
      "model_name": "DescriptionStyleModel",
      "state": {
       "description_width": ""
      }
     },
     "1f2bb268348a4736abd08e41bd141f76": {
      "model_module": "@jupyter-widgets/controls",
      "model_module_version": "1.2.0",
      "model_name": "HBoxModel",
      "state": {
       "children": [
        "IPY_MODEL_cb61d7923d004357a276d5a1809a832b",
        "IPY_MODEL_18e6178a7ad641dc95779bb141e0fa40"
       ],
       "layout": "IPY_MODEL_7343fc2d8fcd4cbca68a22348828a735"
      }
     },
     "1f369e14cf4d4b4599b789bbe1f2d074": {
      "model_module": "@jupyter-widgets/controls",
      "model_module_version": "1.2.0",
      "model_name": "DescriptionStyleModel",
      "state": {
       "description_width": ""
      }
     },
     "1f3c0658adc543a8839f3aed1eca542a": {
      "model_module": "@jupyter-widgets/base",
      "model_module_version": "1.0.0",
      "model_name": "LayoutModel",
      "state": {
       "height": "40px",
       "min_width": "50px",
       "width": "10%"
      }
     },
     "1f69f0db24a64c5aa3123e36362cf08c": {
      "model_module": "@jupyter-widgets/controls",
      "model_module_version": "1.2.0",
      "model_name": "LabelModel",
      "state": {
       "layout": "IPY_MODEL_0949cd35f6714b0091304fa335b3f89c",
       "style": "IPY_MODEL_734e98f05c8a4ffa831b1299060156e2",
       "value": "Start"
      }
     },
     "1f71c0719a004f5fa4780e53852db3e8": {
      "model_module": "@jupyter-widgets/base",
      "model_module_version": "1.0.0",
      "model_name": "LayoutModel",
      "state": {}
     },
     "1f89a0ee6e5c4938a15c8b4330c38fc3": {
      "model_module": "@jupyter-widgets/controls",
      "model_module_version": "1.2.0",
      "model_name": "ButtonStyleModel",
      "state": {}
     },
     "1f8e783b0e8f44718d08a2c9457aec9e": {
      "model_module": "@jupyter-widgets/base",
      "model_module_version": "1.0.0",
      "model_name": "LayoutModel",
      "state": {}
     },
     "1f908f1c2d7b4bea9bb01f32e100b6b2": {
      "model_module": "@jupyter-widgets/base",
      "model_module_version": "1.0.0",
      "model_name": "LayoutModel",
      "state": {}
     },
     "1fe19320306246808db056cc09ac6708": {
      "model_module": "@jupyter-widgets/base",
      "model_module_version": "1.0.0",
      "model_name": "LayoutModel",
      "state": {}
     },
     "2006a5454f3e4f03bfec1a42ea3e0635": {
      "model_module": "@jupyter-widgets/controls",
      "model_module_version": "1.2.0",
      "model_name": "HBoxModel",
      "state": {
       "children": [
        "IPY_MODEL_058d941cae5a4cbcbdaace9e35ffa71a"
       ],
       "layout": "IPY_MODEL_c733743959c347688edec9948c4cf3ac"
      }
     },
     "204b64f76f6047629d940d07840857f6": {
      "model_module": "@jupyter-widgets/base",
      "model_module_version": "1.0.0",
      "model_name": "LayoutModel",
      "state": {}
     },
     "208b32ccd9304993a18572698cc812e1": {
      "model_module": "@jupyter-widgets/base",
      "model_module_version": "1.0.0",
      "model_name": "LayoutModel",
      "state": {}
     },
     "20cfb61cfd8d47239025b404e9c4798a": {
      "model_module": "@jupyter-widgets/controls",
      "model_module_version": "1.2.0",
      "model_name": "VBoxModel",
      "state": {
       "children": [
        "IPY_MODEL_dc4c6f16df754cdc8a270486692b5d6b",
        "IPY_MODEL_b9e5acf70bb14c27a9d620be9043d95a",
        "IPY_MODEL_f76e2974bada4f8cbcaf035b4e6cac9e"
       ],
       "layout": "IPY_MODEL_ba19b5142cf64fa59d9dafb7d1a3b5d5"
      }
     },
     "20fb7a47bfd84055a7d230d066b064b1": {
      "model_module": "@jupyter-widgets/base",
      "model_module_version": "1.0.0",
      "model_name": "LayoutModel",
      "state": {
       "height": "40px",
       "min_width": "50px",
       "width": "10%"
      }
     },
     "2143029e6ab44d098dfb2e1f27cb8f02": {
      "model_module": "@jupyter-widgets/controls",
      "model_module_version": "1.2.0",
      "model_name": "DescriptionStyleModel",
      "state": {
       "description_width": ""
      }
     },
     "2164e030115c4a90855d9072e32482a8": {
      "model_module": "@jupyter-widgets/controls",
      "model_module_version": "1.2.0",
      "model_name": "LabelModel",
      "state": {
       "layout": "IPY_MODEL_ff51abe3f20c487bbfbcfe4fb3ca1e1f",
       "style": "IPY_MODEL_56c7a3014fc641e5aab4b35b20e530aa",
       "value": "Size :"
      }
     },
     "21700106ea6a4466a651827c8e276c6b": {
      "model_module": "@jupyter-widgets/controls",
      "model_module_version": "1.2.0",
      "model_name": "DescriptionStyleModel",
      "state": {
       "description_width": ""
      }
     },
     "2186aa5473324eb4a2937406bbbd2ecf": {
      "model_module": "@jupyter-widgets/base",
      "model_module_version": "1.0.0",
      "model_name": "LayoutModel",
      "state": {}
     },
     "219f437c43a049a6b3e8f5bcc6184471": {
      "model_module": "@jupyter-widgets/controls",
      "model_module_version": "1.2.0",
      "model_name": "HBoxModel",
      "state": {
       "children": [
        "IPY_MODEL_9bfc3e97c958444c92baf459273825fe",
        "IPY_MODEL_56fe64f5bb354f2b949d1b35930b50c7"
       ],
       "layout": "IPY_MODEL_de0469c9f03545948390bf999ce819b8"
      }
     },
     "21d2cd3278d04cb9af6978b6a05bdf6e": {
      "model_module": "@jupyter-widgets/controls",
      "model_module_version": "1.2.0",
      "model_name": "DescriptionStyleModel",
      "state": {
       "description_width": ""
      }
     },
     "21e2da5859154d6bb52b0042b368afaf": {
      "model_module": "@jupyter-widgets/controls",
      "model_module_version": "1.2.0",
      "model_name": "DescriptionStyleModel",
      "state": {
       "description_width": ""
      }
     },
     "226ba493e6554f0599ff34f47b78e323": {
      "model_module": "@jupyter-widgets/controls",
      "model_module_version": "1.2.0",
      "model_name": "ToggleButtonModel",
      "state": {
       "button_style": "primary",
       "description": "Box",
       "layout": "IPY_MODEL_e927825c561949c5b4c2ca2efa8af90c",
       "style": "IPY_MODEL_5743a5449a6145ba88dac744d0507664"
      }
     },
     "2286b9d8a3354205a17e1fb3d23a52e9": {
      "model_module": "@jupyter-widgets/base",
      "model_module_version": "1.0.0",
      "model_name": "LayoutModel",
      "state": {
       "align_items": "center",
       "justify_content": "center"
      }
     },
     "2297b0bd753d492a98dd41ef91fa0781": {
      "model_module": "@jupyter-widgets/base",
      "model_module_version": "1.0.0",
      "model_name": "LayoutModel",
      "state": {}
     },
     "22cda4c2e8d74b298ddb50ed804ce5ee": {
      "model_module": "@jupyter-widgets/controls",
      "model_module_version": "1.2.0",
      "model_name": "DescriptionStyleModel",
      "state": {
       "description_width": ""
      }
     },
     "22d58b34d22f4393b2533109f4505253": {
      "model_module": "@jupyter-widgets/controls",
      "model_module_version": "1.2.0",
      "model_name": "DescriptionStyleModel",
      "state": {
       "description_width": ""
      }
     },
     "22ffded980414aadbf27e4b5f1c22ca8": {
      "model_module": "@jupyter-widgets/base",
      "model_module_version": "1.0.0",
      "model_name": "LayoutModel",
      "state": {}
     },
     "234b6d154154451c87d4521f6828ecd0": {
      "model_module": "@jupyter-widgets/base",
      "model_module_version": "1.0.0",
      "model_name": "LayoutModel",
      "state": {}
     },
     "23631329eab54f05bd2f111cd579c6aa": {
      "model_module": "@jupyter-widgets/controls",
      "model_module_version": "1.2.0",
      "model_name": "DescriptionStyleModel",
      "state": {
       "description_width": ""
      }
     },
     "23d04b80610d4a048eb9ec703a92ab92": {
      "model_module": "@jupyter-widgets/base",
      "model_module_version": "1.0.0",
      "model_name": "LayoutModel",
      "state": {}
     },
     "23e1f9c10cf14c8fb6fd129531afc5d4": {
      "model_module": "@jupyter-widgets/controls",
      "model_module_version": "1.2.0",
      "model_name": "ToggleButtonModel",
      "state": {
       "icon": "eye",
       "layout": "IPY_MODEL_a200d8c8376f45dcb4dbd42c30de6b0f",
       "style": "IPY_MODEL_090706503df74bab82773fd443659b2b"
      }
     },
     "23fed8d0d99648eca9595bf7d67d3e1e": {
      "model_module": "@jupyter-widgets/controls",
      "model_module_version": "1.2.0",
      "model_name": "LabelModel",
      "state": {
       "layout": "IPY_MODEL_4e40f63f3c074d509a2295e438c54ecc",
       "style": "IPY_MODEL_34eeeb9a07ec4ecfbf33af86902e4344",
       "value": "Text :"
      }
     },
     "24131c6cff464fceb7044bfe6bdd370b": {
      "model_module": "@jupyter-widgets/base",
      "model_module_version": "1.0.0",
      "model_name": "LayoutModel",
      "state": {}
     },
     "241b91218831430ca2b9d6f1e85f9e67": {
      "model_module": "@jupyter-widgets/base",
      "model_module_version": "1.0.0",
      "model_name": "LayoutModel",
      "state": {}
     },
     "24367883964e4aa3b739727224ddbfde": {
      "model_module": "@jupyter-widgets/controls",
      "model_module_version": "1.2.0",
      "model_name": "LabelModel",
      "state": {
       "layout": "IPY_MODEL_a0a4522081824a109784d40117e6b297",
       "style": "IPY_MODEL_d6f58eee6a0148899e057a8cfbf950cd",
       "value": "Size :"
      }
     },
     "24495ba198974340ab5c92ef1b116251": {
      "model_module": "@jupyter-widgets/base",
      "model_module_version": "1.0.0",
      "model_name": "LayoutModel",
      "state": {}
     },
     "2478d92149014678b0ecdb8f07c10e3b": {
      "model_module": "@jupyter-widgets/controls",
      "model_module_version": "1.2.0",
      "model_name": "ToggleButtonsModel",
      "state": {
       "_options_labels": [
        "Python",
        "HTML",
        "NDEX"
       ],
       "button_style": "success",
       "icons": [],
       "index": 0,
       "layout": "IPY_MODEL_c2463452567847fd839174bad80dabaa",
       "style": "IPY_MODEL_5497ee1749594ffd803babd8bc62b30c",
       "tooltips": []
      }
     },
     "248dbf0e2dfb433a97e05fe76512a942": {
      "model_module": "@jupyter-widgets/controls",
      "model_module_version": "1.2.0",
      "model_name": "VBoxModel",
      "state": {
       "children": [
        "IPY_MODEL_b24e4fbab3f6454489f8ee3eebdbbc44",
        "IPY_MODEL_f70254e326ab4f73af5d2126f7d7cce3"
       ],
       "layout": "IPY_MODEL_d9e8d0eb0ca34c1ebebc6fd09b3b7f67"
      }
     },
     "2499e7b813a84a4f95c7ff40e3b36ae6": {
      "model_module": "@jupyter-widgets/controls",
      "model_module_version": "1.2.0",
      "model_name": "LabelModel",
      "state": {
       "layout": "IPY_MODEL_9012886e3d5140fb87ecc87cc0c0a0bf",
       "style": "IPY_MODEL_9acb7ac501064e10a5d1189842fce487",
       "value": "See-Through :"
      }
     },
     "24a7e1ac595043a48e7a747752e3962b": {
      "model_module": "@jupyter-widgets/controls",
      "model_module_version": "1.2.0",
      "model_name": "TextModel",
      "state": {
       "description": "Name :",
       "layout": "IPY_MODEL_b4ac6b532af84b7d9614990670d262c2",
       "placeholder": "Network Name",
       "style": "IPY_MODEL_a40ab27b17ac4ac0853de13f278e29f9"
      }
     },
     "24dcb9bda72f4315a0f33535d1b14979": {
      "model_module": "@jupyter-widgets/controls",
      "model_module_version": "1.2.0",
      "model_name": "DescriptionStyleModel",
      "state": {
       "description_width": ""
      }
     },
     "24dd89fd2aec47f7863b1b500414a07b": {
      "model_module": "@jupyter-widgets/base",
      "model_module_version": "1.0.0",
      "model_name": "LayoutModel",
      "state": {}
     },
     "250c69adebe6444795e2a31a382421d4": {
      "model_module": "@jupyter-widgets/controls",
      "model_module_version": "1.2.0",
      "model_name": "DescriptionStyleModel",
      "state": {
       "description_width": ""
      }
     },
     "2512ead32caf4d95b9656901e30dfb89": {
      "model_module": "@jupyter-widgets/controls",
      "model_module_version": "1.2.0",
      "model_name": "SliderStyleModel",
      "state": {
       "description_width": ""
      }
     },
     "251fea1fdeab4b42ae45d0c611eaa9cb": {
      "model_module": "@jupyter-widgets/controls",
      "model_module_version": "1.2.0",
      "model_name": "DescriptionStyleModel",
      "state": {
       "description_width": ""
      }
     },
     "2539e913683c43e2a0b05592bf1a0e69": {
      "model_module": "@jupyter-widgets/controls",
      "model_module_version": "1.2.0",
      "model_name": "ButtonModel",
      "state": {
       "button_style": "success",
       "description": "Save",
       "layout": "IPY_MODEL_2b2a3ca2c9c04107b9ffb10a6cc6a929",
       "style": "IPY_MODEL_7311ba4cb21043f599a4af843ff2bbe2"
      }
     },
     "2556827775124839b284b4209d3a598b": {
      "model_module": "@jupyter-widgets/base",
      "model_module_version": "1.0.0",
      "model_name": "LayoutModel",
      "state": {}
     },
     "25e8b923fdbe4eb2be46b2ab514fe738": {
      "model_module": "@jupyter-widgets/base",
      "model_module_version": "1.0.0",
      "model_name": "LayoutModel",
      "state": {}
     },
     "25f54fe9b63e463b8cac85ad2db761ec": {
      "model_module": "@jupyter-widgets/controls",
      "model_module_version": "1.2.0",
      "model_name": "VBoxModel",
      "state": {
       "children": [
        "IPY_MODEL_94a69bfdce724554a5788293614bf426",
        "IPY_MODEL_4477cd9d140444648d0f02ab981c3600",
        "IPY_MODEL_281b77d8b84c4c66a6cb81161a03a23e",
        "IPY_MODEL_90a48db8284d4750a3651f715bcc46e2"
       ],
       "layout": "IPY_MODEL_06f92e7d8efe47ef8bd75fb57acc78df"
      }
     },
     "25f633a34726476e91317d600f72c560": {
      "model_module": "@jupyter-widgets/base",
      "model_module_version": "1.0.0",
      "model_name": "LayoutModel",
      "state": {}
     },
     "2607aa9de90d412f9ff124377e855113": {
      "model_module": "@jupyter-widgets/controls",
      "model_module_version": "1.2.0",
      "model_name": "LabelModel",
      "state": {
       "layout": "IPY_MODEL_f1624d20f1c74125922b9f45d323700d",
       "style": "IPY_MODEL_31b13774d76f4961ac3b8c084d4bc285",
       "value": "Position :"
      }
     },
     "26186418e437446e92c46ceb234ed26a": {
      "model_module": "@jupyter-widgets/base",
      "model_module_version": "1.0.0",
      "model_name": "LayoutModel",
      "state": {
       "padding": "0px 0px 10px 0px"
      }
     },
     "2688878c44c245a7ac8d694e39db3a11": {
      "model_module": "@jupyter-widgets/controls",
      "model_module_version": "1.2.0",
      "model_name": "ButtonModel",
      "state": {
       "button_style": "danger",
       "icon": "image",
       "layout": "IPY_MODEL_87851cc82c7143ec8c7554913f707bb5",
       "style": "IPY_MODEL_80f801ee824a4a60b185f165cffd198b"
      }
     },
     "26b69687a50b425ea54896ab57a9674e": {
      "model_module": "@jupyter-widgets/controls",
      "model_module_version": "1.2.0",
      "model_name": "DescriptionStyleModel",
      "state": {
       "description_width": ""
      }
     },
     "26c3eb340d74466e90efc75be1feac71": {
      "model_module": "@jupyter-widgets/base",
      "model_module_version": "1.0.0",
      "model_name": "LayoutModel",
      "state": {}
     },
     "26cae55576814fa085d0bee265d6e0d3": {
      "model_module": "@jupyter-widgets/controls",
      "model_module_version": "1.2.0",
      "model_name": "HTMLModel",
      "state": {
       "layout": "IPY_MODEL_dfaf2c9c662548a19e3edd1abf9de309",
       "style": "IPY_MODEL_94a50e8a92f54bd9a28e73a1668b4ab6",
       "value": "<h4 style='color:purple'>Edge :</h4>"
      }
     },
     "26d6911ba44b4aaba92971ad9243ed08": {
      "model_module": "@jupyter-widgets/controls",
      "model_module_version": "1.2.0",
      "model_name": "HBoxModel",
      "state": {
       "children": [
        "IPY_MODEL_bd7c88e20c80402b94431b38d06b3da3",
        "IPY_MODEL_3bf645210a4647c991fd8dab571f174d"
       ],
       "layout": "IPY_MODEL_41414d5544a4453891e8cdd816d81c86"
      }
     },
     "26e2b6606d6346998bf93a6ddd268088": {
      "model_module": "@jupyter-widgets/controls",
      "model_module_version": "1.2.0",
      "model_name": "ToggleButtonModel",
      "state": {
       "button_style": "info",
       "description": "Border",
       "layout": "IPY_MODEL_a4f6f11cd11e4226aa29e153e85d3e81",
       "style": "IPY_MODEL_ccbb5a5fed154d0da58a2b0eaa9a484a"
      }
     },
     "26f4809c28084883b24840a52403c193": {
      "model_module": "@jupyter-widgets/controls",
      "model_module_version": "1.2.0",
      "model_name": "DescriptionStyleModel",
      "state": {
       "description_width": ""
      }
     },
     "2712ad268f5a4bfcb75671c6f30484be": {
      "model_module": "@jupyter-widgets/controls",
      "model_module_version": "1.2.0",
      "model_name": "DescriptionStyleModel",
      "state": {
       "description_width": ""
      }
     },
     "273d90b9d8cf43a88447cc1c54f07edc": {
      "model_module": "@jupyter-widgets/base",
      "model_module_version": "1.0.0",
      "model_name": "LayoutModel",
      "state": {
       "min_width": "30px"
      }
     },
     "27457684b9274cab9462eaa66b383441": {
      "model_module": "@jupyter-widgets/base",
      "model_module_version": "1.0.0",
      "model_name": "LayoutModel",
      "state": {}
     },
     "275ce0c0dae84327b56dfbc1fc56986b": {
      "model_module": "@jupyter-widgets/controls",
      "model_module_version": "1.2.0",
      "model_name": "VBoxModel",
      "state": {
       "children": [
        "IPY_MODEL_9fa1330bd4f94062955e3501159eafdf",
        "IPY_MODEL_28c955db7b994fc8b62cd075e77d50bd",
        "IPY_MODEL_cdb2bfdb96a5442891461784b2b87765",
        "IPY_MODEL_43cbf72ff4f748ba8a91aad296d24caf"
       ],
       "layout": "IPY_MODEL_d6217c6cf09c48dc8844ad8b56059a10"
      }
     },
     "27620ab74d334a6e9bbe93874263584e": {
      "model_module": "@jupyter-widgets/controls",
      "model_module_version": "1.2.0",
      "model_name": "DescriptionStyleModel",
      "state": {
       "description_width": ""
      }
     },
     "2763aacc6d1c4bb689bbfee1a845208f": {
      "model_module": "@jupyter-widgets/base",
      "model_module_version": "1.0.0",
      "model_name": "LayoutModel",
      "state": {}
     },
     "277ffe13971e43f680aeee031d03080c": {
      "model_module": "@jupyter-widgets/controls",
      "model_module_version": "1.2.0",
      "model_name": "DropdownModel",
      "state": {
       "_options_labels": [
        "center",
        "top",
        "bottom",
        "left",
        "right"
       ],
       "index": 0,
       "layout": "IPY_MODEL_0d9caf0b73c44ebc857655edeb66b14c",
       "style": "IPY_MODEL_611332dee30a41b48bcb7cc0a7a1ecf6"
      }
     },
     "2780a851649b40638318faeea5502fb0": {
      "model_module": "@jupyter-widgets/base",
      "model_module_version": "1.0.0",
      "model_name": "LayoutModel",
      "state": {}
     },
     "278cdcd9aef44ce89cd73311d03c2313": {
      "model_module": "@jupyter-widgets/controls",
      "model_module_version": "1.2.0",
      "model_name": "FloatSliderModel",
      "state": {
       "layout": "IPY_MODEL_5619109b4ac94be09df3c4bb05fb7c60",
       "max": 1,
       "step": 0.05,
       "style": "IPY_MODEL_1df21fd4b50147f88a3002524bfece35",
       "value": 0.5
      }
     },
     "27a0b0e19df248debac157b7b4ea874b": {
      "model_module": "@jupyter-widgets/controls",
      "model_module_version": "1.2.0",
      "model_name": "HTMLModel",
      "state": {
       "layout": "IPY_MODEL_524e6a9e42274d2ba71ad001c4ff5134",
       "style": "IPY_MODEL_d6fdb41d023a4cb7b0cf205c6e0be459",
       "value": " <h3 class='text-center text-success' style='margin:0'> Saved!</h3>"
      }
     },
     "27a97c5e58874004ad92b9e0615c49e9": {
      "model_module": "@jupyter-widgets/base",
      "model_module_version": "1.0.0",
      "model_name": "LayoutModel",
      "state": {
       "justify_content": "center",
       "margin": "0 0 15px 0"
      }
     },
     "27b44168144c49738250a7d8a8d191b7": {
      "model_module": "@jupyter-widgets/controls",
      "model_module_version": "1.2.0",
      "model_name": "PasswordModel",
      "state": {
       "description": "Password :",
       "layout": "IPY_MODEL_f2d11c0400a544e7a884c73a3862014a",
       "style": "IPY_MODEL_59af816956444c16b93ef5fd7bd3b19a"
      }
     },
     "27bf35519c9d41e89d16bdba0c30a905": {
      "model_module": "@jupyter-widgets/controls",
      "model_module_version": "1.2.0",
      "model_name": "ButtonModel",
      "state": {
       "button_style": "danger",
       "description": "Delete",
       "layout": "IPY_MODEL_3eb52ad943874c73afd837820fedddc4",
       "style": "IPY_MODEL_9992039e645c4bcca1f3a6ff005d734a"
      }
     },
     "27cb0aedda474c66a7832cca0c9680ce": {
      "model_module": "@jupyter-widgets/controls",
      "model_module_version": "1.2.0",
      "model_name": "DescriptionStyleModel",
      "state": {
       "description_width": ""
      }
     },
     "2817e3bd93044531a3d87b0f2dc2c416": {
      "model_module": "@jupyter-widgets/controls",
      "model_module_version": "1.2.0",
      "model_name": "ButtonStyleModel",
      "state": {}
     },
     "281b77d8b84c4c66a6cb81161a03a23e": {
      "model_module": "@jupyter-widgets/controls",
      "model_module_version": "1.2.0",
      "model_name": "VBoxModel",
      "state": {
       "children": [
        "IPY_MODEL_89e3a002bf174c6cbf0b9f3a6dbfdf28",
        "IPY_MODEL_5c7810c1ee5c4e9eb7fd2cb149c55ab3",
        "IPY_MODEL_d5b1df549afb4b4fbe3dffbee9ba95a2"
       ],
       "layout": "IPY_MODEL_3cb64e35421e4dee88e85411bf953443"
      }
     },
     "28289cccdd7c4a40ba1201437051a28d": {
      "model_module": "@jupyter-widgets/base",
      "model_module_version": "1.0.0",
      "model_name": "LayoutModel",
      "state": {}
     },
     "28611ceca5a542d7be90b9eeb4ad1ea0": {
      "model_module": "@jupyter-widgets/base",
      "model_module_version": "1.0.0",
      "model_name": "LayoutModel",
      "state": {}
     },
     "28aacc14a9e14193855bd5450dbec91e": {
      "model_module": "@jupyter-widgets/controls",
      "model_module_version": "1.2.0",
      "model_name": "LabelModel",
      "state": {
       "layout": "IPY_MODEL_4db8021590dd4dbfaf0de42224e29c89",
       "style": "IPY_MODEL_2a7be758bdcc4efdb92c7815102ad039",
       "value": "End"
      }
     },
     "28b8211f80294c2ba9a74f29c42adff4": {
      "model_module": "@jupyter-widgets/controls",
      "model_module_version": "1.2.0",
      "model_name": "SelectModel",
      "state": {
       "_options_labels": [
        "Node",
        "Edge"
       ],
       "index": 0,
       "layout": "IPY_MODEL_e1a3546951ab415bafe66f246ac3bf7f",
       "style": "IPY_MODEL_3c129ff42d8c41a6abe93d66dbcc3786"
      }
     },
     "28c7eca58b5a43b4af69d9c5deb4b6b1": {
      "model_module": "@jupyter-widgets/base",
      "model_module_version": "1.0.0",
      "model_name": "LayoutModel",
      "state": {
       "padding": "10px 0px 0px 0px"
      }
     },
     "28c955db7b994fc8b62cd075e77d50bd": {
      "model_module": "@jupyter-widgets/controls",
      "model_module_version": "1.2.0",
      "model_name": "VBoxModel",
      "state": {
       "children": [
        "IPY_MODEL_6ece8b83f516483fbcc8926b4b4f9668",
        "IPY_MODEL_c98249c1b89b49bbbdbf40f2e3be6a22",
        "IPY_MODEL_d18394a8dc3a4814b28495c00b686f97",
        "IPY_MODEL_4175f3077c584cc5ba5275ca2a24c6f8"
       ],
       "layout": "IPY_MODEL_a2fb8ba0f32c46d3934ffd8be97ec59f"
      }
     },
     "28e2ac3194f84e6894037776cce5a962": {
      "model_module": "@jupyter-widgets/base",
      "model_module_version": "1.0.0",
      "model_name": "LayoutModel",
      "state": {}
     },
     "28f560da9b96447d8bd71a0bd46a3ac1": {
      "model_module": "@jupyter-widgets/controls",
      "model_module_version": "1.2.0",
      "model_name": "DescriptionStyleModel",
      "state": {
       "description_width": ""
      }
     },
     "291a5f746e0c45b3b07b33a70304af73": {
      "model_module": "@jupyter-widgets/controls",
      "model_module_version": "1.2.0",
      "model_name": "LabelModel",
      "state": {
       "layout": "IPY_MODEL_27457684b9274cab9462eaa66b383441",
       "style": "IPY_MODEL_4f9c7f860825412da8bbc888418a552e",
       "value": "Line Style :"
      }
     },
     "2960ca3170f14080afb6c537c2284a99": {
      "model_module": "@jupyter-widgets/controls",
      "model_module_version": "1.2.0",
      "model_name": "DescriptionStyleModel",
      "state": {
       "description_width": ""
      }
     },
     "29b3408ad20148fd8037d847437378e2": {
      "model_module": "@jupyter-widgets/base",
      "model_module_version": "1.0.0",
      "model_name": "LayoutModel",
      "state": {}
     },
     "29dc225e090a420780746e9d77de11a9": {
      "model_module": "@jupyter-widgets/controls",
      "model_module_version": "1.2.0",
      "model_name": "VBoxModel",
      "state": {
       "layout": "IPY_MODEL_d8844f5c596a4f2b9a4d547b1f4e8401"
      }
     },
     "29e5890c9901415f8c379fef86175bdb": {
      "model_module": "@jupyter-widgets/controls",
      "model_module_version": "1.2.0",
      "model_name": "DescriptionStyleModel",
      "state": {
       "description_width": ""
      }
     },
     "2a25bf07153a4e50b531cf9b68b53f1b": {
      "model_module": "@jupyter-widgets/base",
      "model_module_version": "1.0.0",
      "model_name": "LayoutModel",
      "state": {
       "width": "auto"
      }
     },
     "2a3a8f85f0464fc39cd5357ee25fa73d": {
      "model_module": "@jupyter-widgets/base",
      "model_module_version": "1.0.0",
      "model_name": "LayoutModel",
      "state": {}
     },
     "2a7be758bdcc4efdb92c7815102ad039": {
      "model_module": "@jupyter-widgets/controls",
      "model_module_version": "1.2.0",
      "model_name": "DescriptionStyleModel",
      "state": {
       "description_width": ""
      }
     },
     "2aa9f5e34f8541d8b0bbd834430414a8": {
      "model_module": "@jupyter-widgets/controls",
      "model_module_version": "1.2.0",
      "model_name": "ButtonModel",
      "state": {
       "button_style": "primary",
       "description": "Create",
       "layout": "IPY_MODEL_f28b7542c3874a13b94e3c6f32b9a695",
       "style": "IPY_MODEL_03fbc34986c1460ea715d7de881612fa"
      }
     },
     "2b27528b6d14412c93ce4bf456bdfc26": {
      "model_module": "@jupyter-widgets/controls",
      "model_module_version": "1.2.0",
      "model_name": "HTMLModel",
      "state": {
       "layout": "IPY_MODEL_90f1e773497d437797b837d68ca6d6cf",
       "style": "IPY_MODEL_b3af626c15a848dab37cd30f2958b4db",
       "value": "<hr style='padding: 2px; margin: 2px'>"
      }
     },
     "2b2a3ca2c9c04107b9ffb10a6cc6a929": {
      "model_module": "@jupyter-widgets/base",
      "model_module_version": "1.0.0",
      "model_name": "LayoutModel",
      "state": {
       "margin": "0 15px 0 0px",
       "width": "auto"
      }
     },
     "2b4dc2fce7334edb928d1828a97218dd": {
      "model_module": "@jupyter-widgets/controls",
      "model_module_version": "1.2.0",
      "model_name": "HBoxModel",
      "state": {
       "children": [
        "IPY_MODEL_55b3623df3a94b42bdce07b5aa96ff45",
        "IPY_MODEL_e9a965f0cc0a4d7c82f3a4b34f5ff713"
       ],
       "layout": "IPY_MODEL_30adc628c7984a39935e0c224c9d4972"
      }
     },
     "2b512cd4919f453c9cc1bf08de73ab63": {
      "model_module": "@jupyter-widgets/base",
      "model_module_version": "1.0.0",
      "model_name": "LayoutModel",
      "state": {}
     },
     "2b5e303d4abe46aaa6dc076322f958d2": {
      "model_module": "@jupyter-widgets/base",
      "model_module_version": "1.0.0",
      "model_name": "LayoutModel",
      "state": {}
     },
     "2b8be5ae345a4ae785b024079f863306": {
      "model_module": "@jupyter-widgets/base",
      "model_module_version": "1.0.0",
      "model_name": "LayoutModel",
      "state": {}
     },
     "2b940ea4a46942bf99315d95631d05bd": {
      "model_module": "@jupyter-widgets/controls",
      "model_module_version": "1.2.0",
      "model_name": "ButtonStyleModel",
      "state": {}
     },
     "2b98c2e47f1f4556b53fcab9dc59f9c5": {
      "model_module": "@jupyter-widgets/controls",
      "model_module_version": "1.2.0",
      "model_name": "HBoxModel",
      "state": {
       "children": [
        "IPY_MODEL_0843293724d343108ff25549a6358c1f",
        "IPY_MODEL_c2973c014a264e82944be60c011dc98a"
       ],
       "layout": "IPY_MODEL_74b69177fa6f44ddaf0057b4154bcf79"
      }
     },
     "2b9e573f32324de59d30a07be2432f51": {
      "model_module": "@jupyter-widgets/base",
      "model_module_version": "1.0.0",
      "model_name": "LayoutModel",
      "state": {}
     },
     "2ba7d4796d1a49378814f1a5fd9c8f01": {
      "model_module": "@jupyter-widgets/controls",
      "model_module_version": "1.2.0",
      "model_name": "DescriptionStyleModel",
      "state": {
       "description_width": ""
      }
     },
     "2bb7f8e7e3fa40168d90610a3f76237f": {
      "model_module": "@jupyter-widgets/base",
      "model_module_version": "1.0.0",
      "model_name": "LayoutModel",
      "state": {}
     },
     "2bccf782d3a440aaaca9bc1370c017ea": {
      "model_module": "@jupyter-widgets/controls",
      "model_module_version": "1.2.0",
      "model_name": "TextareaModel",
      "state": {
       "layout": "IPY_MODEL_b9698d16f85a4e718291ecad581702a9",
       "style": "IPY_MODEL_00a0211292fe48529c031ecc1e7fff6a"
      }
     },
     "2c033ab57c3244ef81e118842fc7f051": {
      "model_module": "@jupyter-widgets/base",
      "model_module_version": "1.0.0",
      "model_name": "LayoutModel",
      "state": {}
     },
     "2c05ecf1818349d28c3cd568b724d785": {
      "model_module": "@jupyter-widgets/controls",
      "model_module_version": "1.2.0",
      "model_name": "TextModel",
      "state": {
       "layout": "IPY_MODEL_e4408fcb802742cbbc3297934e25f304",
       "placeholder": "Variable Name:",
       "style": "IPY_MODEL_3abfcf4b0aec4e87a8c413663a356000"
      }
     },
     "2c2c4d16593c4e35ab2720c547870268": {
      "model_module": "@jupyter-widgets/controls",
      "model_module_version": "1.2.0",
      "model_name": "HTMLModel",
      "state": {
       "layout": "IPY_MODEL_974223365212418e87a83bd96954f9a7",
       "style": "IPY_MODEL_483c2bc943674107a89ad5abd5496fc2",
       "value": " <h3 class='text-center text-success' style='margin:0'> Saved!</h3>"
      }
     },
     "2c3de84af26a456bb0e737348ec40721": {
      "model_module": "@jupyter-widgets/base",
      "model_module_version": "1.0.0",
      "model_name": "LayoutModel",
      "state": {}
     },
     "2c40d93f5707420e87065d5716bf8d83": {
      "model_module": "@jupyter-widgets/base",
      "model_module_version": "1.0.0",
      "model_name": "LayoutModel",
      "state": {}
     },
     "2c43fcb0c28b47afb8f5b3582c6e2a1b": {
      "model_module": "@jupyter-widgets/controls",
      "model_module_version": "1.2.0",
      "model_name": "ButtonStyleModel",
      "state": {}
     },
     "2c4a5aac5aef4c54811a723e4f64920e": {
      "model_module": "@jupyter-widgets/controls",
      "model_module_version": "1.2.0",
      "model_name": "IntSliderModel",
      "state": {
       "layout": "IPY_MODEL_a0b5d4f035ba408c8b1c08dc0825e09c",
       "max": 5,
       "min": 1,
       "style": "IPY_MODEL_7b436c27243946ecb0d1106fb34fafce",
       "value": 1
      }
     },
     "2c7cd9be8cdc4f889504cb1746e368fe": {
      "model_module": "@jupyter-widgets/controls",
      "model_module_version": "1.2.0",
      "model_name": "DescriptionStyleModel",
      "state": {
       "description_width": ""
      }
     },
     "2c80f38000f747a3a57df7c8eacaea38": {
      "model_module": "@jupyter-widgets/base",
      "model_module_version": "1.0.0",
      "model_name": "LayoutModel",
      "state": {}
     },
     "2c8361cc713843219bae91bb812d34d6": {
      "model_module": "@jupyter-widgets/base",
      "model_module_version": "1.0.0",
      "model_name": "LayoutModel",
      "state": {
       "width": "auto"
      }
     },
     "2cdfac00f37843f2a00f7c9034e76c1e": {
      "model_module": "@jupyter-widgets/base",
      "model_module_version": "1.0.0",
      "model_name": "LayoutModel",
      "state": {}
     },
     "2ce2d00864684636806ec01933454d08": {
      "model_module": "@jupyter-widgets/controls",
      "model_module_version": "1.2.0",
      "model_name": "AccordionModel",
      "state": {
       "_titles": {
        "0": "Style",
        "1": "Label",
        "2": "Variables"
       },
       "children": [
        "IPY_MODEL_34991774599544cfa6d1117a649e26cc",
        "IPY_MODEL_e73283ddfa8a403ba6e26a3672eb8a18",
        "IPY_MODEL_91c2aa43dc784f3fa880f1b4e8a4cda1"
       ],
       "layout": "IPY_MODEL_7db866af0a3e46f6a2ad10135b599205"
      }
     },
     "2d06fb857409485aab742d00b99f5772": {
      "model_module": "@jupyter-widgets/controls",
      "model_module_version": "1.2.0",
      "model_name": "ColorPickerModel",
      "state": {
       "disabled": false,
       "layout": "IPY_MODEL_37116bef5f1f4118a7ec117c01583fb1",
       "style": "IPY_MODEL_9dfd85f50185492bb3c71b68aa5f4bb9"
      }
     },
     "2d1ca1da4cd54520a4a644b4481e88ba": {
      "model_module": "@jupyter-widgets/base",
      "model_module_version": "1.0.0",
      "model_name": "LayoutModel",
      "state": {
       "align_items": "center",
       "justify_content": "center"
      }
     },
     "2d20f6f02012478f808870e3914809c7": {
      "model_module": "@jupyter-widgets/base",
      "model_module_version": "1.0.0",
      "model_name": "LayoutModel",
      "state": {
       "align_items": "center"
      }
     },
     "2d22d400d6704c75a6b1c58baa103aef": {
      "model_module": "@jupyter-widgets/controls",
      "model_module_version": "1.2.0",
      "model_name": "LabelModel",
      "state": {
       "layout": "IPY_MODEL_5d2ecf31aa0d4053b898bfbecc894490",
       "style": "IPY_MODEL_5e795b067b564170bc3dac4d3a216cee",
       "value": "Start"
      }
     },
     "2d236cd70e4a40d2b77acf8cfd05d344": {
      "model_module": "@jupyter-widgets/controls",
      "model_module_version": "1.2.0",
      "model_name": "DescriptionStyleModel",
      "state": {
       "description_width": ""
      }
     },
     "2d3ffd812f5b4a54a9e80508ac7f0094": {
      "model_module": "@jupyter-widgets/controls",
      "model_module_version": "1.2.0",
      "model_name": "ButtonStyleModel",
      "state": {}
     },
     "2d6615b7a5264299a3d2f199caa79fd0": {
      "model_module": "@jupyter-widgets/controls",
      "model_module_version": "1.2.0",
      "model_name": "DescriptionStyleModel",
      "state": {
       "description_width": ""
      }
     },
     "2d6c9ceeb84749e2be87e6f75203b216": {
      "model_module": "@jupyter-widgets/base",
      "model_module_version": "1.0.0",
      "model_name": "LayoutModel",
      "state": {
       "padding": "10px 0px 0px 0px"
      }
     },
     "2d7f0a15d4484f558074a3f2d502ae9a": {
      "model_module": "@jupyter-widgets/base",
      "model_module_version": "1.0.0",
      "model_name": "LayoutModel",
      "state": {}
     },
     "2d85a33a43764860b05ff8ca16b863f0": {
      "model_module": "@jupyter-widgets/controls",
      "model_module_version": "1.2.0",
      "model_name": "ButtonStyleModel",
      "state": {}
     },
     "2d90ca47cc5442d5af343f4a1ada901f": {
      "model_module": "@jupyter-widgets/base",
      "model_module_version": "1.0.0",
      "model_name": "LayoutModel",
      "state": {}
     },
     "2dccd8a101504e88b3b2b4b911e70d9e": {
      "model_module": "@jupyter-widgets/base",
      "model_module_version": "1.0.0",
      "model_name": "LayoutModel",
      "state": {
       "display": "none"
      }
     },
     "2de95535d741438e965edfbfea386e53": {
      "model_module": "@jupyter-widgets/controls",
      "model_module_version": "1.2.0",
      "model_name": "DropdownModel",
      "state": {
       "_options_labels": [
        "solid",
        "dotted",
        "dashed"
       ],
       "index": 0,
       "layout": "IPY_MODEL_b31a0688e4e84bf0b8232458cc30a917",
       "style": "IPY_MODEL_17a12d507416489f813855697aeaabcf"
      }
     },
     "2def079c21c644f68c6c4e86e4f3b27c": {
      "model_module": "@jupyter-widgets/base",
      "model_module_version": "1.0.0",
      "model_name": "LayoutModel",
      "state": {}
     },
     "2e2daf707bfb40a6a413f4016d3bf366": {
      "model_module": "@jupyter-widgets/base",
      "model_module_version": "1.0.0",
      "model_name": "LayoutModel",
      "state": {}
     },
     "2e4fb9a90ef44fd0bc2d5acf3d93fc1e": {
      "model_module": "@jupyter-widgets/base",
      "model_module_version": "1.0.0",
      "model_name": "LayoutModel",
      "state": {
       "width": "auto"
      }
     },
     "2e7e8528061744e8bc3a6cd903975763": {
      "model_module": "@jupyter-widgets/base",
      "model_module_version": "1.0.0",
      "model_name": "LayoutModel",
      "state": {}
     },
     "2e937914bb2340ae81d3b0da150ece10": {
      "model_module": "@jupyter-widgets/controls",
      "model_module_version": "1.2.0",
      "model_name": "DropdownModel",
      "state": {
       "_options_labels": [
        "none",
        "triangle",
        "tee",
        "diamond",
        "square",
        "circle",
        "vee",
        "triangle-tee"
       ],
       "index": 0,
       "layout": "IPY_MODEL_c2a4585f1d4a49d08372000b55dd56e1",
       "style": "IPY_MODEL_00ae23b97c90478988c8fef3516524b5"
      }
     },
     "2ee53c61b6244761b66cfcafd6080221": {
      "model_module": "@jupyter-widgets/controls",
      "model_module_version": "1.2.0",
      "model_name": "SliderStyleModel",
      "state": {
       "description_width": ""
      }
     },
     "2eecb9ab1e894b3984f783902d0427be": {
      "model_module": "@jupyter-widgets/base",
      "model_module_version": "1.0.0",
      "model_name": "LayoutModel",
      "state": {}
     },
     "2eed345d16534fd7a5484310814a1b73": {
      "model_module": "@jupyter-widgets/base",
      "model_module_version": "1.0.0",
      "model_name": "LayoutModel",
      "state": {}
     },
     "2eed4155a2584160b1abb742068fa69c": {
      "model_module": "@jupyter-widgets/base",
      "model_module_version": "1.0.0",
      "model_name": "LayoutModel",
      "state": {
       "padding": "10px 0px 0px 0px"
      }
     },
     "2f06cda9e61c42218fb2ccddf33400d2": {
      "model_module": "@jupyter-widgets/controls",
      "model_module_version": "1.2.0",
      "model_name": "HBoxModel",
      "state": {
       "children": [
        "IPY_MODEL_a4674c269bfd4280947f554408f20081"
       ],
       "layout": "IPY_MODEL_a0387e84a8464965998188e04c9df8a8"
      }
     },
     "2f15f28bd8324bd48d0656a576da9ce7": {
      "model_module": "@jupyter-widgets/controls",
      "model_module_version": "1.2.0",
      "model_name": "PasswordModel",
      "state": {
       "description": "Password :",
       "layout": "IPY_MODEL_3cd1f013f3b141d0adbbafb7f4380c1a",
       "style": "IPY_MODEL_3ea97f818ac9439f8d807f621c9fef5d"
      }
     },
     "2f3c80a15d7042e78fcc6bf945bf695c": {
      "model_module": "@jupyter-widgets/base",
      "model_module_version": "1.0.0",
      "model_name": "LayoutModel",
      "state": {
       "padding": "10px 0px 0px 0px"
      }
     },
     "2f564cfba970421b830ef7899dcb4159": {
      "model_module": "@jupyter-widgets/controls",
      "model_module_version": "1.2.0",
      "model_name": "HTMLModel",
      "state": {
       "layout": "IPY_MODEL_994d9fcfd57a412eabf7ee117d3a2a2e",
       "style": "IPY_MODEL_1ea1b109082540eda4cf16a3b850b087",
       "value": "<hr style='padding: 2px; margin: 2px'>"
      }
     },
     "2f7df31c312b43268bbf203c44e48720": {
      "model_module": "@jupyter-widgets/controls",
      "model_module_version": "1.2.0",
      "model_name": "HTMLModel",
      "state": {
       "layout": "IPY_MODEL_33e8d6524a8144a89d737fd115edccd8",
       "style": "IPY_MODEL_49c32afa5b4843e48513dfe103bd72fb",
       "value": "<h4 style='color:DarkKhaki'>Node :</h4>"
      }
     },
     "2fc57313bd3148e1a9740e40dadd4c05": {
      "model_module": "@jupyter-widgets/controls",
      "model_module_version": "1.2.0",
      "model_name": "VBoxModel",
      "state": {
       "children": [
        "IPY_MODEL_06265fb846ef4dd4ac33cfdeb09a44d6",
        "IPY_MODEL_e34345876f41413b99e3ccc40ee7df8f"
       ],
       "layout": "IPY_MODEL_683b8eae665043249097c720dfb7c4d4"
      }
     },
     "2fd562e1d39240ed95ce0555949fcfd9": {
      "model_module": "@jupyter-widgets/controls",
      "model_module_version": "1.2.0",
      "model_name": "ButtonStyleModel",
      "state": {}
     },
     "2fd69bb862db4de4855044a5eb753499": {
      "model_module": "@jupyter-widgets/controls",
      "model_module_version": "1.2.0",
      "model_name": "ButtonStyleModel",
      "state": {}
     },
     "2ffc3f2b25374805ba67058558a9921b": {
      "model_module": "@jupyter-widgets/controls",
      "model_module_version": "1.2.0",
      "model_name": "ButtonModel",
      "state": {
       "button_style": "primary",
       "description": "Create",
       "layout": "IPY_MODEL_89f1d49edb10465e90214f8b1054dfa5",
       "style": "IPY_MODEL_e67082f317ea432c9813b4a8b62316e6"
      }
     },
     "300a54a25d2440a58713185366b91e2b": {
      "model_module": "@jupyter-widgets/controls",
      "model_module_version": "1.2.0",
      "model_name": "DescriptionStyleModel",
      "state": {
       "description_width": ""
      }
     },
     "3017175447a647f6938ad6d986e44d37": {
      "model_module": "@jupyter-widgets/base",
      "model_module_version": "1.0.0",
      "model_name": "LayoutModel",
      "state": {}
     },
     "3037e4c582fd416a8d2605ee34961a55": {
      "model_module": "@jupyter-widgets/controls",
      "model_module_version": "1.2.0",
      "model_name": "TextModel",
      "state": {
       "layout": "IPY_MODEL_a4784d076b0642229d9ade6ad338906d",
       "style": "IPY_MODEL_d8b2bd808e1c4cda81fdf8da5cfe0981"
      }
     },
     "30581e8c9430461a85ee393f519e022f": {
      "model_module": "@jupyter-widgets/controls",
      "model_module_version": "1.2.0",
      "model_name": "HTMLModel",
      "state": {
       "layout": "IPY_MODEL_1ea0d9569bf641ec8eafce83aa5a3d6b",
       "style": "IPY_MODEL_ba88034cd8f04436b3751c4c9f18d3be",
       "value": "<h5>Name  &nbsp</h5> "
      }
     },
     "306ea609cc404f80b870d41e3669edea": {
      "model_module": "@jupyter-widgets/base",
      "model_module_version": "1.0.0",
      "model_name": "LayoutModel",
      "state": {}
     },
     "30aaca95523d4ff5a4a1c9435f39b29d": {
      "model_module": "@jupyter-widgets/base",
      "model_module_version": "1.0.0",
      "model_name": "LayoutModel",
      "state": {}
     },
     "30adc628c7984a39935e0c224c9d4972": {
      "model_module": "@jupyter-widgets/base",
      "model_module_version": "1.0.0",
      "model_name": "LayoutModel",
      "state": {}
     },
     "30d20540a07e435b8f0fbad9905ff116": {
      "model_module": "@jupyter-widgets/base",
      "model_module_version": "1.0.0",
      "model_name": "LayoutModel",
      "state": {}
     },
     "31072a4f42b74b61b6edfe6a2470e3b7": {
      "model_module": "@jupyter-widgets/controls",
      "model_module_version": "1.2.0",
      "model_name": "VBoxModel",
      "state": {
       "children": [
        "IPY_MODEL_476d08c7e90842b4b546435346b76777",
        "IPY_MODEL_66e4ff772f5649fc93b24aae4ea174d9",
        "IPY_MODEL_b19954807e5b4af99bb87fdd5c768470",
        "IPY_MODEL_bec9c48ba5674ce59b534d4e4954c7d6"
       ],
       "layout": "IPY_MODEL_2dccd8a101504e88b3b2b4b911e70d9e"
      }
     },
     "31154fea64514e11aa1ec189a23a1e2b": {
      "model_module": "@jupyter-widgets/base",
      "model_module_version": "1.0.0",
      "model_name": "LayoutModel",
      "state": {}
     },
     "31182893fb3946c792d5479b15467d6b": {
      "model_module": "@jupyter-widgets/base",
      "model_module_version": "1.0.0",
      "model_name": "LayoutModel",
      "state": {}
     },
     "3119ff3e2b294aa1a4501aaf637191ba": {
      "model_module": "@jupyter-widgets/controls",
      "model_module_version": "1.2.0",
      "model_name": "HTMLModel",
      "state": {
       "layout": "IPY_MODEL_2c80f38000f747a3a57df7c8eacaea38",
       "style": "IPY_MODEL_12edab4719354361914d43bd0d5ac096",
       "value": "<h5>Description</h5>"
      }
     },
     "313b9d309af94c34a99d25c0cc0775ce": {
      "model_module": "@jupyter-widgets/controls",
      "model_module_version": "1.2.0",
      "model_name": "HBoxModel",
      "state": {
       "children": [
        "IPY_MODEL_291a5f746e0c45b3b07b33a70304af73",
        "IPY_MODEL_b55812d02b8a4bf7a1b75b2acb58a483"
       ],
       "layout": "IPY_MODEL_7cdb51aa3895495f86e150b790ccbfb0"
      }
     },
     "313d1582492143538a343de39d8338a6": {
      "model_module": "@jupyter-widgets/base",
      "model_module_version": "1.0.0",
      "model_name": "LayoutModel",
      "state": {
       "padding": "10px 0px 0px 0px"
      }
     },
     "314cd30265f248b4bd24f5c56bf65102": {
      "model_module": "@jupyter-widgets/base",
      "model_module_version": "1.0.0",
      "model_name": "LayoutModel",
      "state": {}
     },
     "3156ac24a7d846af9aa4aea18e07df86": {
      "model_module": "@jupyter-widgets/controls",
      "model_module_version": "1.2.0",
      "model_name": "DescriptionStyleModel",
      "state": {
       "description_width": ""
      }
     },
     "317af63d31b540d2bae7e37c98093b6a": {
      "model_module": "@jupyter-widgets/controls",
      "model_module_version": "1.2.0",
      "model_name": "DescriptionStyleModel",
      "state": {
       "description_width": ""
      }
     },
     "318b65ed54b64b87b9e56253f1674e0a": {
      "model_module": "@jupyter-widgets/base",
      "model_module_version": "1.0.0",
      "model_name": "LayoutModel",
      "state": {}
     },
     "318ca32e28cc44839ca5f8ab8c24025c": {
      "model_module": "@jupyter-widgets/controls",
      "model_module_version": "1.2.0",
      "model_name": "HTMLModel",
      "state": {
       "layout": "IPY_MODEL_2b8be5ae345a4ae785b024079f863306",
       "style": "IPY_MODEL_8c2f232de38e487c999844ddc1305d56",
       "value": "<h5>Description</h5>"
      }
     },
     "31b13774d76f4961ac3b8c084d4bc285": {
      "model_module": "@jupyter-widgets/controls",
      "model_module_version": "1.2.0",
      "model_name": "DescriptionStyleModel",
      "state": {
       "description_width": ""
      }
     },
     "31b86ec8b7684bd1a58ff7566f2a63ef": {
      "model_module": "@jupyter-widgets/controls",
      "model_module_version": "1.2.0",
      "model_name": "DescriptionStyleModel",
      "state": {
       "description_width": ""
      }
     },
     "32339832fc2d4c69ae53e0b39e2db3c8": {
      "model_module": "@jupyter-widgets/base",
      "model_module_version": "1.0.0",
      "model_name": "LayoutModel",
      "state": {}
     },
     "326c9a0a7add4ea0a765e4f9a298821b": {
      "model_module": "@jupyter-widgets/controls",
      "model_module_version": "1.2.0",
      "model_name": "ButtonModel",
      "state": {
       "button_style": "primary",
       "description": "Download",
       "layout": "IPY_MODEL_fd8b6ad6679247ba8289252d064b0c05",
       "style": "IPY_MODEL_f7e0d434ed394559b22078349ac7bfab"
      }
     },
     "326eef37bb02420abc49b2ce55880d61": {
      "model_module": "@jupyter-widgets/controls",
      "model_module_version": "1.2.0",
      "model_name": "LabelModel",
      "state": {
       "layout": "IPY_MODEL_273d90b9d8cf43a88447cc1c54f07edc",
       "style": "IPY_MODEL_74518825b4f34ac1a55b1ec8605171ee",
       "value": "Style"
      }
     },
     "326fed23f2a94ca3bf844cb47fc0ba4e": {
      "model_module": "@jupyter-widgets/controls",
      "model_module_version": "1.2.0",
      "model_name": "HTMLModel",
      "state": {
       "layout": "IPY_MODEL_1c40e47f5bf24fe29f0d1941f2d6d157",
       "style": "IPY_MODEL_ac6dc7ae994d4ba48d9a3505ddfeed53",
       "value": "<h5>Fill out the info below to upload data to <a href='http://www.ndexbio.org/'>NDEx</a></h5>"
      }
     },
     "328d45648c85402eae45f0b0c3637f8e": {
      "model_module": "@jupyter-widgets/base",
      "model_module_version": "1.0.0",
      "model_name": "LayoutModel",
      "state": {}
     },
     "32f2840768cd4011a7e8e24a9638308e": {
      "model_module": "@jupyter-widgets/base",
      "model_module_version": "1.0.0",
      "model_name": "LayoutModel",
      "state": {
       "display": "none"
      }
     },
     "32f93f614db24ccf9d7d047edadec24a": {
      "model_module": "@jupyter-widgets/controls",
      "model_module_version": "1.2.0",
      "model_name": "HTMLModel",
      "state": {
       "layout": "IPY_MODEL_46e39c6fe3ed46c68db67e169d0012e2",
       "style": "IPY_MODEL_a9ae1f2216074300a6039f24c76ed3c6",
       "value": "<h5>Title  &nbsp</h5> "
      }
     },
     "32fb5bb788394b0193b4fa05d9ee56e8": {
      "model_module": "@jupyter-widgets/base",
      "model_module_version": "1.0.0",
      "model_name": "LayoutModel",
      "state": {
       "padding": "10px 0px 0px 0px"
      }
     },
     "33369f6b2f1e47a494ca02762cbb39e5": {
      "model_module": "@jupyter-widgets/controls",
      "model_module_version": "1.2.0",
      "model_name": "DescriptionStyleModel",
      "state": {
       "description_width": ""
      }
     },
     "3338d23e52fe4ace870ec5d54ee97638": {
      "model_module": "@jupyter-widgets/controls",
      "model_module_version": "1.2.0",
      "model_name": "DescriptionStyleModel",
      "state": {
       "description_width": ""
      }
     },
     "3339cea55387445696e3224ab787f7b4": {
      "model_module": "@jupyter-widgets/controls",
      "model_module_version": "1.2.0",
      "model_name": "DescriptionStyleModel",
      "state": {
       "description_width": ""
      }
     },
     "333eadd240484006bb050d5396108e0a": {
      "model_module": "@jupyter-widgets/controls",
      "model_module_version": "1.2.0",
      "model_name": "DescriptionStyleModel",
      "state": {
       "description_width": ""
      }
     },
     "3369a13da5924588a82e76890ab8e138": {
      "model_module": "@jupyter-widgets/base",
      "model_module_version": "1.0.0",
      "model_name": "LayoutModel",
      "state": {}
     },
     "336d7530034b4e6c80385fd59c49cc5d": {
      "model_module": "@jupyter-widgets/controls",
      "model_module_version": "1.2.0",
      "model_name": "DescriptionStyleModel",
      "state": {
       "description_width": ""
      }
     },
     "3377b25cf1274b80886ccb1a4701735a": {
      "model_module": "@jupyter-widgets/base",
      "model_module_version": "1.0.0",
      "model_name": "LayoutModel",
      "state": {}
     },
     "339339fa0b0f4953861f8aa6831d3d4d": {
      "model_module": "@jupyter-widgets/base",
      "model_module_version": "1.0.0",
      "model_name": "LayoutModel",
      "state": {}
     },
     "339c97c6ea36463088e9972a7bc67b0b": {
      "model_module": "@jupyter-widgets/controls",
      "model_module_version": "1.2.0",
      "model_name": "HBoxModel",
      "state": {
       "children": [
        "IPY_MODEL_84cd68b61fb64febbc289f72a595a286",
        "IPY_MODEL_51d2c81620284d4b925484e37211af0d",
        "IPY_MODEL_c4e48567b9584520ab3a3e6f436f4e99",
        "IPY_MODEL_2688878c44c245a7ac8d694e39db3a11"
       ],
       "layout": "IPY_MODEL_f75cbfcf50d648a2843d0649d2ef90b9"
      }
     },
     "339d154c4bbf4b5583cb4ede46db5987": {
      "model_module": "@jupyter-widgets/controls",
      "model_module_version": "1.2.0",
      "model_name": "HBoxModel",
      "state": {
       "children": [
        "IPY_MODEL_6b1e5b912aaa40b3b4daaa1c457546c8",
        "IPY_MODEL_dfd4df061f504715b8eb50dd7274524b"
       ],
       "layout": "IPY_MODEL_313d1582492143538a343de39d8338a6"
      }
     },
     "339fe9e2d54a48abb4ccc6cac998ae7a": {
      "model_module": "@jupyter-widgets/base",
      "model_module_version": "1.0.0",
      "model_name": "LayoutModel",
      "state": {}
     },
     "33a776e7771e4ce7869baa15147da0e2": {
      "model_module": "@jupyter-widgets/controls",
      "model_module_version": "1.2.0",
      "model_name": "VBoxModel",
      "state": {
       "children": [
        "IPY_MODEL_ff110c1811e24d07b3f8bf18af9b0417",
        "IPY_MODEL_cabdc85ce5bc4accb10bc41c9415bcf2"
       ],
       "layout": "IPY_MODEL_c6a0ee5df200403889f0bba770cbb5e1"
      }
     },
     "33d0255873424f26967d422948b1f95e": {
      "model_module": "@jupyter-widgets/controls",
      "model_module_version": "1.2.0",
      "model_name": "PasswordModel",
      "state": {
       "description": "Password :",
       "layout": "IPY_MODEL_4c85dc69321248a694f0f8531e8e539a",
       "style": "IPY_MODEL_97ef09d489fe40a3a25b472adb5e5687"
      }
     },
     "33e8d6524a8144a89d737fd115edccd8": {
      "model_module": "@jupyter-widgets/base",
      "model_module_version": "1.0.0",
      "model_name": "LayoutModel",
      "state": {}
     },
     "33f19c4567c44217aaf5000b2a9be423": {
      "model_module": "@jupyter-widgets/base",
      "model_module_version": "1.0.0",
      "model_name": "LayoutModel",
      "state": {}
     },
     "33fef19bcacf41bca904df8f1517df68": {
      "model_module": "@jupyter-widgets/controls",
      "model_module_version": "1.2.0",
      "model_name": "LabelModel",
      "state": {
       "layout": "IPY_MODEL_2def079c21c644f68c6c4e86e4f3b27c",
       "style": "IPY_MODEL_94f1dde7bd84451f94f6d0aab26dcc1c",
       "value": "Color :"
      }
     },
     "33ffeaf29b674f91bf4fce761d75072e": {
      "model_module": "@jupyter-widgets/base",
      "model_module_version": "1.0.0",
      "model_name": "LayoutModel",
      "state": {}
     },
     "340c0eff03c14e20a2157c56a3e44fe6": {
      "model_module": "@jupyter-widgets/base",
      "model_module_version": "1.0.0",
      "model_name": "LayoutModel",
      "state": {}
     },
     "34149446393048b49e6fe61d260109cc": {
      "model_module": "@jupyter-widgets/base",
      "model_module_version": "1.0.0",
      "model_name": "LayoutModel",
      "state": {}
     },
     "341bf50333254183a56639bf61939d79": {
      "model_module": "@jupyter-widgets/controls",
      "model_module_version": "1.2.0",
      "model_name": "LabelModel",
      "state": {
       "layout": "IPY_MODEL_3544a3aa37ef4474ad0ffcc8666d15ea",
       "style": "IPY_MODEL_2143029e6ab44d098dfb2e1f27cb8f02",
       "value": "Line Style :"
      }
     },
     "34214c2d7fc04f12a9e5e68c1341c11c": {
      "model_module": "@jupyter-widgets/base",
      "model_module_version": "1.0.0",
      "model_name": "LayoutModel",
      "state": {}
     },
     "3426db5dc3914d2aae4571af3bb7ff26": {
      "model_module": "@jupyter-widgets/controls",
      "model_module_version": "1.2.0",
      "model_name": "DescriptionStyleModel",
      "state": {
       "description_width": ""
      }
     },
     "34377c3d5ae048bbb58b74284fa5af5c": {
      "model_module": "@jupyter-widgets/controls",
      "model_module_version": "1.2.0",
      "model_name": "LabelModel",
      "state": {
       "layout": "IPY_MODEL_7f41071350e74937b6d2f957e715822b",
       "style": "IPY_MODEL_cf911854314443eebae5d08af9072c6e",
       "value": "See-Through :"
      }
     },
     "345feb4db25b4bf3bb2e3e08f1d3ffe8": {
      "model_module": "@jupyter-widgets/controls",
      "model_module_version": "1.2.0",
      "model_name": "ToggleButtonsStyleModel",
      "state": {
       "button_width": "",
       "description_width": ""
      }
     },
     "346648934b1e46e8bef75eee26047a9d": {
      "model_module": "@jupyter-widgets/base",
      "model_module_version": "1.0.0",
      "model_name": "LayoutModel",
      "state": {
       "height": "80px",
       "width": "99%"
      }
     },
     "3472e0124e8f4059a43a1a1c80914b0d": {
      "model_module": "@jupyter-widgets/controls",
      "model_module_version": "1.2.0",
      "model_name": "DescriptionStyleModel",
      "state": {
       "description_width": ""
      }
     },
     "348562d82bb64b5fab7116ac906b4f20": {
      "model_module": "@jupyter-widgets/base",
      "model_module_version": "1.0.0",
      "model_name": "LayoutModel",
      "state": {}
     },
     "34991774599544cfa6d1117a649e26cc": {
      "model_module": "@jupyter-widgets/controls",
      "model_module_version": "1.2.0",
      "model_name": "VBoxModel",
      "state": {
       "children": [
        "IPY_MODEL_4e5c6ff82a954827a8866c9f3edb200c",
        "IPY_MODEL_da15127c15de471198d83a6828e78b99",
        "IPY_MODEL_fd56c56886d6449eb1a74bbe371031d4",
        "IPY_MODEL_aa276e87a3e54f0a9b41e678ecf3182d",
        "IPY_MODEL_649f6345400f49b5b1686d7ded6a5a98",
        "IPY_MODEL_0f8174a89ccb4abb8f4131a2c3f32579",
        "IPY_MODEL_0119f794a9844820a51ddf8300693010",
        "IPY_MODEL_fe3632eebb9b477e9e8343316ebea92b",
        "IPY_MODEL_6be6f511c06a42b58e882b4427597e42",
        "IPY_MODEL_dd36e67858ae47a7b436f42b4afdcf7a",
        "IPY_MODEL_e09450e0533a4843925cd30c3b7b8edf"
       ],
       "layout": "IPY_MODEL_204b64f76f6047629d940d07840857f6"
      }
     },
     "34af0661bc3f4c5a94ab760ba8085e51": {
      "model_module": "@jupyter-widgets/base",
      "model_module_version": "1.0.0",
      "model_name": "LayoutModel",
      "state": {
       "display": "none"
      }
     },
     "34b918b8c5374296a6526fc344daf97b": {
      "model_module": "@jupyter-widgets/base",
      "model_module_version": "1.0.0",
      "model_name": "LayoutModel",
      "state": {}
     },
     "34c9bcd7440943f3bfaa5315911f49e6": {
      "model_module": "@jupyter-widgets/controls",
      "model_module_version": "1.2.0",
      "model_name": "DropdownModel",
      "state": {
       "_options_labels": [
        "none",
        "triangle",
        "tee",
        "diamond",
        "square",
        "circle",
        "vee",
        "triangle-tee"
       ],
       "index": 0,
       "layout": "IPY_MODEL_4b40f48535f84c77b839d031e67d6bd7",
       "style": "IPY_MODEL_8c8371ad04de4885ba60d9ab3dcbd0e5"
      }
     },
     "34d62ec7a18c48dca10fc415ab5f6c78": {
      "model_module": "@jupyter-widgets/controls",
      "model_module_version": "1.2.0",
      "model_name": "IntSliderModel",
      "state": {
       "layout": "IPY_MODEL_2780a851649b40638318faeea5502fb0",
       "max": 5,
       "min": 1,
       "style": "IPY_MODEL_5342b17a18f94e4cb540dd0a41ff60ef",
       "value": 1
      }
     },
     "34eeeb9a07ec4ecfbf33af86902e4344": {
      "model_module": "@jupyter-widgets/controls",
      "model_module_version": "1.2.0",
      "model_name": "DescriptionStyleModel",
      "state": {
       "description_width": ""
      }
     },
     "35136003bb20475bb45467a1a9ec6135": {
      "model_module": "@jupyter-widgets/controls",
      "model_module_version": "1.2.0",
      "model_name": "ButtonStyleModel",
      "state": {}
     },
     "353331b4a504466ead4a896864ca5184": {
      "model_module": "@jupyter-widgets/controls",
      "model_module_version": "1.2.0",
      "model_name": "HTMLModel",
      "state": {
       "layout": "IPY_MODEL_b268db105f214c5f85e3f3b39f3a9e9e",
       "style": "IPY_MODEL_fe94fad7dfd2439a8e30869ab803898b",
       "value": "<h3> </h3>"
      }
     },
     "353bb32b82a248a3adeb45456da22577": {
      "model_module": "@jupyter-widgets/controls",
      "model_module_version": "1.2.0",
      "model_name": "HBoxModel",
      "state": {
       "children": [
        "IPY_MODEL_84f650373e314835bafb1627236e593f"
       ],
       "layout": "IPY_MODEL_7b8e9b59a63746d59da5456dfec9422a"
      }
     },
     "3544a3aa37ef4474ad0ffcc8666d15ea": {
      "model_module": "@jupyter-widgets/base",
      "model_module_version": "1.0.0",
      "model_name": "LayoutModel",
      "state": {}
     },
     "355c26d6627d421e8dcec9e9b5c1ebec": {
      "model_module": "@jupyter-widgets/base",
      "model_module_version": "1.0.0",
      "model_name": "LayoutModel",
      "state": {}
     },
     "365a0e7949664e38991847003f7315c7": {
      "model_module": "@jupyter-widgets/controls",
      "model_module_version": "1.2.0",
      "model_name": "HTMLModel",
      "state": {
       "layout": "IPY_MODEL_1d841d13ba0e45ac8fef25619046251c",
       "style": "IPY_MODEL_10b5a2ae5e154dc599f871b42191a4f4",
       "value": "<h4 style='color: purple' >Edges</h4>"
      }
     },
     "36636f7bb53b4c1aa99c1696283a48b6": {
      "model_module": "@jupyter-widgets/controls",
      "model_module_version": "1.2.0",
      "model_name": "ColorPickerModel",
      "state": {
       "disabled": false,
       "layout": "IPY_MODEL_9a1bfe08736d46688251b8447aebe66a",
       "style": "IPY_MODEL_4153451c6f834b6f9a8eef241e988786",
       "value": "gray"
      }
     },
     "36774907f7a04544b5625576d335e9ae": {
      "model_module": "@jupyter-widgets/controls",
      "model_module_version": "1.2.0",
      "model_name": "TextModel",
      "state": {
       "description": "Username :",
       "layout": "IPY_MODEL_f24cc176bcb148039637177ac620b0ec",
       "style": "IPY_MODEL_6ec88d41762847629aedc24df61b23ba"
      }
     },
     "368977171df4439b98f13942f9f92cca": {
      "model_module": "@jupyter-widgets/controls",
      "model_module_version": "1.2.0",
      "model_name": "FloatSliderModel",
      "state": {
       "layout": "IPY_MODEL_048859755a1f4e26804c133f6d3f8522",
       "max": 1,
       "step": 0.05,
       "style": "IPY_MODEL_14d49c97ff094cc3856b98be575aaf11",
       "value": 0.5
      }
     },
     "368d0a31be854ba9bc6b8823b0c2b004": {
      "model_module": "@jupyter-widgets/base",
      "model_module_version": "1.0.0",
      "model_name": "LayoutModel",
      "state": {}
     },
     "36dd885908e243459b222021674f1fde": {
      "model_module": "@jupyter-widgets/controls",
      "model_module_version": "1.2.0",
      "model_name": "HBoxModel",
      "state": {
       "children": [
        "IPY_MODEL_62187e882c6842a9afd24b1dbb227faa",
        "IPY_MODEL_2c4a5aac5aef4c54811a723e4f64920e"
       ],
       "layout": "IPY_MODEL_3b201d3717324a7f941638fd1844d0e5"
      }
     },
     "37116bef5f1f4118a7ec117c01583fb1": {
      "model_module": "@jupyter-widgets/base",
      "model_module_version": "1.0.0",
      "model_name": "LayoutModel",
      "state": {}
     },
     "37297044a33648e3ab755de4a06b4f5c": {
      "model_module": "@jupyter-widgets/controls",
      "model_module_version": "1.2.0",
      "model_name": "DescriptionStyleModel",
      "state": {
       "description_width": ""
      }
     },
     "37351833a383403a8e733c44fe113722": {
      "model_module": "@jupyter-widgets/controls",
      "model_module_version": "1.2.0",
      "model_name": "DescriptionStyleModel",
      "state": {
       "description_width": ""
      }
     },
     "3740367e82114ac0867ceff7419ad308": {
      "model_module": "@jupyter-widgets/controls",
      "model_module_version": "1.2.0",
      "model_name": "DescriptionStyleModel",
      "state": {
       "description_width": ""
      }
     },
     "3758c09e14954600925e05eea2a1b77d": {
      "model_module": "@jupyter-widgets/controls",
      "model_module_version": "1.2.0",
      "model_name": "LabelModel",
      "state": {
       "layout": "IPY_MODEL_df7efed26bc843a0b8b7a6cc21254873",
       "style": "IPY_MODEL_53c7271f3a014807b3d6879e52a54b17",
       "value": "Line Style :"
      }
     },
     "37eb91dfeedf49ab8f1d50519c9c68ab": {
      "model_module": "@jupyter-widgets/base",
      "model_module_version": "1.0.0",
      "model_name": "LayoutModel",
      "state": {
       "justify_content": "center",
       "padding": "0px 20px 5px 0px"
      }
     },
     "37f2348ef91c4992a667f2eec8dbbaf8": {
      "model_module": "@jupyter-widgets/controls",
      "model_module_version": "1.2.0",
      "model_name": "ToggleButtonsStyleModel",
      "state": {
       "button_width": "",
       "description_width": ""
      }
     },
     "37fff3b12aac4a6ba5abe966c1c86067": {
      "model_module": "@jupyter-widgets/base",
      "model_module_version": "1.0.0",
      "model_name": "LayoutModel",
      "state": {
       "justify_content": "center",
       "padding": "0px 20px 5px 0px"
      }
     },
     "38002364830748fab569f6cf329afb8b": {
      "model_module": "@jupyter-widgets/base",
      "model_module_version": "1.0.0",
      "model_name": "LayoutModel",
      "state": {
       "justify_content": "center",
       "margin": "0 0 15px 0"
      }
     },
     "384a328a4bca4cf98dc05fc75ed28896": {
      "model_module": "@jupyter-widgets/controls",
      "model_module_version": "1.2.0",
      "model_name": "SliderStyleModel",
      "state": {
       "description_width": ""
      }
     },
     "3888c3403b134fffaf8ee9e548b3221e": {
      "model_module": "@jupyter-widgets/controls",
      "model_module_version": "1.2.0",
      "model_name": "LabelModel",
      "state": {
       "layout": "IPY_MODEL_33f19c4567c44217aaf5000b2a9be423",
       "style": "IPY_MODEL_72dcfb06197140d79230a9d50d176214",
       "value": "Shape :"
      }
     },
     "388b2c0164144fd9885db7bb2eb12d27": {
      "model_module": "@jupyter-widgets/base",
      "model_module_version": "1.0.0",
      "model_name": "LayoutModel",
      "state": {}
     },
     "3924b2ea928c4484b4ae4fa11f1ad7b5": {
      "model_module": "@jupyter-widgets/base",
      "model_module_version": "1.0.0",
      "model_name": "LayoutModel",
      "state": {}
     },
     "392b2e467057440fbb390b5d7391f4e0": {
      "model_module": "@jupyter-widgets/controls",
      "model_module_version": "1.2.0",
      "model_name": "DescriptionStyleModel",
      "state": {
       "description_width": ""
      }
     },
     "393b96da3b114b73ba7689827277d8c2": {
      "model_module": "@jupyter-widgets/controls",
      "model_module_version": "1.2.0",
      "model_name": "HBoxModel",
      "state": {
       "children": [
        "IPY_MODEL_822f5b14fe4548c08d1f667e3350c96e",
        "IPY_MODEL_4f7a86bc342a4e9783dcd1329fe68b7e"
       ],
       "layout": "IPY_MODEL_003ec4b6d9ac4bc88c47fdd9aea5cea0"
      }
     },
     "39769178e880483ca03a3b7ef07d24a6": {
      "model_module": "@jupyter-widgets/base",
      "model_module_version": "1.0.0",
      "model_name": "LayoutModel",
      "state": {
       "align_items": "center"
      }
     },
     "397ef09416f845a7b518b8b7f849d704": {
      "model_module": "@jupyter-widgets/controls",
      "model_module_version": "1.2.0",
      "model_name": "ColorPickerModel",
      "state": {
       "disabled": false,
       "layout": "IPY_MODEL_ad45c8ec90c244dab2b7bc314f3ed713",
       "style": "IPY_MODEL_75388cb81de24eb79a2f6887683ef992"
      }
     },
     "39c52f65b8d04017b27ffb8d2633dad1": {
      "model_module": "@jupyter-widgets/base",
      "model_module_version": "1.0.0",
      "model_name": "LayoutModel",
      "state": {}
     },
     "39cbfe0385794cf4a49bc70c32da9c9d": {
      "model_module": "@jupyter-widgets/base",
      "model_module_version": "1.0.0",
      "model_name": "LayoutModel",
      "state": {}
     },
     "3a35f03a4b404951a9b42ea65a84466b": {
      "model_module": "@jupyter-widgets/controls",
      "model_module_version": "1.2.0",
      "model_name": "HTMLModel",
      "state": {
       "layout": "IPY_MODEL_c0b51654a91d44ddb973508db8c722b8",
       "style": "IPY_MODEL_cfd34b87f75e4231acae426ca18c76dc",
       "value": "<h4 style='color: purple' >Edges</h4>"
      }
     },
     "3a412e589c19481681d08046eae9ebee": {
      "model_module": "@jupyter-widgets/controls",
      "model_module_version": "1.2.0",
      "model_name": "ButtonModel",
      "state": {
       "button_style": "danger",
       "description": "Delete",
       "layout": "IPY_MODEL_a677c326c4f94794963b7a9aa268bdbc",
       "style": "IPY_MODEL_9ca4e411bf8147a9a592a8b860c1b45c"
      }
     },
     "3a79b8f661a14fd9a03b4926e2b37aa4": {
      "model_module": "@jupyter-widgets/controls",
      "model_module_version": "1.2.0",
      "model_name": "HBoxModel",
      "state": {
       "children": [
        "IPY_MODEL_326c9a0a7add4ea0a765e4f9a298821b"
       ],
       "layout": "IPY_MODEL_017287db4ed746c99d186d9c871ff763"
      }
     },
     "3a88bbfb4703478b96a5e3eaa9301fe4": {
      "model_module": "@jupyter-widgets/controls",
      "model_module_version": "1.2.0",
      "model_name": "ToggleButtonModel",
      "state": {
       "button_style": "primary",
       "description": "Box",
       "layout": "IPY_MODEL_71408e036e784ab69ffbbeb60e34a394",
       "style": "IPY_MODEL_ea697c90348a4b0e9dbf16dba32e2a7c"
      }
     },
     "3ab9a4fcaf044d269bf0843e4d229cf1": {
      "model_module": "@jupyter-widgets/base",
      "model_module_version": "1.0.0",
      "model_name": "LayoutModel",
      "state": {}
     },
     "3abfcf4b0aec4e87a8c413663a356000": {
      "model_module": "@jupyter-widgets/controls",
      "model_module_version": "1.2.0",
      "model_name": "DescriptionStyleModel",
      "state": {
       "description_width": ""
      }
     },
     "3ad461e4ef034d479f0294251c0bfb98": {
      "model_module": "@jupyter-widgets/base",
      "model_module_version": "1.0.0",
      "model_name": "LayoutModel",
      "state": {}
     },
     "3b0569a934cc4c6c94a590d7f1fbd030": {
      "model_module": "@jupyter-widgets/controls",
      "model_module_version": "1.2.0",
      "model_name": "HTMLModel",
      "state": {
       "layout": "IPY_MODEL_0ff5cb87f36844ed94d6941b01c007c3",
       "style": "IPY_MODEL_40903037975848a5b30f2809f3dd3f83",
       "value": "<h5>Fill out the info below to upload data to <a href='http://www.ndexbio.org/'>NDEx</a></h5>"
      }
     },
     "3b201d3717324a7f941638fd1844d0e5": {
      "model_module": "@jupyter-widgets/base",
      "model_module_version": "1.0.0",
      "model_name": "LayoutModel",
      "state": {
       "padding": "10px 0px 0px 0px"
      }
     },
     "3b534ac28959431a823adc7c9ed437bf": {
      "model_module": "@jupyter-widgets/controls",
      "model_module_version": "1.2.0",
      "model_name": "HTMLModel",
      "state": {
       "layout": "IPY_MODEL_8f104f0210624569b820c4e043820bbd",
       "style": "IPY_MODEL_a8ce102c549c4ab0985c20cd59cb4270",
       "value": "<p>&nbsp&nbsp&nbsp&nbsp&nbsp</p>"
      }
     },
     "3b5493419c374373b7d84c9e8be44536": {
      "model_module": "@jupyter-widgets/base",
      "model_module_version": "1.0.0",
      "model_name": "LayoutModel",
      "state": {}
     },
     "3b814a581a174893a7c06eb59148595e": {
      "model_module": "@jupyter-widgets/controls",
      "model_module_version": "1.2.0",
      "model_name": "VBoxModel",
      "state": {
       "children": [
        "IPY_MODEL_192b19365707438d9faa69204905391b",
        "IPY_MODEL_d03e837257d34254bf3cc2834980f3c8"
       ],
       "layout": "IPY_MODEL_8ad6660c1773471187d657c505b60c67"
      }
     },
     "3ba424e050e44b80af67ee3a9c77df48": {
      "model_module": "@jupyter-widgets/controls",
      "model_module_version": "1.2.0",
      "model_name": "DescriptionStyleModel",
      "state": {
       "description_width": ""
      }
     },
     "3bc6e74e661544b2aa407379c12cce0b": {
      "model_module": "@jupyter-widgets/base",
      "model_module_version": "1.0.0",
      "model_name": "LayoutModel",
      "state": {}
     },
     "3bf645210a4647c991fd8dab571f174d": {
      "model_module": "@jupyter-widgets/controls",
      "model_module_version": "1.2.0",
      "model_name": "DropdownModel",
      "state": {
       "_options_labels": [
        "none",
        "triangle",
        "tee",
        "diamond",
        "square",
        "circle",
        "vee",
        "triangle-tee"
       ],
       "index": 0,
       "layout": "IPY_MODEL_29b3408ad20148fd8037d847437378e2",
       "style": "IPY_MODEL_dc5fcc2ddd4e4309b6bae6ee09294940"
      }
     },
     "3c108818f8b94d37b7c11fada09a0a9b": {
      "model_module": "@jupyter-widgets/controls",
      "model_module_version": "1.2.0",
      "model_name": "ButtonStyleModel",
      "state": {}
     },
     "3c129ff42d8c41a6abe93d66dbcc3786": {
      "model_module": "@jupyter-widgets/controls",
      "model_module_version": "1.2.0",
      "model_name": "DescriptionStyleModel",
      "state": {
       "description_width": ""
      }
     },
     "3c6e8a0ba4c94a36aa2c44a729cdea05": {
      "model_module": "@jupyter-widgets/controls",
      "model_module_version": "1.2.0",
      "model_name": "TextModel",
      "state": {
       "continuous_update": false,
       "description": "Search :",
       "layout": "IPY_MODEL_5309e327e4fc431db2b0b49bb13989cd",
       "style": "IPY_MODEL_a46fcf36b9e34e9185f158506152906b"
      }
     },
     "3c93fe5c3b2644de89b70b1bb6933e8a": {
      "model_module": "@jupyter-widgets/controls",
      "model_module_version": "1.2.0",
      "model_name": "HBoxModel",
      "state": {
       "children": [
        "IPY_MODEL_86d76496882f4024b1596e8cc0f019f3"
       ],
       "layout": "IPY_MODEL_e8a1f90c3ede4ab4ab5df96763d2e099"
      }
     },
     "3cb64e35421e4dee88e85411bf953443": {
      "model_module": "@jupyter-widgets/base",
      "model_module_version": "1.0.0",
      "model_name": "LayoutModel",
      "state": {
       "display": "none"
      }
     },
     "3cc686a6296c4c99bb2f5b9b96ae1c12": {
      "model_module": "@jupyter-widgets/base",
      "model_module_version": "1.0.0",
      "model_name": "LayoutModel",
      "state": {
       "display": "none"
      }
     },
     "3cc904739514411ab5484f122bd0d3f4": {
      "model_module": "@jupyter-widgets/base",
      "model_module_version": "1.0.0",
      "model_name": "LayoutModel",
      "state": {
       "width": "auto"
      }
     },
     "3cd1f013f3b141d0adbbafb7f4380c1a": {
      "model_module": "@jupyter-widgets/base",
      "model_module_version": "1.0.0",
      "model_name": "LayoutModel",
      "state": {}
     },
     "3ceede669c1844638b7159b5f17f269a": {
      "model_module": "@jupyter-widgets/base",
      "model_module_version": "1.0.0",
      "model_name": "LayoutModel",
      "state": {
       "visibility": "hidden"
      }
     },
     "3cf82538478a479f906f8a9bca8d96c9": {
      "model_module": "@jupyter-widgets/base",
      "model_module_version": "1.0.0",
      "model_name": "LayoutModel",
      "state": {
       "align_items": "center"
      }
     },
     "3d18477b928f4edfa569ed87589d0f5f": {
      "model_module": "@jupyter-widgets/controls",
      "model_module_version": "1.2.0",
      "model_name": "LabelModel",
      "state": {
       "layout": "IPY_MODEL_76bc95aba1fd4e01b697f1c74f69c350",
       "style": "IPY_MODEL_99a0f15e3079455d8104ffbef13879d1",
       "value": "Size :"
      }
     },
     "3d239f3d32774907b0fc446cbae94e40": {
      "model_module": "@jupyter-widgets/controls",
      "model_module_version": "1.2.0",
      "model_name": "DescriptionStyleModel",
      "state": {
       "description_width": ""
      }
     },
     "3d2cdd1a3a01432daf97cbd6aa9ded33": {
      "model_module": "@jupyter-widgets/controls",
      "model_module_version": "1.2.0",
      "model_name": "DescriptionStyleModel",
      "state": {
       "description_width": ""
      }
     },
     "3d3c2f3008c1468f8ea01819d5fc8941": {
      "model_module": "@jupyter-widgets/controls",
      "model_module_version": "1.2.0",
      "model_name": "DescriptionStyleModel",
      "state": {
       "description_width": ""
      }
     },
     "3d52785eefe44b91aee921b3603ec535": {
      "model_module": "@jupyter-widgets/controls",
      "model_module_version": "1.2.0",
      "model_name": "HBoxModel",
      "state": {
       "children": [
        "IPY_MODEL_e4df364c77924080abbfc66becf1b08e",
        "IPY_MODEL_0ce86f67d6ed4c3b82210ccac035f799"
       ],
       "layout": "IPY_MODEL_9ec86b2849eb401aa79287ceb1a59058"
      }
     },
     "3d7054bcfa7a4551868410605c8ed0e8": {
      "model_module": "@jupyter-widgets/controls",
      "model_module_version": "1.2.0",
      "model_name": "DescriptionStyleModel",
      "state": {
       "description_width": ""
      }
     },
     "3d84219f33204904906ca591684c0107": {
      "model_module": "@jupyter-widgets/controls",
      "model_module_version": "1.2.0",
      "model_name": "HBoxModel",
      "state": {
       "children": [
        "IPY_MODEL_341bf50333254183a56639bf61939d79",
        "IPY_MODEL_c2973c014a264e82944be60c011dc98a"
       ],
       "layout": "IPY_MODEL_7efb869183144d4e9f13fa6ffc914368"
      }
     },
     "3d9f290e1b57458cb4ed88da5e91c01d": {
      "model_module": "@jupyter-widgets/base",
      "model_module_version": "1.0.0",
      "model_name": "LayoutModel",
      "state": {
       "padding": "0 15px 0 35px"
      }
     },
     "3dad40ab8a914b84871c42dd89a735cb": {
      "model_module": "@jupyter-widgets/controls",
      "model_module_version": "1.2.0",
      "model_name": "SliderStyleModel",
      "state": {
       "description_width": ""
      }
     },
     "3dd5ecdc5d8e4c82a02eb0ddbf2efd36": {
      "model_module": "@jupyter-widgets/base",
      "model_module_version": "1.0.0",
      "model_name": "LayoutModel",
      "state": {}
     },
     "3dff4bbcd64f4ba4afd6c8f92a0e16a2": {
      "model_module": "@jupyter-widgets/base",
      "model_module_version": "1.0.0",
      "model_name": "LayoutModel",
      "state": {}
     },
     "3e0db2de189940c5b484d3ac5a4aff07": {
      "model_module": "@jupyter-widgets/controls",
      "model_module_version": "1.2.0",
      "model_name": "DescriptionStyleModel",
      "state": {
       "description_width": ""
      }
     },
     "3e34d599d5fe4f1db0f820ae3d8cd9f5": {
      "model_module": "@jupyter-widgets/controls",
      "model_module_version": "1.2.0",
      "model_name": "DescriptionStyleModel",
      "state": {
       "description_width": ""
      }
     },
     "3e3797ff9814475ba607476eb84893fb": {
      "model_module": "@jupyter-widgets/base",
      "model_module_version": "1.0.0",
      "model_name": "LayoutModel",
      "state": {}
     },
     "3e3b675bfbc342ada287ae5e8036047e": {
      "model_module": "@jupyter-widgets/controls",
      "model_module_version": "1.2.0",
      "model_name": "ToggleButtonsStyleModel",
      "state": {
       "button_width": "",
       "description_width": ""
      }
     },
     "3e606124019249658e500766422e3ab0": {
      "model_module": "@jupyter-widgets/base",
      "model_module_version": "1.0.0",
      "model_name": "LayoutModel",
      "state": {}
     },
     "3ea97f818ac9439f8d807f621c9fef5d": {
      "model_module": "@jupyter-widgets/controls",
      "model_module_version": "1.2.0",
      "model_name": "DescriptionStyleModel",
      "state": {
       "description_width": ""
      }
     },
     "3eb52ad943874c73afd837820fedddc4": {
      "model_module": "@jupyter-widgets/base",
      "model_module_version": "1.0.0",
      "model_name": "LayoutModel",
      "state": {}
     },
     "3ed2c295c689485f971f1165d0f7e79b": {
      "model_module": "@jupyter-widgets/base",
      "model_module_version": "1.0.0",
      "model_name": "LayoutModel",
      "state": {
       "padding": "0px 0px 10px 0px"
      }
     },
     "3ee33d3370134bb19167ebce98c90e7b": {
      "model_module": "@jupyter-widgets/base",
      "model_module_version": "1.0.0",
      "model_name": "LayoutModel",
      "state": {
       "align_items": "center"
      }
     },
     "3eef2ba335d24af18e536056e4e5593b": {
      "model_module": "@jupyter-widgets/controls",
      "model_module_version": "1.2.0",
      "model_name": "HBoxModel",
      "state": {
       "children": [
        "IPY_MODEL_c4c3e5df68604c75a836ff8362a290db",
        "IPY_MODEL_9cf956316255472298d895695ac19f44",
        "IPY_MODEL_2c05ecf1818349d28c3cd568b724d785",
        "IPY_MODEL_f7daad5e8f5a4e79b38a8274f80c3c0c"
       ],
       "layout": "IPY_MODEL_1074f3a48ab2448f8d28e1d8510a07e6"
      }
     },
     "3ef181973e734400974bf230e102531f": {
      "model_module": "@jupyter-widgets/base",
      "model_module_version": "1.0.0",
      "model_name": "LayoutModel",
      "state": {
       "visibility": "hidden"
      }
     },
     "3f05915d259a4995a882846119095744": {
      "model_module": "@jupyter-widgets/controls",
      "model_module_version": "1.2.0",
      "model_name": "DescriptionStyleModel",
      "state": {
       "description_width": ""
      }
     },
     "3f215acb62af40d4b08682b5c124877c": {
      "model_module": "@jupyter-widgets/controls",
      "model_module_version": "1.2.0",
      "model_name": "VBoxModel",
      "state": {
       "children": [
        "IPY_MODEL_4ca5f49fc5f54b4888a2bd7ab248d4f5",
        "IPY_MODEL_7839df68dfaa4f4c9ef0750a81d02743",
        "IPY_MODEL_2006a5454f3e4f03bfec1a42ea3e0635",
        "IPY_MODEL_91e60f7649b0472aade70f696b57f2f9"
       ],
       "layout": "IPY_MODEL_a495e6288b5043e2bdb0b00407c2ce94"
      }
     },
     "3f5cec33d9d94ee9a1bd89f1e70bad07": {
      "model_module": "@jupyter-widgets/controls",
      "model_module_version": "1.2.0",
      "model_name": "VBoxModel",
      "state": {
       "children": [
        "IPY_MODEL_e252ae4a8be145e6aca3b722dde36638",
        "IPY_MODEL_d3f4c474204c4b88a2d35ff313bb0592",
        "IPY_MODEL_438dca73e0dc46c687eae865d13b3ccc"
       ],
       "layout": "IPY_MODEL_32f2840768cd4011a7e8e24a9638308e"
      }
     },
     "3ff1d36bb90e43e291234e89ed9116cd": {
      "model_module": "@jupyter-widgets/controls",
      "model_module_version": "1.2.0",
      "model_name": "HBoxModel",
      "state": {
       "children": [
        "IPY_MODEL_63ee0c9a519e4eb6878539c932c1d7a6",
        "IPY_MODEL_ed6ba6ea435b43ba9286fef19afcdc92"
       ],
       "layout": "IPY_MODEL_78c28b021378427d8c926d60333f5af1"
      }
     },
     "40404a82634c46319e7df08168d49ce8": {
      "model_module": "@jupyter-widgets/base",
      "model_module_version": "1.0.0",
      "model_name": "LayoutModel",
      "state": {}
     },
     "4067cbaad04f48148cb4106b4c3c5ac2": {
      "model_module": "@jupyter-widgets/controls",
      "model_module_version": "1.2.0",
      "model_name": "VBoxModel",
      "state": {
       "children": [
        "IPY_MODEL_811076646db740239dbdd20cf822c393",
        "IPY_MODEL_d934608c459e4e5685b39f85284aa663"
       ],
       "layout": "IPY_MODEL_9ba44e2f9a5a45fca60b278ff8793f71"
      }
     },
     "406a88d7a96947b896252c1d9547c969": {
      "model_module": "@jupyter-widgets/controls",
      "model_module_version": "1.2.0",
      "model_name": "TextModel",
      "state": {
       "layout": "IPY_MODEL_6bcf2ae7fdd3478480a651f444832d2f",
       "placeholder": "Variable Name:",
       "style": "IPY_MODEL_1800e6bbeb5049c89220a13306d38ab9"
      }
     },
     "4080e98adcfc491b9d4d9e9d7b8e74e2": {
      "model_module": "@jupyter-widgets/base",
      "model_module_version": "1.0.0",
      "model_name": "LayoutModel",
      "state": {
       "justify_content": "center",
       "padding": "10px 0px 0px 0px"
      }
     },
     "408320c39bef4fa3bc264f6f402a1065": {
      "model_module": "@jupyter-widgets/base",
      "model_module_version": "1.0.0",
      "model_name": "LayoutModel",
      "state": {
       "padding": "10px 0px 0px 0px"
      }
     },
     "40903037975848a5b30f2809f3dd3f83": {
      "model_module": "@jupyter-widgets/controls",
      "model_module_version": "1.2.0",
      "model_name": "DescriptionStyleModel",
      "state": {
       "description_width": ""
      }
     },
     "409e01b987a646c28c4359418b4a05f2": {
      "model_module": "@jupyter-widgets/controls",
      "model_module_version": "1.2.0",
      "model_name": "ColorPickerModel",
      "state": {
       "disabled": false,
       "layout": "IPY_MODEL_fadbec5db4ce4314a98ed872e990a19a",
       "style": "IPY_MODEL_07d58491232241b0b317d48755b4ba04"
      }
     },
     "41414d5544a4453891e8cdd816d81c86": {
      "model_module": "@jupyter-widgets/base",
      "model_module_version": "1.0.0",
      "model_name": "LayoutModel",
      "state": {
       "padding": "10px 0px 0px 0px"
      }
     },
     "4147287300fa432d810c09eee59909b5": {
      "model_module": "@jupyter-widgets/controls",
      "model_module_version": "1.2.0",
      "model_name": "ButtonStyleModel",
      "state": {}
     },
     "414e8e21e7aa45ea86ec668e0aff943d": {
      "model_module": "@jupyter-widgets/base",
      "model_module_version": "1.0.0",
      "model_name": "LayoutModel",
      "state": {}
     },
     "414fd118a2d14cbda698575297546c7e": {
      "model_module": "@jupyter-widgets/controls",
      "model_module_version": "1.2.0",
      "model_name": "HTMLModel",
      "state": {
       "layout": "IPY_MODEL_b9a135fad52d47039432659e79611b8d",
       "style": "IPY_MODEL_cd6139ed985a4c9d85f01a9e32ab31d5",
       "value": "<h3> </h3>"
      }
     },
     "4153451c6f834b6f9a8eef241e988786": {
      "model_module": "@jupyter-widgets/controls",
      "model_module_version": "1.2.0",
      "model_name": "DescriptionStyleModel",
      "state": {
       "description_width": ""
      }
     },
     "4167d1efb9ec48bd80a4687d6b25220d": {
      "model_module": "@jupyter-widgets/controls",
      "model_module_version": "1.2.0",
      "model_name": "DescriptionStyleModel",
      "state": {
       "description_width": ""
      }
     },
     "4175f3077c584cc5ba5275ca2a24c6f8": {
      "model_module": "@jupyter-widgets/controls",
      "model_module_version": "1.2.0",
      "model_name": "HTMLModel",
      "state": {
       "layout": "IPY_MODEL_e6fcc7cea3bf44eca0a3123190b23ca1",
       "style": "IPY_MODEL_9557b0a43b6e4f38b2a95c6e265cbf72",
       "value": "<h3> </h3>"
      }
     },
     "4198210168dc4ad1b90f2eade04da7d9": {
      "model_module": "@jupyter-widgets/base",
      "model_module_version": "1.0.0",
      "model_name": "LayoutModel",
      "state": {}
     },
     "41a70e93144d4b1c9b494f8912f31f30": {
      "model_module": "@jupyter-widgets/base",
      "model_module_version": "1.0.0",
      "model_name": "LayoutModel",
      "state": {}
     },
     "41dec2cf53f4409b93e66735d415fc88": {
      "model_module": "@jupyter-widgets/controls",
      "model_module_version": "1.2.0",
      "model_name": "DescriptionStyleModel",
      "state": {
       "description_width": ""
      }
     },
     "41e96d1da1494183abbada871b70e037": {
      "model_module": "@jupyter-widgets/controls",
      "model_module_version": "1.2.0",
      "model_name": "HBoxModel",
      "state": {
       "children": [
        "IPY_MODEL_3d18477b928f4edfa569ed87589d0f5f",
        "IPY_MODEL_0af2564589b146f191c6a7467bafcdf8"
       ],
       "layout": "IPY_MODEL_c3d741db6b554e9b9d892822bf607215"
      }
     },
     "4210acc093a84ce49a0b3cf9b1038d05": {
      "model_module": "@jupyter-widgets/base",
      "model_module_version": "1.0.0",
      "model_name": "LayoutModel",
      "state": {
       "padding": "0 15px 0 35px"
      }
     },
     "423493a40486414db3995ab50afa008d": {
      "model_module": "@jupyter-widgets/controls",
      "model_module_version": "1.2.0",
      "model_name": "DropdownModel",
      "state": {
       "index": null,
       "layout": "IPY_MODEL_dd7286d776ee4464b5282657c3eba89b",
       "style": "IPY_MODEL_9c7d40cadf44423ab77b2cc6d0bc4e0e"
      }
     },
     "42498801c37c499eaae79d06b4ad49f3": {
      "model_module": "@jupyter-widgets/controls",
      "model_module_version": "1.2.0",
      "model_name": "ButtonStyleModel",
      "state": {}
     },
     "42999bdbf85b4602b35be9921048f8fb": {
      "model_module": "@jupyter-widgets/controls",
      "model_module_version": "1.2.0",
      "model_name": "HBoxModel",
      "state": {
       "children": [
        "IPY_MODEL_a05cfe6f9f0a487ba6d7a2bff753d9c9",
        "IPY_MODEL_ba3350e2e4dd45c2b87ff9411d1a688c"
       ],
       "layout": "IPY_MODEL_1b8cd85b95ff4e6f802e15fb1725bf03"
      }
     },
     "42d16d4465054781a4646cdc73b8e390": {
      "model_module": "@jupyter-widgets/base",
      "model_module_version": "1.0.0",
      "model_name": "LayoutModel",
      "state": {
       "height": "40px",
       "min_width": "50px",
       "width": "10%"
      }
     },
     "42de4c15906a4aab843d464f67803b22": {
      "model_module": "@jupyter-widgets/controls",
      "model_module_version": "1.2.0",
      "model_name": "LabelModel",
      "state": {
       "layout": "IPY_MODEL_794ad5ed9e304b95970ec7d348029f90",
       "style": "IPY_MODEL_829396f831e646bcbd503e1b5db81c26",
       "value": "Position :"
      }
     },
     "430e6cbde9214071986c583526966ae8": {
      "model_module": "@jupyter-widgets/controls",
      "model_module_version": "1.2.0",
      "model_name": "DescriptionStyleModel",
      "state": {
       "description_width": ""
      }
     },
     "4317fa77f6e4463089594ae97b73c5d5": {
      "model_module": "@jupyter-widgets/controls",
      "model_module_version": "1.2.0",
      "model_name": "DescriptionStyleModel",
      "state": {
       "description_width": ""
      }
     },
     "4319dc5e900a43ee8f31be6ce1e8cd36": {
      "model_module": "@jupyter-widgets/base",
      "model_module_version": "1.0.0",
      "model_name": "LayoutModel",
      "state": {}
     },
     "43367e1cb31d42109e391dab03153c31": {
      "model_module": "@jupyter-widgets/controls",
      "model_module_version": "1.2.0",
      "model_name": "VBoxModel",
      "state": {
       "children": [
        "IPY_MODEL_339c97c6ea36463088e9972a7bc67b0b",
        "IPY_MODEL_f5969753ee1c439b87f84faa8fa9c406",
        "IPY_MODEL_b2fdd33c6dbc4640b6126ee5d5781e9d",
        "IPY_MODEL_a410981ecc2a482e8da232f1b7389f18",
        "IPY_MODEL_2f7df31c312b43268bbf203c44e48720",
        "IPY_MODEL_aee802ffda064402976ee272af7315e8",
        "IPY_MODEL_77f9b0f5d2b04e82ab9bdaa30c94213f",
        "IPY_MODEL_b17f06df972d411098310a29520e83cc",
        "IPY_MODEL_0565ed9ae943428db2176104a04e20ef",
        "IPY_MODEL_4b0d7305591e4dc29a2532b97a48d176",
        "IPY_MODEL_2b98c2e47f1f4556b53fcab9dc59f9c5"
       ],
       "layout": "IPY_MODEL_0f16c37dcadc44838ae65ffbaf4d3cae"
      }
     },
     "438dca73e0dc46c687eae865d13b3ccc": {
      "model_module": "@jupyter-widgets/controls",
      "model_module_version": "1.2.0",
      "model_name": "HTMLModel",
      "state": {
       "layout": "IPY_MODEL_66b5e22a2c4c4f529e1470bb2e7c76fa",
       "style": "IPY_MODEL_789c2da6de394652a89aa4a3eb7cdb66",
       "value": "<h3 class='text-center' style='color:red'>Error in .html File</h3>"
      }
     },
     "43cbf72ff4f748ba8a91aad296d24caf": {
      "model_module": "@jupyter-widgets/controls",
      "model_module_version": "1.2.0",
      "model_name": "HTMLModel",
      "state": {
       "layout": "IPY_MODEL_feb4e739ab554ddd8b748612dbda1ba6",
       "style": "IPY_MODEL_cee917b331684e0ab4d741204eb3397d",
       "value": "<h2 class='text-danger text-center'>Coming Soon! Wait for Update</h2>"
      }
     },
     "43d30f064d504eb784fc71c19ceb2a61": {
      "model_module": "@jupyter-widgets/base",
      "model_module_version": "1.0.0",
      "model_name": "LayoutModel",
      "state": {
       "padding": "0 15px 0 35px"
      }
     },
     "43e0d7300844411e9c0e7a2ab4c5d47b": {
      "model_module": "@jupyter-widgets/base",
      "model_module_version": "1.0.0",
      "model_name": "LayoutModel",
      "state": {
       "justify_content": "center",
       "padding": "0px 0px 10px 0px"
      }
     },
     "441af8e95243409493bbba04935c9e75": {
      "model_module": "@jupyter-widgets/controls",
      "model_module_version": "1.2.0",
      "model_name": "ButtonStyleModel",
      "state": {}
     },
     "4441cb8255524c3ea9790403cada8d8e": {
      "model_module": "@jupyter-widgets/controls",
      "model_module_version": "1.2.0",
      "model_name": "LabelModel",
      "state": {
       "layout": "IPY_MODEL_dfd22c654a604e539ffec25918548d98",
       "style": "IPY_MODEL_89eade89d23e44ad862aa84380020b37",
       "value": "Color :"
      }
     },
     "444ebee5cb7a46e983d5e6f510c8bae7": {
      "model_module": "@jupyter-widgets/controls",
      "model_module_version": "1.2.0",
      "model_name": "HTMLModel",
      "state": {
       "layout": "IPY_MODEL_4fad3e3fc078426db1b130416d8d3842",
       "style": "IPY_MODEL_bb5e07ecc6aa4ecdb0f45675e077b65a",
       "value": "<h1 class='text-center text-success' style='margin:0'>Saved!</h1>"
      }
     },
     "44710153b3504e62ab7d07ea1c49ece8": {
      "model_module": "@jupyter-widgets/controls",
      "model_module_version": "1.2.0",
      "model_name": "DescriptionStyleModel",
      "state": {
       "description_width": ""
      }
     },
     "4477cd9d140444648d0f02ab981c3600": {
      "model_module": "@jupyter-widgets/controls",
      "model_module_version": "1.2.0",
      "model_name": "VBoxModel",
      "state": {
       "children": [
        "IPY_MODEL_cc7778c35026487fb9255d3354f87eb6",
        "IPY_MODEL_53ba966d174f4f40895837bd46c55d8d",
        "IPY_MODEL_a1991582cafb483290c77f91c34dd250",
        "IPY_MODEL_5944c81c490d4b5fa036db1f0cc7a3ce"
       ],
       "layout": "IPY_MODEL_ac5bf7720b144e79ad99f903e1678d64"
      }
     },
     "44f64724289e48288e8c0c1cc0ca1f8f": {
      "model_module": "@jupyter-widgets/base",
      "model_module_version": "1.0.0",
      "model_name": "LayoutModel",
      "state": {
       "width": "auto"
      }
     },
     "45015035fcc8460b8baf7320532d8905": {
      "model_module": "@jupyter-widgets/base",
      "model_module_version": "1.0.0",
      "model_name": "LayoutModel",
      "state": {
       "align_items": "center"
      }
     },
     "450eb1fd6e52463e8e14c95c4f43e782": {
      "model_module": "@jupyter-widgets/base",
      "model_module_version": "1.0.0",
      "model_name": "LayoutModel",
      "state": {}
     },
     "4532cd863e0e488d95e58df9cc95153c": {
      "model_module": "@jupyter-widgets/base",
      "model_module_version": "1.0.0",
      "model_name": "LayoutModel",
      "state": {
       "padding": "10px 0px 0px 0px"
      }
     },
     "455a8d366b7849d9b272d06bfde5844a": {
      "model_module": "@jupyter-widgets/controls",
      "model_module_version": "1.2.0",
      "model_name": "DescriptionStyleModel",
      "state": {
       "description_width": ""
      }
     },
     "455ced24295d4623acd5d5ee6d147542": {
      "model_module": "@jupyter-widgets/base",
      "model_module_version": "1.0.0",
      "model_name": "LayoutModel",
      "state": {}
     },
     "45645fa43bd541fc8fbd203689b6f161": {
      "model_module": "@jupyter-widgets/controls",
      "model_module_version": "1.2.0",
      "model_name": "HTMLModel",
      "state": {
       "layout": "IPY_MODEL_5765b49b3c754233b31aa0cf369d0231",
       "style": "IPY_MODEL_67f0c9143dec4d9abf93dde22b599b99",
       "value": "<h4 style='color: DarkKhaki'>Nodes</h4>"
      }
     },
     "45bdbb766b584613bec5c252bf08e2cb": {
      "model_module": "@jupyter-widgets/base",
      "model_module_version": "1.0.0",
      "model_name": "LayoutModel",
      "state": {
       "width": "auto"
      }
     },
     "460140af90a14fda8dae7a6516f2cd06": {
      "model_module": "@jupyter-widgets/controls",
      "model_module_version": "1.2.0",
      "model_name": "DescriptionStyleModel",
      "state": {
       "description_width": ""
      }
     },
     "466f3a68ba1042e299ea3003b8eec83f": {
      "model_module": "@jupyter-widgets/controls",
      "model_module_version": "1.2.0",
      "model_name": "VBoxModel",
      "state": {
       "children": [
        "IPY_MODEL_e076ac0416f64477a20c28d864664e33",
        "IPY_MODEL_cc0d46c8e5ab44339b47bf18f3061aa9",
        "IPY_MODEL_3a79b8f661a14fd9a03b4926e2b37aa4",
        "IPY_MODEL_c6caa9afc9544c1980167ad79fd7e0f6"
       ],
       "layout": "IPY_MODEL_786755a3929243e2a01d36699f08ed96"
      }
     },
     "4688ed0865284102a1082232b86d46bb": {
      "model_module": "@jupyter-widgets/controls",
      "model_module_version": "1.2.0",
      "model_name": "HBoxModel",
      "state": {
       "children": [
        "IPY_MODEL_2539e913683c43e2a0b05592bf1a0e69",
        "IPY_MODEL_6b63028939f6456c93101542461aed78"
       ],
       "layout": "IPY_MODEL_2286b9d8a3354205a17e1fb3d23a52e9"
      }
     },
     "46952d72385b4138bf04a069591216e5": {
      "model_module": "@jupyter-widgets/base",
      "model_module_version": "1.0.0",
      "model_name": "LayoutModel",
      "state": {}
     },
     "46e39c6fe3ed46c68db67e169d0012e2": {
      "model_module": "@jupyter-widgets/base",
      "model_module_version": "1.0.0",
      "model_name": "LayoutModel",
      "state": {}
     },
     "473dda2284db41428e992d8ff6be0c6c": {
      "model_module": "@jupyter-widgets/base",
      "model_module_version": "1.0.0",
      "model_name": "LayoutModel",
      "state": {}
     },
     "476d08c7e90842b4b546435346b76777": {
      "model_module": "@jupyter-widgets/controls",
      "model_module_version": "1.2.0",
      "model_name": "HTMLModel",
      "state": {
       "layout": "IPY_MODEL_dc3880a2c8bd42c8aff07a543d332e22",
       "style": "IPY_MODEL_5e5018ff85fa4101a119865a2561ba1b",
       "value": "<h5>Paste the <a>NDEx URL</a> of the dataset to download :</h5>"
      }
     },
     "478bfbf3c14b491db69c0cff971a771b": {
      "model_module": "@jupyter-widgets/controls",
      "model_module_version": "1.2.0",
      "model_name": "DescriptionStyleModel",
      "state": {
       "description_width": ""
      }
     },
     "47a70d67be014af3a00740110d643dac": {
      "model_module": "@jupyter-widgets/base",
      "model_module_version": "1.0.0",
      "model_name": "LayoutModel",
      "state": {}
     },
     "47ebe9396f6243428a960daacf86410a": {
      "model_module": "@jupyter-widgets/controls",
      "model_module_version": "1.2.0",
      "model_name": "TextModel",
      "state": {
       "description": "URL :",
       "layout": "IPY_MODEL_b4d3d577d32c49c1b7be64c4c4ff842e",
       "style": "IPY_MODEL_169299251380481dba503a49799b34e8"
      }
     },
     "483c2bc943674107a89ad5abd5496fc2": {
      "model_module": "@jupyter-widgets/controls",
      "model_module_version": "1.2.0",
      "model_name": "DescriptionStyleModel",
      "state": {
       "description_width": ""
      }
     },
     "486e8d7527664ba9a6ca6277204812a3": {
      "model_module": "@jupyter-widgets/base",
      "model_module_version": "1.0.0",
      "model_name": "LayoutModel",
      "state": {
       "width": "auto"
      }
     },
     "48fabedd6c394144b28c8e238ef4de7f": {
      "model_module": "@jupyter-widgets/base",
      "model_module_version": "1.0.0",
      "model_name": "LayoutModel",
      "state": {
       "padding": "0px 0px 10px 0px"
      }
     },
     "49011a7f4aa94ae398a1e1a115d54fb1": {
      "model_module": "@jupyter-widgets/controls",
      "model_module_version": "1.2.0",
      "model_name": "ButtonStyleModel",
      "state": {}
     },
     "491454b7afdb45ee9a34de5d3fe795a2": {
      "model_module": "@jupyter-widgets/controls",
      "model_module_version": "1.2.0",
      "model_name": "HTMLModel",
      "state": {
       "layout": "IPY_MODEL_9e93e5f1953c4bd2ace0457b8f10208c",
       "style": "IPY_MODEL_c836b87fb1b941e68a0114270cd579a4",
       "value": "<h3> </h3>"
      }
     },
     "4926063eb71746fcbe7108fbcb431f36": {
      "model_module": "@jupyter-widgets/controls",
      "model_module_version": "1.2.0",
      "model_name": "DescriptionStyleModel",
      "state": {
       "description_width": ""
      }
     },
     "493fcd6d92474d46bb3950eb609b9188": {
      "model_module": "@jupyter-widgets/base",
      "model_module_version": "1.0.0",
      "model_name": "LayoutModel",
      "state": {
       "width": "auto"
      }
     },
     "495a40d267ec411abae1cd2f367075c5": {
      "model_module": "@jupyter-widgets/controls",
      "model_module_version": "1.2.0",
      "model_name": "PasswordModel",
      "state": {
       "description": "Password :",
       "layout": "IPY_MODEL_eaffb871a9684b3884b2620839dc2856",
       "style": "IPY_MODEL_54f7db18b62d4a59a754ab94662e2405"
      }
     },
     "495b92d54b9f4214a87cad5d049fc623": {
      "model_module": "@jupyter-widgets/base",
      "model_module_version": "1.0.0",
      "model_name": "LayoutModel",
      "state": {
       "padding": "10px 0px 0px 0px"
      }
     },
     "4987c7e79c494ef4bc492870b5e4a682": {
      "model_module": "@jupyter-widgets/base",
      "model_module_version": "1.0.0",
      "model_name": "LayoutModel",
      "state": {
       "width": "auto"
      }
     },
     "49a315ec3cd74eaea55dcbfe21850054": {
      "model_module": "@jupyter-widgets/controls",
      "model_module_version": "1.2.0",
      "model_name": "VBoxModel",
      "state": {
       "children": [
        "IPY_MODEL_5233b5cd43d84f299da5c1930068c0cc",
        "IPY_MODEL_4dac878b47d84ccba278bacb5512fa5d",
        "IPY_MODEL_c0a99968b0444c0690d64c9f3ed8a046",
        "IPY_MODEL_53bd7f4f80734aa288f4182c16b45f85"
       ],
       "layout": "IPY_MODEL_648eef3826c540d8a30b0ae5e9792bf2"
      }
     },
     "49c0a08ab8d645eb9c222f455e5a6d72": {
      "model_module": "@jupyter-widgets/controls",
      "model_module_version": "1.2.0",
      "model_name": "VBoxModel",
      "state": {
       "children": [
        "IPY_MODEL_97cc6d9e72b9484c9d9b3658107955f5",
        "IPY_MODEL_c54dc2f0c3ad43a3a048472a3661fe92",
        "IPY_MODEL_ff4cd05b0f2d44aea0398e6e8de393fa",
        "IPY_MODEL_912dedb0cc5c42f8ae18de3fc18d968a"
       ],
       "layout": "IPY_MODEL_0296bd2ea6674da59391b9b5dee64fba"
      }
     },
     "49c32afa5b4843e48513dfe103bd72fb": {
      "model_module": "@jupyter-widgets/controls",
      "model_module_version": "1.2.0",
      "model_name": "DescriptionStyleModel",
      "state": {
       "description_width": ""
      }
     },
     "49f1d1e936e241de938ddf2643946060": {
      "model_module": "@jupyter-widgets/controls",
      "model_module_version": "1.2.0",
      "model_name": "DescriptionStyleModel",
      "state": {
       "description_width": ""
      }
     },
     "4a4fe8ce4e08405fb9e5960b74bb55c0": {
      "model_module": "@jupyter-widgets/base",
      "model_module_version": "1.0.0",
      "model_name": "LayoutModel",
      "state": {}
     },
     "4a796024d7824d97a15c7aff875e78ee": {
      "model_module": "@jupyter-widgets/base",
      "model_module_version": "1.0.0",
      "model_name": "LayoutModel",
      "state": {}
     },
     "4a96cef0cef648e0be830ba7a57a2f7b": {
      "model_module": "@jupyter-widgets/controls",
      "model_module_version": "1.2.0",
      "model_name": "DescriptionStyleModel",
      "state": {
       "description_width": ""
      }
     },
     "4ab725507b7a4690a0ba2e008b4ebe75": {
      "model_module": "@jupyter-widgets/base",
      "model_module_version": "1.0.0",
      "model_name": "LayoutModel",
      "state": {
       "width": "auto"
      }
     },
     "4ad151ef66d2487cb59e153b1e3b489d": {
      "model_module": "@jupyter-widgets/controls",
      "model_module_version": "1.2.0",
      "model_name": "SliderStyleModel",
      "state": {
       "description_width": ""
      }
     },
     "4afa40a91afb4b62b92f44c7b0c1c140": {
      "model_module": "@jupyter-widgets/controls",
      "model_module_version": "1.2.0",
      "model_name": "DescriptionStyleModel",
      "state": {
       "description_width": ""
      }
     },
     "4aff07b426f54dd3907c75347d000646": {
      "model_module": "@jupyter-widgets/controls",
      "model_module_version": "1.2.0",
      "model_name": "HTMLModel",
      "state": {
       "layout": "IPY_MODEL_41a70e93144d4b1c9b494f8912f31f30",
       "style": "IPY_MODEL_4d1eccb82bb34095b708dbc3f47fbd7f",
       "value": "<h2 class='text-danger text-center'>Coming Soon! Wait for Update</h2>"
      }
     },
     "4b0d7305591e4dc29a2532b97a48d176": {
      "model_module": "@jupyter-widgets/controls",
      "model_module_version": "1.2.0",
      "model_name": "HBoxModel",
      "state": {
       "children": [
        "IPY_MODEL_c954ee99839d4ec08c68e13220700f42",
        "IPY_MODEL_4c0ef9d02cec45bf972abb6bd9f41cbb"
       ],
       "layout": "IPY_MODEL_c03dfd5be3a44606898c476efc947438"
      }
     },
     "4b40f48535f84c77b839d031e67d6bd7": {
      "model_module": "@jupyter-widgets/base",
      "model_module_version": "1.0.0",
      "model_name": "LayoutModel",
      "state": {}
     },
     "4b6033b51b7045909679f3cab95f5464": {
      "model_module": "@jupyter-widgets/controls",
      "model_module_version": "1.2.0",
      "model_name": "HTMLModel",
      "state": {
       "layout": "IPY_MODEL_2186aa5473324eb4a2937406bbbd2ecf",
       "style": "IPY_MODEL_6a9e5a6c5bad46eda4d4212fb64584be",
       "value": "<hr style='padding: 2px; margin: 2px'>"
      }
     },
     "4bc6ebfa44a44b5aa1ca0237879d28da": {
      "model_module": "@jupyter-widgets/base",
      "model_module_version": "1.0.0",
      "model_name": "LayoutModel",
      "state": {}
     },
     "4bcaee55f4304bb497680dec5d6b23ea": {
      "model_module": "@jupyter-widgets/controls",
      "model_module_version": "1.2.0",
      "model_name": "IntSliderModel",
      "state": {
       "layout": "IPY_MODEL_ef3e77d9afc34a81b76514f073188cb2",
       "max": 60,
       "min": 6,
       "style": "IPY_MODEL_2ee53c61b6244761b66cfcafd6080221",
       "value": 16
      }
     },
     "4c0ef9d02cec45bf972abb6bd9f41cbb": {
      "model_module": "@jupyter-widgets/controls",
      "model_module_version": "1.2.0",
      "model_name": "DropdownModel",
      "state": {
       "_options_labels": [
        "none",
        "triangle",
        "tee",
        "diamond",
        "square",
        "circle",
        "vee",
        "triangle-tee"
       ],
       "index": 0,
       "layout": "IPY_MODEL_81ad91f0065240e18326bae0dcdf55be",
       "style": "IPY_MODEL_9934ae4e4212485e826eaceeac59cd41"
      }
     },
     "4c17eba6f96b431ba2e342ebda483479": {
      "model_module": "@jupyter-widgets/base",
      "model_module_version": "1.0.0",
      "model_name": "LayoutModel",
      "state": {
       "justify_content": "center",
       "padding": "0px 20px 5px 0px"
      }
     },
     "4c333b3f21994a1c9512c7b6ea227254": {
      "model_module": "@jupyter-widgets/base",
      "model_module_version": "1.0.0",
      "model_name": "LayoutModel",
      "state": {}
     },
     "4c57530bc1584ea0a5db4d230a296262": {
      "model_module": "@jupyter-widgets/controls",
      "model_module_version": "1.2.0",
      "model_name": "DescriptionStyleModel",
      "state": {
       "description_width": ""
      }
     },
     "4c7f5f6630044adfb19cd9598740e488": {
      "model_module": "@jupyter-widgets/controls",
      "model_module_version": "1.2.0",
      "model_name": "DescriptionStyleModel",
      "state": {
       "description_width": ""
      }
     },
     "4c85dc69321248a694f0f8531e8e539a": {
      "model_module": "@jupyter-widgets/base",
      "model_module_version": "1.0.0",
      "model_name": "LayoutModel",
      "state": {}
     },
     "4ca5f49fc5f54b4888a2bd7ab248d4f5": {
      "model_module": "@jupyter-widgets/controls",
      "model_module_version": "1.2.0",
      "model_name": "HTMLModel",
      "state": {
       "layout": "IPY_MODEL_c170284b772540ffbeda57bee5e90b92",
       "style": "IPY_MODEL_123178fbe8604ee1bbeb3829119e62ee",
       "value": "<h5>Fill out the info below to upload data to <a href='http://www.ndexbio.org/'>NDEx</a></h5>"
      }
     },
     "4cc00fb99a694372bbc1c435dc11e745": {
      "model_module": "@jupyter-widgets/controls",
      "model_module_version": "1.2.0",
      "model_name": "HBoxModel",
      "state": {
       "children": [
        "IPY_MODEL_3888c3403b134fffaf8ee9e548b3221e",
        "IPY_MODEL_b7f0d625ee11471381f4d971908933c9"
       ],
       "layout": "IPY_MODEL_d29ce59b4cf04505ae467c42b407ca91"
      }
     },
     "4cd3e190829741f8871e3b0d15da2201": {
      "model_module": "@jupyter-widgets/base",
      "model_module_version": "1.0.0",
      "model_name": "LayoutModel",
      "state": {}
     },
     "4cde10bccf7446399af5d0bae34909c0": {
      "model_module": "@jupyter-widgets/controls",
      "model_module_version": "1.2.0",
      "model_name": "DescriptionStyleModel",
      "state": {
       "description_width": ""
      }
     },
     "4cf040a0dc4745999a2a3bbc69e5b75b": {
      "model_module": "@jupyter-widgets/controls",
      "model_module_version": "1.2.0",
      "model_name": "DescriptionStyleModel",
      "state": {
       "description_width": ""
      }
     },
     "4d1eccb82bb34095b708dbc3f47fbd7f": {
      "model_module": "@jupyter-widgets/controls",
      "model_module_version": "1.2.0",
      "model_name": "DescriptionStyleModel",
      "state": {
       "description_width": ""
      }
     },
     "4d4c42e72f094600b8c3655de737c536": {
      "model_module": "@jupyter-widgets/controls",
      "model_module_version": "1.2.0",
      "model_name": "LabelModel",
      "state": {
       "layout": "IPY_MODEL_0f206448a8e54a8e8a69450975e933d4",
       "style": "IPY_MODEL_fb4d1f1251fd4b5e96d4a2b48e486a30",
       "value": "    "
      }
     },
     "4d4e6eb88eac4af28039da51b6bf5d5c": {
      "model_module": "@jupyter-widgets/base",
      "model_module_version": "1.0.0",
      "model_name": "LayoutModel",
      "state": {}
     },
     "4d60d0e5c2b74ae6ac60d145d867eb02": {
      "model_module": "@jupyter-widgets/controls",
      "model_module_version": "1.2.0",
      "model_name": "DescriptionStyleModel",
      "state": {
       "description_width": ""
      }
     },
     "4d7e746f37e14090a607a5b20a22f5da": {
      "model_module": "@jupyter-widgets/controls",
      "model_module_version": "1.2.0",
      "model_name": "DescriptionStyleModel",
      "state": {
       "description_width": ""
      }
     },
     "4d8e2d179b684f348bda9feb65bace36": {
      "model_module": "@jupyter-widgets/controls",
      "model_module_version": "1.2.0",
      "model_name": "TextModel",
      "state": {
       "layout": "IPY_MODEL_c5e2408a1f484a9da85f28cdcff82996",
       "style": "IPY_MODEL_b2f50e5e6a7145b0a88d3088dc6fa9be"
      }
     },
     "4dac878b47d84ccba278bacb5512fa5d": {
      "model_module": "@jupyter-widgets/controls",
      "model_module_version": "1.2.0",
      "model_name": "HBoxModel",
      "state": {
       "children": [
        "IPY_MODEL_955f70dcd5c3466ba92f28b9f590ad05",
        "IPY_MODEL_db1957d482a04e41847b15ebed8161cb"
       ],
       "layout": "IPY_MODEL_f9fd8f49de3c41968555182578b5c1ce"
      }
     },
     "4db8021590dd4dbfaf0de42224e29c89": {
      "model_module": "@jupyter-widgets/base",
      "model_module_version": "1.0.0",
      "model_name": "LayoutModel",
      "state": {
       "margin": "0px 0px 0px 5px",
       "min_width": "30px"
      }
     },
     "4dbf1090a4064b10ba514d09470891af": {
      "model_module": "@jupyter-widgets/base",
      "model_module_version": "1.0.0",
      "model_name": "LayoutModel",
      "state": {
       "justify_content": "center",
       "padding": "10px 0px 0px 0px"
      }
     },
     "4dfcf415fd9a4417acc211e07e7da1a2": {
      "model_module": "@jupyter-widgets/controls",
      "model_module_version": "1.2.0",
      "model_name": "ColorPickerModel",
      "state": {
       "disabled": false,
       "layout": "IPY_MODEL_ca2ff4b4db214048ab7c46efa0f4396e",
       "style": "IPY_MODEL_d50ee1db9b7641758f5fbbef2f2f9fcd"
      }
     },
     "4e0c7e629d1c4c9cb970506769121921": {
      "model_module": "@jupyter-widgets/controls",
      "model_module_version": "1.2.0",
      "model_name": "TextModel",
      "state": {
       "description": "Username :",
       "layout": "IPY_MODEL_b435ced4c07f4709917d8beb7679d522",
       "style": "IPY_MODEL_b440f96ba5854a23a4f4276b355f11bf"
      }
     },
     "4e23ae81b9cc415fa352a2f00341f99a": {
      "model_module": "@jupyter-widgets/base",
      "model_module_version": "1.0.0",
      "model_name": "LayoutModel",
      "state": {
       "justify_content": "center",
       "padding": "10px 0px 0px 0px"
      }
     },
     "4e40f63f3c074d509a2295e438c54ecc": {
      "model_module": "@jupyter-widgets/base",
      "model_module_version": "1.0.0",
      "model_name": "LayoutModel",
      "state": {}
     },
     "4e4db6273d1a47c18b6c1f5633531d7a": {
      "model_module": "@jupyter-widgets/controls",
      "model_module_version": "1.2.0",
      "model_name": "HBoxModel",
      "state": {
       "children": [
        "IPY_MODEL_562acbadb27145c58877934631dc2cc4",
        "IPY_MODEL_8cd4721213024376ae6806e16a0b15fc"
       ],
       "layout": "IPY_MODEL_89e21a5e31084602930314db938826f0"
      }
     },
     "4e5c6ff82a954827a8866c9f3edb200c": {
      "model_module": "@jupyter-widgets/controls",
      "model_module_version": "1.2.0",
      "model_name": "HBoxModel",
      "state": {
       "children": [
        "IPY_MODEL_33fef19bcacf41bca904df8f1517df68",
        "IPY_MODEL_2d06fb857409485aab742d00b99f5772",
        "IPY_MODEL_e63243136b114ac4b0bfafa9024b0e29",
        "IPY_MODEL_c9a8435a56b54804999e06e5d894a718"
       ],
       "layout": "IPY_MODEL_167573cb3a7442cbbacf4206c8e1b2ec"
      }
     },
     "4e9dd30a6a3447cbb7518c22d0f76c74": {
      "model_module": "@jupyter-widgets/base",
      "model_module_version": "1.0.0",
      "model_name": "LayoutModel",
      "state": {}
     },
     "4e9ddf6259f34ae29388de90ec6fc51d": {
      "model_module": "@jupyter-widgets/base",
      "model_module_version": "1.0.0",
      "model_name": "LayoutModel",
      "state": {
       "height": "40px",
       "min_width": "50px",
       "width": "10%"
      }
     },
     "4ec02e4c262e47abbcaf8249acc8e65c": {
      "model_module": "@jupyter-widgets/controls",
      "model_module_version": "1.2.0",
      "model_name": "HBoxModel",
      "state": {
       "children": [
        "IPY_MODEL_56a48cc3d0864613b77ad08768789b2b"
       ],
       "layout": "IPY_MODEL_4e23ae81b9cc415fa352a2f00341f99a"
      }
     },
     "4ecec2649f6344b0bfdb363f275639b5": {
      "model_module": "@jupyter-widgets/base",
      "model_module_version": "1.0.0",
      "model_name": "LayoutModel",
      "state": {}
     },
     "4f0a76fa34cf420fada0a04b187391b0": {
      "model_module": "@jupyter-widgets/controls",
      "model_module_version": "1.2.0",
      "model_name": "HBoxModel",
      "state": {
       "children": [
        "IPY_MODEL_cff921b078d7451bb7b0eb9eef52ace8",
        "IPY_MODEL_8ac48466fbdd4c71b86bd1beab704152",
        "IPY_MODEL_7ec21409808f487da7ca1bc66c7bd4d8",
        "IPY_MODEL_2ffc3f2b25374805ba67058558a9921b"
       ],
       "layout": "IPY_MODEL_3cf82538478a479f906f8a9bca8d96c9"
      }
     },
     "4f34b5fed6a745048fe49ee1b13c2f74": {
      "model_module": "@jupyter-widgets/controls",
      "model_module_version": "1.2.0",
      "model_name": "DescriptionStyleModel",
      "state": {
       "description_width": ""
      }
     },
     "4f5e5acea0204776add0d54996d42843": {
      "model_module": "@jupyter-widgets/controls",
      "model_module_version": "1.2.0",
      "model_name": "DescriptionStyleModel",
      "state": {
       "description_width": ""
      }
     },
     "4f60dc49bc1e4d1d9b04ae85991c9d92": {
      "model_module": "@jupyter-widgets/controls",
      "model_module_version": "1.2.0",
      "model_name": "DescriptionStyleModel",
      "state": {
       "description_width": ""
      }
     },
     "4f78d259e1684b60b79b9be3c9a0ab4a": {
      "model_module": "@jupyter-widgets/controls",
      "model_module_version": "1.2.0",
      "model_name": "SliderStyleModel",
      "state": {
       "description_width": ""
      }
     },
     "4f7a86bc342a4e9783dcd1329fe68b7e": {
      "model_module": "@jupyter-widgets/controls",
      "model_module_version": "1.2.0",
      "model_name": "DropdownModel",
      "state": {
       "_options_labels": [
        "none",
        "triangle",
        "tee",
        "diamond",
        "square",
        "circle",
        "vee",
        "triangle-tee"
       ],
       "index": 1,
       "layout": "IPY_MODEL_e19efe82e10142e7b9527e8e4ec92300",
       "style": "IPY_MODEL_a3f80a5614294f34a9c7ff2349582ea7"
      }
     },
     "4f9c7f860825412da8bbc888418a552e": {
      "model_module": "@jupyter-widgets/controls",
      "model_module_version": "1.2.0",
      "model_name": "DescriptionStyleModel",
      "state": {
       "description_width": ""
      }
     },
     "4fad3e3fc078426db1b130416d8d3842": {
      "model_module": "@jupyter-widgets/base",
      "model_module_version": "1.0.0",
      "model_name": "LayoutModel",
      "state": {
       "visibility": "hidden"
      }
     },
     "4ff91f3857f4446bb541f140e05551c4": {
      "model_module": "@jupyter-widgets/base",
      "model_module_version": "1.0.0",
      "model_name": "LayoutModel",
      "state": {}
     },
     "500a06fb3db34dc78c5311e818063e05": {
      "model_module": "@jupyter-widgets/controls",
      "model_module_version": "1.2.0",
      "model_name": "HBoxModel",
      "state": {
       "children": [
        "IPY_MODEL_ab5ba0e8ac2a43a6801ca40fc4171a1f",
        "IPY_MODEL_b55812d02b8a4bf7a1b75b2acb58a483"
       ],
       "layout": "IPY_MODEL_7004c7e87d7042de86c5ba7d9fdc1ba8"
      }
     },
     "504b31b8777a4376ad939d857e5bad11": {
      "model_module": "@jupyter-widgets/base",
      "model_module_version": "1.0.0",
      "model_name": "LayoutModel",
      "state": {
       "width": "auto"
      }
     },
     "50833fa3356149639f20e998be0cf693": {
      "model_module": "@jupyter-widgets/controls",
      "model_module_version": "1.2.0",
      "model_name": "FloatSliderModel",
      "state": {
       "layout": "IPY_MODEL_1511617fd14245daa5f9d26aa53e5933",
       "max": 1,
       "step": 0.05,
       "style": "IPY_MODEL_d7e477d29009455e9faafdd5556809ee",
       "value": 0.5
      }
     },
     "508aef1a422b4fe3a7da17db012efb0b": {
      "model_module": "@jupyter-widgets/controls",
      "model_module_version": "1.2.0",
      "model_name": "LabelModel",
      "state": {
       "layout": "IPY_MODEL_4ecec2649f6344b0bfdb363f275639b5",
       "style": "IPY_MODEL_746739714d6b4ba2964b6d161e635f05",
       "value": "Shape :"
      }
     },
     "5094038ba37343cf8edb7a521bb6fb67": {
      "model_module": "@jupyter-widgets/base",
      "model_module_version": "1.0.0",
      "model_name": "LayoutModel",
      "state": {}
     },
     "50d88573388144599bc1e9ee65b1c72e": {
      "model_module": "@jupyter-widgets/controls",
      "model_module_version": "1.2.0",
      "model_name": "VBoxModel",
      "state": {
       "children": [
        "IPY_MODEL_0c2e84c076b64af5a277082404aa3e02",
        "IPY_MODEL_466f3a68ba1042e299ea3003b8eec83f",
        "IPY_MODEL_e806e86d28a244f3b7cd2c43b14b01d8",
        "IPY_MODEL_4aff07b426f54dd3907c75347d000646"
       ],
       "layout": "IPY_MODEL_ba3c62622e9d4aa9ab7522a4838e6038"
      }
     },
     "50f7f24a35bc42efae0878d3ed16565c": {
      "model_module": "@jupyter-widgets/controls",
      "model_module_version": "1.2.0",
      "model_name": "ToggleButtonModel",
      "state": {
       "button_style": "primary",
       "description": "Box",
       "layout": "IPY_MODEL_3cc904739514411ab5484f122bd0d3f4",
       "style": "IPY_MODEL_478bfbf3c14b491db69c0cff971a771b"
      }
     },
     "5114f3ce918546ea813957fe25fbf8f9": {
      "model_module": "@jupyter-widgets/controls",
      "model_module_version": "1.2.0",
      "model_name": "VBoxModel",
      "state": {
       "children": [
        "IPY_MODEL_6a2dc646b9054ad99c8566439287c333",
        "IPY_MODEL_0a7a988b034044a49690a0ac48e2459a",
        "IPY_MODEL_796ef10f8ac44cfab0f8a7963de999ad",
        "IPY_MODEL_82f640a739894e9da85d4a3dcc91f7c9",
        "IPY_MODEL_d2392d30e0344e09957639f6c6a06938",
        "IPY_MODEL_a25bc92c2d454c759aab8459bc21c9d2"
       ],
       "layout": "IPY_MODEL_2d7f0a15d4484f558074a3f2d502ae9a"
      }
     },
     "512a502a32954190a7ebcc287900c17b": {
      "model_module": "@jupyter-widgets/base",
      "model_module_version": "1.0.0",
      "model_name": "LayoutModel",
      "state": {}
     },
     "5132354f27f04fa7a112dca7e064b58c": {
      "model_module": "@jupyter-widgets/controls",
      "model_module_version": "1.2.0",
      "model_name": "VBoxModel",
      "state": {
       "children": [
        "IPY_MODEL_56d49b7e2a3846e0afc1e2afa1cbcb59",
        "IPY_MODEL_33d0255873424f26967d422948b1f95e"
       ],
       "layout": "IPY_MODEL_ec9f70fd20d84041972401c5ba992c9d"
      }
     },
     "5162eb218f6c4f5ca78a7f07711b5285": {
      "model_module": "@jupyter-widgets/controls",
      "model_module_version": "1.2.0",
      "model_name": "ButtonModel",
      "state": {
       "button_style": "success",
       "description": "Upload",
       "layout": "IPY_MODEL_3e3797ff9814475ba607476eb84893fb",
       "style": "IPY_MODEL_a5fdbcab3b934ee6b88837dee0fb3faa"
      }
     },
     "51afbf785da94ea7805afa0d5a1014f0": {
      "model_module": "@jupyter-widgets/controls",
      "model_module_version": "1.2.0",
      "model_name": "HBoxModel",
      "state": {
       "children": [
        "IPY_MODEL_79b42e031654458abdacd990c795c0a1",
        "IPY_MODEL_983bf26738d74efcb9f833b9164d8bb5",
        "IPY_MODEL_a52b1c3c7e1945e495823118159f815f",
        "IPY_MODEL_2aa9f5e34f8541d8b0bbd834430414a8"
       ],
       "layout": "IPY_MODEL_2d20f6f02012478f808870e3914809c7"
      }
     },
     "51d2c81620284d4b925484e37211af0d": {
      "model_module": "@jupyter-widgets/controls",
      "model_module_version": "1.2.0",
      "model_name": "ColorPickerModel",
      "state": {
       "disabled": false,
       "layout": "IPY_MODEL_3dd5ecdc5d8e4c82a02eb0ddbf2efd36",
       "style": "IPY_MODEL_4167d1efb9ec48bd80a4687d6b25220d"
      }
     },
     "522767c761a54db3959bced458c06367": {
      "model_module": "@jupyter-widgets/controls",
      "model_module_version": "1.2.0",
      "model_name": "DescriptionStyleModel",
      "state": {
       "description_width": ""
      }
     },
     "523010a1b4eb4730ad3cd58b449bbacf": {
      "model_module": "@jupyter-widgets/controls",
      "model_module_version": "1.2.0",
      "model_name": "ButtonStyleModel",
      "state": {}
     },
     "5233b5cd43d84f299da5c1930068c0cc": {
      "model_module": "@jupyter-widgets/controls",
      "model_module_version": "1.2.0",
      "model_name": "HTMLModel",
      "state": {
       "layout": "IPY_MODEL_bb21aff66f5d4550ac3e1871012c1037",
       "style": "IPY_MODEL_a26de28811c447d1a773b784fd42ee60",
       "value": "<h5>Fill out the info below to upload data to <a href='http://www.ndexbio.org/'>NDEx</a></h5>"
      }
     },
     "524e6a9e42274d2ba71ad001c4ff5134": {
      "model_module": "@jupyter-widgets/base",
      "model_module_version": "1.0.0",
      "model_name": "LayoutModel",
      "state": {
       "visibility": "hidden"
      }
     },
     "5264f469f014448987383c79e380cdf1": {
      "model_module": "@jupyter-widgets/controls",
      "model_module_version": "1.2.0",
      "model_name": "TextModel",
      "state": {
       "continuous_update": false,
       "description": "Search :",
       "layout": "IPY_MODEL_26c3eb340d74466e90efc75be1feac71",
       "style": "IPY_MODEL_2d236cd70e4a40d2b77acf8cfd05d344"
      }
     },
     "52ee17e58edc49f29a878d18d050b0d1": {
      "model_module": "@jupyter-widgets/controls",
      "model_module_version": "1.2.0",
      "model_name": "ToggleButtonsModel",
      "state": {
       "_options_labels": [
        "Python",
        "HTML",
        "NDEX"
       ],
       "button_style": "danger",
       "icons": [],
       "index": 0,
       "layout": "IPY_MODEL_e9a0068d1d1e4a8abe74ebb578a556f4",
       "style": "IPY_MODEL_3e3b675bfbc342ada287ae5e8036047e",
       "tooltips": []
      }
     },
     "52f56f1f07dd425b8efdb15b1a6d9b6a": {
      "model_module": "@jupyter-widgets/controls",
      "model_module_version": "1.2.0",
      "model_name": "ColorPickerModel",
      "state": {
       "disabled": false,
       "layout": "IPY_MODEL_18ff99486bf947b1b60e9cee0261ae7e",
       "style": "IPY_MODEL_6fcb830777c44d539c6199d8418824de"
      }
     },
     "52fbf4449ea44ad9adf61a5617ab8657": {
      "model_module": "@jupyter-widgets/controls",
      "model_module_version": "1.2.0",
      "model_name": "DescriptionStyleModel",
      "state": {
       "description_width": ""
      }
     },
     "5309e327e4fc431db2b0b49bb13989cd": {
      "model_module": "@jupyter-widgets/base",
      "model_module_version": "1.0.0",
      "model_name": "LayoutModel",
      "state": {}
     },
     "53306784dc3f4f9da33d33b63fc052a5": {
      "model_module": "@jupyter-widgets/controls",
      "model_module_version": "1.2.0",
      "model_name": "DescriptionStyleModel",
      "state": {
       "description_width": ""
      }
     },
     "5342b17a18f94e4cb540dd0a41ff60ef": {
      "model_module": "@jupyter-widgets/controls",
      "model_module_version": "1.2.0",
      "model_name": "SliderStyleModel",
      "state": {
       "description_width": ""
      }
     },
     "53511a4276264151b26b5fcf1f9377e6": {
      "model_module": "@jupyter-widgets/base",
      "model_module_version": "1.0.0",
      "model_name": "LayoutModel",
      "state": {
       "padding": "10px 0px 0px 0px"
      }
     },
     "53622282d5d847a68245cce28f75da7e": {
      "model_module": "@jupyter-widgets/base",
      "model_module_version": "1.0.0",
      "model_name": "LayoutModel",
      "state": {}
     },
     "537dc459413c4d78ae806e06fc411c36": {
      "model_module": "@jupyter-widgets/controls",
      "model_module_version": "1.2.0",
      "model_name": "HBoxModel",
      "state": {
       "children": [
        "IPY_MODEL_9fd809f501ca405997ddc96097bf773e",
        "IPY_MODEL_b9ef479f7a2f4801a16d8f07d225cc60",
        "IPY_MODEL_df05b7a6f6ce49d8b6aa2673819f099b"
       ],
       "layout": "IPY_MODEL_408320c39bef4fa3bc264f6f402a1065"
      }
     },
     "53b32560de6442fab6e431ce4f38de05": {
      "model_module": "@jupyter-widgets/controls",
      "model_module_version": "1.2.0",
      "model_name": "SliderStyleModel",
      "state": {
       "description_width": ""
      }
     },
     "53ba966d174f4f40895837bd46c55d8d": {
      "model_module": "@jupyter-widgets/controls",
      "model_module_version": "1.2.0",
      "model_name": "HBoxModel",
      "state": {
       "children": [
        "IPY_MODEL_d3821d8bf1074a939e296681da210dab",
        "IPY_MODEL_79499b59a441436e9a1af5c38cff7edd"
       ],
       "layout": "IPY_MODEL_651f32435d494484a38ecfa54945d911"
      }
     },
     "53bd7f4f80734aa288f4182c16b45f85": {
      "model_module": "@jupyter-widgets/controls",
      "model_module_version": "1.2.0",
      "model_name": "HTMLModel",
      "state": {
       "layout": "IPY_MODEL_28611ceca5a542d7be90b9eeb4ad1ea0",
       "style": "IPY_MODEL_a5a82ef07b364845920de4c03b060a69",
       "value": "<h3> </h3>"
      }
     },
     "53c7271f3a014807b3d6879e52a54b17": {
      "model_module": "@jupyter-widgets/controls",
      "model_module_version": "1.2.0",
      "model_name": "DescriptionStyleModel",
      "state": {
       "description_width": ""
      }
     },
     "540861aaf6c54a84b700532e17528aa8": {
      "model_module": "@jupyter-widgets/base",
      "model_module_version": "1.0.0",
      "model_name": "LayoutModel",
      "state": {
       "width": "auto"
      }
     },
     "5497ee1749594ffd803babd8bc62b30c": {
      "model_module": "@jupyter-widgets/controls",
      "model_module_version": "1.2.0",
      "model_name": "ToggleButtonsStyleModel",
      "state": {
       "button_width": "",
       "description_width": ""
      }
     },
     "54b0327c3c394394b936f2a7978e30aa": {
      "model_module": "@jupyter-widgets/controls",
      "model_module_version": "1.2.0",
      "model_name": "TextModel",
      "state": {
       "layout": "IPY_MODEL_0adf986021fc4a9ba6c08b338c56e10e",
       "style": "IPY_MODEL_b01bb7e0419b452e986cb85ca95df662"
      }
     },
     "54f7db18b62d4a59a754ab94662e2405": {
      "model_module": "@jupyter-widgets/controls",
      "model_module_version": "1.2.0",
      "model_name": "DescriptionStyleModel",
      "state": {
       "description_width": ""
      }
     },
     "5505d9dc6a104b3c87aceb70960ec98d": {
      "model_module": "@jupyter-widgets/controls",
      "model_module_version": "1.2.0",
      "model_name": "DescriptionStyleModel",
      "state": {
       "description_width": ""
      }
     },
     "550999db32b24fbb8585d113bac182d9": {
      "model_module": "@jupyter-widgets/controls",
      "model_module_version": "1.2.0",
      "model_name": "ButtonStyleModel",
      "state": {}
     },
     "550f102f52784a978de3f010e2fbf7ba": {
      "model_module": "@jupyter-widgets/controls",
      "model_module_version": "1.2.0",
      "model_name": "HTMLModel",
      "state": {
       "layout": "IPY_MODEL_12815a1b018a45e7a6203646cb29899c",
       "style": "IPY_MODEL_ac06bf9207ac48ce82b5b2b7ff33d57b",
       "value": "<h4 style='color:DarkKhaki'>Node :</h4>"
      }
     },
     "5511ed8ee7af4f108fac7f3058774cfb": {
      "model_module": "@jupyter-widgets/controls",
      "model_module_version": "1.2.0",
      "model_name": "LabelModel",
      "state": {
       "layout": "IPY_MODEL_d7f2ae992dbb494d9a260c93a07c58af",
       "style": "IPY_MODEL_73c9dcc15b3a478cac019a01512ebb2f",
       "value": "Text :"
      }
     },
     "5566cfeab65241fca38d4bf12535f00e": {
      "model_module": "@jupyter-widgets/controls",
      "model_module_version": "1.2.0",
      "model_name": "FloatSliderModel",
      "state": {
       "layout": "IPY_MODEL_e1efcbf9524a4116913d9bfdfe9db265",
       "max": 1,
       "step": 0.05,
       "style": "IPY_MODEL_7dcca67b9e0240df8091222153bff520",
       "value": 0.5
      }
     },
     "55b3623df3a94b42bdce07b5aa96ff45": {
      "model_module": "@jupyter-widgets/controls",
      "model_module_version": "1.2.0",
      "model_name": "VBoxModel",
      "state": {
       "children": [
        "IPY_MODEL_4e0c7e629d1c4c9cb970506769121921",
        "IPY_MODEL_27b44168144c49738250a7d8a8d191b7"
       ],
       "layout": "IPY_MODEL_9c61e996841941e885e9a27fc7ae58be"
      }
     },
     "55b67256c7ae485ca1816c5f832d95b8": {
      "model_module": "@jupyter-widgets/controls",
      "model_module_version": "1.2.0",
      "model_name": "VBoxModel",
      "state": {
       "children": [
        "IPY_MODEL_91b11c2d8e324234a1e5a325b411f13e",
        "IPY_MODEL_a1552ee0adb2470681a92fd423462228"
       ],
       "layout": "IPY_MODEL_1e2fb9d97857467eaf44f204d82f4247"
      }
     },
     "55ba4951f8814db5ac06b97f21dd614c": {
      "model_module": "@jupyter-widgets/base",
      "model_module_version": "1.0.0",
      "model_name": "LayoutModel",
      "state": {}
     },
     "55db7b0fa96947c8b3f6fb39b6deceb1": {
      "model_module": "@jupyter-widgets/controls",
      "model_module_version": "1.2.0",
      "model_name": "ToggleButtonModel",
      "state": {
       "button_style": "info",
       "description": "Border",
       "layout": "IPY_MODEL_be3796559dc440fbad329a1c1d8970c0",
       "style": "IPY_MODEL_bcdb57955695473b9d1801711280dad1"
      }
     },
     "5619109b4ac94be09df3c4bb05fb7c60": {
      "model_module": "@jupyter-widgets/base",
      "model_module_version": "1.0.0",
      "model_name": "LayoutModel",
      "state": {}
     },
     "561d4a7602b84ce099be6c82b76b6d3f": {
      "model_module": "@jupyter-widgets/base",
      "model_module_version": "1.0.0",
      "model_name": "LayoutModel",
      "state": {
       "padding": "10px 0px 0px 0px"
      }
     },
     "5620e644d0ee47388c4be8629235404f": {
      "model_module": "@jupyter-widgets/controls",
      "model_module_version": "1.2.0",
      "model_name": "ButtonStyleModel",
      "state": {}
     },
     "562acbadb27145c58877934631dc2cc4": {
      "model_module": "@jupyter-widgets/controls",
      "model_module_version": "1.2.0",
      "model_name": "ButtonModel",
      "state": {
       "button_style": "success",
       "description": "Save",
       "layout": "IPY_MODEL_f2b31b88c52045aba8744057f3246168",
       "style": "IPY_MODEL_49011a7f4aa94ae398a1e1a115d54fb1"
      }
     },
     "5642a44f7f354405a8773e10369e74f5": {
      "model_module": "@jupyter-widgets/controls",
      "model_module_version": "1.2.0",
      "model_name": "DescriptionStyleModel",
      "state": {
       "description_width": ""
      }
     },
     "565b17c6cd0f41ff895487c5534c22e0": {
      "model_module": "@jupyter-widgets/controls",
      "model_module_version": "1.2.0",
      "model_name": "LabelModel",
      "state": {
       "layout": "IPY_MODEL_fcd6a3754b0a46cfa9c01030008c6ddd",
       "style": "IPY_MODEL_04d46b4112254459a7ef6a82d5732f30",
       "value": "Position :"
      }
     },
     "565f7efc9f464a4d9a251f1fd3c2bc80": {
      "model_module": "@jupyter-widgets/base",
      "model_module_version": "1.0.0",
      "model_name": "LayoutModel",
      "state": {}
     },
     "568b4ee54c22476cb98b39f5b0b8ce4f": {
      "model_module": "@jupyter-widgets/controls",
      "model_module_version": "1.2.0",
      "model_name": "DropdownModel",
      "state": {
       "index": null,
       "layout": "IPY_MODEL_40404a82634c46319e7df08168d49ce8",
       "style": "IPY_MODEL_645187fc14714663ba0be8ba7853c1a8"
      }
     },
     "569007ffbe714b52b41f21a545f28b8a": {
      "model_module": "@jupyter-widgets/controls",
      "model_module_version": "1.2.0",
      "model_name": "DescriptionStyleModel",
      "state": {
       "description_width": ""
      }
     },
     "569090493a564670954102cc656f6de6": {
      "model_module": "@jupyter-widgets/base",
      "model_module_version": "1.0.0",
      "model_name": "LayoutModel",
      "state": {}
     },
     "56a050e5770a4f8ea8327f89fe468e51": {
      "model_module": "@jupyter-widgets/controls",
      "model_module_version": "1.2.0",
      "model_name": "AccordionModel",
      "state": {
       "_titles": {
        "0": "Load",
        "1": "Save"
       },
       "children": [
        "IPY_MODEL_25f54fe9b63e463b8cac85ad2db761ec",
        "IPY_MODEL_af520f7e2c4c4bae92e8cbf5733217cb"
       ],
       "layout": "IPY_MODEL_e2124b6a5128474d967ea117c1ff603e"
      }
     },
     "56a48cc3d0864613b77ad08768789b2b": {
      "model_module": "@jupyter-widgets/controls",
      "model_module_version": "1.2.0",
      "model_name": "ButtonModel",
      "state": {
       "button_style": "primary",
       "description": "Download",
       "layout": "IPY_MODEL_fba3f5c56cb64251b560b6d6fa323534",
       "style": "IPY_MODEL_2b940ea4a46942bf99315d95631d05bd"
      }
     },
     "56b1876aab7448ab8a47cc2f14de0fa8": {
      "model_module": "@jupyter-widgets/controls",
      "model_module_version": "1.2.0",
      "model_name": "DescriptionStyleModel",
      "state": {
       "description_width": ""
      }
     },
     "56bfd49589804ad9ba3ff67b3b472aaa": {
      "model_module": "@jupyter-widgets/controls",
      "model_module_version": "1.2.0",
      "model_name": "HTMLModel",
      "state": {
       "layout": "IPY_MODEL_6a0fa75d3e924e7f9a43fc4089d214a9",
       "style": "IPY_MODEL_5e777df5b8c24fe89c0fe67b14e1c08c",
       "value": "<h5>Here you save your graph as a <a href='https://www.datacamp.com/community/tutorials/pandas-tutorial-dataframe-python'>Pandas DataFrame</a> called <font color=\"blue\">Graph.data</font> .\nThis is great for doing data analysis in <font color=\"blue\">python</font>.</h5>"
      }
     },
     "56c7a3014fc641e5aab4b35b20e530aa": {
      "model_module": "@jupyter-widgets/controls",
      "model_module_version": "1.2.0",
      "model_name": "DescriptionStyleModel",
      "state": {
       "description_width": ""
      }
     },
     "56ccee256c544fe5a787cf138fd43105": {
      "model_module": "@jupyter-widgets/base",
      "model_module_version": "1.0.0",
      "model_name": "LayoutModel",
      "state": {
       "justify_content": "center",
       "padding": "10px 0px 0px 0px"
      }
     },
     "56d49b7e2a3846e0afc1e2afa1cbcb59": {
      "model_module": "@jupyter-widgets/controls",
      "model_module_version": "1.2.0",
      "model_name": "TextModel",
      "state": {
       "description": "Username :",
       "layout": "IPY_MODEL_328d45648c85402eae45f0b0c3637f8e",
       "style": "IPY_MODEL_5505d9dc6a104b3c87aceb70960ec98d"
      }
     },
     "56ecddebd0d0499980a0bc2e53dcbd75": {
      "model_module": "@jupyter-widgets/controls",
      "model_module_version": "1.2.0",
      "model_name": "DropdownModel",
      "state": {
       "_options_labels": [
        "none",
        "triangle",
        "tee",
        "diamond",
        "square",
        "circle",
        "vee",
        "triangle-tee"
       ],
       "index": 0,
       "layout": "IPY_MODEL_512a502a32954190a7ebcc287900c17b",
       "style": "IPY_MODEL_595efb9abb084fbd8b24ada41b7136fb"
      }
     },
     "56faed3c3a6944619c25403fced52454": {
      "model_module": "@jupyter-widgets/controls",
      "model_module_version": "1.2.0",
      "model_name": "ButtonModel",
      "state": {
       "button_style": "primary",
       "description": "Undo",
       "disabled": true,
       "layout": "IPY_MODEL_7658ea9e756c4926b4f828ccd476ea50",
       "style": "IPY_MODEL_5620e644d0ee47388c4be8629235404f"
      }
     },
     "56fe64f5bb354f2b949d1b35930b50c7": {
      "model_module": "@jupyter-widgets/controls",
      "model_module_version": "1.2.0",
      "model_name": "IntSliderModel",
      "state": {
       "layout": "IPY_MODEL_04c3b90ad37e4bf29e568564903dbc19",
       "max": 200,
       "min": 1,
       "style": "IPY_MODEL_76336e836ecd4ad4b90e3c8f5266f48a",
       "value": 30
      }
     },
     "572b61b9f59849479a9434d9b39adee1": {
      "model_module": "@jupyter-widgets/base",
      "model_module_version": "1.0.0",
      "model_name": "LayoutModel",
      "state": {}
     },
     "5741ed5d5343489b88dbe2d950b70da5": {
      "model_module": "@jupyter-widgets/controls",
      "model_module_version": "1.2.0",
      "model_name": "TextModel",
      "state": {
       "description": "Name :",
       "layout": "IPY_MODEL_feb52eb36fed4185808659417bc5e535",
       "placeholder": "Network Name",
       "style": "IPY_MODEL_5ab74e28aac74f4b9e200ae44f9e8d7e"
      }
     },
     "5743a5449a6145ba88dac744d0507664": {
      "model_module": "@jupyter-widgets/controls",
      "model_module_version": "1.2.0",
      "model_name": "DescriptionStyleModel",
      "state": {
       "description_width": ""
      }
     },
     "575281c755654502ad3266476fce1e4b": {
      "model_module": "@jupyter-widgets/controls",
      "model_module_version": "1.2.0",
      "model_name": "LabelModel",
      "state": {
       "layout": "IPY_MODEL_994f56b939be4fbca91876b7238a8df3",
       "style": "IPY_MODEL_920417ec88c0450da0718eac65baa2d4",
       "value": "Color :"
      }
     },
     "5757ab8180db408b9f061422286217e5": {
      "model_module": "@jupyter-widgets/controls",
      "model_module_version": "1.2.0",
      "model_name": "ToggleButtonModel",
      "state": {
       "icon": "eye",
       "layout": "IPY_MODEL_2c8361cc713843219bae91bb812d34d6",
       "style": "IPY_MODEL_f35107a5c7864a549b58c910c2633697"
      }
     },
     "5765b49b3c754233b31aa0cf369d0231": {
      "model_module": "@jupyter-widgets/base",
      "model_module_version": "1.0.0",
      "model_name": "LayoutModel",
      "state": {}
     },
     "578842f14c4247e78fe0cbea9b836590": {
      "model_module": "@jupyter-widgets/controls",
      "model_module_version": "1.2.0",
      "model_name": "DescriptionStyleModel",
      "state": {
       "description_width": ""
      }
     },
     "57e3c8d7ab714c0ab6734d51cd52a831": {
      "model_module": "@jupyter-widgets/base",
      "model_module_version": "1.0.0",
      "model_name": "LayoutModel",
      "state": {
       "justify_content": "center",
       "margin": "0 0 15px 0"
      }
     },
     "57efc45e8d2a44ae903cf7424d7424af": {
      "model_module": "@jupyter-widgets/controls",
      "model_module_version": "1.2.0",
      "model_name": "HTMLModel",
      "state": {
       "layout": "IPY_MODEL_80ff26b329874338a8dde31946b10f9e",
       "style": "IPY_MODEL_c59b6a54bffc4e6386040e76c81df973",
       "value": "<h1 class='text-center text-success' style='margin:0'>Saved!</h1>"
      }
     },
     "58630b43706e43998dd215596efc0a25": {
      "model_module": "@jupyter-widgets/base",
      "model_module_version": "1.0.0",
      "model_name": "LayoutModel",
      "state": {
       "justify_content": "center",
       "margin": "0 0 15px 0"
      }
     },
     "5894477881fa4403be8f601e2153ccf0": {
      "model_module": "@jupyter-widgets/controls",
      "model_module_version": "1.2.0",
      "model_name": "ButtonModel",
      "state": {
       "button_style": "success",
       "icon": "image",
       "layout": "IPY_MODEL_af6d37da08434c70b53bf097f42e3449",
       "style": "IPY_MODEL_e48e4b1156984c218db229162cad83c5"
      }
     },
     "5894577114324d25a966ae9f854217ef": {
      "model_module": "@jupyter-widgets/base",
      "model_module_version": "1.0.0",
      "model_name": "LayoutModel",
      "state": {
       "padding": "0 15px 0 35px"
      }
     },
     "5944c81c490d4b5fa036db1f0cc7a3ce": {
      "model_module": "@jupyter-widgets/controls",
      "model_module_version": "1.2.0",
      "model_name": "HTMLModel",
      "state": {
       "layout": "IPY_MODEL_eb70a31805f242d8b97d11272115ab5f",
       "style": "IPY_MODEL_1210dc398a0445e5a06739affb876d02",
       "value": "<h3> </h3>"
      }
     },
     "594d164e6dbe4205811f4c8426c512c3": {
      "model_module": "@jupyter-widgets/controls",
      "model_module_version": "1.2.0",
      "model_name": "DescriptionStyleModel",
      "state": {
       "description_width": ""
      }
     },
     "59582e51ca6f494fbf2e5780edda5b9f": {
      "model_module": "@jupyter-widgets/controls",
      "model_module_version": "1.2.0",
      "model_name": "LabelModel",
      "state": {
       "layout": "IPY_MODEL_f0dd973953c34fd1b4400928cd7f0aff",
       "style": "IPY_MODEL_053c33246f6d4f59894b7111fc766acc",
       "value": "End"
      }
     },
     "595efb9abb084fbd8b24ada41b7136fb": {
      "model_module": "@jupyter-widgets/controls",
      "model_module_version": "1.2.0",
      "model_name": "DescriptionStyleModel",
      "state": {
       "description_width": ""
      }
     },
     "5977feeacbb7476eb21bea1ff7f40a9f": {
      "model_module": "@jupyter-widgets/base",
      "model_module_version": "1.0.0",
      "model_name": "LayoutModel",
      "state": {}
     },
     "5982c86c661b4ae691afb4ad37177ffb": {
      "model_module": "@jupyter-widgets/base",
      "model_module_version": "1.0.0",
      "model_name": "LayoutModel",
      "state": {
       "align_items": "center"
      }
     },
     "59af816956444c16b93ef5fd7bd3b19a": {
      "model_module": "@jupyter-widgets/controls",
      "model_module_version": "1.2.0",
      "model_name": "DescriptionStyleModel",
      "state": {
       "description_width": ""
      }
     },
     "59b1a30a37fb455c8b03057b7446141d": {
      "model_module": "@jupyter-widgets/controls",
      "model_module_version": "1.2.0",
      "model_name": "DropdownModel",
      "state": {
       "_options_labels": [
        "ellipse",
        "triangle",
        "rectangle",
        "rhomboid",
        "diamond",
        "pentagon",
        "hexagon",
        "concavehexagon",
        "heptagon",
        "octagon",
        "star",
        "tag",
        "vee"
       ],
       "index": 0,
       "layout": "IPY_MODEL_c2e8115afa1d4e7ea9606b4b852d5871",
       "style": "IPY_MODEL_31b86ec8b7684bd1a58ff7566f2a63ef"
      }
     },
     "59b60be9534941f39dd96ed81e8fed4e": {
      "model_module": "@jupyter-widgets/base",
      "model_module_version": "1.0.0",
      "model_name": "LayoutModel",
      "state": {}
     },
     "59f812db0fb1421b87c4c514206773c3": {
      "model_module": "@jupyter-widgets/controls",
      "model_module_version": "1.2.0",
      "model_name": "VBoxModel",
      "state": {
       "children": [
        "IPY_MODEL_c0077a2b06714733ad8fe4e6b9ae7f32",
        "IPY_MODEL_60e0161efab24c998b04081e4697434f"
       ],
       "layout": "IPY_MODEL_79aa53c6c19445e287fa5621a6677fcc"
      }
     },
     "5a1562abdb104a2399ec0ad5ab7bc0e3": {
      "model_module": "@jupyter-widgets/controls",
      "model_module_version": "1.2.0",
      "model_name": "FloatSliderModel",
      "state": {
       "layout": "IPY_MODEL_3e606124019249658e500766422e3ab0",
       "max": 1,
       "step": 0.05,
       "style": "IPY_MODEL_beaabe76e0ca4e14bfef6ba758e5c9f5",
       "value": 0.5
      }
     },
     "5a507a5d7ff24328a8f733513a831ddd": {
      "model_module": "@jupyter-widgets/base",
      "model_module_version": "1.0.0",
      "model_name": "LayoutModel",
      "state": {}
     },
     "5a6187853e104d468cdc629a9c9bb6b8": {
      "model_module": "@jupyter-widgets/base",
      "model_module_version": "1.0.0",
      "model_name": "LayoutModel",
      "state": {}
     },
     "5a7eb19de25d46aab386379ef3121c0d": {
      "model_module": "@jupyter-widgets/base",
      "model_module_version": "1.0.0",
      "model_name": "LayoutModel",
      "state": {
       "align_items": "center"
      }
     },
     "5aa18dba7734426ca8613065a1999592": {
      "model_module": "@jupyter-widgets/controls",
      "model_module_version": "1.2.0",
      "model_name": "DescriptionStyleModel",
      "state": {
       "description_width": ""
      }
     },
     "5aad83307fb04ea8859b500b41833588": {
      "model_module": "@jupyter-widgets/controls",
      "model_module_version": "1.2.0",
      "model_name": "VBoxModel",
      "state": {
       "children": [
        "IPY_MODEL_55b67256c7ae485ca1816c5f832d95b8",
        "IPY_MODEL_0bf9b61192fa41e4add15fee6fbd8213"
       ],
       "layout": "IPY_MODEL_cb758ba8f64643189564d01c89c18b2d"
      }
     },
     "5ab74e28aac74f4b9e200ae44f9e8d7e": {
      "model_module": "@jupyter-widgets/controls",
      "model_module_version": "1.2.0",
      "model_name": "DescriptionStyleModel",
      "state": {
       "description_width": ""
      }
     },
     "5addfcb98e134bcca5771bf1e41f3103": {
      "model_module": "@jupyter-widgets/controls",
      "model_module_version": "1.2.0",
      "model_name": "SliderStyleModel",
      "state": {
       "description_width": ""
      }
     },
     "5ae0aeaea13047c08e06dbf4514a136a": {
      "model_module": "@jupyter-widgets/base",
      "model_module_version": "1.0.0",
      "model_name": "LayoutModel",
      "state": {}
     },
     "5b28c89235874a789c2d8ea9907f6b95": {
      "model_module": "@jupyter-widgets/controls",
      "model_module_version": "1.2.0",
      "model_name": "ButtonStyleModel",
      "state": {}
     },
     "5b422fb149ce48a49aa34e5761a17be5": {
      "model_module": "@jupyter-widgets/controls",
      "model_module_version": "1.2.0",
      "model_name": "HBoxModel",
      "state": {
       "children": [
        "IPY_MODEL_5dcf5693caf245c08c68c0d330d2543c",
        "IPY_MODEL_eeb1a431f7fe4cc5a463d54d0e1395af"
       ],
       "layout": "IPY_MODEL_3ed2c295c689485f971f1165d0f7e79b"
      }
     },
     "5b76bdcc993f4546b63fa138fe44861e": {
      "model_module": "@jupyter-widgets/controls",
      "model_module_version": "1.2.0",
      "model_name": "DescriptionStyleModel",
      "state": {
       "description_width": ""
      }
     },
     "5b80b72d6d934de3a69c135e5dffcf99": {
      "model_module": "@jupyter-widgets/controls",
      "model_module_version": "1.2.0",
      "model_name": "HTMLModel",
      "state": {
       "layout": "IPY_MODEL_a8e428b25009421ca45d23cfa9c78f13",
       "style": "IPY_MODEL_dc8a85173f364c4d962cb579a2d11ec3",
       "value": "<h2 class='text-danger text-center'>Coming Soon! Wait for Update</h2>"
      }
     },
     "5bc2f5b90c114e44850a0530b48c77f1": {
      "model_module": "@jupyter-widgets/base",
      "model_module_version": "1.0.0",
      "model_name": "LayoutModel",
      "state": {}
     },
     "5bda3873078148518162c035567dff44": {
      "model_module": "@jupyter-widgets/controls",
      "model_module_version": "1.2.0",
      "model_name": "HTMLModel",
      "state": {
       "layout": "IPY_MODEL_a49c676e42df4c899eac676af43c82fe",
       "style": "IPY_MODEL_10a91579c2de43ae97b73f199c4cb636",
       "value": "<hr style='padding: 2px; margin: 2px'>"
      }
     },
     "5be2ed7ae1b04505b7ade6449c2a5e43": {
      "model_module": "@jupyter-widgets/controls",
      "model_module_version": "1.2.0",
      "model_name": "ButtonModel",
      "state": {
       "button_style": "warning",
       "description": "Start Cytoscape!",
       "layout": "IPY_MODEL_2d90ca47cc5442d5af343f4a1ada901f",
       "style": "IPY_MODEL_5b28c89235874a789c2d8ea9907f6b95"
      }
     },
     "5c0b69730e1f449ab5a616d31960857f": {
      "model_module": "@jupyter-widgets/controls",
      "model_module_version": "1.2.0",
      "model_name": "DescriptionStyleModel",
      "state": {
       "description_width": ""
      }
     },
     "5c0e5e93698d4551be2fd36452c2dad1": {
      "model_module": "@jupyter-widgets/controls",
      "model_module_version": "1.2.0",
      "model_name": "PasswordModel",
      "state": {
       "description": "Password :",
       "layout": "IPY_MODEL_368d0a31be854ba9bc6b8823b0c2b004",
       "style": "IPY_MODEL_149056e3c7c94b2d9dae38c85ac6c9a0"
      }
     },
     "5c1eaa137a4d44e0adbf00daaf835d69": {
      "model_module": "@jupyter-widgets/controls",
      "model_module_version": "1.2.0",
      "model_name": "ButtonModel",
      "state": {
       "button_style": "info",
       "icon": "refresh",
       "layout": "IPY_MODEL_8d02700da5d24042bee2854d7b46a676",
       "style": "IPY_MODEL_2d3ffd812f5b4a54a9e80508ac7f0094"
      }
     },
     "5c7470a5b76b497985065d0a8ef8244e": {
      "model_module": "@jupyter-widgets/controls",
      "model_module_version": "1.2.0",
      "model_name": "HBoxModel",
      "state": {
       "children": [
        "IPY_MODEL_b7eb87f126bd4183a83617b51ed09e0b",
        "IPY_MODEL_889c4da1fc164e948d9c50fda1441355"
       ],
       "layout": "IPY_MODEL_7d0151d762124da3a449cd99d95c56a1"
      }
     },
     "5c7810c1ee5c4e9eb7fd2cb149c55ab3": {
      "model_module": "@jupyter-widgets/controls",
      "model_module_version": "1.2.0",
      "model_name": "HBoxModel",
      "state": {
       "children": [
        "IPY_MODEL_7792e07d39b741c9b73b2df90be36330",
        "IPY_MODEL_1b083364df24494ca9e8c6ca62c9e451",
        "IPY_MODEL_a0058f56153f4e429507ee27bce08855",
        "IPY_MODEL_8b1257adf2f94c7ead7e72227c990c19"
       ],
       "layout": "IPY_MODEL_9f9270e76f82460ea7284ff6e189850c"
      }
     },
     "5ccc4d456686488296dd0f2378a423e9": {
      "model_module": "@jupyter-widgets/controls",
      "model_module_version": "1.2.0",
      "model_name": "ButtonModel",
      "state": {
       "button_style": "success",
       "description": "Save",
       "layout": "IPY_MODEL_ba41b683f1b0412c807ee9c2c4149a8a",
       "style": "IPY_MODEL_70b199de61264e24a4c269def7406c50"
      }
     },
     "5cd8827af36f4f1aaa3990446ea94c59": {
      "model_module": "@jupyter-widgets/controls",
      "model_module_version": "1.2.0",
      "model_name": "DescriptionStyleModel",
      "state": {
       "description_width": ""
      }
     },
     "5cf9e499533948dbb856aae27357eec5": {
      "model_module": "@jupyter-widgets/controls",
      "model_module_version": "1.2.0",
      "model_name": "VBoxModel",
      "state": {
       "children": [
        "IPY_MODEL_da728eb9098442df90f9c0ce513297f4",
        "IPY_MODEL_2f564cfba970421b830ef7899dcb4159",
        "IPY_MODEL_5c7470a5b76b497985065d0a8ef8244e",
        "IPY_MODEL_6d5aa003378d4c2eba4dece9f81f16a1",
        "IPY_MODEL_c8383c7551e3476d9730bfad7a7beca5",
        "IPY_MODEL_98d516537ccc47c19657304786e4f798"
       ],
       "layout": "IPY_MODEL_5da2d7b2a5e94998a380920ef27815c5"
      }
     },
     "5d1155a22bd14782b003ab250515d4a8": {
      "model_module": "@jupyter-widgets/controls",
      "model_module_version": "1.2.0",
      "model_name": "DescriptionStyleModel",
      "state": {
       "description_width": ""
      }
     },
     "5d19728fe98545a898895a0d81970396": {
      "model_module": "@jupyter-widgets/controls",
      "model_module_version": "1.2.0",
      "model_name": "DescriptionStyleModel",
      "state": {
       "description_width": ""
      }
     },
     "5d2ecf31aa0d4053b898bfbecc894490": {
      "model_module": "@jupyter-widgets/base",
      "model_module_version": "1.0.0",
      "model_name": "LayoutModel",
      "state": {
       "min_width": "30px"
      }
     },
     "5d4e920eda22498eb813cfb1df3e5a27": {
      "model_module": "@jupyter-widgets/controls",
      "model_module_version": "1.2.0",
      "model_name": "DescriptionStyleModel",
      "state": {
       "description_width": ""
      }
     },
     "5d70b74f346a4500977585afb0065090": {
      "model_module": "@jupyter-widgets/base",
      "model_module_version": "1.0.0",
      "model_name": "LayoutModel",
      "state": {}
     },
     "5da2d7b2a5e94998a380920ef27815c5": {
      "model_module": "@jupyter-widgets/base",
      "model_module_version": "1.0.0",
      "model_name": "LayoutModel",
      "state": {}
     },
     "5dcf5693caf245c08c68c0d330d2543c": {
      "model_module": "@jupyter-widgets/controls",
      "model_module_version": "1.2.0",
      "model_name": "LabelModel",
      "state": {
       "layout": "IPY_MODEL_4d4e6eb88eac4af28039da51b6bf5d5c",
       "style": "IPY_MODEL_8579e9cd72c1474f8b1293eb120a708e",
       "value": "Shape :"
      }
     },
     "5df47177f3954816a1f8ef13d98e3f99": {
      "model_module": "@jupyter-widgets/base",
      "model_module_version": "1.0.0",
      "model_name": "LayoutModel",
      "state": {
       "padding": "0 15px 0 35px"
      }
     },
     "5e10a2cf65c44b9b9b66cbbb2925bcc6": {
      "model_module": "@jupyter-widgets/base",
      "model_module_version": "1.0.0",
      "model_name": "LayoutModel",
      "state": {}
     },
     "5e5018ff85fa4101a119865a2561ba1b": {
      "model_module": "@jupyter-widgets/controls",
      "model_module_version": "1.2.0",
      "model_name": "DescriptionStyleModel",
      "state": {
       "description_width": ""
      }
     },
     "5e5a65d3c34e41158f6968d3e460f526": {
      "model_module": "@jupyter-widgets/base",
      "model_module_version": "1.0.0",
      "model_name": "LayoutModel",
      "state": {}
     },
     "5e765f3974e84e109ae881aa0e1eae46": {
      "model_module": "@jupyter-widgets/controls",
      "model_module_version": "1.2.0",
      "model_name": "LabelModel",
      "state": {
       "layout": "IPY_MODEL_9dc7a1d2e4e54fdc8e4a6f48d94717fe",
       "style": "IPY_MODEL_b429a2432a3341c6a855955a751f737e",
       "value": "Start"
      }
     },
     "5e777df5b8c24fe89c0fe67b14e1c08c": {
      "model_module": "@jupyter-widgets/controls",
      "model_module_version": "1.2.0",
      "model_name": "DescriptionStyleModel",
      "state": {
       "description_width": ""
      }
     },
     "5e795b067b564170bc3dac4d3a216cee": {
      "model_module": "@jupyter-widgets/controls",
      "model_module_version": "1.2.0",
      "model_name": "DescriptionStyleModel",
      "state": {
       "description_width": ""
      }
     },
     "5e86430ffad544a58e6c626969d05cd4": {
      "model_module": "@jupyter-widgets/controls",
      "model_module_version": "1.2.0",
      "model_name": "DescriptionStyleModel",
      "state": {
       "description_width": ""
      }
     },
     "5e8a2a816ed54da7886fd7969f1f08c9": {
      "model_module": "@jupyter-widgets/base",
      "model_module_version": "1.0.0",
      "model_name": "LayoutModel",
      "state": {}
     },
     "5e8acb57392943f6ab231e7b70aed52e": {
      "model_module": "@jupyter-widgets/controls",
      "model_module_version": "1.2.0",
      "model_name": "HBoxModel",
      "state": {
       "children": [
        "IPY_MODEL_903adcf9dec4418d8e1e88b54ca32d8a"
       ],
       "layout": "IPY_MODEL_a68dbe5347374aacb42bc81f2f8e0397"
      }
     },
     "5ebc032f6d264e9294fb5481114e3c70": {
      "model_module": "@jupyter-widgets/controls",
      "model_module_version": "1.2.0",
      "model_name": "HTMLModel",
      "state": {
       "layout": "IPY_MODEL_34b918b8c5374296a6526fc344daf97b",
       "style": "IPY_MODEL_3f05915d259a4995a882846119095744",
       "value": "<h2 class='text-danger text-center'>Coming Soon! Wait for Update</h2>"
      }
     },
     "5ec2ff37f2694bba844c92e892fbda70": {
      "model_module": "@jupyter-widgets/controls",
      "model_module_version": "1.2.0",
      "model_name": "DescriptionStyleModel",
      "state": {
       "description_width": ""
      }
     },
     "5ef114ef04c34b01b306332e24c31061": {
      "model_module": "@jupyter-widgets/controls",
      "model_module_version": "1.2.0",
      "model_name": "LabelModel",
      "state": {
       "layout": "IPY_MODEL_76ca2b89472f432696bc34a9b73c3604",
       "style": "IPY_MODEL_c7d292284ad1454e8164c1eb685369e8",
       "value": "Behind/In-Front :"
      }
     },
     "5f26b59ff8134508817533cdf1f2ec59": {
      "model_module": "@jupyter-widgets/base",
      "model_module_version": "1.0.0",
      "model_name": "LayoutModel",
      "state": {
       "justify_content": "center",
       "padding": "10px 0px 0px 0px"
      }
     },
     "5f5a94ba37b444bc87e4973daaa784aa": {
      "model_module": "@jupyter-widgets/base",
      "model_module_version": "1.0.0",
      "model_name": "LayoutModel",
      "state": {
       "justify_content": "center",
       "padding": "10px 0px 0px 0px"
      }
     },
     "5f7d7592a49446199a34be7925f375d9": {
      "model_module": "@jupyter-widgets/base",
      "model_module_version": "1.0.0",
      "model_name": "LayoutModel",
      "state": {
       "display": "none"
      }
     },
     "5f88c0f736ff4ca98be659bf65e331d1": {
      "model_module": "@jupyter-widgets/controls",
      "model_module_version": "1.2.0",
      "model_name": "ButtonModel",
      "state": {
       "button_style": "danger",
       "description": "Delete",
       "layout": "IPY_MODEL_ef51575ce06041de94c5cfabb9055777",
       "style": "IPY_MODEL_42498801c37c499eaae79d06b4ad49f3"
      }
     },
     "5fa2b774ff3e419191f792d021d17319": {
      "model_module": "@jupyter-widgets/base",
      "model_module_version": "1.0.0",
      "model_name": "LayoutModel",
      "state": {
       "visibility": "hidden"
      }
     },
     "5feb2cd6a01a4ab495c87de3e6a99554": {
      "model_module": "@jupyter-widgets/controls",
      "model_module_version": "1.2.0",
      "model_name": "ButtonStyleModel",
      "state": {}
     },
     "600ed6b70a0640e4b5d513ebd2f03869": {
      "model_module": "@jupyter-widgets/controls",
      "model_module_version": "1.2.0",
      "model_name": "VBoxModel",
      "state": {
       "children": [
        "IPY_MODEL_eea9e3ee532c4be3a810be44152c52a7",
        "IPY_MODEL_8c34bf9215014469b6097f41d4c7db9c",
        "IPY_MODEL_cf28e818c56e41c991173d4f37bfef86",
        "IPY_MODEL_abb7c7f7650f4bae945def943fcbf7db"
       ],
       "layout": "IPY_MODEL_ec0a295a1eda4c1b895aea724d06bb6e"
      }
     },
     "6021b609e5c24d298c29e8711d481c3d": {
      "model_module": "@jupyter-widgets/controls",
      "model_module_version": "1.2.0",
      "model_name": "ToggleButtonsStyleModel",
      "state": {
       "button_width": "",
       "description_width": ""
      }
     },
     "606d98afd9af4d84ad31f1340d06e645": {
      "model_module": "@jupyter-widgets/controls",
      "model_module_version": "1.2.0",
      "model_name": "DropdownModel",
      "state": {
       "_options_labels": [
        "center",
        "top",
        "bottom",
        "left",
        "right"
       ],
       "index": 0,
       "layout": "IPY_MODEL_cf67d1f6c01548ffacdc6db57b3ebbcd",
       "style": "IPY_MODEL_fa6233321ec84c97aaf1ae262fda2800"
      }
     },
     "607859f013b245deb9ede060b1affad9": {
      "model_module": "@jupyter-widgets/base",
      "model_module_version": "1.0.0",
      "model_name": "LayoutModel",
      "state": {}
     },
     "60c92c4fcdf04555b0f2f03b0e19cbc2": {
      "model_module": "@jupyter-widgets/base",
      "model_module_version": "1.0.0",
      "model_name": "LayoutModel",
      "state": {
       "width": "auto"
      }
     },
     "60e0161efab24c998b04081e4697434f": {
      "model_module": "@jupyter-widgets/controls",
      "model_module_version": "1.2.0",
      "model_name": "PasswordModel",
      "state": {
       "description": "Password :",
       "layout": "IPY_MODEL_aca032db7fc04596a8ec170c9859a42d",
       "style": "IPY_MODEL_d4a1735317ae44abbd571b2acbca36bd"
      }
     },
     "6108d2a38cd94856a97835a955679ce5": {
      "model_module": "@jupyter-widgets/base",
      "model_module_version": "1.0.0",
      "model_name": "LayoutModel",
      "state": {}
     },
     "611332dee30a41b48bcb7cc0a7a1ecf6": {
      "model_module": "@jupyter-widgets/controls",
      "model_module_version": "1.2.0",
      "model_name": "DescriptionStyleModel",
      "state": {
       "description_width": ""
      }
     },
     "61281b8d5e54457cb80a7af00a1fd5d7": {
      "model_module": "@jupyter-widgets/controls",
      "model_module_version": "1.2.0",
      "model_name": "HBoxModel",
      "state": {
       "children": [
        "IPY_MODEL_789caf04e4dc4db6b1f6161a4567f0ed",
        "IPY_MODEL_9e12d0873a9c460eab5c64c79152ba2a",
        "IPY_MODEL_406a88d7a96947b896252c1d9547c969",
        "IPY_MODEL_a37885c7d380413aaeb006a5699bd36c"
       ],
       "layout": "IPY_MODEL_e9e1a1874d2d419dabfb32ebb61c49ff"
      }
     },
     "619585543bb94e10b4b7e172b50898b3": {
      "model_module": "@jupyter-widgets/controls",
      "model_module_version": "1.2.0",
      "model_name": "HTMLModel",
      "state": {
       "layout": "IPY_MODEL_4ff91f3857f4446bb541f140e05551c4",
       "style": "IPY_MODEL_317af63d31b540d2bae7e37c98093b6a",
       "value": "<h2 class='text-danger text-center'>Coming Soon! Wait for Update</h2>"
      }
     },
     "61a9778938cb4964aefe51b9d8e30c8e": {
      "model_module": "@jupyter-widgets/controls",
      "model_module_version": "1.2.0",
      "model_name": "DescriptionStyleModel",
      "state": {
       "description_width": ""
      }
     },
     "62187e882c6842a9afd24b1dbb227faa": {
      "model_module": "@jupyter-widgets/controls",
      "model_module_version": "1.2.0",
      "model_name": "LabelModel",
      "state": {
       "layout": "IPY_MODEL_04d496355c1a4ed196ad85948e8e2401",
       "style": "IPY_MODEL_af1150c604d348e1a90290f14f1e6c8a",
       "value": "Behind/In-Front :"
      }
     },
     "629005e10a20449f8081205c0bc7b13d": {
      "model_module": "@jupyter-widgets/controls",
      "model_module_version": "1.2.0",
      "model_name": "FloatSliderModel",
      "state": {
       "layout": "IPY_MODEL_24495ba198974340ab5c92ef1b116251",
       "max": 1,
       "step": 0.05,
       "style": "IPY_MODEL_4f78d259e1684b60b79b9be3c9a0ab4a",
       "value": 0.5
      }
     },
     "62d353929dbe43629f3661a537780d32": {
      "model_module": "@jupyter-widgets/controls",
      "model_module_version": "1.2.0",
      "model_name": "DescriptionStyleModel",
      "state": {
       "description_width": ""
      }
     },
     "62e9cb79d3e8436aa64c2ab649ebe1fc": {
      "model_module": "@jupyter-widgets/base",
      "model_module_version": "1.0.0",
      "model_name": "LayoutModel",
      "state": {}
     },
     "632bc581f85248d6bf35d29f323b666c": {
      "model_module": "@jupyter-widgets/base",
      "model_module_version": "1.0.0",
      "model_name": "LayoutModel",
      "state": {
       "padding": "10px 0px 0px 0px"
      }
     },
     "633925ca7a0f4a35bbdfc4a963167c5d": {
      "model_module": "@jupyter-widgets/base",
      "model_module_version": "1.0.0",
      "model_name": "LayoutModel",
      "state": {
       "justify_content": "center",
       "padding": "0px 0px 10px 0px"
      }
     },
     "63702c1205674be9a7be1a94cd0c9c47": {
      "model_module": "@jupyter-widgets/controls",
      "model_module_version": "1.2.0",
      "model_name": "TextareaModel",
      "state": {
       "layout": "IPY_MODEL_a75e2bb0345b424abe778abc78f8ba33",
       "style": "IPY_MODEL_5642a44f7f354405a8773e10369e74f5"
      }
     },
     "637337e4bba14a00bc095c3c31c46869": {
      "model_module": "@jupyter-widgets/controls",
      "model_module_version": "1.2.0",
      "model_name": "HTMLModel",
      "state": {
       "layout": "IPY_MODEL_d94387af37b64cd08b020925fd562c8a",
       "style": "IPY_MODEL_c7a2cae689de41b280b81fa98034be45",
       "value": "<h4 style='color: purple' >Edges</h4>"
      }
     },
     "63846b158dc541ffbb01a1bd0e4560a8": {
      "model_module": "@jupyter-widgets/controls",
      "model_module_version": "1.2.0",
      "model_name": "HTMLModel",
      "state": {
       "layout": "IPY_MODEL_cadbf3067651425a83f76bb8fc7520d9",
       "style": "IPY_MODEL_e7611a6a847143799f3d8ce05f3602b0",
       "value": "<h2 class='text-danger text-center'>Coming Soon! Wait for Update</h2>"
      }
     },
     "6388f4eade6044d3aeeded3fb6b63cb4": {
      "model_module": "@jupyter-widgets/controls",
      "model_module_version": "1.2.0",
      "model_name": "VBoxModel",
      "state": {
       "children": [
        "IPY_MODEL_b8c4ba1de0d44d46b1239cb376bdd441",
        "IPY_MODEL_eeb105981ff446be9ee0c6b9848216a6",
        "IPY_MODEL_7b23e58c7b894f68977812fbd603c941",
        "IPY_MODEL_eec916b64c944e7f9649fbb6001c2b72",
        "IPY_MODEL_e3419f649bbb478ea607d013ea5b4fab",
        "IPY_MODEL_f3d5f2f0f1db492a8e8c3c7244f295c3"
       ],
       "layout": "IPY_MODEL_647637fd686e4d9491483613c4a5c885"
      }
     },
     "63979dc294eb430f85c47caaded0d062": {
      "model_module": "@jupyter-widgets/controls",
      "model_module_version": "1.2.0",
      "model_name": "HTMLModel",
      "state": {
       "layout": "IPY_MODEL_a974a5e353ac46ad9c7ce77ad90a7de7",
       "style": "IPY_MODEL_fc3604e44b324fa39516fa3aeeb2ccf3",
       "value": "<h4 style='color:purple'>Edge :</h4>"
      }
     },
     "63b2214c0aa340ee99d13d51d5e47525": {
      "model_module": "@jupyter-widgets/controls",
      "model_module_version": "1.2.0",
      "model_name": "DescriptionStyleModel",
      "state": {
       "description_width": ""
      }
     },
     "63c981b051c94c94bc1e98c3747a396f": {
      "model_module": "@jupyter-widgets/controls",
      "model_module_version": "1.2.0",
      "model_name": "DescriptionStyleModel",
      "state": {
       "description_width": ""
      }
     },
     "63eca3df9188434693a3d0b52a6dfca4": {
      "model_module": "@jupyter-widgets/base",
      "model_module_version": "1.0.0",
      "model_name": "LayoutModel",
      "state": {
       "padding": "0 15px 0 35px"
      }
     },
     "63ee0c9a519e4eb6878539c932c1d7a6": {
      "model_module": "@jupyter-widgets/controls",
      "model_module_version": "1.2.0",
      "model_name": "VBoxModel",
      "state": {
       "children": [
        "IPY_MODEL_95a0e7ddf4e84f2cbd11823112293444",
        "IPY_MODEL_0d834bc6bf114883934886ae87ab76cc"
       ],
       "layout": "IPY_MODEL_7d529d60229c4b768358587510cb2a90"
      }
     },
     "644ef6a58a854798b42e96f7bc1418ab": {
      "model_module": "@jupyter-widgets/controls",
      "model_module_version": "1.2.0",
      "model_name": "VBoxModel",
      "state": {
       "children": [
        "IPY_MODEL_09a8b4e5119740f086a8843174ac1795",
        "IPY_MODEL_f61f06d194e2405f9c6b19dbdbed91c3",
        "IPY_MODEL_a2fb34575fbc40428a56eeb4ac5cd3d2",
        "IPY_MODEL_d4d12abb1d2b4f5983cd656ffb5463d8"
       ],
       "layout": "IPY_MODEL_06386e140a3a4bf7935398fc7ce082d0"
      }
     },
     "645187fc14714663ba0be8ba7853c1a8": {
      "model_module": "@jupyter-widgets/controls",
      "model_module_version": "1.2.0",
      "model_name": "DescriptionStyleModel",
      "state": {
       "description_width": ""
      }
     },
     "645652fe8ccb4a028b82619a197e39f7": {
      "model_module": "@jupyter-widgets/base",
      "model_module_version": "1.0.0",
      "model_name": "LayoutModel",
      "state": {}
     },
     "64713cdf54a84027bdf6e2c66e3da101": {
      "model_module": "@jupyter-widgets/base",
      "model_module_version": "1.0.0",
      "model_name": "LayoutModel",
      "state": {
       "margin": "10px 0 0 0",
       "width": "auto"
      }
     },
     "647637fd686e4d9491483613c4a5c885": {
      "model_module": "@jupyter-widgets/base",
      "model_module_version": "1.0.0",
      "model_name": "LayoutModel",
      "state": {}
     },
     "648eef3826c540d8a30b0ae5e9792bf2": {
      "model_module": "@jupyter-widgets/base",
      "model_module_version": "1.0.0",
      "model_name": "LayoutModel",
      "state": {}
     },
     "649f6345400f49b5b1686d7ded6a5a98": {
      "model_module": "@jupyter-widgets/controls",
      "model_module_version": "1.2.0",
      "model_name": "HTMLModel",
      "state": {
       "layout": "IPY_MODEL_645652fe8ccb4a028b82619a197e39f7",
       "style": "IPY_MODEL_7ebcd58a1eff472b958601b02c45b98d",
       "value": "<h4 style='color:DarkKhaki'>Node :</h4>"
      }
     },
     "64e567d9a5f743b1b66430bd8970f375": {
      "model_module": "@jupyter-widgets/controls",
      "model_module_version": "1.2.0",
      "model_name": "IntSliderModel",
      "state": {
       "layout": "IPY_MODEL_31154fea64514e11aa1ec189a23a1e2b",
       "max": 200,
       "min": 1,
       "style": "IPY_MODEL_f2a2144c913f4a16995b067b29d85320",
       "value": 30
      }
     },
     "651f32435d494484a38ecfa54945d911": {
      "model_module": "@jupyter-widgets/base",
      "model_module_version": "1.0.0",
      "model_name": "LayoutModel",
      "state": {}
     },
     "654bca6bcf9348ccb498af3383abc0eb": {
      "model_module": "@jupyter-widgets/base",
      "model_module_version": "1.0.0",
      "model_name": "LayoutModel",
      "state": {
       "align_items": "center"
      }
     },
     "65ca677abf604414983468377a97c04e": {
      "model_module": "@jupyter-widgets/controls",
      "model_module_version": "1.2.0",
      "model_name": "HTMLModel",
      "state": {
       "layout": "IPY_MODEL_980b8a7bfa10476d82a265aa805d6988",
       "style": "IPY_MODEL_68e398a72f7d4dfab3b872f79928a89c",
       "value": "<h4 style='color:DarkKhaki'>Node :</h4>"
      }
     },
     "65e376e5278e41978651269aee7455b8": {
      "model_module": "@jupyter-widgets/controls",
      "model_module_version": "1.2.0",
      "model_name": "HBoxModel",
      "state": {
       "children": [
        "IPY_MODEL_fa764e300b974beca36ac54b0a20a6b9",
        "IPY_MODEL_d501553ea9e044ba80674f13eba8df52"
       ],
       "layout": "IPY_MODEL_17a9175e6335431c91e382dcbe47c858"
      }
     },
     "65e4c247e1c942839a1c1eac70c15149": {
      "model_module": "@jupyter-widgets/controls",
      "model_module_version": "1.2.0",
      "model_name": "HTMLModel",
      "state": {
       "layout": "IPY_MODEL_bc13e8203aa0409c84abe6abe1f284cc",
       "style": "IPY_MODEL_dc57924c3ab24ce29691cbb566e71d59",
       "value": "<p>&nbsp&nbsp&nbsp&nbsp&nbsp</p>"
      }
     },
     "66342779be0441e98484fc21a84a0bd1": {
      "model_module": "@jupyter-widgets/controls",
      "model_module_version": "1.2.0",
      "model_name": "DescriptionStyleModel",
      "state": {
       "description_width": ""
      }
     },
     "66b5e22a2c4c4f529e1470bb2e7c76fa": {
      "model_module": "@jupyter-widgets/base",
      "model_module_version": "1.0.0",
      "model_name": "LayoutModel",
      "state": {
       "visibility": "hidden"
      }
     },
     "66bc9880589a4157bf98dd539667d030": {
      "model_module": "@jupyter-widgets/controls",
      "model_module_version": "1.2.0",
      "model_name": "HBoxModel",
      "state": {
       "children": [
        "IPY_MODEL_565b17c6cd0f41ff895487c5534c22e0",
        "IPY_MODEL_e3419f649bbb478ea607d013ea5b4fab"
       ],
       "layout": "IPY_MODEL_673d8509903847c1b14be182b4ca55b2"
      }
     },
     "66c4cbeb33114bea81ac03a6570a27df": {
      "model_module": "@jupyter-widgets/base",
      "model_module_version": "1.0.0",
      "model_name": "LayoutModel",
      "state": {
       "margin": "2px 25px 2px 0px",
       "width": "auto"
      }
     },
     "66cdd8a4f49a46688841ca4881d95e38": {
      "model_module": "@jupyter-widgets/base",
      "model_module_version": "1.0.0",
      "model_name": "LayoutModel",
      "state": {
       "padding": "0 15px 0 35px"
      }
     },
     "66e4ff772f5649fc93b24aae4ea174d9": {
      "model_module": "@jupyter-widgets/controls",
      "model_module_version": "1.2.0",
      "model_name": "HBoxModel",
      "state": {
       "children": [
        "IPY_MODEL_59f812db0fb1421b87c4c514206773c3",
        "IPY_MODEL_e64e33c849684b2ca055477e09afa3f0"
       ],
       "layout": "IPY_MODEL_e565acedd1574fdbb2b7db3f3ed0e4e6"
      }
     },
     "6700fa681f5f43c8b1995864401e201b": {
      "model_module": "@jupyter-widgets/base",
      "model_module_version": "1.0.0",
      "model_name": "LayoutModel",
      "state": {}
     },
     "673d8509903847c1b14be182b4ca55b2": {
      "model_module": "@jupyter-widgets/base",
      "model_module_version": "1.0.0",
      "model_name": "LayoutModel",
      "state": {
       "padding": "10px 0px 0px 0px"
      }
     },
     "6782abc6690e40a6b7f96a1c5eac63b0": {
      "model_module": "@jupyter-widgets/base",
      "model_module_version": "1.0.0",
      "model_name": "LayoutModel",
      "state": {
       "margin": "0px 0px 0px 5px",
       "min_width": "30px"
      }
     },
     "6784df28fc7d4be4b066911aaa2cc5cc": {
      "model_module": "@jupyter-widgets/base",
      "model_module_version": "1.0.0",
      "model_name": "LayoutModel",
      "state": {
       "height": "40px",
       "min_width": "50px",
       "width": "10%"
      }
     },
     "67af5da896c24d759d73c48e73c1b87b": {
      "model_module": "@jupyter-widgets/base",
      "model_module_version": "1.0.0",
      "model_name": "LayoutModel",
      "state": {
       "padding": "10px 0px 0px 0px"
      }
     },
     "67f0c9143dec4d9abf93dde22b599b99": {
      "model_module": "@jupyter-widgets/controls",
      "model_module_version": "1.2.0",
      "model_name": "DescriptionStyleModel",
      "state": {
       "description_width": ""
      }
     },
     "68167cd86c094649af71ffd869e26e15": {
      "model_module": "@jupyter-widgets/controls",
      "model_module_version": "1.2.0",
      "model_name": "HBoxModel",
      "state": {
       "children": [
        "IPY_MODEL_3758c09e14954600925e05eea2a1b77d",
        "IPY_MODEL_c364644b7ebf4d79b652df7497cf3876"
       ],
       "layout": "IPY_MODEL_e1f9924e29c34477836896901c0244eb"
      }
     },
     "6825afc9c8614dc5a32fd5b21c2a4561": {
      "model_module": "@jupyter-widgets/controls",
      "model_module_version": "1.2.0",
      "model_name": "HTMLModel",
      "state": {
       "layout": "IPY_MODEL_bc33487ee9bf40d3b32dd2dab34546a7",
       "style": "IPY_MODEL_a0e82d6c780147eaa688bc000cc44339",
       "value": "<h5>Description</h5>"
      }
     },
     "683b8eae665043249097c720dfb7c4d4": {
      "model_module": "@jupyter-widgets/base",
      "model_module_version": "1.0.0",
      "model_name": "LayoutModel",
      "state": {}
     },
     "683ba9a524d548c0950b0755878108a4": {
      "model_module": "@jupyter-widgets/controls",
      "model_module_version": "1.2.0",
      "model_name": "DescriptionStyleModel",
      "state": {
       "description_width": ""
      }
     },
     "686c6d84c9db4351ab9252eec8ff6ddf": {
      "model_module": "@jupyter-widgets/base",
      "model_module_version": "1.0.0",
      "model_name": "LayoutModel",
      "state": {
       "justify_content": "center"
      }
     },
     "68b48ba4d11e428fbfd420ef4b27146e": {
      "model_module": "@jupyter-widgets/controls",
      "model_module_version": "1.2.0",
      "model_name": "DescriptionStyleModel",
      "state": {
       "description_width": ""
      }
     },
     "68c183ae5a854fbcbd38038d4fb55219": {
      "model_module": "@jupyter-widgets/controls",
      "model_module_version": "1.2.0",
      "model_name": "ButtonStyleModel",
      "state": {}
     },
     "68e398a72f7d4dfab3b872f79928a89c": {
      "model_module": "@jupyter-widgets/controls",
      "model_module_version": "1.2.0",
      "model_name": "DescriptionStyleModel",
      "state": {
       "description_width": ""
      }
     },
     "6954e944dbbf4284b83b30fd17e4fdbb": {
      "model_module": "@jupyter-widgets/controls",
      "model_module_version": "1.2.0",
      "model_name": "AccordionModel",
      "state": {
       "_titles": {
        "0": "Style",
        "1": "Label",
        "2": "Variables"
       },
       "children": [
        "IPY_MODEL_e19cb78a8fdf416a9885041618c719cd",
        "IPY_MODEL_6388f4eade6044d3aeeded3fb6b63cb4",
        "IPY_MODEL_a084ec5fc5dd4c0da6fcb029240196c8"
       ],
       "layout": "IPY_MODEL_c351d45f98a64f368bc86ee4ef25be9f"
      }
     },
     "696bd93e248a4cde8a5a5c498870fa3d": {
      "model_module": "@jupyter-widgets/base",
      "model_module_version": "1.0.0",
      "model_name": "LayoutModel",
      "state": {}
     },
     "69dc03fdb60548479144e7087a7cea9d": {
      "model_module": "@jupyter-widgets/base",
      "model_module_version": "1.0.0",
      "model_name": "LayoutModel",
      "state": {
       "padding": "10px 0px 0px 0px"
      }
     },
     "6a0fa75d3e924e7f9a43fc4089d214a9": {
      "model_module": "@jupyter-widgets/base",
      "model_module_version": "1.0.0",
      "model_name": "LayoutModel",
      "state": {
       "padding": "0 15px 0 35px"
      }
     },
     "6a2dc646b9054ad99c8566439287c333": {
      "model_module": "@jupyter-widgets/controls",
      "model_module_version": "1.2.0",
      "model_name": "HBoxModel",
      "state": {
       "children": [
        "IPY_MODEL_28b8211f80294c2ba9a74f29c42adff4",
        "IPY_MODEL_b3dfa0fa980249d6bca4721d4fb4020c",
        "IPY_MODEL_d76627ddea3f4091bc060ec2bbee6f6e",
        "IPY_MODEL_be1c933222c240d385bdd0734c5cc649"
       ],
       "layout": "IPY_MODEL_fc805ccf17794626998a66c65d6ad9ec"
      }
     },
     "6a350c99eeaa48288f2e55b06ee7b900": {
      "model_module": "@jupyter-widgets/base",
      "model_module_version": "1.0.0",
      "model_name": "LayoutModel",
      "state": {
       "justify_content": "center",
       "margin": "0 0 15px 0"
      }
     },
     "6a64d4d4178443a5821fe95d41944974": {
      "model_module": "@jupyter-widgets/controls",
      "model_module_version": "1.2.0",
      "model_name": "VBoxModel",
      "state": {
       "layout": "IPY_MODEL_b945f7ef1d8e45c2951da9aab5039d94"
      }
     },
     "6a9e5a6c5bad46eda4d4212fb64584be": {
      "model_module": "@jupyter-widgets/controls",
      "model_module_version": "1.2.0",
      "model_name": "DescriptionStyleModel",
      "state": {
       "description_width": ""
      }
     },
     "6ae9b1a2ddd74b11ba1e2c028dec5ed2": {
      "model_module": "@jupyter-widgets/controls",
      "model_module_version": "1.2.0",
      "model_name": "VBoxModel",
      "state": {
       "children": [
        "IPY_MODEL_8069d9f9f41c4eadbfe271c75f92892f",
        "IPY_MODEL_0f6c5527e49a49de8db460678b60ac09",
        "IPY_MODEL_fe525c16ef8f412ea766e2246be5ed6c",
        "IPY_MODEL_9e2702f0d5c54851a836c4f72a5d2177"
       ],
       "layout": "IPY_MODEL_a15e54851d1e4bd68b0f7cc806858a68"
      }
     },
     "6b1e5b912aaa40b3b4daaa1c457546c8": {
      "model_module": "@jupyter-widgets/controls",
      "model_module_version": "1.2.0",
      "model_name": "LabelModel",
      "state": {
       "layout": "IPY_MODEL_473dda2284db41428e992d8ff6be0c6c",
       "style": "IPY_MODEL_797ffc0794114b92b64c63a0002e997b",
       "value": "See-Through :"
      }
     },
     "6b63028939f6456c93101542461aed78": {
      "model_module": "@jupyter-widgets/controls",
      "model_module_version": "1.2.0",
      "model_name": "HTMLModel",
      "state": {
       "layout": "IPY_MODEL_9836233a715d41bda693537c41da2c83",
       "style": "IPY_MODEL_dba0116b706f4871bb6c35977c4c469e",
       "value": " <h3 class='text-center text-success' style='margin:0'> Saved!</h3>"
      }
     },
     "6b664106116f4d84a9dfa06f1cba7c26": {
      "model_module": "@jupyter-widgets/controls",
      "model_module_version": "1.2.0",
      "model_name": "DescriptionStyleModel",
      "state": {
       "description_width": ""
      }
     },
     "6b746c73d76d43ec982f5bde754323c2": {
      "model_module": "@jupyter-widgets/controls",
      "model_module_version": "1.2.0",
      "model_name": "TextModel",
      "state": {
       "layout": "IPY_MODEL_7d51913d397c48eaa5762621ec3b776e",
       "style": "IPY_MODEL_cf87c368a1eb43f29c6ddabb6ee0a0d8"
      }
     },
     "6b8e905f7345415194db203c2ef775fd": {
      "model_module": "@jupyter-widgets/controls",
      "model_module_version": "1.2.0",
      "model_name": "ToggleButtonsModel",
      "state": {
       "_options_labels": [
        "Python",
        "HTML",
        "NDEX"
       ],
       "button_style": "success",
       "icons": [],
       "index": 0,
       "layout": "IPY_MODEL_8699d8278abb4de18f1965a9830a4707",
       "style": "IPY_MODEL_6d9c5fd56776446b9e27ffde04d97c46",
       "tooltips": []
      }
     },
     "6baf81dcf3934b1fb92eb63f26c6bc72": {
      "model_module": "@jupyter-widgets/base",
      "model_module_version": "1.0.0",
      "model_name": "LayoutModel",
      "state": {
       "width": "auto"
      }
     },
     "6bbeb1e1883e47cba29b91a62b78ec42": {
      "model_module": "@jupyter-widgets/controls",
      "model_module_version": "1.2.0",
      "model_name": "HBoxModel",
      "state": {
       "children": [
        "IPY_MODEL_c5e717d5e11d4c8a91816c826ec85dc1",
        "IPY_MODEL_606d98afd9af4d84ad31f1340d06e645"
       ],
       "layout": "IPY_MODEL_f9d086286dcf4770a6cd196e93dbcc36"
      }
     },
     "6bcf2ae7fdd3478480a651f444832d2f": {
      "model_module": "@jupyter-widgets/base",
      "model_module_version": "1.0.0",
      "model_name": "LayoutModel",
      "state": {}
     },
     "6bd388abd33a49998250ed4cc9fa9df0": {
      "model_module": "@jupyter-widgets/controls",
      "model_module_version": "1.2.0",
      "model_name": "LabelModel",
      "state": {
       "layout": "IPY_MODEL_cbdbfe05708a4eb784a3a2810c84a646",
       "style": "IPY_MODEL_12e315bcc9b54ab9b536caa7cb72918a",
       "value": "Size :"
      }
     },
     "6bde17992e5748f0bbdd77077c5853ee": {
      "model_module": "@jupyter-widgets/controls",
      "model_module_version": "1.2.0",
      "model_name": "LabelModel",
      "state": {
       "layout": "IPY_MODEL_095b7385930040df917c80105942a53a",
       "style": "IPY_MODEL_a981b6ccb0a94900b85c8cc60cc88dca",
       "value": "Text :"
      }
     },
     "6be5629ab4b14e909219bbd762064d33": {
      "model_module": "@jupyter-widgets/base",
      "model_module_version": "1.0.0",
      "model_name": "LayoutModel",
      "state": {
       "margin": "2px 25px 2px 0px",
       "width": "auto"
      }
     },
     "6be6f511c06a42b58e882b4427597e42": {
      "model_module": "@jupyter-widgets/controls",
      "model_module_version": "1.2.0",
      "model_name": "HBoxModel",
      "state": {
       "children": [
        "IPY_MODEL_2d22d400d6704c75a6b1c58baa103aef",
        "IPY_MODEL_56ecddebd0d0499980a0bc2e53dcbd75"
       ],
       "layout": "IPY_MODEL_814c6acd97374969b1b94426703845e3"
      }
     },
     "6c3ed88a0c6044beb2721d91d993e245": {
      "model_module": "@jupyter-widgets/controls",
      "model_module_version": "1.2.0",
      "model_name": "ToggleButtonModel",
      "state": {
       "icon": "eye",
       "layout": "IPY_MODEL_01473824e5db4964b6986d9136f0333f",
       "style": "IPY_MODEL_63c981b051c94c94bc1e98c3747a396f"
      }
     },
     "6c56c5236f944e2298e8ae5dcb253b76": {
      "model_module": "@jupyter-widgets/base",
      "model_module_version": "1.0.0",
      "model_name": "LayoutModel",
      "state": {
       "width": "auto"
      }
     },
     "6c8120c7356b43e28bdf9cb5ee3badce": {
      "model_module": "@jupyter-widgets/controls",
      "model_module_version": "1.2.0",
      "model_name": "ButtonModel",
      "state": {
       "button_style": "danger",
       "description": "Delete",
       "layout": "IPY_MODEL_5bc2f5b90c114e44850a0530b48c77f1",
       "style": "IPY_MODEL_0655d8e8a2934688a75f8e0d162eec79"
      }
     },
     "6ca22bbce1c74e98a27f4e70a5acaacd": {
      "model_module": "@jupyter-widgets/controls",
      "model_module_version": "1.2.0",
      "model_name": "VBoxModel",
      "state": {
       "layout": "IPY_MODEL_c554f5b2923d4c1092b6d9ef3ce0f4df"
      }
     },
     "6cc1182139b046c2ae96b713680ca3d4": {
      "model_module": "@jupyter-widgets/controls",
      "model_module_version": "1.2.0",
      "model_name": "DescriptionStyleModel",
      "state": {
       "description_width": ""
      }
     },
     "6ce40f4555d047ae8f4556ed90d31e75": {
      "model_module": "@jupyter-widgets/base",
      "model_module_version": "1.0.0",
      "model_name": "LayoutModel",
      "state": {}
     },
     "6d00f1431a1d4240abbb21f06d6db9a1": {
      "model_module": "@jupyter-widgets/controls",
      "model_module_version": "1.2.0",
      "model_name": "DescriptionStyleModel",
      "state": {
       "description_width": ""
      }
     },
     "6d081540ba1d4a859f83082b1d87dedc": {
      "model_module": "@jupyter-widgets/controls",
      "model_module_version": "1.2.0",
      "model_name": "LabelModel",
      "state": {
       "layout": "IPY_MODEL_0efc1ed4a04e48b7a508b982959ef9df",
       "style": "IPY_MODEL_ec40a42e697645d3a3f0c00cf75a0ba8",
       "value": "Start"
      }
     },
     "6d16affc09b84057943dc6445028ad04": {
      "model_module": "@jupyter-widgets/base",
      "model_module_version": "1.0.0",
      "model_name": "LayoutModel",
      "state": {
       "align_items": "center",
       "display": "none"
      }
     },
     "6d387346143a423b9ca58eda91052a86": {
      "model_module": "@jupyter-widgets/controls",
      "model_module_version": "1.2.0",
      "model_name": "DescriptionStyleModel",
      "state": {
       "description_width": ""
      }
     },
     "6d3f2f5bd66e4322b57449b159caca26": {
      "model_module": "@jupyter-widgets/base",
      "model_module_version": "1.0.0",
      "model_name": "LayoutModel",
      "state": {}
     },
     "6d4505b9f5224583a226f584003fc40b": {
      "model_module": "@jupyter-widgets/controls",
      "model_module_version": "1.2.0",
      "model_name": "HTMLModel",
      "state": {
       "layout": "IPY_MODEL_b47ad40cbd4140649dd80472be23db16",
       "style": "IPY_MODEL_d76660cee7374b86b69e83b1a6be9dbd",
       "value": "<h4 style='color: DarkKhaki'>Nodes</h4>"
      }
     },
     "6d54cd01a2834aa8a0511f6824602164": {
      "model_module": "@jupyter-widgets/controls",
      "model_module_version": "1.2.0",
      "model_name": "DescriptionStyleModel",
      "state": {
       "description_width": ""
      }
     },
     "6d5aa003378d4c2eba4dece9f81f16a1": {
      "model_module": "@jupyter-widgets/controls",
      "model_module_version": "1.2.0",
      "model_name": "HBoxModel",
      "state": {
       "children": [
        "IPY_MODEL_c9d59b9ac8de4067b76df6ac634ec35e",
        "IPY_MODEL_4bcaee55f4304bb497680dec5d6b23ea"
       ],
       "layout": "IPY_MODEL_9c06f88695dc4501a2a8eacb3ea291e2"
      }
     },
     "6d78afdcd0c2499c9baf73ed7334616c": {
      "model_module": "@jupyter-widgets/base",
      "model_module_version": "1.0.0",
      "model_name": "LayoutModel",
      "state": {}
     },
     "6d94f8522ed747ecaf70f1a4d79096b1": {
      "model_module": "@jupyter-widgets/controls",
      "model_module_version": "1.2.0",
      "model_name": "HBoxModel",
      "state": {
       "children": [
        "IPY_MODEL_d217919766084c87831b5b734337403e",
        "IPY_MODEL_0c54fc87bb3341a0bb273ba694a3a34a",
        "IPY_MODEL_3b534ac28959431a823adc7c9ed437bf"
       ],
       "layout": "IPY_MODEL_773cfc49d43c41c88e1c9f67b79b26aa"
      }
     },
     "6d9bbdde5a98485792d303655e883992": {
      "model_module": "@jupyter-widgets/base",
      "model_module_version": "1.0.0",
      "model_name": "LayoutModel",
      "state": {}
     },
     "6d9c5fd56776446b9e27ffde04d97c46": {
      "model_module": "@jupyter-widgets/controls",
      "model_module_version": "1.2.0",
      "model_name": "ToggleButtonsStyleModel",
      "state": {
       "button_width": "",
       "description_width": ""
      }
     },
     "6d9e8cc5562444e6bd9ac0186014270e": {
      "model_module": "@jupyter-widgets/controls",
      "model_module_version": "1.2.0",
      "model_name": "TextModel",
      "state": {
       "layout": "IPY_MODEL_9c24208c735e4033bd43ceeb71e0c93f",
       "style": "IPY_MODEL_569007ffbe714b52b41f21a545f28b8a"
      }
     },
     "6da3a620bcdb4619b101cd25a98a57d3": {
      "model_module": "@jupyter-widgets/base",
      "model_module_version": "1.0.0",
      "model_name": "LayoutModel",
      "state": {
       "align_items": "center",
       "justify_content": "center"
      }
     },
     "6dcd012191a848ad81dbc62a5dfb90d4": {
      "model_module": "@jupyter-widgets/controls",
      "model_module_version": "1.2.0",
      "model_name": "DescriptionStyleModel",
      "state": {
       "description_width": ""
      }
     },
     "6dd3aa7d00b14622bd51baaec3826b38": {
      "model_module": "@jupyter-widgets/controls",
      "model_module_version": "1.2.0",
      "model_name": "TextareaModel",
      "state": {
       "layout": "IPY_MODEL_1ef83bc7264249bfaf1e372dc00aa665",
       "style": "IPY_MODEL_26f4809c28084883b24840a52403c193"
      }
     },
     "6de5c82aaa5346aaa9710870ff0bf3cf": {
      "model_module": "@jupyter-widgets/base",
      "model_module_version": "1.0.0",
      "model_name": "LayoutModel",
      "state": {
       "width": "auto"
      }
     },
     "6dea0f59ee84416a8eb6320d4c0786e5": {
      "model_module": "@jupyter-widgets/controls",
      "model_module_version": "1.2.0",
      "model_name": "HBoxModel",
      "state": {
       "children": [
        "IPY_MODEL_d72a00fe271d41cb8864d7c887558e69",
        "IPY_MODEL_2de95535d741438e965edfbfea386e53"
       ],
       "layout": "IPY_MODEL_ada7e4f777d8410187f0f99745614439"
      }
     },
     "6df2064843df4d0badf604df503f1ebe": {
      "model_module": "@jupyter-widgets/base",
      "model_module_version": "1.0.0",
      "model_name": "LayoutModel",
      "state": {
       "min_width": "30px"
      }
     },
     "6df9ebca1f514914a50b8e581470bbeb": {
      "model_module": "@jupyter-widgets/base",
      "model_module_version": "1.0.0",
      "model_name": "LayoutModel",
      "state": {}
     },
     "6e09310cc96a4722a43baa0c501cd515": {
      "model_module": "@jupyter-widgets/controls",
      "model_module_version": "1.2.0",
      "model_name": "ButtonStyleModel",
      "state": {}
     },
     "6e14526f69c647eb9b00ef52484ac9dd": {
      "model_module": "@jupyter-widgets/controls",
      "model_module_version": "1.2.0",
      "model_name": "ButtonStyleModel",
      "state": {}
     },
     "6e25c86ef24e4098916cd4ed348f4eaa": {
      "model_module": "@jupyter-widgets/controls",
      "model_module_version": "1.2.0",
      "model_name": "LabelModel",
      "state": {
       "layout": "IPY_MODEL_c28c378228614e1b9143e7ab5c06cf87",
       "style": "IPY_MODEL_c0fb5ded920e42d9a57a7da96d9e1714",
       "value": "Style"
      }
     },
     "6e2fd7042e41403f8e4b3f98ff17a4b8": {
      "model_module": "@jupyter-widgets/controls",
      "model_module_version": "1.2.0",
      "model_name": "HBoxModel",
      "state": {
       "children": [
        "IPY_MODEL_2607aa9de90d412f9ff124377e855113",
        "IPY_MODEL_277ffe13971e43f680aeee031d03080c"
       ],
       "layout": "IPY_MODEL_495b92d54b9f4214a87cad5d049fc623"
      }
     },
     "6e399e318049477993bd9542a9b67aab": {
      "model_module": "@jupyter-widgets/base",
      "model_module_version": "1.0.0",
      "model_name": "LayoutModel",
      "state": {}
     },
     "6e8dced9b7e140b98db553608a0081c5": {
      "model_module": "@jupyter-widgets/base",
      "model_module_version": "1.0.0",
      "model_name": "LayoutModel",
      "state": {
       "visibility": "hidden"
      }
     },
     "6ea54630d28346768ae98893fba67b1a": {
      "model_module": "@jupyter-widgets/base",
      "model_module_version": "1.0.0",
      "model_name": "LayoutModel",
      "state": {}
     },
     "6ec88d41762847629aedc24df61b23ba": {
      "model_module": "@jupyter-widgets/controls",
      "model_module_version": "1.2.0",
      "model_name": "DescriptionStyleModel",
      "state": {
       "description_width": ""
      }
     },
     "6ece8b83f516483fbcc8926b4b4f9668": {
      "model_module": "@jupyter-widgets/controls",
      "model_module_version": "1.2.0",
      "model_name": "HTMLModel",
      "state": {
       "layout": "IPY_MODEL_28289cccdd7c4a40ba1201437051a28d",
       "style": "IPY_MODEL_a36310b9210a410b8e7cf2cc0854744d",
       "value": "<h5>Paste the <a>NDEx URL</a> of the dataset to download :</h5>"
      }
     },
     "6f0186f34ab44ba6bfc2e651a043944a": {
      "model_module": "@jupyter-widgets/controls",
      "model_module_version": "1.2.0",
      "model_name": "LabelModel",
      "state": {
       "layout": "IPY_MODEL_7f3ed3bb8b104fa1889f2dbc76889226",
       "style": "IPY_MODEL_f7acaf12a80f426da5ebb9d85215c683",
       "value": "    "
      }
     },
     "6f0d885deb1e42a2baf6f945ac1b9f7a": {
      "model_module": "@jupyter-widgets/controls",
      "model_module_version": "1.2.0",
      "model_name": "AccordionModel",
      "state": {
       "_titles": {
        "0": "Style",
        "1": "Label",
        "2": "Variables"
       },
       "children": [
        "IPY_MODEL_43367e1cb31d42109e391dab03153c31",
        "IPY_MODEL_eacec09a6a9d4e109326d1e934fb90f5",
        "IPY_MODEL_986facd4a7b54910a7c828191d656103"
       ],
       "layout": "IPY_MODEL_b9db38b416424cbab9b70cead6e30e1c"
      }
     },
     "6f4056c12c3a4aa1b3d81f944938e064": {
      "model_module": "@jupyter-widgets/controls",
      "model_module_version": "1.2.0",
      "model_name": "HBoxModel",
      "state": {
       "children": [
        "IPY_MODEL_e8df665049a344ca9400e7e42c68d2d9",
        "IPY_MODEL_2c2c4d16593c4e35ab2720c547870268"
       ],
       "layout": "IPY_MODEL_2d1ca1da4cd54520a4a644b4481e88ba"
      }
     },
     "6fcb830777c44d539c6199d8418824de": {
      "model_module": "@jupyter-widgets/controls",
      "model_module_version": "1.2.0",
      "model_name": "DescriptionStyleModel",
      "state": {
       "description_width": ""
      }
     },
     "6ffbcb277b324a09a4f630b701c62227": {
      "model_module": "@jupyter-widgets/base",
      "model_module_version": "1.0.0",
      "model_name": "LayoutModel",
      "state": {}
     },
     "7004c7e87d7042de86c5ba7d9fdc1ba8": {
      "model_module": "@jupyter-widgets/base",
      "model_module_version": "1.0.0",
      "model_name": "LayoutModel",
      "state": {
       "padding": "10px 0px 0px 0px"
      }
     },
     "704701caeb9d40b48b289a20acdf800f": {
      "model_module": "@jupyter-widgets/controls",
      "model_module_version": "1.2.0",
      "model_name": "DescriptionStyleModel",
      "state": {
       "description_width": ""
      }
     },
     "7049dfaee735419f927bf83e15d206b8": {
      "model_module": "@jupyter-widgets/base",
      "model_module_version": "1.0.0",
      "model_name": "LayoutModel",
      "state": {}
     },
     "7066ec3857a643f08f425b92d273021b": {
      "model_module": "@jupyter-widgets/controls",
      "model_module_version": "1.2.0",
      "model_name": "DescriptionStyleModel",
      "state": {
       "description_width": ""
      }
     },
     "707d221213a54e3481ac97deebcef342": {
      "model_module": "@jupyter-widgets/base",
      "model_module_version": "1.0.0",
      "model_name": "LayoutModel",
      "state": {
       "padding": "10px 0px 0px 0px"
      }
     },
     "70888c9f6dc5449a8c2473523f95afb5": {
      "model_module": "@jupyter-widgets/base",
      "model_module_version": "1.0.0",
      "model_name": "LayoutModel",
      "state": {}
     },
     "70b199de61264e24a4c269def7406c50": {
      "model_module": "@jupyter-widgets/controls",
      "model_module_version": "1.2.0",
      "model_name": "ButtonStyleModel",
      "state": {}
     },
     "70f4e3f816d7419b89ba908322526553": {
      "model_module": "@jupyter-widgets/controls",
      "model_module_version": "1.2.0",
      "model_name": "DescriptionStyleModel",
      "state": {
       "description_width": ""
      }
     },
     "70fbaa56ff3a4f42ae0386061f429a1f": {
      "model_module": "@jupyter-widgets/controls",
      "model_module_version": "1.2.0",
      "model_name": "IntSliderModel",
      "state": {
       "layout": "IPY_MODEL_0696195b44c54357a9e9267ccca851b4",
       "max": 5,
       "min": 1,
       "style": "IPY_MODEL_dc0a66d5528845a481bd551d6a1c8e3d",
       "value": 1
      }
     },
     "710e93ea808b482eb478c58750898827": {
      "model_module": "@jupyter-widgets/controls",
      "model_module_version": "1.2.0",
      "model_name": "VBoxModel",
      "state": {
       "layout": "IPY_MODEL_569090493a564670954102cc656f6de6"
      }
     },
     "71408e036e784ab69ffbbeb60e34a394": {
      "model_module": "@jupyter-widgets/base",
      "model_module_version": "1.0.0",
      "model_name": "LayoutModel",
      "state": {
       "width": "auto"
      }
     },
     "71d1344b787b4128836fc16ee93dc1a4": {
      "model_module": "@jupyter-widgets/controls",
      "model_module_version": "1.2.0",
      "model_name": "ButtonModel",
      "state": {
       "button_style": "primary",
       "description": "Create",
       "layout": "IPY_MODEL_9411b299523d4e96b02d9eeea4ed96e7",
       "style": "IPY_MODEL_d5e1a1c056254ee0a39000c57587d947"
      }
     },
     "71e8594bbba043c39ce9797e25559c97": {
      "model_module": "@jupyter-widgets/controls",
      "model_module_version": "1.2.0",
      "model_name": "DescriptionStyleModel",
      "state": {
       "description_width": ""
      }
     },
     "72721879568f47f5ac4f257fe3c1ae8e": {
      "model_module": "@jupyter-widgets/controls",
      "model_module_version": "1.2.0",
      "model_name": "VBoxModel",
      "state": {
       "children": [
        "IPY_MODEL_071e90e64cfc43f8bb5c61fb44819416",
        "IPY_MODEL_ea802a2fbe83455a8a6ab184dcdbedfd"
       ],
       "layout": "IPY_MODEL_f45ae5129bd0488d8548901ae4d62668"
      }
     },
     "727cf53909474940a054d9854fb1766a": {
      "model_module": "@jupyter-widgets/controls",
      "model_module_version": "1.2.0",
      "model_name": "SliderStyleModel",
      "state": {
       "description_width": ""
      }
     },
     "72be962233324ef6b5e45e49a83775d9": {
      "model_module": "@jupyter-widgets/base",
      "model_module_version": "1.0.0",
      "model_name": "LayoutModel",
      "state": {}
     },
     "72dcfb06197140d79230a9d50d176214": {
      "model_module": "@jupyter-widgets/controls",
      "model_module_version": "1.2.0",
      "model_name": "DescriptionStyleModel",
      "state": {
       "description_width": ""
      }
     },
     "72e466039a4d4f8ab25695b41602c426": {
      "model_module": "@jupyter-widgets/base",
      "model_module_version": "1.0.0",
      "model_name": "LayoutModel",
      "state": {}
     },
     "7311ba4cb21043f599a4af843ff2bbe2": {
      "model_module": "@jupyter-widgets/controls",
      "model_module_version": "1.2.0",
      "model_name": "ButtonStyleModel",
      "state": {}
     },
     "7320b2f06d154aeda9a6ae1e128abf24": {
      "model_module": "@jupyter-widgets/base",
      "model_module_version": "1.0.0",
      "model_name": "LayoutModel",
      "state": {
       "padding": "0 15px 0 35px"
      }
     },
     "7343fc2d8fcd4cbca68a22348828a735": {
      "model_module": "@jupyter-widgets/base",
      "model_module_version": "1.0.0",
      "model_name": "LayoutModel",
      "state": {
       "padding": "10px 0px 0px 0px"
      }
     },
     "734e98f05c8a4ffa831b1299060156e2": {
      "model_module": "@jupyter-widgets/controls",
      "model_module_version": "1.2.0",
      "model_name": "DescriptionStyleModel",
      "state": {
       "description_width": ""
      }
     },
     "73531eb19b4a460aa0942a5fe6c01c14": {
      "model_module": "@jupyter-widgets/controls",
      "model_module_version": "1.2.0",
      "model_name": "HBoxModel",
      "state": {
       "children": [
        "IPY_MODEL_e65ee8bc21b2451bab8324f936069182"
       ],
       "layout": "IPY_MODEL_a5fd8afb238a4c9eb351bde8fc4b9fb7"
      }
     },
     "7367406f2db04a0cae858caca7e3b18d": {
      "model_module": "@jupyter-widgets/base",
      "model_module_version": "1.0.0",
      "model_name": "LayoutModel",
      "state": {
       "height": "80px",
       "width": "99%"
      }
     },
     "73c9dcc15b3a478cac019a01512ebb2f": {
      "model_module": "@jupyter-widgets/controls",
      "model_module_version": "1.2.0",
      "model_name": "DescriptionStyleModel",
      "state": {
       "description_width": ""
      }
     },
     "73edd1bc44fd48c88ad5d8302c2715e5": {
      "model_module": "@jupyter-widgets/controls",
      "model_module_version": "1.2.0",
      "model_name": "DescriptionStyleModel",
      "state": {
       "description_width": ""
      }
     },
     "7409a1df5daf45119496dae185057546": {
      "model_module": "@jupyter-widgets/controls",
      "model_module_version": "1.2.0",
      "model_name": "DescriptionStyleModel",
      "state": {
       "description_width": ""
      }
     },
     "74209806c78c4277866a5c12347fe3f3": {
      "model_module": "@jupyter-widgets/base",
      "model_module_version": "1.0.0",
      "model_name": "LayoutModel",
      "state": {}
     },
     "742ea8239c494930844a21600420ca39": {
      "model_module": "@jupyter-widgets/controls",
      "model_module_version": "1.2.0",
      "model_name": "HBoxModel",
      "state": {
       "children": [
        "IPY_MODEL_6e25c86ef24e4098916cd4ed348f4eaa",
        "IPY_MODEL_2de95535d741438e965edfbfea386e53"
       ],
       "layout": "IPY_MODEL_0354773920cd4bb5a0b33bbc85e267d9"
      }
     },
     "743e32bd76bd4ff79dc1d2b362e64119": {
      "model_module": "@jupyter-widgets/base",
      "model_module_version": "1.0.0",
      "model_name": "LayoutModel",
      "state": {}
     },
     "74428a03e61540179b0a7a73b492688a": {
      "model_module": "@jupyter-widgets/base",
      "model_module_version": "1.0.0",
      "model_name": "LayoutModel",
      "state": {}
     },
     "74471cecb93d42a0968425935574e7c9": {
      "model_module": "@jupyter-widgets/controls",
      "model_module_version": "1.2.0",
      "model_name": "IntSliderModel",
      "state": {
       "layout": "IPY_MODEL_0604f4a223da4eb09a05b9b708b9ada3",
       "max": 5,
       "min": 1,
       "style": "IPY_MODEL_ef1008ce40a24767ba092fe78b1ef339",
       "value": 1
      }
     },
     "74518825b4f34ac1a55b1ec8605171ee": {
      "model_module": "@jupyter-widgets/controls",
      "model_module_version": "1.2.0",
      "model_name": "DescriptionStyleModel",
      "state": {
       "description_width": ""
      }
     },
     "7455b08d292a427c86c8e572163a399a": {
      "model_module": "@jupyter-widgets/controls",
      "model_module_version": "1.2.0",
      "model_name": "VBoxModel",
      "state": {
       "children": [
        "IPY_MODEL_1c1917b8f6f94bbaadc06db09adfafa0",
        "IPY_MODEL_a657f3a073054675965edeaaf351f4d3",
        "IPY_MODEL_318ca32e28cc44839ca5f8ab8c24025c",
        "IPY_MODEL_6dd3aa7d00b14622bd51baaec3826b38",
        "IPY_MODEL_19701db03f71455ba50e99952b348c42",
        "IPY_MODEL_444ebee5cb7a46e983d5e6f510c8bae7"
       ],
       "layout": "IPY_MODEL_cfbe3d06f2f24a21ab640b6e6cf5a35b"
      }
     },
     "746739714d6b4ba2964b6d161e635f05": {
      "model_module": "@jupyter-widgets/controls",
      "model_module_version": "1.2.0",
      "model_name": "DescriptionStyleModel",
      "state": {
       "description_width": ""
      }
     },
     "74ad1932244e44b8a2bf79e52bf33514": {
      "model_module": "@jupyter-widgets/controls",
      "model_module_version": "1.2.0",
      "model_name": "DescriptionStyleModel",
      "state": {
       "description_width": ""
      }
     },
     "74b69177fa6f44ddaf0057b4154bcf79": {
      "model_module": "@jupyter-widgets/base",
      "model_module_version": "1.0.0",
      "model_name": "LayoutModel",
      "state": {
       "padding": "10px 0px 0px 0px"
      }
     },
     "74c91001917c4c2ebefdbfb7f451059f": {
      "model_module": "@jupyter-widgets/base",
      "model_module_version": "1.0.0",
      "model_name": "LayoutModel",
      "state": {}
     },
     "74d325bc8a6048c1b50e61aa3dc74253": {
      "model_module": "@jupyter-widgets/base",
      "model_module_version": "1.0.0",
      "model_name": "LayoutModel",
      "state": {}
     },
     "7536497e35e348be983f90222b56b5fa": {
      "model_module": "@jupyter-widgets/controls",
      "model_module_version": "1.2.0",
      "model_name": "ToggleButtonsStyleModel",
      "state": {
       "button_width": "",
       "description_width": ""
      }
     },
     "75388cb81de24eb79a2f6887683ef992": {
      "model_module": "@jupyter-widgets/controls",
      "model_module_version": "1.2.0",
      "model_name": "DescriptionStyleModel",
      "state": {
       "description_width": ""
      }
     },
     "754620441d974fc18cbcc4a8f8665709": {
      "model_module": "@jupyter-widgets/controls",
      "model_module_version": "1.2.0",
      "model_name": "LabelModel",
      "state": {
       "layout": "IPY_MODEL_339339fa0b0f4953861f8aa6831d3d4d",
       "style": "IPY_MODEL_29e5890c9901415f8c379fef86175bdb",
       "value": "Shape :"
      }
     },
     "7562622e06e945368f72acb27961fd54": {
      "model_module": "@jupyter-widgets/controls",
      "model_module_version": "1.2.0",
      "model_name": "HBoxModel",
      "state": {
       "children": [
        "IPY_MODEL_00095be2352846769b80df453220508f",
        "IPY_MODEL_98ae0c6bae4d40da9dd424290cf4431c"
       ],
       "layout": "IPY_MODEL_799f3758461e444cb3b45ae0866224f4"
      }
     },
     "7595b36f3dda4f27b276f45f97891fec": {
      "model_module": "@jupyter-widgets/base",
      "model_module_version": "1.0.0",
      "model_name": "LayoutModel",
      "state": {
       "padding": "10px 0px 0px 0px"
      }
     },
     "75999f78d628474fbb7704d2db6b96d2": {
      "model_module": "@jupyter-widgets/controls",
      "model_module_version": "1.2.0",
      "model_name": "DescriptionStyleModel",
      "state": {
       "description_width": ""
      }
     },
     "75c586096ac0487bb106d03a43f766a4": {
      "model_module": "@jupyter-widgets/base",
      "model_module_version": "1.0.0",
      "model_name": "LayoutModel",
      "state": {}
     },
     "75cc5a68b08a4767872b20500c3a7659": {
      "model_module": "@jupyter-widgets/controls",
      "model_module_version": "1.2.0",
      "model_name": "DescriptionStyleModel",
      "state": {
       "description_width": ""
      }
     },
     "75e793a081b44bb1ac019d7259249a2f": {
      "model_module": "@jupyter-widgets/base",
      "model_module_version": "1.0.0",
      "model_name": "LayoutModel",
      "state": {}
     },
     "75fbcff338f446c1badfb1cb1c07f178": {
      "model_module": "@jupyter-widgets/controls",
      "model_module_version": "1.2.0",
      "model_name": "VBoxModel",
      "state": {
       "children": [
        "IPY_MODEL_ed8d751bdb0448abbc6a76984c6c1886",
        "IPY_MODEL_2b4dc2fce7334edb928d1828a97218dd",
        "IPY_MODEL_4ec02e4c262e47abbcaf8249acc8e65c",
        "IPY_MODEL_9b0a0de68c654d14911e0ca8e3300bb5"
       ],
       "layout": "IPY_MODEL_34af0661bc3f4c5a94ab760ba8085e51"
      }
     },
     "75feb25f304e4eb994cb2ad4081c3387": {
      "model_module": "@jupyter-widgets/base",
      "model_module_version": "1.0.0",
      "model_name": "LayoutModel",
      "state": {}
     },
     "7600d370ae514117a30ada18989aa1a9": {
      "model_module": "@jupyter-widgets/base",
      "model_module_version": "1.0.0",
      "model_name": "LayoutModel",
      "state": {
       "align_items": "center",
       "justify_content": "center"
      }
     },
     "7608ed3f4edc4df78702f960082b3247": {
      "model_module": "@jupyter-widgets/controls",
      "model_module_version": "1.2.0",
      "model_name": "LabelModel",
      "state": {
       "layout": "IPY_MODEL_b9939b7d3e86405b9f408bfb0ba18be8",
       "style": "IPY_MODEL_62d353929dbe43629f3661a537780d32",
       "value": "See-Through :"
      }
     },
     "760cfc2608d042dd93b33a300346ebe0": {
      "model_module": "@jupyter-widgets/base",
      "model_module_version": "1.0.0",
      "model_name": "LayoutModel",
      "state": {
       "width": "auto"
      }
     },
     "76251747177042bc814f6ad34efc98d9": {
      "model_module": "@jupyter-widgets/controls",
      "model_module_version": "1.2.0",
      "model_name": "HBoxModel",
      "state": {
       "children": [
        "IPY_MODEL_5ef114ef04c34b01b306332e24c31061",
        "IPY_MODEL_8b3035b8df4a4a418943e87e5da51276"
       ],
       "layout": "IPY_MODEL_28c7eca58b5a43b4af69d9c5deb4b6b1"
      }
     },
     "76336e836ecd4ad4b90e3c8f5266f48a": {
      "model_module": "@jupyter-widgets/controls",
      "model_module_version": "1.2.0",
      "model_name": "SliderStyleModel",
      "state": {
       "description_width": ""
      }
     },
     "765046c582c4478fbf01d317e9d843c0": {
      "model_module": "@jupyter-widgets/controls",
      "model_module_version": "1.2.0",
      "model_name": "ToggleButtonModel",
      "state": {
       "icon": "eye",
       "layout": "IPY_MODEL_44f64724289e48288e8c0c1cc0ca1f8f",
       "style": "IPY_MODEL_1c95fc9f72884c618401c6e60fa8af79"
      }
     },
     "7658ea9e756c4926b4f828ccd476ea50": {
      "model_module": "@jupyter-widgets/base",
      "model_module_version": "1.0.0",
      "model_name": "LayoutModel",
      "state": {}
     },
     "766cb5b72c0f48e3b7a131ea583ddef7": {
      "model_module": "@jupyter-widgets/controls",
      "model_module_version": "1.2.0",
      "model_name": "DescriptionStyleModel",
      "state": {
       "description_width": ""
      }
     },
     "76a77672cfa744f7a214bbc628e415a1": {
      "model_module": "@jupyter-widgets/controls",
      "model_module_version": "1.2.0",
      "model_name": "HBoxModel",
      "state": {
       "children": [
        "IPY_MODEL_7864f2a23b984058ab45cf091f93a51c",
        "IPY_MODEL_9b69a30452234519b7bb638524ea708a"
       ],
       "layout": "IPY_MODEL_9852880949aa471aa1b00d89f3cbe061"
      }
     },
     "76b55068afc245ecb9556a8baa7b67fd": {
      "model_module": "@jupyter-widgets/base",
      "model_module_version": "1.0.0",
      "model_name": "LayoutModel",
      "state": {
       "padding": "10px 0px 0px 0px"
      }
     },
     "76bc95aba1fd4e01b697f1c74f69c350": {
      "model_module": "@jupyter-widgets/base",
      "model_module_version": "1.0.0",
      "model_name": "LayoutModel",
      "state": {}
     },
     "76ca2b89472f432696bc34a9b73c3604": {
      "model_module": "@jupyter-widgets/base",
      "model_module_version": "1.0.0",
      "model_name": "LayoutModel",
      "state": {}
     },
     "770938a196b8480189f8b17c31435f0f": {
      "model_module": "@jupyter-widgets/controls",
      "model_module_version": "1.2.0",
      "model_name": "ButtonStyleModel",
      "state": {}
     },
     "770f1608b2a54075b446678edac1c5df": {
      "model_module": "@jupyter-widgets/base",
      "model_module_version": "1.0.0",
      "model_name": "LayoutModel",
      "state": {
       "margin": "10px 0 0 0",
       "width": "auto"
      }
     },
     "773cfc49d43c41c88e1c9f67b79b26aa": {
      "model_module": "@jupyter-widgets/base",
      "model_module_version": "1.0.0",
      "model_name": "LayoutModel",
      "state": {
       "justify_content": "center",
       "padding": "0px 20px 5px 0px"
      }
     },
     "7792e07d39b741c9b73b2df90be36330": {
      "model_module": "@jupyter-widgets/controls",
      "model_module_version": "1.2.0",
      "model_name": "HTMLModel",
      "state": {
       "layout": "IPY_MODEL_98252f5c85a543a29d8cc702fd2c27c4",
       "style": "IPY_MODEL_ad002d383c9c414c9c28ff36bc4b1550",
       "value": "<h5>Name  &nbsp</h5> "
      }
     },
     "77a4c97f249e4f11be8e269394e03d77": {
      "model_module": "@jupyter-widgets/controls",
      "model_module_version": "1.2.0",
      "model_name": "HBoxModel",
      "state": {
       "children": [
        "IPY_MODEL_5162eb218f6c4f5ca78a7f07711b5285"
       ],
       "layout": "IPY_MODEL_a9fac274363d424cb42ee6bd16138a75"
      }
     },
     "77dd11e318cc4e508310f01e30dc2b06": {
      "model_module": "@jupyter-widgets/base",
      "model_module_version": "1.0.0",
      "model_name": "LayoutModel",
      "state": {
       "padding": "10px 0px 0px 0px"
      }
     },
     "77f9b0f5d2b04e82ab9bdaa30c94213f": {
      "model_module": "@jupyter-widgets/controls",
      "model_module_version": "1.2.0",
      "model_name": "HBoxModel",
      "state": {
       "children": [
        "IPY_MODEL_ab03666c1d45466a8efa715afb825325",
        "IPY_MODEL_02d8c67bdef64f58996a85b12cebdef7",
        "IPY_MODEL_b659bc35cd8144509e8995322a21c166"
       ],
       "layout": "IPY_MODEL_0d81425474314eaeb5c0676515fd6f1a"
      }
     },
     "7839df68dfaa4f4c9ef0750a81d02743": {
      "model_module": "@jupyter-widgets/controls",
      "model_module_version": "1.2.0",
      "model_name": "HBoxModel",
      "state": {
       "children": [
        "IPY_MODEL_72721879568f47f5ac4f257fe3c1ae8e",
        "IPY_MODEL_5741ed5d5343489b88dbe2d950b70da5"
       ],
       "layout": "IPY_MODEL_4a4fe8ce4e08405fb9e5960b74bb55c0"
      }
     },
     "7864f2a23b984058ab45cf091f93a51c": {
      "model_module": "@jupyter-widgets/controls",
      "model_module_version": "1.2.0",
      "model_name": "LabelModel",
      "state": {
       "layout": "IPY_MODEL_124d41367bb848e7ad33870037e8003e",
       "style": "IPY_MODEL_8c192ef1f3204f468a5908c898fb05c7",
       "value": "See-Through :"
      }
     },
     "786755a3929243e2a01d36699f08ed96": {
      "model_module": "@jupyter-widgets/base",
      "model_module_version": "1.0.0",
      "model_name": "LayoutModel",
      "state": {
       "display": "none"
      }
     },
     "78952e930ffd4d4390da2e20d95af79b": {
      "model_module": "@jupyter-widgets/controls",
      "model_module_version": "1.2.0",
      "model_name": "DropdownModel",
      "state": {
       "_options_labels": [
        "ellipse",
        "triangle",
        "rectangle",
        "rhomboid",
        "diamond",
        "pentagon",
        "hexagon",
        "concavehexagon",
        "heptagon",
        "octagon",
        "star",
        "tag",
        "vee"
       ],
       "index": 0,
       "layout": "IPY_MODEL_9dcb01e2fbe6431b8387e627f7741389",
       "style": "IPY_MODEL_14fd77a822694dd1aa1a7eb58bcf63ee"
      }
     },
     "789c2da6de394652a89aa4a3eb7cdb66": {
      "model_module": "@jupyter-widgets/controls",
      "model_module_version": "1.2.0",
      "model_name": "DescriptionStyleModel",
      "state": {
       "description_width": ""
      }
     },
     "789caf04e4dc4db6b1f6161a4567f0ed": {
      "model_module": "@jupyter-widgets/controls",
      "model_module_version": "1.2.0",
      "model_name": "SelectModel",
      "state": {
       "_options_labels": [
        "Node",
        "Edge"
       ],
       "index": 0,
       "layout": "IPY_MODEL_f0ce23d6b6404584b46698e79e03935d",
       "style": "IPY_MODEL_b303ba9a2f9e4232a831adc7c1a9b29a"
      }
     },
     "78c28b021378427d8c926d60333f5af1": {
      "model_module": "@jupyter-widgets/base",
      "model_module_version": "1.0.0",
      "model_name": "LayoutModel",
      "state": {}
     },
     "78c4885ce9d4440b9f021f60ec0b08b8": {
      "model_module": "@jupyter-widgets/controls",
      "model_module_version": "1.2.0",
      "model_name": "ToggleButtonsStyleModel",
      "state": {
       "button_width": "",
       "description_width": ""
      }
     },
     "78ead834653e44ff8609a1f97fa7cd14": {
      "model_module": "@jupyter-widgets/controls",
      "model_module_version": "1.2.0",
      "model_name": "HBoxModel",
      "state": {
       "children": [
        "IPY_MODEL_df33bfa69a524f1d907cfe1aa2ede153",
        "IPY_MODEL_23e1f9c10cf14c8fb6fd129531afc5d4",
        "IPY_MODEL_1a04778926874b788e22a58adfe106e3"
       ],
       "layout": "IPY_MODEL_ee2fdca4f1b14eaeb118e1bdcfb6574c"
      }
     },
     "78f61e229e2c4878b1106b9b32c3f5db": {
      "model_module": "@jupyter-widgets/base",
      "model_module_version": "1.0.0",
      "model_name": "LayoutModel",
      "state": {}
     },
     "79456a079feb4f00b17014d6470c2bd2": {
      "model_module": "@jupyter-widgets/controls",
      "model_module_version": "1.2.0",
      "model_name": "ToggleButtonModel",
      "state": {
       "button_style": "info",
       "description": "Border",
       "layout": "IPY_MODEL_9daab2e1068d4f41a171a03278838205",
       "style": "IPY_MODEL_21d2cd3278d04cb9af6978b6a05bdf6e"
      }
     },
     "79499b59a441436e9a1af5c38cff7edd": {
      "model_module": "@jupyter-widgets/controls",
      "model_module_version": "1.2.0",
      "model_name": "TextModel",
      "state": {
       "description": "URL :",
       "layout": "IPY_MODEL_e504bb27c5494e13a5e83a8019fb74f3",
       "style": "IPY_MODEL_d891876ff27449e08619e7f92eb80973"
      }
     },
     "794ad5ed9e304b95970ec7d348029f90": {
      "model_module": "@jupyter-widgets/base",
      "model_module_version": "1.0.0",
      "model_name": "LayoutModel",
      "state": {}
     },
     "796ef10f8ac44cfab0f8a7963de999ad": {
      "model_module": "@jupyter-widgets/controls",
      "model_module_version": "1.2.0",
      "model_name": "HTMLModel",
      "state": {
       "layout": "IPY_MODEL_1568bebb6c4d4650baabd87a303261eb",
       "style": "IPY_MODEL_d76dae9c39b34f95934420298fd5384b",
       "value": "<h4 style='color: DarkKhaki'>Nodes</h4>"
      }
     },
     "79794248f44e4946b359d5017b21dbc2": {
      "model_module": "@jupyter-widgets/controls",
      "model_module_version": "1.2.0",
      "model_name": "LabelModel",
      "state": {
       "layout": "IPY_MODEL_4c333b3f21994a1c9512c7b6ea227254",
       "style": "IPY_MODEL_27cb0aedda474c66a7832cca0c9680ce",
       "value": "Size :"
      }
     },
     "797ffc0794114b92b64c63a0002e997b": {
      "model_module": "@jupyter-widgets/controls",
      "model_module_version": "1.2.0",
      "model_name": "DescriptionStyleModel",
      "state": {
       "description_width": ""
      }
     },
     "798048beb6cd4fa7b0f5dfdbae67ce2f": {
      "model_module": "@jupyter-widgets/base",
      "model_module_version": "1.0.0",
      "model_name": "LayoutModel",
      "state": {
       "width": "auto"
      }
     },
     "799f3758461e444cb3b45ae0866224f4": {
      "model_module": "@jupyter-widgets/base",
      "model_module_version": "1.0.0",
      "model_name": "LayoutModel",
      "state": {
       "padding": "10px 0px 0px 0px"
      }
     },
     "79aa53c6c19445e287fa5621a6677fcc": {
      "model_module": "@jupyter-widgets/base",
      "model_module_version": "1.0.0",
      "model_name": "LayoutModel",
      "state": {}
     },
     "79b42e031654458abdacd990c795c0a1": {
      "model_module": "@jupyter-widgets/controls",
      "model_module_version": "1.2.0",
      "model_name": "SelectModel",
      "state": {
       "_options_labels": [
        "Node",
        "Edge"
       ],
       "index": 0,
       "layout": "IPY_MODEL_4e9ddf6259f34ae29388de90ec6fc51d",
       "style": "IPY_MODEL_ec7046cabdc04bd09470a17021f2f0e5"
      }
     },
     "7a2f80d989c048e7a0af11fa0e79fb5f": {
      "model_module": "@jupyter-widgets/controls",
      "model_module_version": "1.2.0",
      "model_name": "DropdownModel",
      "state": {
       "index": null,
       "layout": "IPY_MODEL_5d70b74f346a4500977585afb0065090",
       "style": "IPY_MODEL_7e3c358e2257417e98cfd197895decad"
      }
     },
     "7a3e0d36949545dba75c7d624c38a67b": {
      "model_module": "@jupyter-widgets/controls",
      "model_module_version": "1.2.0",
      "model_name": "ButtonModel",
      "state": {
       "button_style": "primary",
       "description": "Load",
       "layout": "IPY_MODEL_9973db3e9c37487998e18e9baeac7c42",
       "style": "IPY_MODEL_a33bc04012cb4a859eeea86bc30ab542"
      }
     },
     "7a59a0fedcd84222a5ddf94190256bec": {
      "model_module": "@jupyter-widgets/base",
      "model_module_version": "1.0.0",
      "model_name": "LayoutModel",
      "state": {
       "margin": "10px 0 0 0",
       "width": "auto"
      }
     },
     "7aa3c3e4680e4d70a5c0383f6504a060": {
      "model_module": "@jupyter-widgets/base",
      "model_module_version": "1.0.0",
      "model_name": "LayoutModel",
      "state": {
       "display": "none"
      }
     },
     "7b236ae0ea7f4cf7952fecf95a8d5ba2": {
      "model_module": "@jupyter-widgets/base",
      "model_module_version": "1.0.0",
      "model_name": "LayoutModel",
      "state": {
       "justify_content": "center",
       "padding": "10px 0px 0px 0px"
      }
     },
     "7b23e58c7b894f68977812fbd603c941": {
      "model_module": "@jupyter-widgets/controls",
      "model_module_version": "1.2.0",
      "model_name": "HBoxModel",
      "state": {
       "children": [
        "IPY_MODEL_b8602e3a1ea34c608212298c3d868f61",
        "IPY_MODEL_0b0a6507a9244358bb6145096d72a0cf"
       ],
       "layout": "IPY_MODEL_34214c2d7fc04f12a9e5e68c1341c11c"
      }
     },
     "7b436c27243946ecb0d1106fb34fafce": {
      "model_module": "@jupyter-widgets/controls",
      "model_module_version": "1.2.0",
      "model_name": "SliderStyleModel",
      "state": {
       "description_width": ""
      }
     },
     "7b662a21edc0449d9a166e34b89cad68": {
      "model_module": "@jupyter-widgets/controls",
      "model_module_version": "1.2.0",
      "model_name": "LabelModel",
      "state": {
       "layout": "IPY_MODEL_de267a9181544f9595afed3a5e1cf17d",
       "style": "IPY_MODEL_430e6cbde9214071986c583526966ae8",
       "value": "Text :"
      }
     },
     "7b7c9aade3f045868900414041d1705a": {
      "model_module": "@jupyter-widgets/controls",
      "model_module_version": "1.2.0",
      "model_name": "DescriptionStyleModel",
      "state": {
       "description_width": ""
      }
     },
     "7b8609935f144d4994bffcdfead083e8": {
      "model_module": "@jupyter-widgets/base",
      "model_module_version": "1.0.0",
      "model_name": "LayoutModel",
      "state": {}
     },
     "7b8e9b59a63746d59da5456dfec9422a": {
      "model_module": "@jupyter-widgets/base",
      "model_module_version": "1.0.0",
      "model_name": "LayoutModel",
      "state": {
       "justify_content": "center"
      }
     },
     "7b96ff0fea9846c6a31818dddf590ed1": {
      "model_module": "@jupyter-widgets/controls",
      "model_module_version": "1.2.0",
      "model_name": "SliderStyleModel",
      "state": {
       "description_width": ""
      }
     },
     "7ba9e066440046989f185e680fbede56": {
      "model_module": "@jupyter-widgets/controls",
      "model_module_version": "1.2.0",
      "model_name": "HBoxModel",
      "state": {
       "children": [
        "IPY_MODEL_6bde17992e5748f0bbdd77077c5853ee",
        "IPY_MODEL_d954b0c5be7b44ba9d77f1b997fbd945"
       ],
       "layout": "IPY_MODEL_74c91001917c4c2ebefdbfb7f451059f"
      }
     },
     "7bba8091aeca48e590aef01f42e88a82": {
      "model_module": "@jupyter-widgets/controls",
      "model_module_version": "1.2.0",
      "model_name": "DescriptionStyleModel",
      "state": {
       "description_width": ""
      }
     },
     "7c0a38c3633b44c3b1c8147ae662819a": {
      "model_module": "@jupyter-widgets/base",
      "model_module_version": "1.0.0",
      "model_name": "LayoutModel",
      "state": {}
     },
     "7c0ce19e25d5453c8d63b548b5c2e37c": {
      "model_module": "@jupyter-widgets/base",
      "model_module_version": "1.0.0",
      "model_name": "LayoutModel",
      "state": {
       "padding": "10px 0px 0px 0px"
      }
     },
     "7c0ef2380227447e96d40b35551d7267": {
      "model_module": "@jupyter-widgets/base",
      "model_module_version": "1.0.0",
      "model_name": "LayoutModel",
      "state": {}
     },
     "7c2bee7c51074fef86261bedc3cadd47": {
      "model_module": "@jupyter-widgets/controls",
      "model_module_version": "1.2.0",
      "model_name": "DescriptionStyleModel",
      "state": {
       "description_width": ""
      }
     },
     "7c8d8c9c0d14491c9a864b298271ecb8": {
      "model_module": "@jupyter-widgets/base",
      "model_module_version": "1.0.0",
      "model_name": "LayoutModel",
      "state": {}
     },
     "7c9754d30e7e45f7b2e57e5a7e13823b": {
      "model_module": "@jupyter-widgets/controls",
      "model_module_version": "1.2.0",
      "model_name": "DescriptionStyleModel",
      "state": {
       "description_width": ""
      }
     },
     "7ca2a75274094f18a10bdcb3ed1d9099": {
      "model_module": "@jupyter-widgets/controls",
      "model_module_version": "1.2.0",
      "model_name": "ButtonStyleModel",
      "state": {}
     },
     "7cb54e1d52d84429940f6f4f4efaff4f": {
      "model_module": "@jupyter-widgets/controls",
      "model_module_version": "1.2.0",
      "model_name": "ColorPickerModel",
      "state": {
       "disabled": false,
       "layout": "IPY_MODEL_62e9cb79d3e8436aa64c2ab649ebe1fc",
       "style": "IPY_MODEL_9d83a936a97847c393f998969192619f"
      }
     },
     "7cdb51aa3895495f86e150b790ccbfb0": {
      "model_module": "@jupyter-widgets/base",
      "model_module_version": "1.0.0",
      "model_name": "LayoutModel",
      "state": {
       "padding": "10px 0px 0px 0px"
      }
     },
     "7d0151d762124da3a449cd99d95c56a1": {
      "model_module": "@jupyter-widgets/base",
      "model_module_version": "1.0.0",
      "model_name": "LayoutModel",
      "state": {}
     },
     "7d05a0465cdf44a983c8db0af749de09": {
      "model_module": "@jupyter-widgets/controls",
      "model_module_version": "1.2.0",
      "model_name": "ButtonModel",
      "state": {
       "button_style": "danger",
       "icon": "image",
       "layout": "IPY_MODEL_60c92c4fcdf04555b0f2f03b0e19cbc2",
       "style": "IPY_MODEL_bde260e439f74b20b9a5a14707d4f864"
      }
     },
     "7d2ffbfcf4914a1c832d4940d6ca0992": {
      "model_module": "@jupyter-widgets/base",
      "model_module_version": "1.0.0",
      "model_name": "LayoutModel",
      "state": {
       "margin": "0 15px 0 0px",
       "width": "auto"
      }
     },
     "7d3a7454c0b64650a64cc47e2839d619": {
      "model_module": "@jupyter-widgets/controls",
      "model_module_version": "1.2.0",
      "model_name": "DescriptionStyleModel",
      "state": {
       "description_width": ""
      }
     },
     "7d51913d397c48eaa5762621ec3b776e": {
      "model_module": "@jupyter-widgets/base",
      "model_module_version": "1.0.0",
      "model_name": "LayoutModel",
      "state": {}
     },
     "7d529d60229c4b768358587510cb2a90": {
      "model_module": "@jupyter-widgets/base",
      "model_module_version": "1.0.0",
      "model_name": "LayoutModel",
      "state": {}
     },
     "7db866af0a3e46f6a2ad10135b599205": {
      "model_module": "@jupyter-widgets/base",
      "model_module_version": "1.0.0",
      "model_name": "LayoutModel",
      "state": {}
     },
     "7dc3dce42205470a9ee0ff36770bfd0f": {
      "model_module": "@jupyter-widgets/base",
      "model_module_version": "1.0.0",
      "model_name": "LayoutModel",
      "state": {}
     },
     "7dcca67b9e0240df8091222153bff520": {
      "model_module": "@jupyter-widgets/controls",
      "model_module_version": "1.2.0",
      "model_name": "SliderStyleModel",
      "state": {
       "description_width": ""
      }
     },
     "7dcec704df124020a92bb947e38224f8": {
      "model_module": "@jupyter-widgets/base",
      "model_module_version": "1.0.0",
      "model_name": "LayoutModel",
      "state": {}
     },
     "7dcfe19f386c44d0946d058dd74501ac": {
      "model_module": "@jupyter-widgets/controls",
      "model_module_version": "1.2.0",
      "model_name": "DescriptionStyleModel",
      "state": {
       "description_width": ""
      }
     },
     "7df50dc14169427dbc66fd61c9f61ad1": {
      "model_module": "@jupyter-widgets/controls",
      "model_module_version": "1.2.0",
      "model_name": "TextModel",
      "state": {
       "layout": "IPY_MODEL_acc38f613063477da99cc8657bacbb36",
       "style": "IPY_MODEL_04dcc706c383416ab40167c2a2f54b72"
      }
     },
     "7e3c358e2257417e98cfd197895decad": {
      "model_module": "@jupyter-widgets/controls",
      "model_module_version": "1.2.0",
      "model_name": "DescriptionStyleModel",
      "state": {
       "description_width": ""
      }
     },
     "7e74722762f94c0db36f7d1aacda6c0d": {
      "model_module": "@jupyter-widgets/controls",
      "model_module_version": "1.2.0",
      "model_name": "DescriptionStyleModel",
      "state": {
       "description_width": ""
      }
     },
     "7e7af20477214b28b5335e81d0387a70": {
      "model_module": "@jupyter-widgets/controls",
      "model_module_version": "1.2.0",
      "model_name": "DescriptionStyleModel",
      "state": {
       "description_width": ""
      }
     },
     "7eb023760d934e28852351efeb0119a6": {
      "model_module": "@jupyter-widgets/controls",
      "model_module_version": "1.2.0",
      "model_name": "HBoxModel",
      "state": {
       "children": [
        "IPY_MODEL_d9d963ed4b85450c8e641ba7bef1d83f",
        "IPY_MODEL_9e5f4f3f41b44adc96c702cc0e3ba102"
       ],
       "layout": "IPY_MODEL_0e8c9922b2124edd892dbd4203bcaacd"
      }
     },
     "7ebcd58a1eff472b958601b02c45b98d": {
      "model_module": "@jupyter-widgets/controls",
      "model_module_version": "1.2.0",
      "model_name": "DescriptionStyleModel",
      "state": {
       "description_width": ""
      }
     },
     "7ec21409808f487da7ca1bc66c7bd4d8": {
      "model_module": "@jupyter-widgets/controls",
      "model_module_version": "1.2.0",
      "model_name": "TextModel",
      "state": {
       "layout": "IPY_MODEL_c48ffc96181d423ebaf87138061f1e92",
       "placeholder": "Variable Name:",
       "style": "IPY_MODEL_0fab488c412d49e4a6a00cb04686beaf"
      }
     },
     "7eee45465c1d465cb8a72ec402b0d203": {
      "model_module": "@jupyter-widgets/controls",
      "model_module_version": "1.2.0",
      "model_name": "ButtonModel",
      "state": {
       "button_style": "success",
       "description": "Save",
       "layout": "IPY_MODEL_770f1608b2a54075b446678edac1c5df",
       "style": "IPY_MODEL_bfdbac20332e40398cbdee7d3a2df46a"
      }
     },
     "7efb869183144d4e9f13fa6ffc914368": {
      "model_module": "@jupyter-widgets/base",
      "model_module_version": "1.0.0",
      "model_name": "LayoutModel",
      "state": {
       "padding": "10px 0px 0px 0px"
      }
     },
     "7f2e57116ad44661a4ea009d75d156a3": {
      "model_module": "@jupyter-widgets/base",
      "model_module_version": "1.0.0",
      "model_name": "LayoutModel",
      "state": {}
     },
     "7f3ed3bb8b104fa1889f2dbc76889226": {
      "model_module": "@jupyter-widgets/base",
      "model_module_version": "1.0.0",
      "model_name": "LayoutModel",
      "state": {}
     },
     "7f41071350e74937b6d2f957e715822b": {
      "model_module": "@jupyter-widgets/base",
      "model_module_version": "1.0.0",
      "model_name": "LayoutModel",
      "state": {}
     },
     "7f4120b69485414991332c2125c3a4d8": {
      "model_module": "@jupyter-widgets/controls",
      "model_module_version": "1.2.0",
      "model_name": "LabelModel",
      "state": {
       "layout": "IPY_MODEL_6df2064843df4d0badf604df503f1ebe",
       "style": "IPY_MODEL_3d2cdd1a3a01432daf97cbd6aa9ded33",
       "value": "Start"
      }
     },
     "7fa3ab073ed5457d94ff5142a86e043b": {
      "model_module": "@jupyter-widgets/base",
      "model_module_version": "1.0.0",
      "model_name": "LayoutModel",
      "state": {
       "display": "none"
      }
     },
     "7fa7df3ef4b8494a82689734c3602ea2": {
      "model_module": "@jupyter-widgets/base",
      "model_module_version": "1.0.0",
      "model_name": "LayoutModel",
      "state": {}
     },
     "7fc8f34f821b4eabae55aad6c4aaf9f2": {
      "model_module": "@jupyter-widgets/controls",
      "model_module_version": "1.2.0",
      "model_name": "ButtonModel",
      "state": {
       "button_style": "success",
       "description": "Save",
       "layout": "IPY_MODEL_8f243b84fe744fa48cc751cc66ae6652",
       "style": "IPY_MODEL_809cf06bf4804d01ae6eece7ccf0f7be"
      }
     },
     "7fdc00b716554adc891011a4b99a8c64": {
      "model_module": "@jupyter-widgets/base",
      "model_module_version": "1.0.0",
      "model_name": "LayoutModel",
      "state": {
       "width": "auto"
      }
     },
     "7fe20fe9d4b74c9fb0155230c676b8ac": {
      "model_module": "@jupyter-widgets/controls",
      "model_module_version": "1.2.0",
      "model_name": "ButtonStyleModel",
      "state": {}
     },
     "8050afe1222d4a8298a6ccfb94409819": {
      "model_module": "@jupyter-widgets/base",
      "model_module_version": "1.0.0",
      "model_name": "LayoutModel",
      "state": {}
     },
     "8069d9f9f41c4eadbfe271c75f92892f": {
      "model_module": "@jupyter-widgets/controls",
      "model_module_version": "1.2.0",
      "model_name": "ToggleButtonsModel",
      "state": {
       "_options_labels": [
        "Python",
        "HTML",
        "NDEX"
       ],
       "button_style": "danger",
       "icons": [],
       "index": 0,
       "layout": "IPY_MODEL_27a97c5e58874004ad92b9e0615c49e9",
       "style": "IPY_MODEL_37f2348ef91c4992a667f2eec8dbbaf8",
       "tooltips": []
      }
     },
     "809cf06bf4804d01ae6eece7ccf0f7be": {
      "model_module": "@jupyter-widgets/controls",
      "model_module_version": "1.2.0",
      "model_name": "ButtonStyleModel",
      "state": {}
     },
     "80f801ee824a4a60b185f165cffd198b": {
      "model_module": "@jupyter-widgets/controls",
      "model_module_version": "1.2.0",
      "model_name": "ButtonStyleModel",
      "state": {}
     },
     "80ff26b329874338a8dde31946b10f9e": {
      "model_module": "@jupyter-widgets/base",
      "model_module_version": "1.0.0",
      "model_name": "LayoutModel",
      "state": {
       "visibility": "hidden"
      }
     },
     "811076646db740239dbdd20cf822c393": {
      "model_module": "@jupyter-widgets/controls",
      "model_module_version": "1.2.0",
      "model_name": "HTMLModel",
      "state": {
       "layout": "IPY_MODEL_5894577114324d25a966ae9f854217ef",
       "style": "IPY_MODEL_0199e092a19546b3855eb593ff593bcb",
       "value": "<h5>Here you save your graph as a <a href='https://www.datacamp.com/community/tutorials/pandas-tutorial-dataframe-python'>Pandas DataFrame</a> called <font color=\"blue\">Graph.data</font> .\nThis is great for doing data analysis in <font color=\"blue\">python</font>.</h5>"
      }
     },
     "8147d99bb56b4981ac90d3fc7d9b8b48": {
      "model_module": "@jupyter-widgets/base",
      "model_module_version": "1.0.0",
      "model_name": "LayoutModel",
      "state": {
       "padding": "0 15px 0 35px"
      }
     },
     "814c6acd97374969b1b94426703845e3": {
      "model_module": "@jupyter-widgets/base",
      "model_module_version": "1.0.0",
      "model_name": "LayoutModel",
      "state": {}
     },
     "816a66cd385e43da953b91c76d8d4d59": {
      "model_module": "@jupyter-widgets/base",
      "model_module_version": "1.0.0",
      "model_name": "LayoutModel",
      "state": {}
     },
     "81ad91f0065240e18326bae0dcdf55be": {
      "model_module": "@jupyter-widgets/base",
      "model_module_version": "1.0.0",
      "model_name": "LayoutModel",
      "state": {}
     },
     "822f5b14fe4548c08d1f667e3350c96e": {
      "model_module": "@jupyter-widgets/controls",
      "model_module_version": "1.2.0",
      "model_name": "LabelModel",
      "state": {
       "layout": "IPY_MODEL_cf28d52026cd4d718722b8a6884a59c7",
       "style": "IPY_MODEL_f9ed9ec9fca0473a943be56999c0ec7b",
       "value": "End"
      }
     },
     "8271b81d243e494aa1e3704c82b24730": {
      "model_module": "@jupyter-widgets/controls",
      "model_module_version": "1.2.0",
      "model_name": "TextModel",
      "state": {
       "layout": "IPY_MODEL_348562d82bb64b5fab7116ac906b4f20",
       "style": "IPY_MODEL_1939e6bc3f534a91a083dda174cbeaa0"
      }
     },
     "828ad1befc824a12b472fdcd539d5fa5": {
      "model_module": "@jupyter-widgets/controls",
      "model_module_version": "1.2.0",
      "model_name": "VBoxModel",
      "state": {
       "layout": "IPY_MODEL_7c0ef2380227447e96d40b35551d7267"
      }
     },
     "829396f831e646bcbd503e1b5db81c26": {
      "model_module": "@jupyter-widgets/controls",
      "model_module_version": "1.2.0",
      "model_name": "DescriptionStyleModel",
      "state": {
       "description_width": ""
      }
     },
     "8293e689c6dc4e59ba248fd92db221ff": {
      "model_module": "@jupyter-widgets/base",
      "model_module_version": "1.0.0",
      "model_name": "LayoutModel",
      "state": {
       "align_items": "center"
      }
     },
     "82f640a739894e9da85d4a3dcc91f7c9": {
      "model_module": "@jupyter-widgets/controls",
      "model_module_version": "1.2.0",
      "model_name": "VBoxModel",
      "state": {
       "layout": "IPY_MODEL_339fe9e2d54a48abb4ccc6cac998ae7a"
      }
     },
     "83095723c96141a1acf0f3b31ca22582": {
      "model_module": "@jupyter-widgets/controls",
      "model_module_version": "1.2.0",
      "model_name": "DescriptionStyleModel",
      "state": {
       "description_width": ""
      }
     },
     "8327524d673a4122822ac41f3a00bd02": {
      "model_module": "@jupyter-widgets/controls",
      "model_module_version": "1.2.0",
      "model_name": "HTMLModel",
      "state": {
       "layout": "IPY_MODEL_00a643e4a3154b29984b1b316f86df18",
       "style": "IPY_MODEL_b5476465cb0e4142b90ce93362aa8131",
       "value": "<h4 style='color:purple'>Edge :</h4>"
      }
     },
     "836929e4daea47a7b9092639a0512431": {
      "model_module": "@jupyter-widgets/controls",
      "model_module_version": "1.2.0",
      "model_name": "HBoxModel",
      "state": {
       "children": [
        "IPY_MODEL_326eef37bb02420abc49b2ce55880d61",
        "IPY_MODEL_c364644b7ebf4d79b652df7497cf3876"
       ],
       "layout": "IPY_MODEL_53511a4276264151b26b5fcf1f9377e6"
      }
     },
     "83d3106fe40c48de9e976e2a8e6ba8b7": {
      "model_module": "@jupyter-widgets/controls",
      "model_module_version": "1.2.0",
      "model_name": "DescriptionStyleModel",
      "state": {
       "description_width": ""
      }
     },
     "8467ed621e804794b8b7b6bdbc3e08b2": {
      "model_module": "@jupyter-widgets/controls",
      "model_module_version": "1.2.0",
      "model_name": "DropdownModel",
      "state": {
       "_options_labels": [
        "none",
        "triangle",
        "tee",
        "diamond",
        "square",
        "circle",
        "vee",
        "triangle-tee"
       ],
       "index": 0,
       "layout": "IPY_MODEL_b031ccbde0ff43dbb4aaf2c7cbfacff2",
       "style": "IPY_MODEL_4f34b5fed6a745048fe49ee1b13c2f74"
      }
     },
     "8498aec958cb4e49a61d0926696447c8": {
      "model_module": "@jupyter-widgets/base",
      "model_module_version": "1.0.0",
      "model_name": "LayoutModel",
      "state": {
       "width": "auto"
      }
     },
     "84afa9cbaa8941d78dada625fb5453bc": {
      "model_module": "@jupyter-widgets/controls",
      "model_module_version": "1.2.0",
      "model_name": "LabelModel",
      "state": {
       "layout": "IPY_MODEL_9e5c3c690e14483bb138ab92aa2e2286",
       "style": "IPY_MODEL_a9c69d56ffcc4f0c82963e9ccdf4fb64",
       "value": "Color :"
      }
     },
     "84ba13c8211546f1b4a5c1b5abc4705b": {
      "model_module": "@jupyter-widgets/controls",
      "model_module_version": "1.2.0",
      "model_name": "ColorPickerModel",
      "state": {
       "disabled": false,
       "layout": "IPY_MODEL_39c52f65b8d04017b27ffb8d2633dad1",
       "style": "IPY_MODEL_3156ac24a7d846af9aa4aea18e07df86"
      }
     },
     "84cd68b61fb64febbc289f72a595a286": {
      "model_module": "@jupyter-widgets/controls",
      "model_module_version": "1.2.0",
      "model_name": "LabelModel",
      "state": {
       "layout": "IPY_MODEL_b2b2c35d8d7445108ef76d35efe377c1",
       "style": "IPY_MODEL_991ede639eb84e8ca263d7963cc29fd7",
       "value": "Color :"
      }
     },
     "84df3384822e481491b8df7c9929cecc": {
      "model_module": "@jupyter-widgets/controls",
      "model_module_version": "1.2.0",
      "model_name": "DescriptionStyleModel",
      "state": {
       "description_width": ""
      }
     },
     "84f650373e314835bafb1627236e593f": {
      "model_module": "@jupyter-widgets/controls",
      "model_module_version": "1.2.0",
      "model_name": "ButtonModel",
      "state": {
       "button_style": "warning",
       "description": "Start Cytoscape!",
       "disabled": true,
       "layout": "IPY_MODEL_2b5e303d4abe46aaa6dc076322f958d2",
       "style": "IPY_MODEL_770938a196b8480189f8b17c31435f0f"
      }
     },
     "850b986944634f87a8127d97c57de02f": {
      "model_module": "@jupyter-widgets/controls",
      "model_module_version": "1.2.0",
      "model_name": "DescriptionStyleModel",
      "state": {
       "description_width": ""
      }
     },
     "851eb4f6a12b44f68a4b4dce774ff8bf": {
      "model_module": "@jupyter-widgets/controls",
      "model_module_version": "1.2.0",
      "model_name": "ButtonModel",
      "state": {
       "button_style": "success",
       "icon": "image",
       "layout": "IPY_MODEL_8d0104f135be43b1825a0a4a4c5eb34d",
       "style": "IPY_MODEL_89b2b653aa004d41b544f03e5d01d303"
      }
     },
     "852345f94853472a8c862b6b65e90b48": {
      "model_module": "@jupyter-widgets/controls",
      "model_module_version": "1.2.0",
      "model_name": "TextareaModel",
      "state": {
       "layout": "IPY_MODEL_346648934b1e46e8bef75eee26047a9d",
       "style": "IPY_MODEL_7d3a7454c0b64650a64cc47e2839d619"
      }
     },
     "8569ccbd97574ca796bdebec3fa0a9d3": {
      "model_module": "@jupyter-widgets/base",
      "model_module_version": "1.0.0",
      "model_name": "LayoutModel",
      "state": {}
     },
     "85757cf564c64f809d9651b997df3053": {
      "model_module": "@jupyter-widgets/controls",
      "model_module_version": "1.2.0",
      "model_name": "VBoxModel",
      "state": {
       "layout": "IPY_MODEL_c32e6e390c3441628221dacedff7f3e0"
      }
     },
     "8579e9cd72c1474f8b1293eb120a708e": {
      "model_module": "@jupyter-widgets/controls",
      "model_module_version": "1.2.0",
      "model_name": "DescriptionStyleModel",
      "state": {
       "description_width": ""
      }
     },
     "859f1f1cd9a94d92815e2d6722e7475c": {
      "model_module": "@jupyter-widgets/base",
      "model_module_version": "1.0.0",
      "model_name": "LayoutModel",
      "state": {}
     },
     "85a0d0cc90f34ba995f6b69a1d9fc985": {
      "model_module": "@jupyter-widgets/controls",
      "model_module_version": "1.2.0",
      "model_name": "HBoxModel",
      "state": {
       "children": [
        "IPY_MODEL_30581e8c9430461a85ee393f519e022f",
        "IPY_MODEL_8c806a19e24d4f4ea216781b2a8edb56",
        "IPY_MODEL_861a2eaeac314b8db5ea64b46199caff",
        "IPY_MODEL_0a65107490d04844a054d050695a81de"
       ],
       "layout": "IPY_MODEL_b1c34f287a614c669be26326e3eb57ed"
      }
     },
     "85e6dffc7172492a825cf9fede776d03": {
      "model_module": "@jupyter-widgets/controls",
      "model_module_version": "1.2.0",
      "model_name": "HBoxModel",
      "state": {
       "children": [
        "IPY_MODEL_59582e51ca6f494fbf2e5780edda5b9f",
        "IPY_MODEL_936645d44e5b4118ad60d2146aaf27ab"
       ],
       "layout": "IPY_MODEL_de8d7f8103694fe48afb7c19232b7352"
      }
     },
     "861a2eaeac314b8db5ea64b46199caff": {
      "model_module": "@jupyter-widgets/controls",
      "model_module_version": "1.2.0",
      "model_name": "ButtonModel",
      "state": {
       "button_style": "info",
       "icon": "refresh",
       "layout": "IPY_MODEL_66c4cbeb33114bea81ac03a6570a27df",
       "style": "IPY_MODEL_550999db32b24fbb8585d113bac182d9"
      }
     },
     "8628a9d09a3d4d969b3d61df3a634d50": {
      "model_module": "@jupyter-widgets/controls",
      "model_module_version": "1.2.0",
      "model_name": "SliderStyleModel",
      "state": {
       "description_width": ""
      }
     },
     "866b15fe88eb414da3fe543a3fae455e": {
      "model_module": "@jupyter-widgets/controls",
      "model_module_version": "1.2.0",
      "model_name": "IntSliderModel",
      "state": {
       "layout": "IPY_MODEL_05450e6494084cf3b452dd6c56ea747a",
       "max": 200,
       "min": 1,
       "style": "IPY_MODEL_a0acb660e6614407999fad5b7e0fb2a9",
       "value": 30
      }
     },
     "867e01f34f924fe0802e2c99e5b6a8bf": {
      "model_module": "@jupyter-widgets/controls",
      "model_module_version": "1.2.0",
      "model_name": "VBoxModel",
      "state": {
       "children": [
        "IPY_MODEL_16ada0c9cc924dedac2406290f50e146",
        "IPY_MODEL_6f0d885deb1e42a2baf6f945ac1b9f7a"
       ],
       "layout": "IPY_MODEL_069d2fa8369a412b9e3e6a2db346006e"
      }
     },
     "8699d8278abb4de18f1965a9830a4707": {
      "model_module": "@jupyter-widgets/base",
      "model_module_version": "1.0.0",
      "model_name": "LayoutModel",
      "state": {
       "justify_content": "center",
       "margin": "0 0 15px 0"
      }
     },
     "869a3b5e5811453099d94a05280eb0aa": {
      "model_module": "@jupyter-widgets/controls",
      "model_module_version": "1.2.0",
      "model_name": "HTMLModel",
      "state": {
       "layout": "IPY_MODEL_e0dece5853be4ffe94bf010dc5ac4f37",
       "style": "IPY_MODEL_ed5d251bc13d4d02bb72c3470894c159",
       "value": "<h5>Title  &nbsp</h5> "
      }
     },
     "86a8c90698d44ee69c49748a74d681ae": {
      "model_module": "@jupyter-widgets/controls",
      "model_module_version": "1.2.0",
      "model_name": "HBoxModel",
      "state": {
       "children": [
        "IPY_MODEL_c77521bce3c04c20ac89b2dbab6e9427",
        "IPY_MODEL_94077698da1a461d8417d22d55fc91d1",
        "IPY_MODEL_851eb4f6a12b44f68a4b4dce774ff8bf"
       ],
       "layout": "IPY_MODEL_76b55068afc245ecb9556a8baa7b67fd"
      }
     },
     "86d76496882f4024b1596e8cc0f019f3": {
      "model_module": "@jupyter-widgets/controls",
      "model_module_version": "1.2.0",
      "model_name": "ButtonModel",
      "state": {
       "button_style": "warning",
       "description": "Start Cytoscape!",
       "layout": "IPY_MODEL_0850d92c665a403f913ad85764281618",
       "style": "IPY_MODEL_2d85a33a43764860b05ff8ca16b863f0"
      }
     },
     "86ec563be7db46a4b4b49fece0091a64": {
      "model_module": "@jupyter-widgets/controls",
      "model_module_version": "1.2.0",
      "model_name": "HBoxModel",
      "state": {
       "children": [
        "IPY_MODEL_23fed8d0d99648eca9595bf7d67d3e1e",
        "IPY_MODEL_ec1af86a7641488f858104d4944da2b0"
       ],
       "layout": "IPY_MODEL_c237c5d00ef14130aedf11aa654f8c07"
      }
     },
     "870bdc9ab53142cfb84a603a2ec0cd63": {
      "model_module": "@jupyter-widgets/base",
      "model_module_version": "1.0.0",
      "model_name": "LayoutModel",
      "state": {}
     },
     "871a5d022a464c40a3046d293988e86f": {
      "model_module": "@jupyter-widgets/controls",
      "model_module_version": "1.2.0",
      "model_name": "VBoxModel",
      "state": {
       "children": [
        "IPY_MODEL_024cf5d295c740d0b6de7008a7105667",
        "IPY_MODEL_93fbc173f4304380885f796ad27c6097"
       ],
       "layout": "IPY_MODEL_74428a03e61540179b0a7a73b492688a"
      }
     },
     "874814a564cc43ee80ab8b19d1ed451d": {
      "model_module": "@jupyter-widgets/controls",
      "model_module_version": "1.2.0",
      "model_name": "ButtonModel",
      "state": {
       "button_style": "info",
       "icon": "refresh",
       "layout": "IPY_MODEL_0047c5a4da1b4fb4bd4ea7dcb6a32a29",
       "style": "IPY_MODEL_7fe20fe9d4b74c9fb0155230c676b8ac"
      }
     },
     "87851cc82c7143ec8c7554913f707bb5": {
      "model_module": "@jupyter-widgets/base",
      "model_module_version": "1.0.0",
      "model_name": "LayoutModel",
      "state": {
       "width": "auto"
      }
     },
     "87863a94572d4d72a36d1b385fdaf4f5": {
      "model_module": "@jupyter-widgets/controls",
      "model_module_version": "1.2.0",
      "model_name": "TextModel",
      "state": {
       "layout": "IPY_MODEL_8786f0d7367b417bab4369e6bdf7efbc",
       "style": "IPY_MODEL_28f560da9b96447d8bd71a0bd46a3ac1"
      }
     },
     "8786f0d7367b417bab4369e6bdf7efbc": {
      "model_module": "@jupyter-widgets/base",
      "model_module_version": "1.0.0",
      "model_name": "LayoutModel",
      "state": {}
     },
     "87e7343945e54fa69e40b3768cb3e49f": {
      "model_module": "@jupyter-widgets/base",
      "model_module_version": "1.0.0",
      "model_name": "LayoutModel",
      "state": {}
     },
     "882c2fbd45bb4a0c8efb1aa828ed1d4e": {
      "model_module": "@jupyter-widgets/base",
      "model_module_version": "1.0.0",
      "model_name": "LayoutModel",
      "state": {}
     },
     "8868f40cdd414fa2a718c33f100998d6": {
      "model_module": "@jupyter-widgets/base",
      "model_module_version": "1.0.0",
      "model_name": "LayoutModel",
      "state": {
       "width": "auto"
      }
     },
     "88832bf60e544ca7a51abb3b24d758c2": {
      "model_module": "@jupyter-widgets/base",
      "model_module_version": "1.0.0",
      "model_name": "LayoutModel",
      "state": {
       "min_width": "30px"
      }
     },
     "889c4da1fc164e948d9c50fda1441355": {
      "model_module": "@jupyter-widgets/controls",
      "model_module_version": "1.2.0",
      "model_name": "ColorPickerModel",
      "state": {
       "disabled": false,
       "layout": "IPY_MODEL_05bdd6cfc8714d7bbfd46a9bc4fb8a51",
       "style": "IPY_MODEL_b09fd94bea9d436598a6c5a59ac193f0"
      }
     },
     "88f4299b28934b2fb83855d39855a242": {
      "model_module": "@jupyter-widgets/controls",
      "model_module_version": "1.2.0",
      "model_name": "DescriptionStyleModel",
      "state": {
       "description_width": ""
      }
     },
     "893e5cb2ec384eb6acc5e6f97c60f1d5": {
      "model_module": "@jupyter-widgets/controls",
      "model_module_version": "1.2.0",
      "model_name": "SliderStyleModel",
      "state": {
       "description_width": ""
      }
     },
     "8943d277e3ed41779a066cda63163938": {
      "model_module": "@jupyter-widgets/controls",
      "model_module_version": "1.2.0",
      "model_name": "DescriptionStyleModel",
      "state": {
       "description_width": ""
      }
     },
     "894de1d0ab7242da9705498500ffbbc9": {
      "model_module": "@jupyter-widgets/controls",
      "model_module_version": "1.2.0",
      "model_name": "DescriptionStyleModel",
      "state": {
       "description_width": ""
      }
     },
     "898744ccb087438785fd5cce497a7075": {
      "model_module": "@jupyter-widgets/controls",
      "model_module_version": "1.2.0",
      "model_name": "ToggleButtonsStyleModel",
      "state": {
       "button_width": "",
       "description_width": ""
      }
     },
     "89b2b653aa004d41b544f03e5d01d303": {
      "model_module": "@jupyter-widgets/controls",
      "model_module_version": "1.2.0",
      "model_name": "ButtonStyleModel",
      "state": {}
     },
     "89e21a5e31084602930314db938826f0": {
      "model_module": "@jupyter-widgets/base",
      "model_module_version": "1.0.0",
      "model_name": "LayoutModel",
      "state": {
       "align_items": "center",
       "justify_content": "center"
      }
     },
     "89e3a002bf174c6cbf0b9f3a6dbfdf28": {
      "model_module": "@jupyter-widgets/controls",
      "model_module_version": "1.2.0",
      "model_name": "HTMLModel",
      "state": {
       "layout": "IPY_MODEL_01b780e0b8c94e4c9836e1e7f7e2ba71",
       "style": "IPY_MODEL_e3f6b704e44a4376aa75b7623a3f2b5c",
       "value": "<h5>Here you can load in a cytoscape <font color='darkKhaki'>.html</font> file. \nPut the file you want to load into the same place as this notebook, then load it in! </h5>"
      }
     },
     "89eade89d23e44ad862aa84380020b37": {
      "model_module": "@jupyter-widgets/controls",
      "model_module_version": "1.2.0",
      "model_name": "DescriptionStyleModel",
      "state": {
       "description_width": ""
      }
     },
     "89f1d49edb10465e90214f8b1054dfa5": {
      "model_module": "@jupyter-widgets/base",
      "model_module_version": "1.0.0",
      "model_name": "LayoutModel",
      "state": {
       "width": "auto"
      }
     },
     "8a3447dce53d4e94a37de4d880500f71": {
      "model_module": "@jupyter-widgets/base",
      "model_module_version": "1.0.0",
      "model_name": "LayoutModel",
      "state": {}
     },
     "8a84866378f64e8296c6e3a5e3f35f2b": {
      "model_module": "@jupyter-widgets/controls",
      "model_module_version": "1.2.0",
      "model_name": "DescriptionStyleModel",
      "state": {
       "description_width": ""
      }
     },
     "8a9020a3a2674e299e045a5dfa9e42d1": {
      "model_module": "@jupyter-widgets/base",
      "model_module_version": "1.0.0",
      "model_name": "LayoutModel",
      "state": {}
     },
     "8aa3ca46021c4a8290208d6f8ba1a59b": {
      "model_module": "@jupyter-widgets/base",
      "model_module_version": "1.0.0",
      "model_name": "LayoutModel",
      "state": {
       "display": "none"
      }
     },
     "8ac48466fbdd4c71b86bd1beab704152": {
      "model_module": "@jupyter-widgets/controls",
      "model_module_version": "1.2.0",
      "model_name": "SelectModel",
      "state": {
       "_options_labels": [
        "Number",
        "Text"
       ],
       "index": 0,
       "layout": "IPY_MODEL_1f3c0658adc543a8839f3aed1eca542a",
       "style": "IPY_MODEL_88f4299b28934b2fb83855d39855a242"
      }
     },
     "8ad6660c1773471187d657c505b60c67": {
      "model_module": "@jupyter-widgets/base",
      "model_module_version": "1.0.0",
      "model_name": "LayoutModel",
      "state": {}
     },
     "8b1257adf2f94c7ead7e72227c990c19": {
      "model_module": "@jupyter-widgets/controls",
      "model_module_version": "1.2.0",
      "model_name": "ButtonModel",
      "state": {
       "button_style": "primary",
       "description": "Load",
       "layout": "IPY_MODEL_d18755a51f64424c9adfbab6bf54ca41",
       "style": "IPY_MODEL_075758b6a2a34340b69291a79f3b3973"
      }
     },
     "8b3035b8df4a4a418943e87e5da51276": {
      "model_module": "@jupyter-widgets/controls",
      "model_module_version": "1.2.0",
      "model_name": "IntSliderModel",
      "state": {
       "layout": "IPY_MODEL_7c0a38c3633b44c3b1c8147ae662819a",
       "max": 5,
       "min": 1,
       "style": "IPY_MODEL_fc0e46a61e4b426393530781bcd2efd7",
       "value": 1
      }
     },
     "8b61595726c5475dbbf80f3362fbda20": {
      "model_module": "@jupyter-widgets/controls",
      "model_module_version": "1.2.0",
      "model_name": "VBoxModel",
      "state": {
       "children": [
        "IPY_MODEL_c3e8dac68ebc4e06af29bcb966e018c9",
        "IPY_MODEL_eb428e808d2e4d87a749381d58ef136a",
        "IPY_MODEL_fbfacd37b0e74c4eaf7976585d6a2467",
        "IPY_MODEL_2bccf782d3a440aaaca9bc1370c017ea",
        "IPY_MODEL_7fc8f34f821b4eabae55aad6c4aaf9f2",
        "IPY_MODEL_deb53a02fd7b48229056399aa456e60d"
       ],
       "layout": "IPY_MODEL_e16869e26a204e9e85d1b8cfa79a8fd3"
      }
     },
     "8bfa7531ef624d43b87b1563675fadaf": {
      "model_module": "@jupyter-widgets/base",
      "model_module_version": "1.0.0",
      "model_name": "LayoutModel",
      "state": {}
     },
     "8c192ef1f3204f468a5908c898fb05c7": {
      "model_module": "@jupyter-widgets/controls",
      "model_module_version": "1.2.0",
      "model_name": "DescriptionStyleModel",
      "state": {
       "description_width": ""
      }
     },
     "8c2f232de38e487c999844ddc1305d56": {
      "model_module": "@jupyter-widgets/controls",
      "model_module_version": "1.2.0",
      "model_name": "DescriptionStyleModel",
      "state": {
       "description_width": ""
      }
     },
     "8c34bf9215014469b6097f41d4c7db9c": {
      "model_module": "@jupyter-widgets/controls",
      "model_module_version": "1.2.0",
      "model_name": "VBoxModel",
      "state": {
       "children": [
        "IPY_MODEL_913b2cc4a236426ba2f51c98f406b787",
        "IPY_MODEL_b090b8225dd1401bb362c31ba35e5608",
        "IPY_MODEL_116a36f83a7445b7836b02b7dd2390bb",
        "IPY_MODEL_63702c1205674be9a7be1a94cd0c9c47",
        "IPY_MODEL_a4b11f6439e44978a226fe8744cc74f7",
        "IPY_MODEL_bb7eb9cdc1b44d29a252fb057f317b24"
       ],
       "layout": "IPY_MODEL_981a94f6d3ee4fd5913274a743c0103e"
      }
     },
     "8c4bd9bbef474c7b9f4ad516e347e68d": {
      "model_module": "@jupyter-widgets/base",
      "model_module_version": "1.0.0",
      "model_name": "LayoutModel",
      "state": {}
     },
     "8c519822f96d4e7fa024169adb166e0e": {
      "model_module": "@jupyter-widgets/controls",
      "model_module_version": "1.2.0",
      "model_name": "DropdownModel",
      "state": {
       "_options_labels": [
        "center",
        "top",
        "bottom",
        "left",
        "right"
       ],
       "index": 0,
       "layout": "IPY_MODEL_2b512cd4919f453c9cc1bf08de73ab63",
       "style": "IPY_MODEL_74ad1932244e44b8a2bf79e52bf33514"
      }
     },
     "8c806a19e24d4f4ea216781b2a8edb56": {
      "model_module": "@jupyter-widgets/controls",
      "model_module_version": "1.2.0",
      "model_name": "DropdownModel",
      "state": {
       "index": null,
       "layout": "IPY_MODEL_4e9dd30a6a3447cbb7518c22d0f76c74",
       "style": "IPY_MODEL_22cda4c2e8d74b298ddb50ed804ce5ee"
      }
     },
     "8c8371ad04de4885ba60d9ab3dcbd0e5": {
      "model_module": "@jupyter-widgets/controls",
      "model_module_version": "1.2.0",
      "model_name": "DescriptionStyleModel",
      "state": {
       "description_width": ""
      }
     },
     "8ca5051563344f12bb6b7cc6007b76ce": {
      "model_module": "@jupyter-widgets/base",
      "model_module_version": "1.0.0",
      "model_name": "LayoutModel",
      "state": {
       "padding": "10px 0px 0px 0px"
      }
     },
     "8cd4721213024376ae6806e16a0b15fc": {
      "model_module": "@jupyter-widgets/controls",
      "model_module_version": "1.2.0",
      "model_name": "HTMLModel",
      "state": {
       "layout": "IPY_MODEL_dd2a33228bb94830892cfa8f7bdf04f4",
       "style": "IPY_MODEL_f6f428b24385472d80addd7d574d5cf3",
       "value": " <h3 class='text-center text-success' style='margin:0'> Saved!</h3>"
      }
     },
     "8cdb9a119a164a8997589883c3654620": {
      "model_module": "@jupyter-widgets/controls",
      "model_module_version": "1.2.0",
      "model_name": "ButtonStyleModel",
      "state": {}
     },
     "8d0104f135be43b1825a0a4a4c5eb34d": {
      "model_module": "@jupyter-widgets/base",
      "model_module_version": "1.0.0",
      "model_name": "LayoutModel",
      "state": {
       "width": "auto"
      }
     },
     "8d02700da5d24042bee2854d7b46a676": {
      "model_module": "@jupyter-widgets/base",
      "model_module_version": "1.0.0",
      "model_name": "LayoutModel",
      "state": {
       "margin": "2px 25px 2px 0px",
       "width": "auto"
      }
     },
     "8da6cb260ba0428188ca74ffeac0884f": {
      "model_module": "@jupyter-widgets/controls",
      "model_module_version": "1.2.0",
      "model_name": "TextModel",
      "state": {
       "layout": "IPY_MODEL_208b32ccd9304993a18572698cc812e1",
       "style": "IPY_MODEL_c3318a6bfef5417a85ac1ce6ba7527eb"
      }
     },
     "8dfe025ffe8347de83702d4120526ac6": {
      "model_module": "@jupyter-widgets/base",
      "model_module_version": "1.0.0",
      "model_name": "LayoutModel",
      "state": {}
     },
     "8e439456e9364b4287699b3e5012b657": {
      "model_module": "@jupyter-widgets/controls",
      "model_module_version": "1.2.0",
      "model_name": "DescriptionStyleModel",
      "state": {
       "description_width": ""
      }
     },
     "8e8eaf85a14848ce919474392b8067ef": {
      "model_module": "@jupyter-widgets/base",
      "model_module_version": "1.0.0",
      "model_name": "LayoutModel",
      "state": {
       "padding": "10px 0px 0px 0px"
      }
     },
     "8eb5ce0093734f2681aad85dfb9f007c": {
      "model_module": "@jupyter-widgets/controls",
      "model_module_version": "1.2.0",
      "model_name": "VBoxModel",
      "state": {
       "layout": "IPY_MODEL_2cdfac00f37843f2a00f7c9034e76c1e"
      }
     },
     "8ec7a05560dc496ea46dc7a74a095d52": {
      "model_module": "@jupyter-widgets/controls",
      "model_module_version": "1.2.0",
      "model_name": "ButtonModel",
      "state": {
       "button_style": "success",
       "description": "Upload",
       "layout": "IPY_MODEL_f7314b3d09204e698e7ca2ef798a1edc",
       "style": "IPY_MODEL_e435f982faf847ad98fbdcb1e1978956"
      }
     },
     "8ef13473f601489c91002a8421476676": {
      "model_module": "@jupyter-widgets/controls",
      "model_module_version": "1.2.0",
      "model_name": "HBoxModel",
      "state": {
       "children": [
        "IPY_MODEL_96e37bfc81804dd48036e417085e28d6",
        "IPY_MODEL_99283d8aaff34f638ec2782611e338be"
       ],
       "layout": "IPY_MODEL_707d221213a54e3481ac97deebcef342"
      }
     },
     "8ef44ed08f6849ea9c4fd2ff0d512cf5": {
      "model_module": "@jupyter-widgets/controls",
      "model_module_version": "1.2.0",
      "model_name": "ButtonModel",
      "state": {
       "button_style": "primary",
       "description": "Undo",
       "layout": "IPY_MODEL_e1a67ce4ccd04039a452321372ee4a84",
       "style": "IPY_MODEL_174ea80ee1d642e790247b98fd2ae927"
      }
     },
     "8f0d638c328d43d4bcb7ceaf37c3da50": {
      "model_module": "@jupyter-widgets/controls",
      "model_module_version": "1.2.0",
      "model_name": "HBoxModel",
      "state": {
       "children": [
        "IPY_MODEL_508aef1a422b4fe3a7da17db012efb0b",
        "IPY_MODEL_78952e930ffd4d4390da2e20d95af79b"
       ],
       "layout": "IPY_MODEL_dbf7621718a7428a8f832d7a84b5f977"
      }
     },
     "8f104f0210624569b820c4e043820bbd": {
      "model_module": "@jupyter-widgets/base",
      "model_module_version": "1.0.0",
      "model_name": "LayoutModel",
      "state": {}
     },
     "8f1145922f8a4b5db76bf5899f5715a4": {
      "model_module": "@jupyter-widgets/controls",
      "model_module_version": "1.2.0",
      "model_name": "TextModel",
      "state": {
       "layout": "IPY_MODEL_55ba4951f8814db5ac06b97f21dd614c",
       "style": "IPY_MODEL_b711b57196a94c249f02eee234465e58"
      }
     },
     "8f243b84fe744fa48cc751cc66ae6652": {
      "model_module": "@jupyter-widgets/base",
      "model_module_version": "1.0.0",
      "model_name": "LayoutModel",
      "state": {
       "margin": "10px 0 0 0",
       "width": "auto"
      }
     },
     "8f3d005013eb469c8d6a30728840f73d": {
      "model_module": "@jupyter-widgets/controls",
      "model_module_version": "1.2.0",
      "model_name": "HBoxModel",
      "state": {
       "children": [
        "IPY_MODEL_df8b4f6a27384e7bacefb42884852e77",
        "IPY_MODEL_eddc815561074ca8bdddfbcf0e92813c"
       ],
       "layout": "IPY_MODEL_cb120202fdaf461d964fcb6b56ef58cd"
      }
     },
     "8fc8ce2b40354a548f08269992c308bb": {
      "model_module": "@jupyter-widgets/base",
      "model_module_version": "1.0.0",
      "model_name": "LayoutModel",
      "state": {}
     },
     "9012886e3d5140fb87ecc87cc0c0a0bf": {
      "model_module": "@jupyter-widgets/base",
      "model_module_version": "1.0.0",
      "model_name": "LayoutModel",
      "state": {}
     },
     "9039bea8e9cd4394a4d57a5cc6b35e96": {
      "model_module": "@jupyter-widgets/controls",
      "model_module_version": "1.2.0",
      "model_name": "LabelModel",
      "state": {
       "layout": "IPY_MODEL_9f55faca384949f8a9c798d16eb2b380",
       "style": "IPY_MODEL_23631329eab54f05bd2f111cd579c6aa",
       "value": "    "
      }
     },
     "903adcf9dec4418d8e1e88b54ca32d8a": {
      "model_module": "@jupyter-widgets/controls",
      "model_module_version": "1.2.0",
      "model_name": "ButtonModel",
      "state": {
       "button_style": "warning",
       "description": "Start Cytoscape!",
       "disabled": true,
       "layout": "IPY_MODEL_91065e332ce54272b583ec3c57bfa354",
       "style": "IPY_MODEL_1f89a0ee6e5c4938a15c8b4330c38fc3"
      }
     },
     "9088f58047c44cda8ecece66c8f66afb": {
      "model_module": "@jupyter-widgets/controls",
      "model_module_version": "1.2.0",
      "model_name": "DescriptionStyleModel",
      "state": {
       "description_width": ""
      }
     },
     "90a48db8284d4750a3651f715bcc46e2": {
      "model_module": "@jupyter-widgets/controls",
      "model_module_version": "1.2.0",
      "model_name": "HTMLModel",
      "state": {
       "layout": "IPY_MODEL_02183961d4074c88876776129afc0e82",
       "style": "IPY_MODEL_00c1bfb9b208489d9712d4e206b424ab",
       "value": "<h2 class='text-danger text-center'>Coming Soon! Wait for Update</h2>"
      }
     },
     "90dc25efc81647e692b2e352af3e1d6a": {
      "model_module": "@jupyter-widgets/base",
      "model_module_version": "1.0.0",
      "model_name": "LayoutModel",
      "state": {}
     },
     "90f1e773497d437797b837d68ca6d6cf": {
      "model_module": "@jupyter-widgets/base",
      "model_module_version": "1.0.0",
      "model_name": "LayoutModel",
      "state": {}
     },
     "91065e332ce54272b583ec3c57bfa354": {
      "model_module": "@jupyter-widgets/base",
      "model_module_version": "1.0.0",
      "model_name": "LayoutModel",
      "state": {}
     },
     "912dedb0cc5c42f8ae18de3fc18d968a": {
      "model_module": "@jupyter-widgets/controls",
      "model_module_version": "1.2.0",
      "model_name": "HTMLModel",
      "state": {
       "layout": "IPY_MODEL_ba4b4f45d79448fba687026fbb3d16a9",
       "style": "IPY_MODEL_704701caeb9d40b48b289a20acdf800f",
       "value": "<h3> </h3>"
      }
     },
     "913b2cc4a236426ba2f51c98f406b787": {
      "model_module": "@jupyter-widgets/controls",
      "model_module_version": "1.2.0",
      "model_name": "HTMLModel",
      "state": {
       "layout": "IPY_MODEL_4210acc093a84ce49a0b3cf9b1038d05",
       "style": "IPY_MODEL_27620ab74d334a6e9bbe93874263584e",
       "value": "<h5>You can save your graph as a <font color='darkKhaki'>index.html</font> file.\n<font color='darkKhaki'>index.html</font> files have lots of cool features, as explained in the intro video. </h5>"
      }
     },
     "91607196b3024179822f8e0626a01317": {
      "model_module": "@jupyter-widgets/controls",
      "model_module_version": "1.2.0",
      "model_name": "DescriptionStyleModel",
      "state": {
       "description_width": ""
      }
     },
     "91946242385a464dade7329b3221c28c": {
      "model_module": "@jupyter-widgets/controls",
      "model_module_version": "1.2.0",
      "model_name": "ButtonStyleModel",
      "state": {}
     },
     "919c0710f7584bc19cea4331de4fbd3e": {
      "model_module": "@jupyter-widgets/base",
      "model_module_version": "1.0.0",
      "model_name": "LayoutModel",
      "state": {
       "margin": "0px 0px 0px 5px",
       "min_width": "30px"
      }
     },
     "91b11c2d8e324234a1e5a325b411f13e": {
      "model_module": "@jupyter-widgets/controls",
      "model_module_version": "1.2.0",
      "model_name": "HBoxModel",
      "state": {
       "children": [
        "IPY_MODEL_3c6e8a0ba4c94a36aa2c44a729cdea05",
        "IPY_MODEL_5757ab8180db408b9f061422286217e5",
        "IPY_MODEL_cd12ead92ca1424988b4c2b9db03fc21"
       ],
       "layout": "IPY_MODEL_37eb91dfeedf49ab8f1d50519c9c68ab"
      }
     },
     "91c2aa43dc784f3fa880f1b4e8a4cda1": {
      "model_module": "@jupyter-widgets/controls",
      "model_module_version": "1.2.0",
      "model_name": "VBoxModel",
      "state": {
       "children": [
        "IPY_MODEL_61281b8d5e54457cb80a7af00a1fd5d7",
        "IPY_MODEL_172b7d3367af48efab3258c46627c75a",
        "IPY_MODEL_b2fee3173225466dabad305c1fd5656a",
        "IPY_MODEL_828ad1befc824a12b472fdcd539d5fa5",
        "IPY_MODEL_3a35f03a4b404951a9b42ea65a84466b",
        "IPY_MODEL_eb965d662fb046b9a28b64212e4df1c0"
       ],
       "layout": "IPY_MODEL_f0ec3652f1424ea2bed94b1e25670b18"
      }
     },
     "91e60f7649b0472aade70f696b57f2f9": {
      "model_module": "@jupyter-widgets/controls",
      "model_module_version": "1.2.0",
      "model_name": "HTMLModel",
      "state": {
       "layout": "IPY_MODEL_b78d4ee2a733427793970abb9c1469ac",
       "style": "IPY_MODEL_3426db5dc3914d2aae4571af3bb7ff26",
       "value": "<h3> </h3>"
      }
     },
     "920417ec88c0450da0718eac65baa2d4": {
      "model_module": "@jupyter-widgets/controls",
      "model_module_version": "1.2.0",
      "model_name": "DescriptionStyleModel",
      "state": {
       "description_width": ""
      }
     },
     "926455508aa840efb31cc39b7b012dd8": {
      "model_module": "@jupyter-widgets/controls",
      "model_module_version": "1.2.0",
      "model_name": "DescriptionStyleModel",
      "state": {
       "description_width": ""
      }
     },
     "92f031cdf1c84bf3b667acb94362cdc4": {
      "model_module": "@jupyter-widgets/controls",
      "model_module_version": "1.2.0",
      "model_name": "DescriptionStyleModel",
      "state": {
       "description_width": ""
      }
     },
     "92f1969e8e0045cba1933fed89a5a4c5": {
      "model_module": "@jupyter-widgets/base",
      "model_module_version": "1.0.0",
      "model_name": "LayoutModel",
      "state": {
       "width": "auto"
      }
     },
     "936645d44e5b4118ad60d2146aaf27ab": {
      "model_module": "@jupyter-widgets/controls",
      "model_module_version": "1.2.0",
      "model_name": "DropdownModel",
      "state": {
       "_options_labels": [
        "none",
        "triangle",
        "tee",
        "diamond",
        "square",
        "circle",
        "vee",
        "triangle-tee"
       ],
       "index": 0,
       "layout": "IPY_MODEL_c4afadd1affa478dac3c5fafa57e8c90",
       "style": "IPY_MODEL_21e2da5859154d6bb52b0042b368afaf"
      }
     },
     "938b09f3eef5478396ca782fbcb5b95a": {
      "model_module": "@jupyter-widgets/controls",
      "model_module_version": "1.2.0",
      "model_name": "DescriptionStyleModel",
      "state": {
       "description_width": ""
      }
     },
     "938e907a31db4bbbb71cd0c5468c67ca": {
      "model_module": "@jupyter-widgets/controls",
      "model_module_version": "1.2.0",
      "model_name": "AccordionModel",
      "state": {
       "_titles": {
        "0": "Load",
        "1": "Save"
       },
       "children": [
        "IPY_MODEL_f0daf3c99511424093be9f01ad62c7ca",
        "IPY_MODEL_600ed6b70a0640e4b5d513ebd2f03869"
       ],
       "layout": "IPY_MODEL_f113be49c5cf4fb4afb8fb5399586f18"
      }
     },
     "93dc6824557846318128cbb36a82d8e0": {
      "model_module": "@jupyter-widgets/base",
      "model_module_version": "1.0.0",
      "model_name": "LayoutModel",
      "state": {
       "padding": "0 15px 0 35px"
      }
     },
     "93eca12b08494c9e8d64fe95c7feb305": {
      "model_module": "@jupyter-widgets/controls",
      "model_module_version": "1.2.0",
      "model_name": "TextModel",
      "state": {
       "description": "Username :",
       "layout": "IPY_MODEL_ab78656bf5a54bd4a8f7cbe05a489faa",
       "style": "IPY_MODEL_68b48ba4d11e428fbfd420ef4b27146e"
      }
     },
     "93f5b3aa66a74bb29c76d90f23e41534": {
      "model_module": "@jupyter-widgets/controls",
      "model_module_version": "1.2.0",
      "model_name": "ButtonStyleModel",
      "state": {}
     },
     "93fbc173f4304380885f796ad27c6097": {
      "model_module": "@jupyter-widgets/controls",
      "model_module_version": "1.2.0",
      "model_name": "PasswordModel",
      "state": {
       "description": "Password :",
       "layout": "IPY_MODEL_f0a74e58f2984979a55bbd3916b65694",
       "style": "IPY_MODEL_336d7530034b4e6c80385fd59c49cc5d"
      }
     },
     "94077698da1a461d8417d22d55fc91d1": {
      "model_module": "@jupyter-widgets/controls",
      "model_module_version": "1.2.0",
      "model_name": "TextModel",
      "state": {
       "layout": "IPY_MODEL_f552d8b50262434bb6f25fb752df3c57",
       "style": "IPY_MODEL_83d3106fe40c48de9e976e2a8e6ba8b7"
      }
     },
     "940d6055e4614400bbdd2c8bc843cf01": {
      "model_module": "@jupyter-widgets/controls",
      "model_module_version": "1.2.0",
      "model_name": "HBoxModel",
      "state": {
       "children": [
        "IPY_MODEL_9f5da5e9727e4dd1be7954595c7b283f"
       ],
       "layout": "IPY_MODEL_56ccee256c544fe5a787cf138fd43105"
      }
     },
     "940f3dcf5a9a4e1798793f9c3b701ee9": {
      "model_module": "@jupyter-widgets/controls",
      "model_module_version": "1.2.0",
      "model_name": "HTMLModel",
      "state": {
       "layout": "IPY_MODEL_5e5a65d3c34e41158f6968d3e460f526",
       "style": "IPY_MODEL_e117908b544e44359753b19aaba81f11",
       "value": "<h5>Fill out the info below to upload data to <a href='http://www.ndexbio.org/'>NDEx</a></h5>"
      }
     },
     "9411b299523d4e96b02d9eeea4ed96e7": {
      "model_module": "@jupyter-widgets/base",
      "model_module_version": "1.0.0",
      "model_name": "LayoutModel",
      "state": {
       "width": "auto"
      }
     },
     "942e3f89f560468e87922225f1b31996": {
      "model_module": "@jupyter-widgets/base",
      "model_module_version": "1.0.0",
      "model_name": "LayoutModel",
      "state": {}
     },
     "9464a2044cbe4b7e9e013b06cf26ff95": {
      "model_module": "@jupyter-widgets/base",
      "model_module_version": "1.0.0",
      "model_name": "LayoutModel",
      "state": {}
     },
     "94a50e8a92f54bd9a28e73a1668b4ab6": {
      "model_module": "@jupyter-widgets/controls",
      "model_module_version": "1.2.0",
      "model_name": "DescriptionStyleModel",
      "state": {
       "description_width": ""
      }
     },
     "94a69bfdce724554a5788293614bf426": {
      "model_module": "@jupyter-widgets/controls",
      "model_module_version": "1.2.0",
      "model_name": "ToggleButtonsModel",
      "state": {
       "_options_labels": [
        "Python",
        "HTML",
        "NDEX"
       ],
       "button_style": "success",
       "icons": [],
       "index": 0,
       "layout": "IPY_MODEL_dcb55416e68e4665954e95131331db2b",
       "style": "IPY_MODEL_6021b609e5c24d298c29e8711d481c3d",
       "tooltips": []
      }
     },
     "94f1dde7bd84451f94f6d0aab26dcc1c": {
      "model_module": "@jupyter-widgets/controls",
      "model_module_version": "1.2.0",
      "model_name": "DescriptionStyleModel",
      "state": {
       "description_width": ""
      }
     },
     "950ae90e98c846b38d3f495fb9e82644": {
      "model_module": "@jupyter-widgets/controls",
      "model_module_version": "1.2.0",
      "model_name": "HTMLModel",
      "state": {
       "layout": "IPY_MODEL_cb00556e3dfa48ce9d55f3b9c6cd9a73",
       "style": "IPY_MODEL_1878af1d20f54b45a1306defa6a35023",
       "value": "<hr style='padding: 2px; margin: 2px'>"
      }
     },
     "954620cf0eb14cfa83735d1f68b843ba": {
      "model_module": "@jupyter-widgets/base",
      "model_module_version": "1.0.0",
      "model_name": "LayoutModel",
      "state": {
       "justify_content": "center"
      }
     },
     "9557b0a43b6e4f38b2a95c6e265cbf72": {
      "model_module": "@jupyter-widgets/controls",
      "model_module_version": "1.2.0",
      "model_name": "DescriptionStyleModel",
      "state": {
       "description_width": ""
      }
     },
     "955f70dcd5c3466ba92f28b9f590ad05": {
      "model_module": "@jupyter-widgets/controls",
      "model_module_version": "1.2.0",
      "model_name": "VBoxModel",
      "state": {
       "children": [
        "IPY_MODEL_93eca12b08494c9e8d64fe95c7feb305",
        "IPY_MODEL_f0c5a318415e4cd0a8665a60c245bda1"
       ],
       "layout": "IPY_MODEL_b12c8251d04944b5ad09ace482335b0e"
      }
     },
     "9560a0246da54aea9b9050429717fe37": {
      "model_module": "@jupyter-widgets/controls",
      "model_module_version": "1.2.0",
      "model_name": "DescriptionStyleModel",
      "state": {
       "description_width": ""
      }
     },
     "95653cd6817c45faa1f45ad3506116bd": {
      "model_module": "@jupyter-widgets/base",
      "model_module_version": "1.0.0",
      "model_name": "LayoutModel",
      "state": {}
     },
     "95a0e7ddf4e84f2cbd11823112293444": {
      "model_module": "@jupyter-widgets/controls",
      "model_module_version": "1.2.0",
      "model_name": "TextModel",
      "state": {
       "description": "Username :",
       "layout": "IPY_MODEL_f094696cc7de4e10b2f84da7f17d87d7",
       "style": "IPY_MODEL_fdbf2242c51e453084ac1f787ad5eba3"
      }
     },
     "95cbd8cc63ff4a6b8fb59ef5472cdf43": {
      "model_module": "@jupyter-widgets/controls",
      "model_module_version": "1.2.0",
      "model_name": "PasswordModel",
      "state": {
       "description": "Password :",
       "layout": "IPY_MODEL_6d78afdcd0c2499c9baf73ed7334616c",
       "style": "IPY_MODEL_5e86430ffad544a58e6c626969d05cd4"
      }
     },
     "95dcaef398e64af3bfc786bd9798eb92": {
      "model_module": "@jupyter-widgets/base",
      "model_module_version": "1.0.0",
      "model_name": "LayoutModel",
      "state": {}
     },
     "95de35562d2a417e9d9d5fdd32df8933": {
      "model_module": "@jupyter-widgets/base",
      "model_module_version": "1.0.0",
      "model_name": "LayoutModel",
      "state": {}
     },
     "9603a9a6156948f88036d47e14c5190d": {
      "model_module": "@jupyter-widgets/controls",
      "model_module_version": "1.2.0",
      "model_name": "ButtonModel",
      "state": {
       "button_style": "danger",
       "description": "Delete",
       "layout": "IPY_MODEL_bab13e88e03948fab61f798262a5a5ff",
       "style": "IPY_MODEL_7ca2a75274094f18a10bdcb3ed1d9099"
      }
     },
     "961678da94c349039c713dfed370ed03": {
      "model_module": "@jupyter-widgets/controls",
      "model_module_version": "1.2.0",
      "model_name": "DescriptionStyleModel",
      "state": {
       "description_width": ""
      }
     },
     "96560f1173f344578586e53b90062153": {
      "model_module": "@jupyter-widgets/base",
      "model_module_version": "1.0.0",
      "model_name": "LayoutModel",
      "state": {
       "padding": "10px 0px 0px 0px"
      }
     },
     "967abdc14d674108978eb4dfe8fdca9e": {
      "model_module": "@jupyter-widgets/controls",
      "model_module_version": "1.2.0",
      "model_name": "DescriptionStyleModel",
      "state": {
       "description_width": ""
      }
     },
     "96b2ce1dc8f3489c98e46d4ddaa65911": {
      "model_module": "@jupyter-widgets/base",
      "model_module_version": "1.0.0",
      "model_name": "LayoutModel",
      "state": {}
     },
     "96b7aad89ba94774bf0bb52e261a52d7": {
      "model_module": "@jupyter-widgets/controls",
      "model_module_version": "1.2.0",
      "model_name": "DescriptionStyleModel",
      "state": {
       "description_width": ""
      }
     },
     "96e37bfc81804dd48036e417085e28d6": {
      "model_module": "@jupyter-widgets/controls",
      "model_module_version": "1.2.0",
      "model_name": "LabelModel",
      "state": {
       "layout": "IPY_MODEL_a537ae3645d14ce88523ad9572b97ef0",
       "style": "IPY_MODEL_d610dec455e64671a64e44b79313d786",
       "value": "Line Style :"
      }
     },
     "96e4ae4da0694100bae038c800daaf4a": {
      "model_module": "@jupyter-widgets/controls",
      "model_module_version": "1.2.0",
      "model_name": "AccordionModel",
      "state": {
       "_titles": {
        "0": "Load",
        "1": "Save"
       },
       "children": [
        "IPY_MODEL_1dabc397a34a450f8c9b872ae3fb9e13",
        "IPY_MODEL_e882d8f6c9da496ca6cc87d2e4ff19ed"
       ],
       "layout": "IPY_MODEL_5e8a2a816ed54da7886fd7969f1f08c9"
      }
     },
     "973513ec87f24ce79f55d27096c81b13": {
      "model_module": "@jupyter-widgets/controls",
      "model_module_version": "1.2.0",
      "model_name": "VBoxModel",
      "state": {
       "children": [
        "IPY_MODEL_abd86d6e3df34df695697f3659fa4118",
        "IPY_MODEL_c231ad08a9814e06830374def2615003",
        "IPY_MODEL_6d4505b9f5224583a226f584003fc40b",
        "IPY_MODEL_29dc225e090a420780746e9d77de11a9",
        "IPY_MODEL_365a0e7949664e38991847003f7315c7",
        "IPY_MODEL_6ca22bbce1c74e98a27f4e70a5acaacd"
       ],
       "layout": "IPY_MODEL_9c37611031f445668e7908685d881f2f"
      }
     },
     "974223365212418e87a83bd96954f9a7": {
      "model_module": "@jupyter-widgets/base",
      "model_module_version": "1.0.0",
      "model_name": "LayoutModel",
      "state": {
       "visibility": "hidden"
      }
     },
     "9775e5a046a04fdfbcbef0935e37cb58": {
      "model_module": "@jupyter-widgets/base",
      "model_module_version": "1.0.0",
      "model_name": "LayoutModel",
      "state": {
       "padding": "0 15px 0 35px"
      }
     },
     "977a26288693418b95a33727abe0e943": {
      "model_module": "@jupyter-widgets/controls",
      "model_module_version": "1.2.0",
      "model_name": "DescriptionStyleModel",
      "state": {
       "description_width": ""
      }
     },
     "97c23e1762b34ebf841db9b809cd4af2": {
      "model_module": "@jupyter-widgets/controls",
      "model_module_version": "1.2.0",
      "model_name": "VBoxModel",
      "state": {
       "children": [
        "IPY_MODEL_b613f77151544842805946f25f1e08c5",
        "IPY_MODEL_1dc2e01639524f4aaebf31427a31d032",
        "IPY_MODEL_00f02963dac148bbb1557ec7e0a9c43d",
        "IPY_MODEL_ad2246fa8117453eba80033452054770",
        "IPY_MODEL_65ca677abf604414983468377a97c04e",
        "IPY_MODEL_5b422fb149ce48a49aa34e5761a17be5",
        "IPY_MODEL_537dc459413c4d78ae806e06fc411c36",
        "IPY_MODEL_8327524d673a4122822ac41f3a00bd02",
        "IPY_MODEL_e304ca4d7cda4547a740a05a90f378e8",
        "IPY_MODEL_85e6dffc7172492a825cf9fede776d03",
        "IPY_MODEL_aebf90895aa24ee5b22ddafedd3e9ea6"
       ],
       "layout": "IPY_MODEL_942e3f89f560468e87922225f1b31996"
      }
     },
     "97cc6d9e72b9484c9d9b3658107955f5": {
      "model_module": "@jupyter-widgets/controls",
      "model_module_version": "1.2.0",
      "model_name": "HTMLModel",
      "state": {
       "layout": "IPY_MODEL_e262ce60dfe041329f12026669b4db74",
       "style": "IPY_MODEL_b3a1074f1b084dfda0ede43078da259d",
       "value": "<h5>Fill out the info below to upload data to <a href='http://www.ndexbio.org/'>NDEx</a></h5>"
      }
     },
     "97d35fc56fad4034b3bba3f1961031f5": {
      "model_module": "@jupyter-widgets/controls",
      "model_module_version": "1.2.0",
      "model_name": "HTMLModel",
      "state": {
       "layout": "IPY_MODEL_66cdd8a4f49a46688841ca4881d95e38",
       "style": "IPY_MODEL_f6c588dcdf6042aba0e417e3385a8955",
       "value": "<h5>You can save your graph as a <font color='darkKhaki'>index.html</font> file.\n<font color='darkKhaki'>index.html</font> files have lots of cool features, as explained in the intro video. </h5>"
      }
     },
     "97ef09d489fe40a3a25b472adb5e5687": {
      "model_module": "@jupyter-widgets/controls",
      "model_module_version": "1.2.0",
      "model_name": "DescriptionStyleModel",
      "state": {
       "description_width": ""
      }
     },
     "980b8a7bfa10476d82a265aa805d6988": {
      "model_module": "@jupyter-widgets/base",
      "model_module_version": "1.0.0",
      "model_name": "LayoutModel",
      "state": {}
     },
     "981a94f6d3ee4fd5913274a743c0103e": {
      "model_module": "@jupyter-widgets/base",
      "model_module_version": "1.0.0",
      "model_name": "LayoutModel",
      "state": {
       "align_items": "center",
       "display": "none"
      }
     },
     "98252f5c85a543a29d8cc702fd2c27c4": {
      "model_module": "@jupyter-widgets/base",
      "model_module_version": "1.0.0",
      "model_name": "LayoutModel",
      "state": {}
     },
     "9836233a715d41bda693537c41da2c83": {
      "model_module": "@jupyter-widgets/base",
      "model_module_version": "1.0.0",
      "model_name": "LayoutModel",
      "state": {
       "visibility": "hidden"
      }
     },
     "983bf26738d74efcb9f833b9164d8bb5": {
      "model_module": "@jupyter-widgets/controls",
      "model_module_version": "1.2.0",
      "model_name": "SelectModel",
      "state": {
       "_options_labels": [
        "Number",
        "Text"
       ],
       "index": 0,
       "layout": "IPY_MODEL_c94dbaacb56a48bc8394429fc8c8c3cc",
       "style": "IPY_MODEL_850b986944634f87a8127d97c57de02f"
      }
     },
     "9852880949aa471aa1b00d89f3cbe061": {
      "model_module": "@jupyter-widgets/base",
      "model_module_version": "1.0.0",
      "model_name": "LayoutModel",
      "state": {
       "padding": "10px 0px 0px 0px"
      }
     },
     "986facd4a7b54910a7c828191d656103": {
      "model_module": "@jupyter-widgets/controls",
      "model_module_version": "1.2.0",
      "model_name": "VBoxModel",
      "state": {
       "children": [
        "IPY_MODEL_51afbf785da94ea7805afa0d5a1014f0",
        "IPY_MODEL_4b6033b51b7045909679f3cab95f5464",
        "IPY_MODEL_ff8d78126e264b078fb961e53cb240e8",
        "IPY_MODEL_6a64d4d4178443a5821fe95d41944974",
        "IPY_MODEL_637337e4bba14a00bc095c3c31c46869",
        "IPY_MODEL_a9af9a8f33f84175bce31205d417d026"
       ],
       "layout": "IPY_MODEL_b8fa3a9c6b1145f5b4e891c47337d6ab"
      }
     },
     "98ae0c6bae4d40da9dd424290cf4431c": {
      "model_module": "@jupyter-widgets/controls",
      "model_module_version": "1.2.0",
      "model_name": "DropdownModel",
      "state": {
       "_options_labels": [
        "solid",
        "dotted",
        "dashed"
       ],
       "index": 0,
       "layout": "IPY_MODEL_30d20540a07e435b8f0fbad9905ff116",
       "style": "IPY_MODEL_4cf040a0dc4745999a2a3bbc69e5b75b"
      }
     },
     "98b4f9c1739748a39ac54619cad15789": {
      "model_module": "@jupyter-widgets/controls",
      "model_module_version": "1.2.0",
      "model_name": "ButtonStyleModel",
      "state": {}
     },
     "98c7ee226d234bdea9803e41a58fcdb0": {
      "model_module": "@jupyter-widgets/controls",
      "model_module_version": "1.2.0",
      "model_name": "DescriptionStyleModel",
      "state": {
       "description_width": ""
      }
     },
     "98d516537ccc47c19657304786e4f798": {
      "model_module": "@jupyter-widgets/controls",
      "model_module_version": "1.2.0",
      "model_name": "HBoxModel",
      "state": {
       "children": [
        "IPY_MODEL_226ba493e6554f0599ff34f47b78e323"
       ],
       "layout": "IPY_MODEL_1c581d84d51145d882bdc4458f2dd090"
      }
     },
     "991ede639eb84e8ca263d7963cc29fd7": {
      "model_module": "@jupyter-widgets/controls",
      "model_module_version": "1.2.0",
      "model_name": "DescriptionStyleModel",
      "state": {
       "description_width": ""
      }
     },
     "99283d8aaff34f638ec2782611e338be": {
      "model_module": "@jupyter-widgets/controls",
      "model_module_version": "1.2.0",
      "model_name": "DropdownModel",
      "state": {
       "_options_labels": [
        "solid",
        "dotted",
        "dashed"
       ],
       "index": 0,
       "layout": "IPY_MODEL_c3d1dd3b25e246e3a04c4d02bff5a8a9",
       "style": "IPY_MODEL_a8176ce468654eeb8a13065c7e1c871d"
      }
     },
     "99342a38839b44138ca5d7596e1265ca": {
      "model_module": "@jupyter-widgets/base",
      "model_module_version": "1.0.0",
      "model_name": "LayoutModel",
      "state": {
       "display": "none"
      }
     },
     "9934ae4e4212485e826eaceeac59cd41": {
      "model_module": "@jupyter-widgets/controls",
      "model_module_version": "1.2.0",
      "model_name": "DescriptionStyleModel",
      "state": {
       "description_width": ""
      }
     },
     "994d9fcfd57a412eabf7ee117d3a2a2e": {
      "model_module": "@jupyter-widgets/base",
      "model_module_version": "1.0.0",
      "model_name": "LayoutModel",
      "state": {}
     },
     "994f56b939be4fbca91876b7238a8df3": {
      "model_module": "@jupyter-widgets/base",
      "model_module_version": "1.0.0",
      "model_name": "LayoutModel",
      "state": {}
     },
     "99636097fd034d3e98e9acac5f2d774c": {
      "model_module": "@jupyter-widgets/controls",
      "model_module_version": "1.2.0",
      "model_name": "HTMLModel",
      "state": {
       "layout": "IPY_MODEL_5e10a2cf65c44b9b9b66cbbb2925bcc6",
       "style": "IPY_MODEL_52fbf4449ea44ad9adf61a5617ab8657",
       "value": "<h5>Name  &nbsp</h5> "
      }
     },
     "9973db3e9c37487998e18e9baeac7c42": {
      "model_module": "@jupyter-widgets/base",
      "model_module_version": "1.0.0",
      "model_name": "LayoutModel",
      "state": {
       "width": "auto"
      }
     },
     "9992039e645c4bcca1f3a6ff005d734a": {
      "model_module": "@jupyter-widgets/controls",
      "model_module_version": "1.2.0",
      "model_name": "ButtonStyleModel",
      "state": {}
     },
     "99a0f15e3079455d8104ffbef13879d1": {
      "model_module": "@jupyter-widgets/controls",
      "model_module_version": "1.2.0",
      "model_name": "DescriptionStyleModel",
      "state": {
       "description_width": ""
      }
     },
     "99d6030ee6ef4d57be64f6994b78b201": {
      "model_module": "@jupyter-widgets/controls",
      "model_module_version": "1.2.0",
      "model_name": "ButtonModel",
      "state": {
       "button_style": "success",
       "description": "Save",
       "layout": "IPY_MODEL_df175bfc38a541eebae8d1af04545437",
       "style": "IPY_MODEL_fe4040adf69644a981ec24b8213b8933"
      }
     },
     "99def0f8f38d4e06a7d9c1152752165b": {
      "model_module": "@jupyter-widgets/base",
      "model_module_version": "1.0.0",
      "model_name": "LayoutModel",
      "state": {
       "width": "auto"
      }
     },
     "9a19c8f30b954303950fa0db319fdafb": {
      "model_module": "@jupyter-widgets/base",
      "model_module_version": "1.0.0",
      "model_name": "LayoutModel",
      "state": {}
     },
     "9a1bfe08736d46688251b8447aebe66a": {
      "model_module": "@jupyter-widgets/base",
      "model_module_version": "1.0.0",
      "model_name": "LayoutModel",
      "state": {}
     },
     "9a529468913e4432a4f69b3b829799b4": {
      "model_module": "@jupyter-widgets/base",
      "model_module_version": "1.0.0",
      "model_name": "LayoutModel",
      "state": {
       "justify_content": "center",
       "padding": "0px 0px 10px 0px"
      }
     },
     "9a64c9be774c4e17876fa15462162ddc": {
      "model_module": "@jupyter-widgets/controls",
      "model_module_version": "1.2.0",
      "model_name": "TextareaModel",
      "state": {
       "layout": "IPY_MODEL_7367406f2db04a0cae858caca7e3b18d",
       "style": "IPY_MODEL_1a951d9992c648b8881a17560354e72d"
      }
     },
     "9acb7ac501064e10a5d1189842fce487": {
      "model_module": "@jupyter-widgets/controls",
      "model_module_version": "1.2.0",
      "model_name": "DescriptionStyleModel",
      "state": {
       "description_width": ""
      }
     },
     "9b0a0de68c654d14911e0ca8e3300bb5": {
      "model_module": "@jupyter-widgets/controls",
      "model_module_version": "1.2.0",
      "model_name": "HTMLModel",
      "state": {
       "layout": "IPY_MODEL_33ffeaf29b674f91bf4fce761d75072e",
       "style": "IPY_MODEL_49f1d1e936e241de938ddf2643946060",
       "value": "<h3> </h3>"
      }
     },
     "9b69a30452234519b7bb638524ea708a": {
      "model_module": "@jupyter-widgets/controls",
      "model_module_version": "1.2.0",
      "model_name": "FloatSliderModel",
      "state": {
       "layout": "IPY_MODEL_1f8e783b0e8f44718d08a2c9457aec9e",
       "max": 1,
       "step": 0.05,
       "style": "IPY_MODEL_1cd193ab4c2e4821b3fab3003b8b492b",
       "value": 0.5
      }
     },
     "9ba23fba19d6412fa345f6e4962be6b0": {
      "model_module": "@jupyter-widgets/controls",
      "model_module_version": "1.2.0",
      "model_name": "DescriptionStyleModel",
      "state": {
       "description_width": ""
      }
     },
     "9ba44e2f9a5a45fca60b278ff8793f71": {
      "model_module": "@jupyter-widgets/base",
      "model_module_version": "1.0.0",
      "model_name": "LayoutModel",
      "state": {}
     },
     "9bfa6b59cc6445cbacc767d9ea76c61e": {
      "model_module": "@jupyter-widgets/controls",
      "model_module_version": "1.2.0",
      "model_name": "VBoxModel",
      "state": {
       "children": [
        "IPY_MODEL_b8d6ed1b46234a12bdd9fe032396c987",
        "IPY_MODEL_219f437c43a049a6b3e8f5bcc6184471",
        "IPY_MODEL_fde65abdae83417f9505f1ae625d5b1c",
        "IPY_MODEL_1f2bb268348a4736abd08e41bd141f76",
        "IPY_MODEL_550f102f52784a978de3f010e2fbf7ba",
        "IPY_MODEL_4cc00fb99a694372bbc1c435dc11e745",
        "IPY_MODEL_094b6da8ee1e4847b6f8af25279adac0",
        "IPY_MODEL_63979dc294eb430f85c47caaded0d062",
        "IPY_MODEL_f656d5fa029944d79790b914a67a0daf",
        "IPY_MODEL_1a328568874b4dc697621705015ba690",
        "IPY_MODEL_836929e4daea47a7b9092639a0512431"
       ],
       "layout": "IPY_MODEL_340c0eff03c14e20a2157c56a3e44fe6"
      }
     },
     "9bfc3e97c958444c92baf459273825fe": {
      "model_module": "@jupyter-widgets/controls",
      "model_module_version": "1.2.0",
      "model_name": "LabelModel",
      "state": {
       "layout": "IPY_MODEL_7fa7df3ef4b8494a82689734c3602ea2",
       "style": "IPY_MODEL_75999f78d628474fbb7704d2db6b96d2",
       "value": "Size :"
      }
     },
     "9c06f88695dc4501a2a8eacb3ea291e2": {
      "model_module": "@jupyter-widgets/base",
      "model_module_version": "1.0.0",
      "model_name": "LayoutModel",
      "state": {
       "padding": "10px 0px 0px 0px"
      }
     },
     "9c24208c735e4033bd43ceeb71e0c93f": {
      "model_module": "@jupyter-widgets/base",
      "model_module_version": "1.0.0",
      "model_name": "LayoutModel",
      "state": {}
     },
     "9c37611031f445668e7908685d881f2f": {
      "model_module": "@jupyter-widgets/base",
      "model_module_version": "1.0.0",
      "model_name": "LayoutModel",
      "state": {}
     },
     "9c61e996841941e885e9a27fc7ae58be": {
      "model_module": "@jupyter-widgets/base",
      "model_module_version": "1.0.0",
      "model_name": "LayoutModel",
      "state": {}
     },
     "9c6e843ceef749e7baf1105982c30755": {
      "model_module": "@jupyter-widgets/controls",
      "model_module_version": "1.2.0",
      "model_name": "ButtonModel",
      "state": {
       "button_style": "primary",
       "description": "Load",
       "layout": "IPY_MODEL_6c56c5236f944e2298e8ae5dcb253b76",
       "style": "IPY_MODEL_ba89a425f3a448659ac7ac9a5e9cb9d0"
      }
     },
     "9c7d40cadf44423ab77b2cc6d0bc4e0e": {
      "model_module": "@jupyter-widgets/controls",
      "model_module_version": "1.2.0",
      "model_name": "DescriptionStyleModel",
      "state": {
       "description_width": ""
      }
     },
     "9ca4e411bf8147a9a592a8b860c1b45c": {
      "model_module": "@jupyter-widgets/controls",
      "model_module_version": "1.2.0",
      "model_name": "ButtonStyleModel",
      "state": {}
     },
     "9cf956316255472298d895695ac19f44": {
      "model_module": "@jupyter-widgets/controls",
      "model_module_version": "1.2.0",
      "model_name": "SelectModel",
      "state": {
       "_options_labels": [
        "Number",
        "Text"
       ],
       "index": 0,
       "layout": "IPY_MODEL_42d16d4465054781a4646cdc73b8e390",
       "style": "IPY_MODEL_bf517a0a94d94a58863f1e27db43d900"
      }
     },
     "9d683056d340405c853334d59dd07130": {
      "model_module": "@jupyter-widgets/controls",
      "model_module_version": "1.2.0",
      "model_name": "VBoxModel",
      "state": {
       "children": [
        "IPY_MODEL_3eef2ba335d24af18e536056e4e5593b",
        "IPY_MODEL_fe5bafb3cc2a4b358fc1098692c625df",
        "IPY_MODEL_e65a38f6c2f54ed9b903ebd9ed547104",
        "IPY_MODEL_85757cf564c64f809d9651b997df3053",
        "IPY_MODEL_0fc3f53555bd4bd9b670e61e0d62a2fc",
        "IPY_MODEL_8eb5ce0093734f2681aad85dfb9f007c"
       ],
       "layout": "IPY_MODEL_1118c40dd40246bea400ebccb9f15a66"
      }
     },
     "9d75f32ff47843f4a73926c13d0fe203": {
      "model_module": "@jupyter-widgets/controls",
      "model_module_version": "1.2.0",
      "model_name": "TextModel",
      "state": {
       "description": "Name :",
       "layout": "IPY_MODEL_39cbfe0385794cf4a49bc70c32da9c9d",
       "placeholder": "Network Name",
       "style": "IPY_MODEL_5cd8827af36f4f1aaa3990446ea94c59"
      }
     },
     "9d83a936a97847c393f998969192619f": {
      "model_module": "@jupyter-widgets/controls",
      "model_module_version": "1.2.0",
      "model_name": "DescriptionStyleModel",
      "state": {
       "description_width": ""
      }
     },
     "9daab2e1068d4f41a171a03278838205": {
      "model_module": "@jupyter-widgets/base",
      "model_module_version": "1.0.0",
      "model_name": "LayoutModel",
      "state": {
       "width": "auto"
      }
     },
     "9dad9fb2e72f4d219ee088f6a5abe00b": {
      "model_module": "@jupyter-widgets/controls",
      "model_module_version": "1.2.0",
      "model_name": "HTMLModel",
      "state": {
       "layout": "IPY_MODEL_175b8e2f5a5445898b7f061b32a5b69c",
       "style": "IPY_MODEL_b99e797866d74442a2113d33856db1e8",
       "value": "<h5>Paste the <a>NDEx URL</a> of the dataset to download :</h5>"
      }
     },
     "9dc7a1d2e4e54fdc8e4a6f48d94717fe": {
      "model_module": "@jupyter-widgets/base",
      "model_module_version": "1.0.0",
      "model_name": "LayoutModel",
      "state": {
       "min_width": "30px"
      }
     },
     "9dcb01e2fbe6431b8387e627f7741389": {
      "model_module": "@jupyter-widgets/base",
      "model_module_version": "1.0.0",
      "model_name": "LayoutModel",
      "state": {}
     },
     "9dfd85f50185492bb3c71b68aa5f4bb9": {
      "model_module": "@jupyter-widgets/controls",
      "model_module_version": "1.2.0",
      "model_name": "DescriptionStyleModel",
      "state": {
       "description_width": ""
      }
     },
     "9e018bfaea4d4f14948f50f86d8fab13": {
      "model_module": "@jupyter-widgets/controls",
      "model_module_version": "1.2.0",
      "model_name": "TextModel",
      "state": {
       "layout": "IPY_MODEL_816a66cd385e43da953b91c76d8d4d59",
       "style": "IPY_MODEL_5d1155a22bd14782b003ab250515d4a8"
      }
     },
     "9e12d0873a9c460eab5c64c79152ba2a": {
      "model_module": "@jupyter-widgets/controls",
      "model_module_version": "1.2.0",
      "model_name": "SelectModel",
      "state": {
       "_options_labels": [
        "Number",
        "Text"
       ],
       "index": 0,
       "layout": "IPY_MODEL_022ac30070224b9185fefcf8d86a609b",
       "style": "IPY_MODEL_a2c43183db98473888ff66269b648a36"
      }
     },
     "9e2702f0d5c54851a836c4f72a5d2177": {
      "model_module": "@jupyter-widgets/controls",
      "model_module_version": "1.2.0",
      "model_name": "HTMLModel",
      "state": {
       "layout": "IPY_MODEL_7aa3c3e4680e4d70a5c0383f6504a060",
       "style": "IPY_MODEL_0ed543298b0f4f74b076d7acfff9527b",
       "value": "<h2 class='text-danger text-center'>Coming Soon! Wait for Update</h2>"
      }
     },
     "9e5c3c690e14483bb138ab92aa2e2286": {
      "model_module": "@jupyter-widgets/base",
      "model_module_version": "1.0.0",
      "model_name": "LayoutModel",
      "state": {}
     },
     "9e5f4f3f41b44adc96c702cc0e3ba102": {
      "model_module": "@jupyter-widgets/controls",
      "model_module_version": "1.2.0",
      "model_name": "TextModel",
      "state": {
       "layout": "IPY_MODEL_318b65ed54b64b87b9e56253f1674e0a",
       "style": "IPY_MODEL_5d19728fe98545a898895a0d81970396"
      }
     },
     "9e69d4935c4242a0b9e2df694d822b02": {
      "model_module": "@jupyter-widgets/controls",
      "model_module_version": "1.2.0",
      "model_name": "DescriptionStyleModel",
      "state": {
       "description_width": ""
      }
     },
     "9e759ebaaac646ea8fe32a4f79dcfd8d": {
      "model_module": "@jupyter-widgets/base",
      "model_module_version": "1.0.0",
      "model_name": "LayoutModel",
      "state": {}
     },
     "9e844d40ef5442ef8926c9bd08687478": {
      "model_module": "@jupyter-widgets/controls",
      "model_module_version": "1.2.0",
      "model_name": "DescriptionStyleModel",
      "state": {
       "description_width": ""
      }
     },
     "9e93e5f1953c4bd2ace0457b8f10208c": {
      "model_module": "@jupyter-widgets/base",
      "model_module_version": "1.0.0",
      "model_name": "LayoutModel",
      "state": {}
     },
     "9ec86b2849eb401aa79287ceb1a59058": {
      "model_module": "@jupyter-widgets/base",
      "model_module_version": "1.0.0",
      "model_name": "LayoutModel",
      "state": {
       "padding": "0px 0px 10px 0px"
      }
     },
     "9f0952f48d7048d3b6fbac99fb6763e4": {
      "model_module": "@jupyter-widgets/controls",
      "model_module_version": "1.2.0",
      "model_name": "HTMLModel",
      "state": {
       "layout": "IPY_MODEL_0c4304890a284114849d12435d4bb34e",
       "style": "IPY_MODEL_ba7cf3e20e4e4a898bb2bdcdc470c9dc",
       "value": "<h5>Here you save your graph as a <a href='https://www.datacamp.com/community/tutorials/pandas-tutorial-dataframe-python'>Pandas DataFrame</a> called <font color=\"blue\">Graph.data</font> .\nThis is great for doing data analysis in <font color=\"blue\">python</font>.</h5>"
      }
     },
     "9f55faca384949f8a9c798d16eb2b380": {
      "model_module": "@jupyter-widgets/base",
      "model_module_version": "1.0.0",
      "model_name": "LayoutModel",
      "state": {}
     },
     "9f5da5e9727e4dd1be7954595c7b283f": {
      "model_module": "@jupyter-widgets/controls",
      "model_module_version": "1.2.0",
      "model_name": "ToggleButtonModel",
      "state": {
       "button_style": "primary",
       "description": "Box",
       "layout": "IPY_MODEL_45bdbb766b584613bec5c252bf08e2cb",
       "style": "IPY_MODEL_f6bd5439dd284244b76e55f0b18b5980"
      }
     },
     "9f9270e76f82460ea7284ff6e189850c": {
      "model_module": "@jupyter-widgets/base",
      "model_module_version": "1.0.0",
      "model_name": "LayoutModel",
      "state": {
       "align_items": "center"
      }
     },
     "9fa1330bd4f94062955e3501159eafdf": {
      "model_module": "@jupyter-widgets/controls",
      "model_module_version": "1.2.0",
      "model_name": "ToggleButtonsModel",
      "state": {
       "_options_labels": [
        "Python",
        "HTML",
        "NDEX"
       ],
       "button_style": "success",
       "icons": [],
       "index": 0,
       "layout": "IPY_MODEL_38002364830748fab569f6cf329afb8b",
       "style": "IPY_MODEL_0546930bb92b4454922bd71975e33894",
       "tooltips": []
      }
     },
     "9fcb63d7d88c47f9a47cf62bc507d496": {
      "model_module": "@jupyter-widgets/controls",
      "model_module_version": "1.2.0",
      "model_name": "ButtonModel",
      "state": {
       "button_style": "success",
       "description": "Save",
       "layout": "IPY_MODEL_7d2ffbfcf4914a1c832d4940d6ca0992",
       "style": "IPY_MODEL_e3c9d757a3af4a4ea6b621775dd93023"
      }
     },
     "9fd809f501ca405997ddc96097bf773e": {
      "model_module": "@jupyter-widgets/controls",
      "model_module_version": "1.2.0",
      "model_name": "LabelModel",
      "state": {
       "layout": "IPY_MODEL_0bfded4e8599495eae7fe616b1efd7b3",
       "style": "IPY_MODEL_145015b476524664b8d8d76138f58efc",
       "value": "Image : "
      }
     },
     "9ffd74e07d04445988f92010ce48aa32": {
      "model_module": "@jupyter-widgets/controls",
      "model_module_version": "1.2.0",
      "model_name": "HBoxModel",
      "state": {
       "children": [
        "IPY_MODEL_c946f8614e644a25bc51bb88b95cf408",
        "IPY_MODEL_8ef44ed08f6849ea9c4fd2ff0d512cf5"
       ],
       "layout": "IPY_MODEL_43e0d7300844411e9c0e7a2ab4c5d47b"
      }
     },
     "a0058f56153f4e429507ee27bce08855": {
      "model_module": "@jupyter-widgets/controls",
      "model_module_version": "1.2.0",
      "model_name": "ButtonModel",
      "state": {
       "button_style": "info",
       "icon": "refresh",
       "layout": "IPY_MODEL_6be5629ab4b14e909219bbd762064d33",
       "style": "IPY_MODEL_2fd562e1d39240ed95ce0555949fcfd9"
      }
     },
     "a0112914130944a8b28cf4276a5b78fc": {
      "model_module": "@jupyter-widgets/controls",
      "model_module_version": "1.2.0",
      "model_name": "VBoxModel",
      "state": {
       "children": [
        "IPY_MODEL_f443fe5b1da648b098d54e438f362000",
        "IPY_MODEL_495a40d267ec411abae1cd2f367075c5"
       ],
       "layout": "IPY_MODEL_8bfa7531ef624d43b87b1563675fadaf"
      }
     },
     "a0387e84a8464965998188e04c9df8a8": {
      "model_module": "@jupyter-widgets/base",
      "model_module_version": "1.0.0",
      "model_name": "LayoutModel",
      "state": {
       "justify_content": "center",
       "padding": "10px 0px 0px 0px"
      }
     },
     "a040930582b5436fbd8ca6779fe27155": {
      "model_module": "@jupyter-widgets/base",
      "model_module_version": "1.0.0",
      "model_name": "LayoutModel",
      "state": {
       "padding": "10px 0px 0px 0px"
      }
     },
     "a05cfe6f9f0a487ba6d7a2bff753d9c9": {
      "model_module": "@jupyter-widgets/controls",
      "model_module_version": "1.2.0",
      "model_name": "LabelModel",
      "state": {
       "layout": "IPY_MODEL_0a515ebeefd24e7c955e0cde6fcbbef6",
       "style": "IPY_MODEL_e22ec14d71f6485c87c360b6f441d1dc",
       "value": "Size :"
      }
     },
     "a084ec5fc5dd4c0da6fcb029240196c8": {
      "model_module": "@jupyter-widgets/controls",
      "model_module_version": "1.2.0",
      "model_name": "VBoxModel",
      "state": {
       "children": [
        "IPY_MODEL_4f0a76fa34cf420fada0a04b187391b0",
        "IPY_MODEL_f4c8bf7f5db34a63b4884e185ac1f022",
        "IPY_MODEL_45645fa43bd541fc8fbd203689b6f161",
        "IPY_MODEL_cea8154e98a14433b97669778be67277",
        "IPY_MODEL_a572158c385a4e72901beb4efb11c954",
        "IPY_MODEL_710e93ea808b482eb478c58750898827"
       ],
       "layout": "IPY_MODEL_f9d30eb2f3d04b899baba72c03372939"
      }
     },
     "a0a4522081824a109784d40117e6b297": {
      "model_module": "@jupyter-widgets/base",
      "model_module_version": "1.0.0",
      "model_name": "LayoutModel",
      "state": {}
     },
     "a0acb660e6614407999fad5b7e0fb2a9": {
      "model_module": "@jupyter-widgets/controls",
      "model_module_version": "1.2.0",
      "model_name": "SliderStyleModel",
      "state": {
       "description_width": ""
      }
     },
     "a0b5d4f035ba408c8b1c08dc0825e09c": {
      "model_module": "@jupyter-widgets/base",
      "model_module_version": "1.0.0",
      "model_name": "LayoutModel",
      "state": {}
     },
     "a0e82d6c780147eaa688bc000cc44339": {
      "model_module": "@jupyter-widgets/controls",
      "model_module_version": "1.2.0",
      "model_name": "DescriptionStyleModel",
      "state": {
       "description_width": ""
      }
     },
     "a1552ee0adb2470681a92fd423462228": {
      "model_module": "@jupyter-widgets/controls",
      "model_module_version": "1.2.0",
      "model_name": "HBoxModel",
      "state": {
       "children": [
        "IPY_MODEL_3a412e589c19481681d08046eae9ebee",
        "IPY_MODEL_e497245d39a54a699996660d265d7010"
       ],
       "layout": "IPY_MODEL_a257efbe24774ce6b4f1753dd165c3bf"
      }
     },
     "a159d869a2b144e39a35013c9cfa478c": {
      "model_module": "@jupyter-widgets/controls",
      "model_module_version": "1.2.0",
      "model_name": "IntSliderModel",
      "state": {
       "layout": "IPY_MODEL_87e7343945e54fa69e40b3768cb3e49f",
       "max": 60,
       "min": 6,
       "style": "IPY_MODEL_8628a9d09a3d4d969b3d61df3a634d50",
       "value": 16
      }
     },
     "a15e54851d1e4bd68b0f7cc806858a68": {
      "model_module": "@jupyter-widgets/base",
      "model_module_version": "1.0.0",
      "model_name": "LayoutModel",
      "state": {}
     },
     "a17e0ecb41b24e1ea891ccdc9616eae8": {
      "model_module": "@jupyter-widgets/base",
      "model_module_version": "1.0.0",
      "model_name": "LayoutModel",
      "state": {
       "display": "none"
      }
     },
     "a1991582cafb483290c77f91c34dd250": {
      "model_module": "@jupyter-widgets/controls",
      "model_module_version": "1.2.0",
      "model_name": "HBoxModel",
      "state": {
       "children": [
        "IPY_MODEL_f70ba7b7a76f438394c7ab9c3b249ddd"
       ],
       "layout": "IPY_MODEL_5f5a94ba37b444bc87e4973daaa784aa"
      }
     },
     "a1e94ee1440e46d5b42b49dcebb00304": {
      "model_module": "@jupyter-widgets/controls",
      "model_module_version": "1.2.0",
      "model_name": "ToggleButtonModel",
      "state": {
       "icon": "eye",
       "layout": "IPY_MODEL_504b31b8777a4376ad939d857e5bad11",
       "style": "IPY_MODEL_594d164e6dbe4205811f4c8426c512c3"
      }
     },
     "a1ee22d1a5114ee29755288885014d12": {
      "model_module": "@jupyter-widgets/base",
      "model_module_version": "1.0.0",
      "model_name": "LayoutModel",
      "state": {
       "align_items": "center"
      }
     },
     "a200d8c8376f45dcb4dbd42c30de6b0f": {
      "model_module": "@jupyter-widgets/base",
      "model_module_version": "1.0.0",
      "model_name": "LayoutModel",
      "state": {
       "width": "auto"
      }
     },
     "a25042318fb843139c567ed71e626697": {
      "model_module": "@jupyter-widgets/base",
      "model_module_version": "1.0.0",
      "model_name": "LayoutModel",
      "state": {}
     },
     "a257efbe24774ce6b4f1753dd165c3bf": {
      "model_module": "@jupyter-widgets/base",
      "model_module_version": "1.0.0",
      "model_name": "LayoutModel",
      "state": {
       "justify_content": "center",
       "padding": "0px 0px 10px 0px"
      }
     },
     "a25bc92c2d454c759aab8459bc21c9d2": {
      "model_module": "@jupyter-widgets/controls",
      "model_module_version": "1.2.0",
      "model_name": "VBoxModel",
      "state": {
       "layout": "IPY_MODEL_15d10b160cee49ba9b10015e59b0e1a2"
      }
     },
     "a26de28811c447d1a773b784fd42ee60": {
      "model_module": "@jupyter-widgets/controls",
      "model_module_version": "1.2.0",
      "model_name": "DescriptionStyleModel",
      "state": {
       "description_width": ""
      }
     },
     "a2a5fd598f134017aceb69be082729c0": {
      "model_module": "@jupyter-widgets/controls",
      "model_module_version": "1.2.0",
      "model_name": "DescriptionStyleModel",
      "state": {
       "description_width": ""
      }
     },
     "a2c43183db98473888ff66269b648a36": {
      "model_module": "@jupyter-widgets/controls",
      "model_module_version": "1.2.0",
      "model_name": "DescriptionStyleModel",
      "state": {
       "description_width": ""
      }
     },
     "a2fb34575fbc40428a56eeb4ac5cd3d2": {
      "model_module": "@jupyter-widgets/controls",
      "model_module_version": "1.2.0",
      "model_name": "VBoxModel",
      "state": {
       "children": [
        "IPY_MODEL_a8e495959c384dac82ca183d06a64cd2",
        "IPY_MODEL_4e4db6273d1a47c18b6c1f5633531d7a"
       ],
       "layout": "IPY_MODEL_e14cd38f23ec41019921c1a4f3222962"
      }
     },
     "a2fb8ba0f32c46d3934ffd8be97ec59f": {
      "model_module": "@jupyter-widgets/base",
      "model_module_version": "1.0.0",
      "model_name": "LayoutModel",
      "state": {
       "display": "none"
      }
     },
     "a3238eb8517d4eb985ad38fadbf205a1": {
      "model_module": "@jupyter-widgets/controls",
      "model_module_version": "1.2.0",
      "model_name": "HBoxModel",
      "state": {
       "children": [
        "IPY_MODEL_6c8120c7356b43e28bdf9cb5ee3badce",
        "IPY_MODEL_a717e33353aa418092c581b946a896ee"
       ],
       "layout": "IPY_MODEL_633925ca7a0f4a35bbdfc4a963167c5d"
      }
     },
     "a33bc04012cb4a859eeea86bc30ab542": {
      "model_module": "@jupyter-widgets/controls",
      "model_module_version": "1.2.0",
      "model_name": "ButtonStyleModel",
      "state": {}
     },
     "a356bce666df43deabba693df1eda110": {
      "model_module": "@jupyter-widgets/base",
      "model_module_version": "1.0.0",
      "model_name": "LayoutModel",
      "state": {}
     },
     "a36310b9210a410b8e7cf2cc0854744d": {
      "model_module": "@jupyter-widgets/controls",
      "model_module_version": "1.2.0",
      "model_name": "DescriptionStyleModel",
      "state": {
       "description_width": ""
      }
     },
     "a376e29ef0874a66b5e1fc29c611b2ba": {
      "model_module": "@jupyter-widgets/base",
      "model_module_version": "1.0.0",
      "model_name": "LayoutModel",
      "state": {}
     },
     "a37885c7d380413aaeb006a5699bd36c": {
      "model_module": "@jupyter-widgets/controls",
      "model_module_version": "1.2.0",
      "model_name": "ButtonModel",
      "state": {
       "button_style": "primary",
       "description": "Create",
       "layout": "IPY_MODEL_92f1969e8e0045cba1933fed89a5a4c5",
       "style": "IPY_MODEL_cae261a621d94f378e7dc091ce6a8716"
      }
     },
     "a3930cf763e54aac83fe442a9ebca605": {
      "model_module": "@jupyter-widgets/controls",
      "model_module_version": "1.2.0",
      "model_name": "HBoxModel",
      "state": {
       "children": [
        "IPY_MODEL_2164e030115c4a90855d9072e32482a8",
        "IPY_MODEL_64e567d9a5f743b1b66430bd8970f375"
       ],
       "layout": "IPY_MODEL_2eed4155a2584160b1abb742068fa69c"
      }
     },
     "a3f80a5614294f34a9c7ff2349582ea7": {
      "model_module": "@jupyter-widgets/controls",
      "model_module_version": "1.2.0",
      "model_name": "DescriptionStyleModel",
      "state": {
       "description_width": ""
      }
     },
     "a40ab27b17ac4ac0853de13f278e29f9": {
      "model_module": "@jupyter-widgets/controls",
      "model_module_version": "1.2.0",
      "model_name": "DescriptionStyleModel",
      "state": {
       "description_width": ""
      }
     },
     "a410981ecc2a482e8da232f1b7389f18": {
      "model_module": "@jupyter-widgets/controls",
      "model_module_version": "1.2.0",
      "model_name": "HBoxModel",
      "state": {
       "children": [
        "IPY_MODEL_14e155e43587495aa49f461a332349bb",
        "IPY_MODEL_70fbaa56ff3a4f42ae0386061f429a1f"
       ],
       "layout": "IPY_MODEL_8e8eaf85a14848ce919474392b8067ef"
      }
     },
     "a423a13e46da4820a3d3cad3e3de3490": {
      "model_module": "@jupyter-widgets/controls",
      "model_module_version": "1.2.0",
      "model_name": "DescriptionStyleModel",
      "state": {
       "description_width": ""
      }
     },
     "a4285a9185d04faea18a92d6eed64284": {
      "model_module": "@jupyter-widgets/base",
      "model_module_version": "1.0.0",
      "model_name": "LayoutModel",
      "state": {}
     },
     "a43a25b985c74d9a9e3ba5871909a963": {
      "model_module": "@jupyter-widgets/base",
      "model_module_version": "1.0.0",
      "model_name": "LayoutModel",
      "state": {}
     },
     "a45b88ca60e24d2a976cd75e46f7d392": {
      "model_module": "@jupyter-widgets/controls",
      "model_module_version": "1.2.0",
      "model_name": "TextModel",
      "state": {
       "layout": "IPY_MODEL_7f2e57116ad44661a4ea009d75d156a3",
       "style": "IPY_MODEL_cfffb010d4b34eb9b08e9cac4fe3e884"
      }
     },
     "a4674c269bfd4280947f554408f20081": {
      "model_module": "@jupyter-widgets/controls",
      "model_module_version": "1.2.0",
      "model_name": "ButtonModel",
      "state": {
       "button_style": "success",
       "description": "Upload",
       "layout": "IPY_MODEL_6d9bbdde5a98485792d303655e883992",
       "style": "IPY_MODEL_18b2dec182724dfa9f86aad22bbcb466"
      }
     },
     "a46dedeb622e4ca1939e54bfa84b6749": {
      "model_module": "@jupyter-widgets/controls",
      "model_module_version": "1.2.0",
      "model_name": "LabelModel",
      "state": {
       "layout": "IPY_MODEL_c54919738e7e42349a8d7e130a1f2baf",
       "style": "IPY_MODEL_1f369e14cf4d4b4599b789bbe1f2d074",
       "value": "Size :"
      }
     },
     "a46fcf36b9e34e9185f158506152906b": {
      "model_module": "@jupyter-widgets/controls",
      "model_module_version": "1.2.0",
      "model_name": "DescriptionStyleModel",
      "state": {
       "description_width": ""
      }
     },
     "a4784d076b0642229d9ade6ad338906d": {
      "model_module": "@jupyter-widgets/base",
      "model_module_version": "1.0.0",
      "model_name": "LayoutModel",
      "state": {}
     },
     "a489921fe1d44256a116972f753618bd": {
      "model_module": "@jupyter-widgets/base",
      "model_module_version": "1.0.0",
      "model_name": "LayoutModel",
      "state": {
       "align_items": "center",
       "justify_content": "center"
      }
     },
     "a495e6288b5043e2bdb0b00407c2ce94": {
      "model_module": "@jupyter-widgets/base",
      "model_module_version": "1.0.0",
      "model_name": "LayoutModel",
      "state": {}
     },
     "a49c676e42df4c899eac676af43c82fe": {
      "model_module": "@jupyter-widgets/base",
      "model_module_version": "1.0.0",
      "model_name": "LayoutModel",
      "state": {}
     },
     "a4b11f6439e44978a226fe8744cc74f7": {
      "model_module": "@jupyter-widgets/controls",
      "model_module_version": "1.2.0",
      "model_name": "ButtonModel",
      "state": {
       "button_style": "success",
       "description": "Save",
       "layout": "IPY_MODEL_64713cdf54a84027bdf6e2c66e3da101",
       "style": "IPY_MODEL_dc91f1abf42e4ed3b5cd35dbe74a44dd"
      }
     },
     "a4e6483a8f134efb915a0b386fbd56cc": {
      "model_module": "@jupyter-widgets/base",
      "model_module_version": "1.0.0",
      "model_name": "LayoutModel",
      "state": {}
     },
     "a4f6f11cd11e4226aa29e153e85d3e81": {
      "model_module": "@jupyter-widgets/base",
      "model_module_version": "1.0.0",
      "model_name": "LayoutModel",
      "state": {
       "width": "auto"
      }
     },
     "a502718ac2b349b8ac24f7b712de455e": {
      "model_module": "@jupyter-widgets/controls",
      "model_module_version": "1.2.0",
      "model_name": "DescriptionStyleModel",
      "state": {
       "description_width": ""
      }
     },
     "a52b1c3c7e1945e495823118159f815f": {
      "model_module": "@jupyter-widgets/controls",
      "model_module_version": "1.2.0",
      "model_name": "TextModel",
      "state": {
       "layout": "IPY_MODEL_3924b2ea928c4484b4ae4fa11f1ad7b5",
       "placeholder": "Variable Name:",
       "style": "IPY_MODEL_0f32cfe27cb84e3db77cdda003d76e7a"
      }
     },
     "a537ae3645d14ce88523ad9572b97ef0": {
      "model_module": "@jupyter-widgets/base",
      "model_module_version": "1.0.0",
      "model_name": "LayoutModel",
      "state": {}
     },
     "a5593887c43249c9bbec92c601ddfa61": {
      "model_module": "@jupyter-widgets/base",
      "model_module_version": "1.0.0",
      "model_name": "LayoutModel",
      "state": {}
     },
     "a563dadc330647c49e0fad8e8c0788d8": {
      "model_module": "@jupyter-widgets/base",
      "model_module_version": "1.0.0",
      "model_name": "LayoutModel",
      "state": {}
     },
     "a572158c385a4e72901beb4efb11c954": {
      "model_module": "@jupyter-widgets/controls",
      "model_module_version": "1.2.0",
      "model_name": "HTMLModel",
      "state": {
       "layout": "IPY_MODEL_3017175447a647f6938ad6d986e44d37",
       "style": "IPY_MODEL_4f60dc49bc1e4d1d9b04ae85991c9d92",
       "value": "<h4 style='color: purple' >Edges</h4>"
      }
     },
     "a5a82ef07b364845920de4c03b060a69": {
      "model_module": "@jupyter-widgets/controls",
      "model_module_version": "1.2.0",
      "model_name": "DescriptionStyleModel",
      "state": {
       "description_width": ""
      }
     },
     "a5fa82e000c8410aa9d3a9ccc6756575": {
      "model_module": "@jupyter-widgets/base",
      "model_module_version": "1.0.0",
      "model_name": "LayoutModel",
      "state": {
       "padding": "10px 0px 0px 0px"
      }
     },
     "a5fd8afb238a4c9eb351bde8fc4b9fb7": {
      "model_module": "@jupyter-widgets/base",
      "model_module_version": "1.0.0",
      "model_name": "LayoutModel",
      "state": {
       "justify_content": "center",
       "padding": "10px 0px 0px 0px"
      }
     },
     "a5fdbcab3b934ee6b88837dee0fb3faa": {
      "model_module": "@jupyter-widgets/controls",
      "model_module_version": "1.2.0",
      "model_name": "ButtonStyleModel",
      "state": {}
     },
     "a62d8456b3054a4fb5578c2ad9c4e646": {
      "model_module": "@jupyter-widgets/controls",
      "model_module_version": "1.2.0",
      "model_name": "DescriptionStyleModel",
      "state": {
       "description_width": ""
      }
     },
     "a63e7f95db5745daaf8d1982b934aff7": {
      "model_module": "@jupyter-widgets/base",
      "model_module_version": "1.0.0",
      "model_name": "LayoutModel",
      "state": {}
     },
     "a648e24f085c4524b296f43a1e585985": {
      "model_module": "@jupyter-widgets/controls",
      "model_module_version": "1.2.0",
      "model_name": "LabelModel",
      "state": {
       "layout": "IPY_MODEL_f24e6ee0e4cb4c5fba2e662ae69f79ce",
       "style": "IPY_MODEL_4317fa77f6e4463089594ae97b73c5d5",
       "value": "Color :"
      }
     },
     "a657f3a073054675965edeaaf351f4d3": {
      "model_module": "@jupyter-widgets/controls",
      "model_module_version": "1.2.0",
      "model_name": "HBoxModel",
      "state": {
       "children": [
        "IPY_MODEL_17b90f5039604df99b8fa814d7031be2",
        "IPY_MODEL_4d8e2d179b684f348bda9feb65bace36"
       ],
       "layout": "IPY_MODEL_8293e689c6dc4e59ba248fd92db221ff"
      }
     },
     "a66e3eaefb07425d94d969abf4742130": {
      "model_module": "@jupyter-widgets/controls",
      "model_module_version": "1.2.0",
      "model_name": "ColorPickerModel",
      "state": {
       "disabled": false,
       "layout": "IPY_MODEL_02c6b4911d464685a0d4819016198302",
       "style": "IPY_MODEL_f25176e9dafb4966a4ee19b79b22e9a7"
      }
     },
     "a677c326c4f94794963b7a9aa268bdbc": {
      "model_module": "@jupyter-widgets/base",
      "model_module_version": "1.0.0",
      "model_name": "LayoutModel",
      "state": {}
     },
     "a689d80156634d9f93ef2c4382985dbc": {
      "model_module": "@jupyter-widgets/controls",
      "model_module_version": "1.2.0",
      "model_name": "HBoxModel",
      "state": {
       "children": [
        "IPY_MODEL_5f88c0f736ff4ca98be659bf65e331d1",
        "IPY_MODEL_56faed3c3a6944619c25403fced52454"
       ],
       "layout": "IPY_MODEL_9a529468913e4432a4f69b3b829799b4"
      }
     },
     "a68dbe5347374aacb42bc81f2f8e0397": {
      "model_module": "@jupyter-widgets/base",
      "model_module_version": "1.0.0",
      "model_name": "LayoutModel",
      "state": {
       "justify_content": "center"
      }
     },
     "a6911a638dec47bea7c262be603aa97c": {
      "model_module": "@jupyter-widgets/base",
      "model_module_version": "1.0.0",
      "model_name": "LayoutModel",
      "state": {}
     },
     "a6c2d36288f349999ee718090274ff2f": {
      "model_module": "@jupyter-widgets/controls",
      "model_module_version": "1.2.0",
      "model_name": "DescriptionStyleModel",
      "state": {
       "description_width": ""
      }
     },
     "a6de62ba63b04dd9808416524e186bd8": {
      "model_module": "@jupyter-widgets/controls",
      "model_module_version": "1.2.0",
      "model_name": "HTMLModel",
      "state": {
       "layout": "IPY_MODEL_cb27f925f54f489e993ccd340c212257",
       "style": "IPY_MODEL_ece711316f96485f9d8deb52cbda35df",
       "value": "<hr style='padding: 2px; margin: 2px'>"
      }
     },
     "a717e33353aa418092c581b946a896ee": {
      "model_module": "@jupyter-widgets/controls",
      "model_module_version": "1.2.0",
      "model_name": "ButtonModel",
      "state": {
       "button_style": "primary",
       "description": "Undo",
       "layout": "IPY_MODEL_d89d8aac08134aba940caca0507c90d6",
       "style": "IPY_MODEL_35136003bb20475bb45467a1a9ec6135"
      }
     },
     "a722b09068a64216a007702e47623014": {
      "model_module": "@jupyter-widgets/controls",
      "model_module_version": "1.2.0",
      "model_name": "FloatSliderModel",
      "state": {
       "layout": "IPY_MODEL_fbc5671cac7c41e3aa0d016a040852b1",
       "max": 1,
       "step": 0.05,
       "style": "IPY_MODEL_e3ae5b18e5ed46df8f9a80a1a693057a",
       "value": 0.5
      }
     },
     "a74c350bd47f4f1c811f88d728796b9f": {
      "model_module": "@jupyter-widgets/controls",
      "model_module_version": "1.2.0",
      "model_name": "TextModel",
      "state": {
       "description": "URL :",
       "layout": "IPY_MODEL_96b2ce1dc8f3489c98e46d4ddaa65911",
       "style": "IPY_MODEL_4926063eb71746fcbe7108fbcb431f36"
      }
     },
     "a75e2bb0345b424abe778abc78f8ba33": {
      "model_module": "@jupyter-widgets/base",
      "model_module_version": "1.0.0",
      "model_name": "LayoutModel",
      "state": {
       "height": "80px",
       "width": "99%"
      }
     },
     "a8176ce468654eeb8a13065c7e1c871d": {
      "model_module": "@jupyter-widgets/controls",
      "model_module_version": "1.2.0",
      "model_name": "DescriptionStyleModel",
      "state": {
       "description_width": ""
      }
     },
     "a86f25e423ba436ea1a79c80043d3621": {
      "model_module": "@jupyter-widgets/controls",
      "model_module_version": "1.2.0",
      "model_name": "HBoxModel",
      "state": {
       "children": [
        "IPY_MODEL_50f7f24a35bc42efae0878d3ed16565c"
       ],
       "layout": "IPY_MODEL_cbae02b558204075a4818c9881514380"
      }
     },
     "a887f7b9988e4c7eab50dcefbb163245": {
      "model_module": "@jupyter-widgets/controls",
      "model_module_version": "1.2.0",
      "model_name": "ToggleButtonsStyleModel",
      "state": {
       "button_width": "",
       "description_width": ""
      }
     },
     "a8ce102c549c4ab0985c20cd59cb4270": {
      "model_module": "@jupyter-widgets/controls",
      "model_module_version": "1.2.0",
      "model_name": "DescriptionStyleModel",
      "state": {
       "description_width": ""
      }
     },
     "a8d75f1f2e1441508cd8a1b3df06eaa8": {
      "model_module": "@jupyter-widgets/controls",
      "model_module_version": "1.2.0",
      "model_name": "DescriptionStyleModel",
      "state": {
       "description_width": ""
      }
     },
     "a8e428b25009421ca45d23cfa9c78f13": {
      "model_module": "@jupyter-widgets/base",
      "model_module_version": "1.0.0",
      "model_name": "LayoutModel",
      "state": {
       "display": "none"
      }
     },
     "a8e495959c384dac82ca183d06a64cd2": {
      "model_module": "@jupyter-widgets/controls",
      "model_module_version": "1.2.0",
      "model_name": "HTMLModel",
      "state": {
       "layout": "IPY_MODEL_f51506c057da44a5a844b99a87ba85fb",
       "style": "IPY_MODEL_7dcfe19f386c44d0946d058dd74501ac",
       "value": "<h5>Here you save your graph as a <a href='https://www.datacamp.com/community/tutorials/pandas-tutorial-dataframe-python'>Pandas DataFrame</a> called <font color=\"blue\">Graph.data</font> .\nThis is great for doing data analysis in <font color=\"blue\">python</font>.</h5>"
      }
     },
     "a8ffbf5423ae4bb9a2df3c3caebb9017": {
      "model_module": "@jupyter-widgets/controls",
      "model_module_version": "1.2.0",
      "model_name": "TextModel",
      "state": {
       "description": "Username :",
       "layout": "IPY_MODEL_d3b68354bf8f4acbb033249db417861b",
       "style": "IPY_MODEL_14d2a30ad80f4faaa7cbc83a37f58875"
      }
     },
     "a91044894a044f90b4364882e2b307bd": {
      "model_module": "@jupyter-widgets/base",
      "model_module_version": "1.0.0",
      "model_name": "LayoutModel",
      "state": {
       "height": "40px",
       "min_width": "50px",
       "width": "10%"
      }
     },
     "a937ab705e8f4c3eb32346faea7d3207": {
      "model_module": "@jupyter-widgets/controls",
      "model_module_version": "1.2.0",
      "model_name": "DescriptionStyleModel",
      "state": {
       "description_width": ""
      }
     },
     "a974a5e353ac46ad9c7ce77ad90a7de7": {
      "model_module": "@jupyter-widgets/base",
      "model_module_version": "1.0.0",
      "model_name": "LayoutModel",
      "state": {}
     },
     "a978ea7828ed4a009d374374823c8238": {
      "model_module": "@jupyter-widgets/controls",
      "model_module_version": "1.2.0",
      "model_name": "ButtonStyleModel",
      "state": {}
     },
     "a981b6ccb0a94900b85c8cc60cc88dca": {
      "model_module": "@jupyter-widgets/controls",
      "model_module_version": "1.2.0",
      "model_name": "DescriptionStyleModel",
      "state": {
       "description_width": ""
      }
     },
     "a9ae1f2216074300a6039f24c76ed3c6": {
      "model_module": "@jupyter-widgets/controls",
      "model_module_version": "1.2.0",
      "model_name": "DescriptionStyleModel",
      "state": {
       "description_width": ""
      }
     },
     "a9af9a8f33f84175bce31205d417d026": {
      "model_module": "@jupyter-widgets/controls",
      "model_module_version": "1.2.0",
      "model_name": "VBoxModel",
      "state": {
       "layout": "IPY_MODEL_30aaca95523d4ff5a4a1c9435f39b29d"
      }
     },
     "a9c69d56ffcc4f0c82963e9ccdf4fb64": {
      "model_module": "@jupyter-widgets/controls",
      "model_module_version": "1.2.0",
      "model_name": "DescriptionStyleModel",
      "state": {
       "description_width": ""
      }
     },
     "a9e9e9263f9c48efb9dd0f45015e8769": {
      "model_module": "@jupyter-widgets/controls",
      "model_module_version": "1.2.0",
      "model_name": "DescriptionStyleModel",
      "state": {
       "description_width": ""
      }
     },
     "a9fac274363d424cb42ee6bd16138a75": {
      "model_module": "@jupyter-widgets/base",
      "model_module_version": "1.0.0",
      "model_name": "LayoutModel",
      "state": {
       "justify_content": "center",
       "padding": "10px 0px 0px 0px"
      }
     },
     "aa12ab6e8d9944bda75c870fcc59ea6b": {
      "model_module": "@jupyter-widgets/controls",
      "model_module_version": "1.2.0",
      "model_name": "HTMLModel",
      "state": {
       "layout": "IPY_MODEL_c1d6cf4b986a43b2ad037bd89244986f",
       "style": "IPY_MODEL_6b664106116f4d84a9dfa06f1cba7c26",
       "value": "<h3 class='text-center' style='color:red'>Error in .html File</h3>"
      }
     },
     "aa276e87a3e54f0a9b41e678ecf3182d": {
      "model_module": "@jupyter-widgets/controls",
      "model_module_version": "1.2.0",
      "model_name": "HBoxModel",
      "state": {
       "children": [
        "IPY_MODEL_ab04b4d4d4424fadb69f775f50b08fff",
        "IPY_MODEL_34d62ec7a18c48dca10fc415ab5f6c78"
       ],
       "layout": "IPY_MODEL_67af5da896c24d759d73c48e73c1b87b"
      }
     },
     "aa3359bc4ffe42508675dadff1587845": {
      "model_module": "@jupyter-widgets/controls",
      "model_module_version": "1.2.0",
      "model_name": "VBoxModel",
      "state": {
       "children": [
        "IPY_MODEL_2fc57313bd3148e1a9740e40dadd4c05",
        "IPY_MODEL_6954e944dbbf4284b83b30fd17e4fdbb"
       ],
       "layout": "IPY_MODEL_070a1792e83049fca6c66c154ece76af"
      }
     },
     "aabdadd2362c41a7b21fb6613fa74e97": {
      "model_module": "@jupyter-widgets/base",
      "model_module_version": "1.0.0",
      "model_name": "LayoutModel",
      "state": {}
     },
     "aac5375b79f8452cb9e45a1211928930": {
      "model_module": "@jupyter-widgets/controls",
      "model_module_version": "1.2.0",
      "model_name": "ButtonStyleModel",
      "state": {}
     },
     "aad9bfc3e2dd429393756b97d522247b": {
      "model_module": "@jupyter-widgets/controls",
      "model_module_version": "1.2.0",
      "model_name": "HTMLModel",
      "state": {
       "layout": "IPY_MODEL_5fa2b774ff3e419191f792d021d17319",
       "style": "IPY_MODEL_455a8d366b7849d9b272d06bfde5844a",
       "value": "<h1 class='text-center text-success' style='margin:0'>Saved!</h1>"
      }
     },
     "aaf218bc4b094b4486a7934022392d8e": {
      "model_module": "@jupyter-widgets/controls",
      "model_module_version": "1.2.0",
      "model_name": "ButtonModel",
      "state": {
       "button_style": "primary",
       "description": "Download",
       "layout": "IPY_MODEL_7c8d8c9c0d14491c9a864b298271ecb8",
       "style": "IPY_MODEL_c615344d2b79462dab859180b715cb88"
      }
     },
     "ab03666c1d45466a8efa715afb825325": {
      "model_module": "@jupyter-widgets/controls",
      "model_module_version": "1.2.0",
      "model_name": "LabelModel",
      "state": {
       "layout": "IPY_MODEL_75feb25f304e4eb994cb2ad4081c3387",
       "style": "IPY_MODEL_6d54cd01a2834aa8a0511f6824602164",
       "value": "Image : "
      }
     },
     "ab04b4d4d4424fadb69f775f50b08fff": {
      "model_module": "@jupyter-widgets/controls",
      "model_module_version": "1.2.0",
      "model_name": "LabelModel",
      "state": {
       "layout": "IPY_MODEL_1e9865827ddf43caab328319b44519e5",
       "style": "IPY_MODEL_7409a1df5daf45119496dae185057546",
       "value": "Behind/In-Front :"
      }
     },
     "ab5ba0e8ac2a43a6801ca40fc4171a1f": {
      "model_module": "@jupyter-widgets/controls",
      "model_module_version": "1.2.0",
      "model_name": "LabelModel",
      "state": {
       "layout": "IPY_MODEL_1a09f08e8a7b4cecbbdf4dcabc91843b",
       "style": "IPY_MODEL_9e69d4935c4242a0b9e2df694d822b02",
       "value": "Style"
      }
     },
     "ab78656bf5a54bd4a8f7cbe05a489faa": {
      "model_module": "@jupyter-widgets/base",
      "model_module_version": "1.0.0",
      "model_name": "LayoutModel",
      "state": {}
     },
     "ab8006036dfa4738b1a1b4adb80b0f54": {
      "model_module": "@jupyter-widgets/controls",
      "model_module_version": "1.2.0",
      "model_name": "DescriptionStyleModel",
      "state": {
       "description_width": ""
      }
     },
     "abb7c7f7650f4bae945def943fcbf7db": {
      "model_module": "@jupyter-widgets/controls",
      "model_module_version": "1.2.0",
      "model_name": "HTMLModel",
      "state": {
       "layout": "IPY_MODEL_b0dcc09f1ef845b1bbb01144876acc4b",
       "style": "IPY_MODEL_8943d277e3ed41779a066cda63163938",
       "value": "<h2 class='text-danger text-center'>Coming Soon! Wait for Update</h2>"
      }
     },
     "abd86d6e3df34df695697f3659fa4118": {
      "model_module": "@jupyter-widgets/controls",
      "model_module_version": "1.2.0",
      "model_name": "HBoxModel",
      "state": {
       "children": [
        "IPY_MODEL_acf6b222d3244d8ba52d0c4421cdd981",
        "IPY_MODEL_063173b04ef64a57b0c374dc0b56c936",
        "IPY_MODEL_19a512f16fad4261bbb063181072354d",
        "IPY_MODEL_71d1344b787b4128836fc16ee93dc1a4"
       ],
       "layout": "IPY_MODEL_39769178e880483ca03a3b7ef07d24a6"
      }
     },
     "ac06bf9207ac48ce82b5b2b7ff33d57b": {
      "model_module": "@jupyter-widgets/controls",
      "model_module_version": "1.2.0",
      "model_name": "DescriptionStyleModel",
      "state": {
       "description_width": ""
      }
     },
     "ac0b582c692744f8af6319e73d011679": {
      "model_module": "@jupyter-widgets/controls",
      "model_module_version": "1.2.0",
      "model_name": "DescriptionStyleModel",
      "state": {
       "description_width": ""
      }
     },
     "ac5bf7720b144e79ad99f903e1678d64": {
      "model_module": "@jupyter-widgets/base",
      "model_module_version": "1.0.0",
      "model_name": "LayoutModel",
      "state": {
       "display": "none"
      }
     },
     "ac68e5f33e26413f859961a8e804ec25": {
      "model_module": "@jupyter-widgets/base",
      "model_module_version": "1.0.0",
      "model_name": "LayoutModel",
      "state": {
       "justify_content": "center",
       "padding": "10px 0px 0px 0px"
      }
     },
     "ac6dc7ae994d4ba48d9a3505ddfeed53": {
      "model_module": "@jupyter-widgets/controls",
      "model_module_version": "1.2.0",
      "model_name": "DescriptionStyleModel",
      "state": {
       "description_width": ""
      }
     },
     "aca032db7fc04596a8ec170c9859a42d": {
      "model_module": "@jupyter-widgets/base",
      "model_module_version": "1.0.0",
      "model_name": "LayoutModel",
      "state": {}
     },
     "acc38f613063477da99cc8657bacbb36": {
      "model_module": "@jupyter-widgets/base",
      "model_module_version": "1.0.0",
      "model_name": "LayoutModel",
      "state": {}
     },
     "aceee12260f94281a0de48ab75bb6dd5": {
      "model_module": "@jupyter-widgets/controls",
      "model_module_version": "1.2.0",
      "model_name": "VBoxModel",
      "state": {
       "children": [
        "IPY_MODEL_9f0952f48d7048d3b6fbac99fb6763e4",
        "IPY_MODEL_18e359081bd84108b7d2575970f13e58"
       ],
       "layout": "IPY_MODEL_2c3de84af26a456bb0e737348ec40721"
      }
     },
     "acf6b222d3244d8ba52d0c4421cdd981": {
      "model_module": "@jupyter-widgets/controls",
      "model_module_version": "1.2.0",
      "model_name": "SelectModel",
      "state": {
       "_options_labels": [
        "Node",
        "Edge"
       ],
       "index": 0,
       "layout": "IPY_MODEL_bc4791dd1c7d448bbd72c57389a043a2",
       "style": "IPY_MODEL_3e34d599d5fe4f1db0f820ae3d8cd9f5"
      }
     },
     "ad002d383c9c414c9c28ff36bc4b1550": {
      "model_module": "@jupyter-widgets/controls",
      "model_module_version": "1.2.0",
      "model_name": "DescriptionStyleModel",
      "state": {
       "description_width": ""
      }
     },
     "ad054099be24483c97e8a8bee7dbbb52": {
      "model_module": "@jupyter-widgets/base",
      "model_module_version": "1.0.0",
      "model_name": "LayoutModel",
      "state": {}
     },
     "ad2246fa8117453eba80033452054770": {
      "model_module": "@jupyter-widgets/controls",
      "model_module_version": "1.2.0",
      "model_name": "HBoxModel",
      "state": {
       "children": [
        "IPY_MODEL_eaa1d7c230134bdcaccdf1d429cb7d24",
        "IPY_MODEL_74471cecb93d42a0968425935574e7c9"
       ],
       "layout": "IPY_MODEL_32fb5bb788394b0193b4fa05d9ee56e8"
      }
     },
     "ad45c8ec90c244dab2b7bc314f3ed713": {
      "model_module": "@jupyter-widgets/base",
      "model_module_version": "1.0.0",
      "model_name": "LayoutModel",
      "state": {}
     },
     "ad5716da507b419b895a6c7912bef626": {
      "model_module": "@jupyter-widgets/controls",
      "model_module_version": "1.2.0",
      "model_name": "TextModel",
      "state": {
       "description": "Name :",
       "layout": "IPY_MODEL_fbee65da0b6947d490478f6133337e1c",
       "placeholder": "Network Name",
       "style": "IPY_MODEL_cd635e95eac441ed9c4b71f0c03ca8b4"
      }
     },
     "ad9fd58384c64e2cb6ec4cf95f44b2ba": {
      "model_module": "@jupyter-widgets/controls",
      "model_module_version": "1.2.0",
      "model_name": "ButtonModel",
      "state": {
       "button_style": "danger",
       "icon": "image",
       "layout": "IPY_MODEL_760cfc2608d042dd93b33a300346ebe0",
       "style": "IPY_MODEL_2c43fcb0c28b47afb8f5b3582c6e2a1b"
      }
     },
     "ada7e4f777d8410187f0f99745614439": {
      "model_module": "@jupyter-widgets/base",
      "model_module_version": "1.0.0",
      "model_name": "LayoutModel",
      "state": {
       "padding": "10px 0px 0px 0px"
      }
     },
     "adbd9708126141f580a4cee92563e13e": {
      "model_module": "@jupyter-widgets/controls",
      "model_module_version": "1.2.0",
      "model_name": "DescriptionStyleModel",
      "state": {
       "description_width": ""
      }
     },
     "adce6d7d91594569a8c5e4c84194425e": {
      "model_module": "@jupyter-widgets/controls",
      "model_module_version": "1.2.0",
      "model_name": "HBoxModel",
      "state": {
       "children": [
        "IPY_MODEL_6d081540ba1d4a859f83082b1d87dedc",
        "IPY_MODEL_34c9bcd7440943f3bfaa5315911f49e6"
       ],
       "layout": "IPY_MODEL_c28e443fc0144aecb697b694ce216e7e"
      }
     },
     "ae503f4420374cbaa0b9c9f83bf0419e": {
      "model_module": "@jupyter-widgets/base",
      "model_module_version": "1.0.0",
      "model_name": "LayoutModel",
      "state": {}
     },
     "ae79684dbd9e4f0b978dec189c48236e": {
      "model_module": "@jupyter-widgets/base",
      "model_module_version": "1.0.0",
      "model_name": "LayoutModel",
      "state": {
       "margin": "0 15px 0 0px",
       "width": "auto"
      }
     },
     "aeb0fe42763a4de38b0df331dd3a9376": {
      "model_module": "@jupyter-widgets/base",
      "model_module_version": "1.0.0",
      "model_name": "LayoutModel",
      "state": {
       "padding": "0 15px 0 35px"
      }
     },
     "aebf90895aa24ee5b22ddafedd3e9ea6": {
      "model_module": "@jupyter-widgets/controls",
      "model_module_version": "1.2.0",
      "model_name": "HBoxModel",
      "state": {
       "children": [
        "IPY_MODEL_df2be5ad7cca43ebba4b6cab267d8ccf",
        "IPY_MODEL_98ae0c6bae4d40da9dd424290cf4431c"
       ],
       "layout": "IPY_MODEL_01bdfac1296f435b993e2171e595bad3"
      }
     },
     "aee802ffda064402976ee272af7315e8": {
      "model_module": "@jupyter-widgets/controls",
      "model_module_version": "1.2.0",
      "model_name": "HBoxModel",
      "state": {
       "children": [
        "IPY_MODEL_754620441d974fc18cbcc4a8f8665709",
        "IPY_MODEL_59b1a30a37fb455c8b03057b7446141d"
       ],
       "layout": "IPY_MODEL_48fabedd6c394144b28c8e238ef4de7f"
      }
     },
     "af1150c604d348e1a90290f14f1e6c8a": {
      "model_module": "@jupyter-widgets/controls",
      "model_module_version": "1.2.0",
      "model_name": "DescriptionStyleModel",
      "state": {
       "description_width": ""
      }
     },
     "af520f7e2c4c4bae92e8cbf5733217cb": {
      "model_module": "@jupyter-widgets/controls",
      "model_module_version": "1.2.0",
      "model_name": "VBoxModel",
      "state": {
       "children": [
        "IPY_MODEL_07d6297022f64c65b9d3586153ff1a33",
        "IPY_MODEL_15e02418f152459ab6ba5a76c2320876",
        "IPY_MODEL_d27cd35eafed4bba8b383496e6d43d7f",
        "IPY_MODEL_b930eaa429a2405cbbe2dcb66931fc21"
       ],
       "layout": "IPY_MODEL_e2e877b4ccce478abef63da4b2523693"
      }
     },
     "af5b19731ba249f199a842a2b4a2a713": {
      "model_module": "@jupyter-widgets/controls",
      "model_module_version": "1.2.0",
      "model_name": "LabelModel",
      "state": {
       "layout": "IPY_MODEL_d782f1ba8e0a43ff9e571e84aac8a447",
       "style": "IPY_MODEL_66342779be0441e98484fc21a84a0bd1",
       "value": "Color :"
      }
     },
     "af6d37da08434c70b53bf097f42e3449": {
      "model_module": "@jupyter-widgets/base",
      "model_module_version": "1.0.0",
      "model_name": "LayoutModel",
      "state": {
       "width": "auto"
      }
     },
     "afae8b9352ce41a49f8c153c5a0167a4": {
      "model_module": "@jupyter-widgets/controls",
      "model_module_version": "1.2.0",
      "model_name": "TextModel",
      "state": {
       "description": "Username :",
       "layout": "IPY_MODEL_19316bc8bb6d4d8fb94f225afcea08c0",
       "style": "IPY_MODEL_ee48a2e25f7c4be8ab15130d744caf5b"
      }
     },
     "afb027c624434c9aa9a850724f753f4d": {
      "model_module": "@jupyter-widgets/controls",
      "model_module_version": "1.2.0",
      "model_name": "HBoxModel",
      "state": {
       "children": [
        "IPY_MODEL_1aa19d7a35e14036a9f4ffa376ef0192",
        "IPY_MODEL_7cb54e1d52d84429940f6f4f4efaff4f"
       ],
       "layout": "IPY_MODEL_de019bdce6b146dcbffb7ee5be1815b9"
      }
     },
     "b01bb7e0419b452e986cb85ca95df662": {
      "model_module": "@jupyter-widgets/controls",
      "model_module_version": "1.2.0",
      "model_name": "DescriptionStyleModel",
      "state": {
       "description_width": ""
      }
     },
     "b031ccbde0ff43dbb4aaf2c7cbfacff2": {
      "model_module": "@jupyter-widgets/base",
      "model_module_version": "1.0.0",
      "model_name": "LayoutModel",
      "state": {}
     },
     "b090b8225dd1401bb362c31ba35e5608": {
      "model_module": "@jupyter-widgets/controls",
      "model_module_version": "1.2.0",
      "model_name": "HBoxModel",
      "state": {
       "children": [
        "IPY_MODEL_096b73656cb6400392cba4c5db567369",
        "IPY_MODEL_1ab76bace79c4d498b426666935a5f7f"
       ],
       "layout": "IPY_MODEL_15fc71f2f8144cbc818f904a657820c9"
      }
     },
     "b09c2174decf4538b0e96a1bb30bd3b2": {
      "model_module": "@jupyter-widgets/base",
      "model_module_version": "1.0.0",
      "model_name": "LayoutModel",
      "state": {}
     },
     "b09fd94bea9d436598a6c5a59ac193f0": {
      "model_module": "@jupyter-widgets/controls",
      "model_module_version": "1.2.0",
      "model_name": "DescriptionStyleModel",
      "state": {
       "description_width": ""
      }
     },
     "b0cb46738afa4d1bbe7824f3df25875a": {
      "model_module": "@jupyter-widgets/base",
      "model_module_version": "1.0.0",
      "model_name": "LayoutModel",
      "state": {}
     },
     "b0cd756a07cd4c52b568f0f90b9fc513": {
      "model_module": "@jupyter-widgets/base",
      "model_module_version": "1.0.0",
      "model_name": "LayoutModel",
      "state": {}
     },
     "b0dcc09f1ef845b1bbb01144876acc4b": {
      "model_module": "@jupyter-widgets/base",
      "model_module_version": "1.0.0",
      "model_name": "LayoutModel",
      "state": {
       "display": "none"
      }
     },
     "b12c8251d04944b5ad09ace482335b0e": {
      "model_module": "@jupyter-widgets/base",
      "model_module_version": "1.0.0",
      "model_name": "LayoutModel",
      "state": {}
     },
     "b13609b6120e432ab74ee96d4ec7ba76": {
      "model_module": "@jupyter-widgets/controls",
      "model_module_version": "1.2.0",
      "model_name": "HBoxModel",
      "state": {
       "children": [
        "IPY_MODEL_5132354f27f04fa7a112dca7e064b58c",
        "IPY_MODEL_9d75f32ff47843f4a73926c13d0fe203"
       ],
       "layout": "IPY_MODEL_95de35562d2a417e9d9d5fdd32df8933"
      }
     },
     "b179262f1df042098dbbe3e769ee8bf9": {
      "model_module": "@jupyter-widgets/controls",
      "model_module_version": "1.2.0",
      "model_name": "ButtonStyleModel",
      "state": {}
     },
     "b17cd089b7564cb9ba55bf77cbd47529": {
      "model_module": "@jupyter-widgets/base",
      "model_module_version": "1.0.0",
      "model_name": "LayoutModel",
      "state": {}
     },
     "b17f06df972d411098310a29520e83cc": {
      "model_module": "@jupyter-widgets/controls",
      "model_module_version": "1.2.0",
      "model_name": "HTMLModel",
      "state": {
       "layout": "IPY_MODEL_deaf24c7b2f34bf780571d6ffc518f36",
       "style": "IPY_MODEL_7066ec3857a643f08f425b92d273021b",
       "value": "<h4 style='color:purple'>Edge :</h4>"
      }
     },
     "b19954807e5b4af99bb87fdd5c768470": {
      "model_module": "@jupyter-widgets/controls",
      "model_module_version": "1.2.0",
      "model_name": "HBoxModel",
      "state": {
       "children": [
        "IPY_MODEL_d668ba889d1b42bc9ec99d3d14177d96"
       ],
       "layout": "IPY_MODEL_c1b4ad93c2d74f77b8f62b73524f468b"
      }
     },
     "b1a89b3c27c842dbbce58c88881fe92e": {
      "model_module": "@jupyter-widgets/controls",
      "model_module_version": "1.2.0",
      "model_name": "VBoxModel",
      "state": {
       "children": [
        "IPY_MODEL_9dad9fb2e72f4d219ee088f6a5abe00b",
        "IPY_MODEL_17012bee08254a5db4b0e2b0b7480d82",
        "IPY_MODEL_73531eb19b4a460aa0942a5fe6c01c14",
        "IPY_MODEL_414fd118a2d14cbda698575297546c7e"
       ],
       "layout": "IPY_MODEL_cfacf46d12ed43b3a0081f88815ba37a"
      }
     },
     "b1c34f287a614c669be26326e3eb57ed": {
      "model_module": "@jupyter-widgets/base",
      "model_module_version": "1.0.0",
      "model_name": "LayoutModel",
      "state": {
       "align_items": "center"
      }
     },
     "b1ca45c08ff8438cbb68408dfa171af1": {
      "model_module": "@jupyter-widgets/controls",
      "model_module_version": "1.2.0",
      "model_name": "ToggleButtonModel",
      "state": {
       "button_style": "info",
       "description": "Border",
       "layout": "IPY_MODEL_d292a5db46da4faaafeae07255c31c4e",
       "style": "IPY_MODEL_522767c761a54db3959bced458c06367"
      }
     },
     "b24e4fbab3f6454489f8ee3eebdbbc44": {
      "model_module": "@jupyter-widgets/controls",
      "model_module_version": "1.2.0",
      "model_name": "TextModel",
      "state": {
       "description": "Username :",
       "layout": "IPY_MODEL_450eb1fd6e52463e8e14c95c4f43e782",
       "style": "IPY_MODEL_f84ecdfa0afa4dc9b93a2bc4362d2b99"
      }
     },
     "b268db105f214c5f85e3f3b39f3a9e9e": {
      "model_module": "@jupyter-widgets/base",
      "model_module_version": "1.0.0",
      "model_name": "LayoutModel",
      "state": {}
     },
     "b2744ac30409479ea19f0232de338d2b": {
      "model_module": "@jupyter-widgets/controls",
      "model_module_version": "1.2.0",
      "model_name": "HBoxModel",
      "state": {
       "children": [
        "IPY_MODEL_5be2ed7ae1b04505b7ade6449c2a5e43"
       ],
       "layout": "IPY_MODEL_686c6d84c9db4351ab9252eec8ff6ddf"
      }
     },
     "b2761e4850f446ecb4efbc4515fcbdc2": {
      "model_module": "@jupyter-widgets/base",
      "model_module_version": "1.0.0",
      "model_name": "LayoutModel",
      "state": {}
     },
     "b2866d3b32164b3da134b1d1134281ea": {
      "model_module": "@jupyter-widgets/controls",
      "model_module_version": "1.2.0",
      "model_name": "HBoxModel",
      "state": {
       "children": [
        "IPY_MODEL_248dbf0e2dfb433a97e05fe76512a942",
        "IPY_MODEL_24a7e1ac595043a48e7a747752e3962b"
       ],
       "layout": "IPY_MODEL_314cd30265f248b4bd24f5c56bf65102"
      }
     },
     "b2b2c35d8d7445108ef76d35efe377c1": {
      "model_module": "@jupyter-widgets/base",
      "model_module_version": "1.0.0",
      "model_name": "LayoutModel",
      "state": {}
     },
     "b2f50e5e6a7145b0a88d3088dc6fa9be": {
      "model_module": "@jupyter-widgets/controls",
      "model_module_version": "1.2.0",
      "model_name": "DescriptionStyleModel",
      "state": {
       "description_width": ""
      }
     },
     "b2fdd33c6dbc4640b6126ee5d5781e9d": {
      "model_module": "@jupyter-widgets/controls",
      "model_module_version": "1.2.0",
      "model_name": "HBoxModel",
      "state": {
       "children": [
        "IPY_MODEL_34377c3d5ae048bbb58b74284fa5af5c",
        "IPY_MODEL_50833fa3356149639f20e998be0cf693",
        "IPY_MODEL_b1ca45c08ff8438cbb68408dfa171af1"
       ],
       "layout": "IPY_MODEL_4532cd863e0e488d95e58df9cc95153c"
      }
     },
     "b2fee3173225466dabad305c1fd5656a": {
      "model_module": "@jupyter-widgets/controls",
      "model_module_version": "1.2.0",
      "model_name": "HTMLModel",
      "state": {
       "layout": "IPY_MODEL_05df1406c27c4814a3fbe8d0ffe34c02",
       "style": "IPY_MODEL_7b7c9aade3f045868900414041d1705a",
       "value": "<h4 style='color: DarkKhaki'>Nodes</h4>"
      }
     },
     "b303ba9a2f9e4232a831adc7c1a9b29a": {
      "model_module": "@jupyter-widgets/controls",
      "model_module_version": "1.2.0",
      "model_name": "DescriptionStyleModel",
      "state": {
       "description_width": ""
      }
     },
     "b31a0688e4e84bf0b8232458cc30a917": {
      "model_module": "@jupyter-widgets/base",
      "model_module_version": "1.0.0",
      "model_name": "LayoutModel",
      "state": {}
     },
     "b336a5a32ac54e9ab39a8e69655d9dc7": {
      "model_module": "@jupyter-widgets/base",
      "model_module_version": "1.0.0",
      "model_name": "LayoutModel",
      "state": {
       "justify_content": "center",
       "margin": "0 0 15px 0"
      }
     },
     "b3a1074f1b084dfda0ede43078da259d": {
      "model_module": "@jupyter-widgets/controls",
      "model_module_version": "1.2.0",
      "model_name": "DescriptionStyleModel",
      "state": {
       "description_width": ""
      }
     },
     "b3af626c15a848dab37cd30f2958b4db": {
      "model_module": "@jupyter-widgets/controls",
      "model_module_version": "1.2.0",
      "model_name": "DescriptionStyleModel",
      "state": {
       "description_width": ""
      }
     },
     "b3b135ef410140a3b4f4b3f67d098bdb": {
      "model_module": "@jupyter-widgets/controls",
      "model_module_version": "1.2.0",
      "model_name": "FloatSliderModel",
      "state": {
       "layout": "IPY_MODEL_1fe19320306246808db056cc09ac6708",
       "max": 1,
       "step": 0.05,
       "style": "IPY_MODEL_ccbbf26dd0414f6db3c568243e9130a3",
       "value": 0.5
      }
     },
     "b3c323186f7944038c06801a99de8930": {
      "model_module": "@jupyter-widgets/base",
      "model_module_version": "1.0.0",
      "model_name": "LayoutModel",
      "state": {}
     },
     "b3dfa0fa980249d6bca4721d4fb4020c": {
      "model_module": "@jupyter-widgets/controls",
      "model_module_version": "1.2.0",
      "model_name": "SelectModel",
      "state": {
       "_options_labels": [
        "Number",
        "Text"
       ],
       "index": 0,
       "layout": "IPY_MODEL_6784df28fc7d4be4b066911aaa2cc5cc",
       "style": "IPY_MODEL_2ba7d4796d1a49378814f1a5fd9c8f01"
      }
     },
     "b429a2432a3341c6a855955a751f737e": {
      "model_module": "@jupyter-widgets/controls",
      "model_module_version": "1.2.0",
      "model_name": "DescriptionStyleModel",
      "state": {
       "description_width": ""
      }
     },
     "b435ced4c07f4709917d8beb7679d522": {
      "model_module": "@jupyter-widgets/base",
      "model_module_version": "1.0.0",
      "model_name": "LayoutModel",
      "state": {}
     },
     "b440f96ba5854a23a4f4276b355f11bf": {
      "model_module": "@jupyter-widgets/controls",
      "model_module_version": "1.2.0",
      "model_name": "DescriptionStyleModel",
      "state": {
       "description_width": ""
      }
     },
     "b4610668a7054da38ba97648b9e6dda6": {
      "model_module": "@jupyter-widgets/controls",
      "model_module_version": "1.2.0",
      "model_name": "TextModel",
      "state": {
       "continuous_update": false,
       "description": "Search :",
       "layout": "IPY_MODEL_2a3a8f85f0464fc39cd5357ee25fa73d",
       "style": "IPY_MODEL_0045dbdd1148438388abd36c4f29cf59"
      }
     },
     "b47ad40cbd4140649dd80472be23db16": {
      "model_module": "@jupyter-widgets/base",
      "model_module_version": "1.0.0",
      "model_name": "LayoutModel",
      "state": {}
     },
     "b47ce5ec4f044f9c9c79feac346d64ae": {
      "model_module": "@jupyter-widgets/base",
      "model_module_version": "1.0.0",
      "model_name": "LayoutModel",
      "state": {}
     },
     "b484fb3aec54498eb859d3a2b28c3be9": {
      "model_module": "@jupyter-widgets/controls",
      "model_module_version": "1.2.0",
      "model_name": "HBoxModel",
      "state": {
       "children": [
        "IPY_MODEL_fbe3878e0dec4e3d8ca18e3e30ba9258",
        "IPY_MODEL_368977171df4439b98f13942f9f92cca"
       ],
       "layout": "IPY_MODEL_7c0ce19e25d5453c8d63b548b5c2e37c"
      }
     },
     "b4ac6b532af84b7d9614990670d262c2": {
      "model_module": "@jupyter-widgets/base",
      "model_module_version": "1.0.0",
      "model_name": "LayoutModel",
      "state": {}
     },
     "b4bde35e14644481a1629bfd06b0ddf1": {
      "model_module": "@jupyter-widgets/base",
      "model_module_version": "1.0.0",
      "model_name": "LayoutModel",
      "state": {}
     },
     "b4d3d577d32c49c1b7be64c4c4ff842e": {
      "model_module": "@jupyter-widgets/base",
      "model_module_version": "1.0.0",
      "model_name": "LayoutModel",
      "state": {}
     },
     "b5476465cb0e4142b90ce93362aa8131": {
      "model_module": "@jupyter-widgets/controls",
      "model_module_version": "1.2.0",
      "model_name": "DescriptionStyleModel",
      "state": {
       "description_width": ""
      }
     },
     "b55812d02b8a4bf7a1b75b2acb58a483": {
      "model_module": "@jupyter-widgets/controls",
      "model_module_version": "1.2.0",
      "model_name": "DropdownModel",
      "state": {
       "_options_labels": [
        "solid",
        "dotted",
        "dashed"
       ],
       "index": 0,
       "layout": "IPY_MODEL_15750e9555774127ba44aef0668f90c7",
       "style": "IPY_MODEL_9e844d40ef5442ef8926c9bd08687478"
      }
     },
     "b583d5ff7a84407bb6b6e508c550e61f": {
      "model_module": "@jupyter-widgets/base",
      "model_module_version": "1.0.0",
      "model_name": "LayoutModel",
      "state": {}
     },
     "b588262e40414c8e96bb552582c62957": {
      "model_module": "@jupyter-widgets/base",
      "model_module_version": "1.0.0",
      "model_name": "LayoutModel",
      "state": {}
     },
     "b613f77151544842805946f25f1e08c5": {
      "model_module": "@jupyter-widgets/controls",
      "model_module_version": "1.2.0",
      "model_name": "HBoxModel",
      "state": {
       "children": [
        "IPY_MODEL_84afa9cbaa8941d78dada625fb5453bc",
        "IPY_MODEL_409e01b987a646c28c4359418b4a05f2",
        "IPY_MODEL_6f0186f34ab44ba6bfc2e651a043944a",
        "IPY_MODEL_cdd57bba5efd493686327ecf8d585936"
       ],
       "layout": "IPY_MODEL_388b2c0164144fd9885db7bb2eb12d27"
      }
     },
     "b615313e6add477eb92b57130dd104b8": {
      "model_module": "@jupyter-widgets/controls",
      "model_module_version": "1.2.0",
      "model_name": "DescriptionStyleModel",
      "state": {
       "description_width": ""
      }
     },
     "b64d7cb96e264517beade858c1dad81f": {
      "model_module": "@jupyter-widgets/base",
      "model_module_version": "1.0.0",
      "model_name": "LayoutModel",
      "state": {
       "width": "auto"
      }
     },
     "b659bc35cd8144509e8995322a21c166": {
      "model_module": "@jupyter-widgets/controls",
      "model_module_version": "1.2.0",
      "model_name": "ButtonModel",
      "state": {
       "button_style": "success",
       "icon": "image",
       "layout": "IPY_MODEL_540861aaf6c54a84b700532e17528aa8",
       "style": "IPY_MODEL_fd069dd4e3a3459580164f048b7b4f22"
      }
     },
     "b6bfcbcb6f0d434ea88e30aca50bd0a8": {
      "model_module": "@jupyter-widgets/base",
      "model_module_version": "1.0.0",
      "model_name": "LayoutModel",
      "state": {}
     },
     "b711b57196a94c249f02eee234465e58": {
      "model_module": "@jupyter-widgets/controls",
      "model_module_version": "1.2.0",
      "model_name": "DescriptionStyleModel",
      "state": {
       "description_width": ""
      }
     },
     "b78d4ee2a733427793970abb9c1469ac": {
      "model_module": "@jupyter-widgets/base",
      "model_module_version": "1.0.0",
      "model_name": "LayoutModel",
      "state": {}
     },
     "b7ac35c8a26149a789a44bed0a29efc4": {
      "model_module": "@jupyter-widgets/base",
      "model_module_version": "1.0.0",
      "model_name": "LayoutModel",
      "state": {
       "justify_content": "center",
       "margin": "0 0 15px 0"
      }
     },
     "b7cd9b7bb1364e3899d8f69dd15a38a1": {
      "model_module": "@jupyter-widgets/controls",
      "model_module_version": "1.2.0",
      "model_name": "HTMLModel",
      "state": {
       "layout": "IPY_MODEL_0a29503ad436430bab92ddb5743ecd29",
       "style": "IPY_MODEL_61a9778938cb4964aefe51b9d8e30c8e",
       "value": "<p>&nbsp&nbsp&nbsp&nbsp&nbsp</p>"
      }
     },
     "b7eb87f126bd4183a83617b51ed09e0b": {
      "model_module": "@jupyter-widgets/controls",
      "model_module_version": "1.2.0",
      "model_name": "LabelModel",
      "state": {
       "layout": "IPY_MODEL_6ce40f4555d047ae8f4556ed90d31e75",
       "style": "IPY_MODEL_2c7cd9be8cdc4f889504cb1746e368fe",
       "value": "Color :"
      }
     },
     "b7f0d625ee11471381f4d971908933c9": {
      "model_module": "@jupyter-widgets/controls",
      "model_module_version": "1.2.0",
      "model_name": "DropdownModel",
      "state": {
       "_options_labels": [
        "ellipse",
        "triangle",
        "rectangle",
        "rhomboid",
        "diamond",
        "pentagon",
        "hexagon",
        "concavehexagon",
        "heptagon",
        "octagon",
        "star",
        "tag",
        "vee"
       ],
       "index": 0,
       "layout": "IPY_MODEL_cdc684dd616541468785cb2761f7dc8a",
       "style": "IPY_MODEL_cbe7f728d75f461fa2629580364e7a74"
      }
     },
     "b8602e3a1ea34c608212298c3d868f61": {
      "model_module": "@jupyter-widgets/controls",
      "model_module_version": "1.2.0",
      "model_name": "LabelModel",
      "state": {
       "layout": "IPY_MODEL_b2761e4850f446ecb4efbc4515fcbdc2",
       "style": "IPY_MODEL_460140af90a14fda8dae7a6516f2cd06",
       "value": "Color :"
      }
     },
     "b8a29d7dcc5840e88bafe793a814abe0": {
      "model_module": "@jupyter-widgets/controls",
      "model_module_version": "1.2.0",
      "model_name": "LabelModel",
      "state": {
       "layout": "IPY_MODEL_c3dcac2bbeb24ad1a9cc5427f1e19466",
       "style": "IPY_MODEL_5c0b69730e1f449ab5a616d31960857f",
       "value": "Color :"
      }
     },
     "b8c4ba1de0d44d46b1239cb376bdd441": {
      "model_module": "@jupyter-widgets/controls",
      "model_module_version": "1.2.0",
      "model_name": "HBoxModel",
      "state": {
       "children": [
        "IPY_MODEL_7b662a21edc0449d9a166e34b89cad68",
        "IPY_MODEL_a45b88ca60e24d2a976cd75e46f7d392"
       ],
       "layout": "IPY_MODEL_d3087b8769334cada95699de584f8bd7"
      }
     },
     "b8d6ed1b46234a12bdd9fe032396c987": {
      "model_module": "@jupyter-widgets/controls",
      "model_module_version": "1.2.0",
      "model_name": "HBoxModel",
      "state": {
       "children": [
        "IPY_MODEL_af5b19731ba249f199a842a2b4a2a713",
        "IPY_MODEL_52f56f1f07dd425b8efdb15b1a6d9b6a",
        "IPY_MODEL_4d4c42e72f094600b8c3655de737c536",
        "IPY_MODEL_ad9fd58384c64e2cb6ec4cf95f44b2ba"
       ],
       "layout": "IPY_MODEL_9464a2044cbe4b7e9e013b06cf26ff95"
      }
     },
     "b8fa3a9c6b1145f5b4e891c47337d6ab": {
      "model_module": "@jupyter-widgets/base",
      "model_module_version": "1.0.0",
      "model_name": "LayoutModel",
      "state": {}
     },
     "b91de4ff1a064692afd2158f35fe8e80": {
      "model_module": "@jupyter-widgets/base",
      "model_module_version": "1.0.0",
      "model_name": "LayoutModel",
      "state": {}
     },
     "b92077dc85e64413b5bcaac179ccef44": {
      "model_module": "@jupyter-widgets/controls",
      "model_module_version": "1.2.0",
      "model_name": "DescriptionStyleModel",
      "state": {
       "description_width": ""
      }
     },
     "b930eaa429a2405cbbe2dcb66931fc21": {
      "model_module": "@jupyter-widgets/controls",
      "model_module_version": "1.2.0",
      "model_name": "HTMLModel",
      "state": {
       "layout": "IPY_MODEL_a17e0ecb41b24e1ea891ccdc9616eae8",
       "style": "IPY_MODEL_7e74722762f94c0db36f7d1aacda6c0d",
       "value": "<h2 class='text-danger text-center'>Coming Soon! Wait for Update</h2>"
      }
     },
     "b945f7ef1d8e45c2951da9aab5039d94": {
      "model_module": "@jupyter-widgets/base",
      "model_module_version": "1.0.0",
      "model_name": "LayoutModel",
      "state": {}
     },
     "b95ea140e1e24308a4ed7b420d926606": {
      "model_module": "@jupyter-widgets/base",
      "model_module_version": "1.0.0",
      "model_name": "LayoutModel",
      "state": {}
     },
     "b9698d16f85a4e718291ecad581702a9": {
      "model_module": "@jupyter-widgets/base",
      "model_module_version": "1.0.0",
      "model_name": "LayoutModel",
      "state": {
       "height": "80px",
       "width": "99%"
      }
     },
     "b9939b7d3e86405b9f408bfb0ba18be8": {
      "model_module": "@jupyter-widgets/base",
      "model_module_version": "1.0.0",
      "model_name": "LayoutModel",
      "state": {}
     },
     "b99e797866d74442a2113d33856db1e8": {
      "model_module": "@jupyter-widgets/controls",
      "model_module_version": "1.2.0",
      "model_name": "DescriptionStyleModel",
      "state": {
       "description_width": ""
      }
     },
     "b9a135fad52d47039432659e79611b8d": {
      "model_module": "@jupyter-widgets/base",
      "model_module_version": "1.0.0",
      "model_name": "LayoutModel",
      "state": {}
     },
     "b9db38b416424cbab9b70cead6e30e1c": {
      "model_module": "@jupyter-widgets/base",
      "model_module_version": "1.0.0",
      "model_name": "LayoutModel",
      "state": {}
     },
     "b9dc7ceae4264636b3f01dc9a0c84303": {
      "model_module": "@jupyter-widgets/base",
      "model_module_version": "1.0.0",
      "model_name": "LayoutModel",
      "state": {
       "justify_content": "center",
       "margin": "0 0 15px 0"
      }
     },
     "b9e5acf70bb14c27a9d620be9043d95a": {
      "model_module": "@jupyter-widgets/controls",
      "model_module_version": "1.2.0",
      "model_name": "HBoxModel",
      "state": {
       "children": [
        "IPY_MODEL_0619fe0441b64cd483dfa568fc960897",
        "IPY_MODEL_c467dfcffd1e4a619ec829ae508cba4c",
        "IPY_MODEL_874814a564cc43ee80ab8b19d1ed451d",
        "IPY_MODEL_fc579980eb1e46658d8e5bba523ad693"
       ],
       "layout": "IPY_MODEL_654bca6bcf9348ccb498af3383abc0eb"
      }
     },
     "b9ef479f7a2f4801a16d8f07d225cc60": {
      "model_module": "@jupyter-widgets/controls",
      "model_module_version": "1.2.0",
      "model_name": "TextModel",
      "state": {
       "layout": "IPY_MODEL_b588262e40414c8e96bb552582c62957",
       "style": "IPY_MODEL_c0117098a04c40fdbaaf0e8e65b0a6a9"
      }
     },
     "ba058dec794b41e7891489af6678f600": {
      "model_module": "@jupyter-widgets/controls",
      "model_module_version": "1.2.0",
      "model_name": "SliderStyleModel",
      "state": {
       "description_width": ""
      }
     },
     "ba19b5142cf64fa59d9dafb7d1a3b5d5": {
      "model_module": "@jupyter-widgets/base",
      "model_module_version": "1.0.0",
      "model_name": "LayoutModel",
      "state": {
       "display": "none"
      }
     },
     "ba3350e2e4dd45c2b87ff9411d1a688c": {
      "model_module": "@jupyter-widgets/controls",
      "model_module_version": "1.2.0",
      "model_name": "IntSliderModel",
      "state": {
       "layout": "IPY_MODEL_d46a4242b07249da945e2f60bf2a8f2b",
       "max": 60,
       "min": 6,
       "style": "IPY_MODEL_3dad40ab8a914b84871c42dd89a735cb",
       "value": 16
      }
     },
     "ba3c62622e9d4aa9ab7522a4838e6038": {
      "model_module": "@jupyter-widgets/base",
      "model_module_version": "1.0.0",
      "model_name": "LayoutModel",
      "state": {}
     },
     "ba41b683f1b0412c807ee9c2c4149a8a": {
      "model_module": "@jupyter-widgets/base",
      "model_module_version": "1.0.0",
      "model_name": "LayoutModel",
      "state": {
       "margin": "10px 0 0 0",
       "width": "auto"
      }
     },
     "ba4b4f45d79448fba687026fbb3d16a9": {
      "model_module": "@jupyter-widgets/base",
      "model_module_version": "1.0.0",
      "model_name": "LayoutModel",
      "state": {}
     },
     "ba7cf3e20e4e4a898bb2bdcdc470c9dc": {
      "model_module": "@jupyter-widgets/controls",
      "model_module_version": "1.2.0",
      "model_name": "DescriptionStyleModel",
      "state": {
       "description_width": ""
      }
     },
     "ba88034cd8f04436b3751c4c9f18d3be": {
      "model_module": "@jupyter-widgets/controls",
      "model_module_version": "1.2.0",
      "model_name": "DescriptionStyleModel",
      "state": {
       "description_width": ""
      }
     },
     "ba89a425f3a448659ac7ac9a5e9cb9d0": {
      "model_module": "@jupyter-widgets/controls",
      "model_module_version": "1.2.0",
      "model_name": "ButtonStyleModel",
      "state": {}
     },
     "bab13e88e03948fab61f798262a5a5ff": {
      "model_module": "@jupyter-widgets/base",
      "model_module_version": "1.0.0",
      "model_name": "LayoutModel",
      "state": {}
     },
     "bad9e89305da41aa9b2165ff630f546c": {
      "model_module": "@jupyter-widgets/base",
      "model_module_version": "1.0.0",
      "model_name": "LayoutModel",
      "state": {}
     },
     "bb21aff66f5d4550ac3e1871012c1037": {
      "model_module": "@jupyter-widgets/base",
      "model_module_version": "1.0.0",
      "model_name": "LayoutModel",
      "state": {}
     },
     "bb5e07ecc6aa4ecdb0f45675e077b65a": {
      "model_module": "@jupyter-widgets/controls",
      "model_module_version": "1.2.0",
      "model_name": "DescriptionStyleModel",
      "state": {
       "description_width": ""
      }
     },
     "bb7eb9cdc1b44d29a252fb057f317b24": {
      "model_module": "@jupyter-widgets/controls",
      "model_module_version": "1.2.0",
      "model_name": "HTMLModel",
      "state": {
       "layout": "IPY_MODEL_bcb640c421d84efa8ba42576120dd204",
       "style": "IPY_MODEL_4f5e5acea0204776add0d54996d42843",
       "value": "<h1 class='text-center text-success' style='margin:0'>Saved!</h1>"
      }
     },
     "bc13e8203aa0409c84abe6abe1f284cc": {
      "model_module": "@jupyter-widgets/base",
      "model_module_version": "1.0.0",
      "model_name": "LayoutModel",
      "state": {}
     },
     "bc33487ee9bf40d3b32dd2dab34546a7": {
      "model_module": "@jupyter-widgets/base",
      "model_module_version": "1.0.0",
      "model_name": "LayoutModel",
      "state": {}
     },
     "bc4791dd1c7d448bbd72c57389a043a2": {
      "model_module": "@jupyter-widgets/base",
      "model_module_version": "1.0.0",
      "model_name": "LayoutModel",
      "state": {
       "height": "40px",
       "min_width": "50px",
       "width": "10%"
      }
     },
     "bcb640c421d84efa8ba42576120dd204": {
      "model_module": "@jupyter-widgets/base",
      "model_module_version": "1.0.0",
      "model_name": "LayoutModel",
      "state": {
       "visibility": "hidden"
      }
     },
     "bcc36cbfcbc5420390c5f873b7286425": {
      "model_module": "@jupyter-widgets/base",
      "model_module_version": "1.0.0",
      "model_name": "LayoutModel",
      "state": {}
     },
     "bcdb57955695473b9d1801711280dad1": {
      "model_module": "@jupyter-widgets/controls",
      "model_module_version": "1.2.0",
      "model_name": "DescriptionStyleModel",
      "state": {
       "description_width": ""
      }
     },
     "bcdf68ea60e24953ad67c02671a4febb": {
      "model_module": "@jupyter-widgets/controls",
      "model_module_version": "1.2.0",
      "model_name": "HBoxModel",
      "state": {
       "children": [
        "IPY_MODEL_ee0bad1b7cd54f82b10a3227765af566"
       ],
       "layout": "IPY_MODEL_4080e98adcfc491b9d4d9e9d7b8e74e2"
      }
     },
     "bd7c88e20c80402b94431b38d06b3da3": {
      "model_module": "@jupyter-widgets/controls",
      "model_module_version": "1.2.0",
      "model_name": "LabelModel",
      "state": {
       "layout": "IPY_MODEL_fe37b30d7f784766bfd05b3d68d7ca80",
       "style": "IPY_MODEL_a2a5fd598f134017aceb69be082729c0",
       "value": "End"
      }
     },
     "bdbec55e4e4f4dd6a5983686cb3c2b5b": {
      "model_module": "@jupyter-widgets/controls",
      "model_module_version": "1.2.0",
      "model_name": "ButtonModel",
      "state": {
       "button_style": "primary",
       "description": "Undo",
       "disabled": true,
       "layout": "IPY_MODEL_8fc8ce2b40354a548f08269992c308bb",
       "style": "IPY_MODEL_3c108818f8b94d37b7c11fada09a0a9b"
      }
     },
     "bde260e439f74b20b9a5a14707d4f864": {
      "model_module": "@jupyter-widgets/controls",
      "model_module_version": "1.2.0",
      "model_name": "ButtonStyleModel",
      "state": {}
     },
     "be1c933222c240d385bdd0734c5cc649": {
      "model_module": "@jupyter-widgets/controls",
      "model_module_version": "1.2.0",
      "model_name": "ButtonModel",
      "state": {
       "button_style": "primary",
       "description": "Create",
       "layout": "IPY_MODEL_8498aec958cb4e49a61d0926696447c8",
       "style": "IPY_MODEL_c149028b850343e69d1b3954c2821c26"
      }
     },
     "be3796559dc440fbad329a1c1d8970c0": {
      "model_module": "@jupyter-widgets/base",
      "model_module_version": "1.0.0",
      "model_name": "LayoutModel",
      "state": {
       "width": "auto"
      }
     },
     "be3e936c92a74b0ba1d293e70ff0f2c1": {
      "model_module": "@jupyter-widgets/base",
      "model_module_version": "1.0.0",
      "model_name": "LayoutModel",
      "state": {}
     },
     "beaabe76e0ca4e14bfef6ba758e5c9f5": {
      "model_module": "@jupyter-widgets/controls",
      "model_module_version": "1.2.0",
      "model_name": "SliderStyleModel",
      "state": {
       "description_width": ""
      }
     },
     "bead474a6572489dba989da62f41d017": {
      "model_module": "@jupyter-widgets/controls",
      "model_module_version": "1.2.0",
      "model_name": "DescriptionStyleModel",
      "state": {
       "description_width": ""
      }
     },
     "bec9c48ba5674ce59b534d4e4954c7d6": {
      "model_module": "@jupyter-widgets/controls",
      "model_module_version": "1.2.0",
      "model_name": "HTMLModel",
      "state": {
       "layout": "IPY_MODEL_1e09a95069a844b68011d86103968e9b",
       "style": "IPY_MODEL_92f031cdf1c84bf3b667acb94362cdc4",
       "value": "<h3> </h3>"
      }
     },
     "bed45a81829d474ea1f3b0b5743e3508": {
      "model_module": "@jupyter-widgets/controls",
      "model_module_version": "1.2.0",
      "model_name": "DescriptionStyleModel",
      "state": {
       "description_width": ""
      }
     },
     "bee64204928946e58a41600d34191ee5": {
      "model_module": "@jupyter-widgets/base",
      "model_module_version": "1.0.0",
      "model_name": "LayoutModel",
      "state": {}
     },
     "beff3b8e8ced4a119b0749e1a118c3ea": {
      "model_module": "@jupyter-widgets/base",
      "model_module_version": "1.0.0",
      "model_name": "LayoutModel",
      "state": {
       "padding": "0 15px 0 35px"
      }
     },
     "bf4e5128ec8f4fdd973e3b2d04a17ff8": {
      "model_module": "@jupyter-widgets/base",
      "model_module_version": "1.0.0",
      "model_name": "LayoutModel",
      "state": {}
     },
     "bf517a0a94d94a58863f1e27db43d900": {
      "model_module": "@jupyter-widgets/controls",
      "model_module_version": "1.2.0",
      "model_name": "DescriptionStyleModel",
      "state": {
       "description_width": ""
      }
     },
     "bf56d4aa19cc40cab229b8687a890963": {
      "model_module": "@jupyter-widgets/controls",
      "model_module_version": "1.2.0",
      "model_name": "DescriptionStyleModel",
      "state": {
       "description_width": ""
      }
     },
     "bfb52e6f40bf438896773f5154c5eea8": {
      "model_module": "@jupyter-widgets/controls",
      "model_module_version": "1.2.0",
      "model_name": "LabelModel",
      "state": {
       "layout": "IPY_MODEL_ae503f4420374cbaa0b9c9f83bf0419e",
       "style": "IPY_MODEL_a937ab705e8f4c3eb32346faea7d3207",
       "value": "See-Through :"
      }
     },
     "bfb87f931bfa4d47ac4294af299e64db": {
      "model_module": "@jupyter-widgets/controls",
      "model_module_version": "1.2.0",
      "model_name": "VBoxModel",
      "state": {
       "children": [
        "IPY_MODEL_2478d92149014678b0ecdb8f07c10e3b",
        "IPY_MODEL_31072a4f42b74b61b6edfe6a2470e3b7",
        "IPY_MODEL_cc7f836ba7be44de802f5dc28e352a64",
        "IPY_MODEL_5ebc032f6d264e9294fb5481114e3c70"
       ],
       "layout": "IPY_MODEL_cbcaff2904a94c3885a1a72478ed2ed6"
      }
     },
     "bfdab1b375794b069fb19c57a734e651": {
      "model_module": "@jupyter-widgets/controls",
      "model_module_version": "1.2.0",
      "model_name": "HTMLModel",
      "state": {
       "layout": "IPY_MODEL_b0cb46738afa4d1bbe7824f3df25875a",
       "style": "IPY_MODEL_3472e0124e8f4059a43a1a1c80914b0d",
       "value": "<p>&nbsp&nbsp&nbsp&nbsp&nbsp</p>"
      }
     },
     "bfdbac20332e40398cbdee7d3a2df46a": {
      "model_module": "@jupyter-widgets/controls",
      "model_module_version": "1.2.0",
      "model_name": "ButtonStyleModel",
      "state": {}
     },
     "bfef5f6af1244f6e9a8944e0edb1292f": {
      "model_module": "@jupyter-widgets/controls",
      "model_module_version": "1.2.0",
      "model_name": "LabelModel",
      "state": {
       "layout": "IPY_MODEL_8c4bd9bbef474c7b9f4ad516e347e68d",
       "style": "IPY_MODEL_3ba424e050e44b80af67ee3a9c77df48",
       "value": "Text :"
      }
     },
     "c0055664a5bd4c8db701fd2b929e0b4f": {
      "model_module": "@jupyter-widgets/base",
      "model_module_version": "1.0.0",
      "model_name": "LayoutModel",
      "state": {}
     },
     "c0077a2b06714733ad8fe4e6b9ae7f32": {
      "model_module": "@jupyter-widgets/controls",
      "model_module_version": "1.2.0",
      "model_name": "TextModel",
      "state": {
       "description": "Username :",
       "layout": "IPY_MODEL_565f7efc9f464a4d9a251f1fd3c2bc80",
       "style": "IPY_MODEL_1ce6c6fd30c64ace8ef93d7993bee884"
      }
     },
     "c0117098a04c40fdbaaf0e8e65b0a6a9": {
      "model_module": "@jupyter-widgets/controls",
      "model_module_version": "1.2.0",
      "model_name": "DescriptionStyleModel",
      "state": {
       "description_width": ""
      }
     },
     "c01aa215d33a4ed38f7b328e6de210cf": {
      "model_module": "@jupyter-widgets/controls",
      "model_module_version": "1.2.0",
      "model_name": "TextareaModel",
      "state": {
       "layout": "IPY_MODEL_d4bb02aaaade46828689d679ab33cb41",
       "style": "IPY_MODEL_ac0b582c692744f8af6319e73d011679"
      }
     },
     "c03dfd5be3a44606898c476efc947438": {
      "model_module": "@jupyter-widgets/base",
      "model_module_version": "1.0.0",
      "model_name": "LayoutModel",
      "state": {
       "padding": "10px 0px 0px 0px"
      }
     },
     "c0a99968b0444c0690d64c9f3ed8a046": {
      "model_module": "@jupyter-widgets/controls",
      "model_module_version": "1.2.0",
      "model_name": "HBoxModel",
      "state": {
       "children": [
        "IPY_MODEL_e686b4eac8a6405fa78b5047511dcb7c"
       ],
       "layout": "IPY_MODEL_5f26b59ff8134508817533cdf1f2ec59"
      }
     },
     "c0b51654a91d44ddb973508db8c722b8": {
      "model_module": "@jupyter-widgets/base",
      "model_module_version": "1.0.0",
      "model_name": "LayoutModel",
      "state": {}
     },
     "c0fb5ded920e42d9a57a7da96d9e1714": {
      "model_module": "@jupyter-widgets/controls",
      "model_module_version": "1.2.0",
      "model_name": "DescriptionStyleModel",
      "state": {
       "description_width": ""
      }
     },
     "c14279bccbe94643ad3fa1a7134e562d": {
      "model_module": "@jupyter-widgets/controls",
      "model_module_version": "1.2.0",
      "model_name": "VBoxModel",
      "state": {
       "children": [
        "IPY_MODEL_36774907f7a04544b5625576d335e9ae",
        "IPY_MODEL_5c0e5e93698d4551be2fd36452c2dad1"
       ],
       "layout": "IPY_MODEL_2763aacc6d1c4bb689bbfee1a845208f"
      }
     },
     "c149028b850343e69d1b3954c2821c26": {
      "model_module": "@jupyter-widgets/controls",
      "model_module_version": "1.2.0",
      "model_name": "ButtonStyleModel",
      "state": {}
     },
     "c170284b772540ffbeda57bee5e90b92": {
      "model_module": "@jupyter-widgets/base",
      "model_module_version": "1.0.0",
      "model_name": "LayoutModel",
      "state": {}
     },
     "c1b4ad93c2d74f77b8f62b73524f468b": {
      "model_module": "@jupyter-widgets/base",
      "model_module_version": "1.0.0",
      "model_name": "LayoutModel",
      "state": {
       "justify_content": "center",
       "padding": "10px 0px 0px 0px"
      }
     },
     "c1c9a1c3bdca4348a255916bd35991e8": {
      "model_module": "@jupyter-widgets/controls",
      "model_module_version": "1.2.0",
      "model_name": "DescriptionStyleModel",
      "state": {
       "description_width": ""
      }
     },
     "c1d6cf4b986a43b2ad037bd89244986f": {
      "model_module": "@jupyter-widgets/base",
      "model_module_version": "1.0.0",
      "model_name": "LayoutModel",
      "state": {
       "visibility": "hidden"
      }
     },
     "c21da326e50946299b31452b5afb86ad": {
      "model_module": "@jupyter-widgets/controls",
      "model_module_version": "1.2.0",
      "model_name": "IntSliderModel",
      "state": {
       "layout": "IPY_MODEL_7dc3dce42205470a9ee0ff36770bfd0f",
       "max": 60,
       "min": 6,
       "style": "IPY_MODEL_53b32560de6442fab6e431ce4f38de05",
       "value": 16
      }
     },
     "c2243f1ee72241fd9e3fd3219268fb4b": {
      "model_module": "@jupyter-widgets/base",
      "model_module_version": "1.0.0",
      "model_name": "LayoutModel",
      "state": {}
     },
     "c231ad08a9814e06830374def2615003": {
      "model_module": "@jupyter-widgets/controls",
      "model_module_version": "1.2.0",
      "model_name": "HTMLModel",
      "state": {
       "layout": "IPY_MODEL_859f1f1cd9a94d92815e2d6722e7475c",
       "style": "IPY_MODEL_333eadd240484006bb050d5396108e0a",
       "value": "<hr style='padding: 2px; margin: 2px'>"
      }
     },
     "c237c5d00ef14130aedf11aa654f8c07": {
      "model_module": "@jupyter-widgets/base",
      "model_module_version": "1.0.0",
      "model_name": "LayoutModel",
      "state": {}
     },
     "c243918c456343008c07731a8891ca64": {
      "model_module": "@jupyter-widgets/controls",
      "model_module_version": "1.2.0",
      "model_name": "HBoxModel",
      "state": {
       "children": [
        "IPY_MODEL_daa0d8e2b1ad4ab59516be12daa958d1"
       ],
       "layout": "IPY_MODEL_ac68e5f33e26413f859961a8e804ec25"
      }
     },
     "c2463452567847fd839174bad80dabaa": {
      "model_module": "@jupyter-widgets/base",
      "model_module_version": "1.0.0",
      "model_name": "LayoutModel",
      "state": {
       "justify_content": "center",
       "margin": "0 0 15px 0"
      }
     },
     "c28c378228614e1b9143e7ab5c06cf87": {
      "model_module": "@jupyter-widgets/base",
      "model_module_version": "1.0.0",
      "model_name": "LayoutModel",
      "state": {
       "min_width": "30px"
      }
     },
     "c28e443fc0144aecb697b694ce216e7e": {
      "model_module": "@jupyter-widgets/base",
      "model_module_version": "1.0.0",
      "model_name": "LayoutModel",
      "state": {}
     },
     "c2973c014a264e82944be60c011dc98a": {
      "model_module": "@jupyter-widgets/controls",
      "model_module_version": "1.2.0",
      "model_name": "DropdownModel",
      "state": {
       "_options_labels": [
        "solid",
        "dotted",
        "dashed"
       ],
       "index": 0,
       "layout": "IPY_MODEL_ca87dc8310dc47c68caffeb706d1a86b",
       "style": "IPY_MODEL_5aa18dba7734426ca8613065a1999592"
      }
     },
     "c2a4585f1d4a49d08372000b55dd56e1": {
      "model_module": "@jupyter-widgets/base",
      "model_module_version": "1.0.0",
      "model_name": "LayoutModel",
      "state": {}
     },
     "c2cfb09971cb46bea92d7fc21ee6941d": {
      "model_module": "@jupyter-widgets/controls",
      "model_module_version": "1.2.0",
      "model_name": "VBoxModel",
      "state": {
       "children": [
        "IPY_MODEL_09905afbcb0b4fcf8621704d9da0f45d",
        "IPY_MODEL_a6de62ba63b04dd9808416524e186bd8",
        "IPY_MODEL_afb027c624434c9aa9a850724f753f4d",
        "IPY_MODEL_42999bdbf85b4602b35be9921048f8fb",
        "IPY_MODEL_606d98afd9af4d84ad31f1340d06e645",
        "IPY_MODEL_a86f25e423ba436ea1a79c80043d3621"
       ],
       "layout": "IPY_MODEL_b583d5ff7a84407bb6b6e508c550e61f"
      }
     },
     "c2e8115afa1d4e7ea9606b4b852d5871": {
      "model_module": "@jupyter-widgets/base",
      "model_module_version": "1.0.0",
      "model_name": "LayoutModel",
      "state": {}
     },
     "c2f3fca876564a4583271f7704dc6eb6": {
      "model_module": "@jupyter-widgets/controls",
      "model_module_version": "1.2.0",
      "model_name": "HBoxModel",
      "state": {
       "children": [
        "IPY_MODEL_2499e7b813a84a4f95c7ff40e3b36ae6",
        "IPY_MODEL_032841e400f64ff0b913856ed9506ac7",
        "IPY_MODEL_dc6eaf64bf7a4616aa25ff958754f443"
       ],
       "layout": "IPY_MODEL_561d4a7602b84ce099be6c82b76b6d3f"
      }
     },
     "c32e6e390c3441628221dacedff7f3e0": {
      "model_module": "@jupyter-widgets/base",
      "model_module_version": "1.0.0",
      "model_name": "LayoutModel",
      "state": {}
     },
     "c3318a6bfef5417a85ac1ce6ba7527eb": {
      "model_module": "@jupyter-widgets/controls",
      "model_module_version": "1.2.0",
      "model_name": "DescriptionStyleModel",
      "state": {
       "description_width": ""
      }
     },
     "c351d45f98a64f368bc86ee4ef25be9f": {
      "model_module": "@jupyter-widgets/base",
      "model_module_version": "1.0.0",
      "model_name": "LayoutModel",
      "state": {}
     },
     "c35de5401bc542cfaf04e653b820ea9e": {
      "model_module": "@jupyter-widgets/controls",
      "model_module_version": "1.2.0",
      "model_name": "DescriptionStyleModel",
      "state": {
       "description_width": ""
      }
     },
     "c35fdf58668b41acb6edb58eb38f6d3b": {
      "model_module": "@jupyter-widgets/base",
      "model_module_version": "1.0.0",
      "model_name": "LayoutModel",
      "state": {
       "height": "40px",
       "min_width": "50px",
       "width": "10%"
      }
     },
     "c364644b7ebf4d79b652df7497cf3876": {
      "model_module": "@jupyter-widgets/controls",
      "model_module_version": "1.2.0",
      "model_name": "DropdownModel",
      "state": {
       "_options_labels": [
        "solid",
        "dotted",
        "dashed"
       ],
       "index": 0,
       "layout": "IPY_MODEL_cc97391ab4b54b969424c9640acee6b3",
       "style": "IPY_MODEL_1ef8c82cea2e40e48e230ec0a24a323b"
      }
     },
     "c3acf57db48b4a7180a793bbc1771562": {
      "model_module": "@jupyter-widgets/controls",
      "model_module_version": "1.2.0",
      "model_name": "HBoxModel",
      "state": {
       "children": [
        "IPY_MODEL_db7d93dee16e486ebeff3665e24ff171",
        "IPY_MODEL_27a0b0e19df248debac157b7b4ea874b"
       ],
       "layout": "IPY_MODEL_a489921fe1d44256a116972f753618bd"
      }
     },
     "c3d1dd3b25e246e3a04c4d02bff5a8a9": {
      "model_module": "@jupyter-widgets/base",
      "model_module_version": "1.0.0",
      "model_name": "LayoutModel",
      "state": {}
     },
     "c3d741db6b554e9b9d892822bf607215": {
      "model_module": "@jupyter-widgets/base",
      "model_module_version": "1.0.0",
      "model_name": "LayoutModel",
      "state": {
       "padding": "10px 0px 0px 0px"
      }
     },
     "c3dcac2bbeb24ad1a9cc5427f1e19466": {
      "model_module": "@jupyter-widgets/base",
      "model_module_version": "1.0.0",
      "model_name": "LayoutModel",
      "state": {}
     },
     "c3e8dac68ebc4e06af29bcb966e018c9": {
      "model_module": "@jupyter-widgets/controls",
      "model_module_version": "1.2.0",
      "model_name": "HTMLModel",
      "state": {
       "layout": "IPY_MODEL_5df47177f3954816a1f8ef13d98e3f99",
       "style": "IPY_MODEL_179b90977fda4b3ba4d068d6f2f49bff",
       "value": "<h5>You can save your graph as a <font color='darkKhaki'>index.html</font> file.\n<font color='darkKhaki'>index.html</font> files have lots of cool features, as explained in the intro video. </h5>"
      }
     },
     "c3f29fd310a8429d906bd56d78c02d16": {
      "model_module": "@jupyter-widgets/base",
      "model_module_version": "1.0.0",
      "model_name": "LayoutModel",
      "state": {
       "padding": "10px 0px 0px 0px"
      }
     },
     "c43c386b70364972b2a77fd99d3bd8e5": {
      "model_module": "@jupyter-widgets/controls",
      "model_module_version": "1.2.0",
      "model_name": "DescriptionStyleModel",
      "state": {
       "description_width": ""
      }
     },
     "c43d5d85587c4b2b83e05db00306a77d": {
      "model_module": "@jupyter-widgets/controls",
      "model_module_version": "1.2.0",
      "model_name": "LabelModel",
      "state": {
       "layout": "IPY_MODEL_d0bd2487e4b143bcaabfd64bbe9117e5",
       "style": "IPY_MODEL_e893504e17f14d519dc09578fe2cc06e",
       "value": "See-Through :"
      }
     },
     "c4645f4a49bd4bcd9023e306ce6d0021": {
      "model_module": "@jupyter-widgets/controls",
      "model_module_version": "1.2.0",
      "model_name": "DescriptionStyleModel",
      "state": {
       "description_width": ""
      }
     },
     "c467dfcffd1e4a619ec829ae508cba4c": {
      "model_module": "@jupyter-widgets/controls",
      "model_module_version": "1.2.0",
      "model_name": "DropdownModel",
      "state": {
       "index": null,
       "layout": "IPY_MODEL_3b5493419c374373b7d84c9e8be44536",
       "style": "IPY_MODEL_37297044a33648e3ab755de4a06b4f5c"
      }
     },
     "c48ffc96181d423ebaf87138061f1e92": {
      "model_module": "@jupyter-widgets/base",
      "model_module_version": "1.0.0",
      "model_name": "LayoutModel",
      "state": {}
     },
     "c4afadd1affa478dac3c5fafa57e8c90": {
      "model_module": "@jupyter-widgets/base",
      "model_module_version": "1.0.0",
      "model_name": "LayoutModel",
      "state": {}
     },
     "c4c3e5df68604c75a836ff8362a290db": {
      "model_module": "@jupyter-widgets/controls",
      "model_module_version": "1.2.0",
      "model_name": "SelectModel",
      "state": {
       "_options_labels": [
        "Node",
        "Edge"
       ],
       "index": 0,
       "layout": "IPY_MODEL_20fb7a47bfd84055a7d230d066b064b1",
       "style": "IPY_MODEL_0b990358c10944eb95b506ecf1243e57"
      }
     },
     "c4e46a66ede44657ab9aed92514297df": {
      "model_module": "@jupyter-widgets/controls",
      "model_module_version": "1.2.0",
      "model_name": "DescriptionStyleModel",
      "state": {
       "description_width": ""
      }
     },
     "c4e48567b9584520ab3a3e6f436f4e99": {
      "model_module": "@jupyter-widgets/controls",
      "model_module_version": "1.2.0",
      "model_name": "LabelModel",
      "state": {
       "layout": "IPY_MODEL_de91bcbe27744b2da9e3d725ead0945f",
       "style": "IPY_MODEL_a423a13e46da4820a3d3cad3e3de3490",
       "value": "    "
      }
     },
     "c54919738e7e42349a8d7e130a1f2baf": {
      "model_module": "@jupyter-widgets/base",
      "model_module_version": "1.0.0",
      "model_name": "LayoutModel",
      "state": {}
     },
     "c54dc2f0c3ad43a3a048472a3661fe92": {
      "model_module": "@jupyter-widgets/controls",
      "model_module_version": "1.2.0",
      "model_name": "HBoxModel",
      "state": {
       "children": [
        "IPY_MODEL_a0112914130944a8b28cf4276a5b78fc",
        "IPY_MODEL_ad5716da507b419b895a6c7912bef626"
       ],
       "layout": "IPY_MODEL_db2ee090784245038ff2fdbceb25b932"
      }
     },
     "c554f5b2923d4c1092b6d9ef3ce0f4df": {
      "model_module": "@jupyter-widgets/base",
      "model_module_version": "1.0.0",
      "model_name": "LayoutModel",
      "state": {}
     },
     "c5596561e8124470810687f213ec7a21": {
      "model_module": "@jupyter-widgets/controls",
      "model_module_version": "1.2.0",
      "model_name": "DescriptionStyleModel",
      "state": {
       "description_width": ""
      }
     },
     "c574c7fdd756430685c0c5b1a9b3d8fe": {
      "model_module": "@jupyter-widgets/base",
      "model_module_version": "1.0.0",
      "model_name": "LayoutModel",
      "state": {
       "padding": "10px 0px 0px 0px"
      }
     },
     "c57e1293ebd0421a84a85902a9c93797": {
      "model_module": "@jupyter-widgets/controls",
      "model_module_version": "1.2.0",
      "model_name": "AccordionModel",
      "state": {
       "_titles": {
        "0": "Load",
        "1": "Save"
       },
       "children": [
        "IPY_MODEL_bfb87f931bfa4d47ac4294af299e64db",
        "IPY_MODEL_6ae9b1a2ddd74b11ba1e2c028dec5ed2"
       ],
       "layout": "IPY_MODEL_6700fa681f5f43c8b1995864401e201b"
      }
     },
     "c589768f29a5453893e8f7f9018f9a02": {
      "model_module": "@jupyter-widgets/base",
      "model_module_version": "1.0.0",
      "model_name": "LayoutModel",
      "state": {}
     },
     "c59b6a54bffc4e6386040e76c81df973": {
      "model_module": "@jupyter-widgets/controls",
      "model_module_version": "1.2.0",
      "model_name": "DescriptionStyleModel",
      "state": {
       "description_width": ""
      }
     },
     "c5c3bd9837b845c289ce05c36a61ec52": {
      "model_module": "@jupyter-widgets/controls",
      "model_module_version": "1.2.0",
      "model_name": "DescriptionStyleModel",
      "state": {
       "description_width": ""
      }
     },
     "c5e2408a1f484a9da85f28cdcff82996": {
      "model_module": "@jupyter-widgets/base",
      "model_module_version": "1.0.0",
      "model_name": "LayoutModel",
      "state": {}
     },
     "c5e717d5e11d4c8a91816c826ec85dc1": {
      "model_module": "@jupyter-widgets/controls",
      "model_module_version": "1.2.0",
      "model_name": "LabelModel",
      "state": {
       "layout": "IPY_MODEL_78f61e229e2c4878b1106b9b32c3f5db",
       "style": "IPY_MODEL_4afa40a91afb4b62b92f44c7b0c1c140",
       "value": "Position :"
      }
     },
     "c5e8fbb66fb741aba1c606f2d6d3a359": {
      "model_module": "@jupyter-widgets/controls",
      "model_module_version": "1.2.0",
      "model_name": "HBoxModel",
      "state": {
       "children": [
        "IPY_MODEL_5511ed8ee7af4f108fac7f3058774cfb",
        "IPY_MODEL_8271b81d243e494aa1e3704c82b24730"
       ],
       "layout": "IPY_MODEL_3ad461e4ef034d479f0294251c0bfb98"
      }
     },
     "c615344d2b79462dab859180b715cb88": {
      "model_module": "@jupyter-widgets/controls",
      "model_module_version": "1.2.0",
      "model_name": "ButtonStyleModel",
      "state": {}
     },
     "c61e1de3dbaa48b29cef07b0c2f4ddcc": {
      "model_module": "@jupyter-widgets/controls",
      "model_module_version": "1.2.0",
      "model_name": "HBoxModel",
      "state": {
       "children": [
        "IPY_MODEL_b4610668a7054da38ba97648b9e6dda6",
        "IPY_MODEL_765046c582c4478fbf01d317e9d843c0",
        "IPY_MODEL_65e4c247e1c942839a1c1eac70c15149"
       ],
       "layout": "IPY_MODEL_4c17eba6f96b431ba2e342ebda483479"
      }
     },
     "c620764f28e24aec9b38cca7fe9fb968": {
      "model_module": "@jupyter-widgets/base",
      "model_module_version": "1.0.0",
      "model_name": "LayoutModel",
      "state": {
       "width": "auto"
      }
     },
     "c6a0ee5df200403889f0bba770cbb5e1": {
      "model_module": "@jupyter-widgets/base",
      "model_module_version": "1.0.0",
      "model_name": "LayoutModel",
      "state": {}
     },
     "c6caa9afc9544c1980167ad79fd7e0f6": {
      "model_module": "@jupyter-widgets/controls",
      "model_module_version": "1.2.0",
      "model_name": "HTMLModel",
      "state": {
       "layout": "IPY_MODEL_1f71c0719a004f5fa4780e53852db3e8",
       "style": "IPY_MODEL_ffeabbfead7b40bcaa82a1a13fa57487",
       "value": "<h3> </h3>"
      }
     },
     "c6d910c40128412fa569cfe54d105b81": {
      "model_module": "@jupyter-widgets/controls",
      "model_module_version": "1.2.0",
      "model_name": "HTMLModel",
      "state": {
       "layout": "IPY_MODEL_14f788e6f99148a88e2eac7f71334e1e",
       "style": "IPY_MODEL_a502718ac2b349b8ac24f7b712de455e",
       "value": "<h5>Name  &nbsp</h5> "
      }
     },
     "c733743959c347688edec9948c4cf3ac": {
      "model_module": "@jupyter-widgets/base",
      "model_module_version": "1.0.0",
      "model_name": "LayoutModel",
      "state": {
       "justify_content": "center",
       "padding": "10px 0px 0px 0px"
      }
     },
     "c77521bce3c04c20ac89b2dbab6e9427": {
      "model_module": "@jupyter-widgets/controls",
      "model_module_version": "1.2.0",
      "model_name": "LabelModel",
      "state": {
       "layout": "IPY_MODEL_da2887748f824a0c9cf2683f9d4feb86",
       "style": "IPY_MODEL_d3643c21ba4d4aa5a5e896c147754f3c",
       "value": "Image : "
      }
     },
     "c7a2cae689de41b280b81fa98034be45": {
      "model_module": "@jupyter-widgets/controls",
      "model_module_version": "1.2.0",
      "model_name": "DescriptionStyleModel",
      "state": {
       "description_width": ""
      }
     },
     "c7d292284ad1454e8164c1eb685369e8": {
      "model_module": "@jupyter-widgets/controls",
      "model_module_version": "1.2.0",
      "model_name": "DescriptionStyleModel",
      "state": {
       "description_width": ""
      }
     },
     "c836b87fb1b941e68a0114270cd579a4": {
      "model_module": "@jupyter-widgets/controls",
      "model_module_version": "1.2.0",
      "model_name": "DescriptionStyleModel",
      "state": {
       "description_width": ""
      }
     },
     "c8383c7551e3476d9730bfad7a7beca5": {
      "model_module": "@jupyter-widgets/controls",
      "model_module_version": "1.2.0",
      "model_name": "DropdownModel",
      "state": {
       "_options_labels": [
        "center",
        "top",
        "bottom",
        "left",
        "right"
       ],
       "index": 0,
       "layout": "IPY_MODEL_743e32bd76bd4ff79dc1d2b362e64119",
       "style": "IPY_MODEL_44710153b3504e62ab7d07ea1c49ece8"
      }
     },
     "c8523fb0d3504f8e8af4bcbe4f428757": {
      "model_module": "@jupyter-widgets/controls",
      "model_module_version": "1.2.0",
      "model_name": "HBoxModel",
      "state": {
       "children": [
        "IPY_MODEL_ec7e171f4f6c4d5a900215419c9a561d",
        "IPY_MODEL_d1e5dd227b7c49e9b83c42de1d8da7bc",
        "IPY_MODEL_d4854fbe4b7445b49b953a054fc5173f"
       ],
       "layout": "IPY_MODEL_a040930582b5436fbd8ca6779fe27155"
      }
     },
     "c86890bd9de447aa98939ae9890fd414": {
      "model_module": "@jupyter-widgets/controls",
      "model_module_version": "1.2.0",
      "model_name": "HTMLModel",
      "state": {
       "layout": "IPY_MODEL_93dc6824557846318128cbb36a82d8e0",
       "style": "IPY_MODEL_c5596561e8124470810687f213ec7a21",
       "value": "<h5>Here you can load in a cytoscape <font color='darkKhaki'>.html</font> file. \nPut the file you want to load into the same place as this notebook, then load it in! </h5>"
      }
     },
     "c8d6015311d047ceb6c27b30b7321dd5": {
      "model_module": "@jupyter-widgets/base",
      "model_module_version": "1.0.0",
      "model_name": "LayoutModel",
      "state": {}
     },
     "c92f37d622ee47489f95d3b1a7a6c473": {
      "model_module": "@jupyter-widgets/controls",
      "model_module_version": "1.2.0",
      "model_name": "ButtonModel",
      "state": {
       "button_style": "warning",
       "description": "Start Cytoscape!",
       "disabled": true,
       "layout": "IPY_MODEL_b47ce5ec4f044f9c9c79feac346d64ae",
       "style": "IPY_MODEL_169855ced68747fdbf4b5e76f50f0ec6"
      }
     },
     "c946f8614e644a25bc51bb88b95cf408": {
      "model_module": "@jupyter-widgets/controls",
      "model_module_version": "1.2.0",
      "model_name": "ButtonModel",
      "state": {
       "button_style": "danger",
       "description": "Delete",
       "layout": "IPY_MODEL_bad9e89305da41aa9b2165ff630f546c",
       "style": "IPY_MODEL_93f5b3aa66a74bb29c76d90f23e41534"
      }
     },
     "c94dbaacb56a48bc8394429fc8c8c3cc": {
      "model_module": "@jupyter-widgets/base",
      "model_module_version": "1.0.0",
      "model_name": "LayoutModel",
      "state": {
       "height": "40px",
       "min_width": "50px",
       "width": "10%"
      }
     },
     "c954ee99839d4ec08c68e13220700f42": {
      "model_module": "@jupyter-widgets/controls",
      "model_module_version": "1.2.0",
      "model_name": "LabelModel",
      "state": {
       "layout": "IPY_MODEL_6782abc6690e40a6b7f96a1c5eac63b0",
       "style": "IPY_MODEL_fd70e57cf0bf4425bd195b358dd226da",
       "value": "End"
      }
     },
     "c98249c1b89b49bbbdbf40f2e3be6a22": {
      "model_module": "@jupyter-widgets/controls",
      "model_module_version": "1.2.0",
      "model_name": "HBoxModel",
      "state": {
       "children": [
        "IPY_MODEL_0c8ad7e7c09a452b91e9d38ff20605b5",
        "IPY_MODEL_1900e77c52c74030964b5b80b0664af1"
       ],
       "layout": "IPY_MODEL_47a70d67be014af3a00740110d643dac"
      }
     },
     "c9a8435a56b54804999e06e5d894a718": {
      "model_module": "@jupyter-widgets/controls",
      "model_module_version": "1.2.0",
      "model_name": "ButtonModel",
      "state": {
       "button_style": "danger",
       "icon": "image",
       "layout": "IPY_MODEL_4ab725507b7a4690a0ba2e008b4ebe75",
       "style": "IPY_MODEL_f887f40f4c064937aa2bedc7bbad06f4"
      }
     },
     "c9c6603c44e840d4907be0ddcf19395c": {
      "model_module": "@jupyter-widgets/base",
      "model_module_version": "1.0.0",
      "model_name": "LayoutModel",
      "state": {
       "min_width": "30px"
      }
     },
     "c9ce16ae8bbf4c92a2c25c211098f5b0": {
      "model_module": "@jupyter-widgets/base",
      "model_module_version": "1.0.0",
      "model_name": "LayoutModel",
      "state": {
       "padding": "10px 0px 0px 0px"
      }
     },
     "c9d59b9ac8de4067b76df6ac634ec35e": {
      "model_module": "@jupyter-widgets/controls",
      "model_module_version": "1.2.0",
      "model_name": "LabelModel",
      "state": {
       "layout": "IPY_MODEL_32339832fc2d4c69ae53e0b39e2db3c8",
       "style": "IPY_MODEL_3740367e82114ac0867ceff7419ad308",
       "value": "Size :"
      }
     },
     "ca00036f06cb42eda395c1e0a68b1e5a": {
      "model_module": "@jupyter-widgets/base",
      "model_module_version": "1.0.0",
      "model_name": "LayoutModel",
      "state": {}
     },
     "ca2ff4b4db214048ab7c46efa0f4396e": {
      "model_module": "@jupyter-widgets/base",
      "model_module_version": "1.0.0",
      "model_name": "LayoutModel",
      "state": {}
     },
     "ca36585861994026a3649da2b78d6155": {
      "model_module": "@jupyter-widgets/controls",
      "model_module_version": "1.2.0",
      "model_name": "DescriptionStyleModel",
      "state": {
       "description_width": ""
      }
     },
     "ca87dc8310dc47c68caffeb706d1a86b": {
      "model_module": "@jupyter-widgets/base",
      "model_module_version": "1.0.0",
      "model_name": "LayoutModel",
      "state": {}
     },
     "cabdc85ce5bc4accb10bc41c9415bcf2": {
      "model_module": "@jupyter-widgets/controls",
      "model_module_version": "1.2.0",
      "model_name": "AccordionModel",
      "state": {
       "_titles": {
        "0": "Style",
        "1": "Label",
        "2": "Variables"
       },
       "children": [
        "IPY_MODEL_9bfa6b59cc6445cbacc767d9ea76c61e",
        "IPY_MODEL_c2cfb09971cb46bea92d7fc21ee6941d",
        "IPY_MODEL_5114f3ce918546ea813957fe25fbf8f9"
       ],
       "layout": "IPY_MODEL_4198210168dc4ad1b90f2eade04da7d9"
      }
     },
     "cadbf3067651425a83f76bb8fc7520d9": {
      "model_module": "@jupyter-widgets/base",
      "model_module_version": "1.0.0",
      "model_name": "LayoutModel",
      "state": {}
     },
     "cae261a621d94f378e7dc091ce6a8716": {
      "model_module": "@jupyter-widgets/controls",
      "model_module_version": "1.2.0",
      "model_name": "ButtonStyleModel",
      "state": {}
     },
     "caf7f6c3080945c7b471c51f3e8442a6": {
      "model_module": "@jupyter-widgets/base",
      "model_module_version": "1.0.0",
      "model_name": "LayoutModel",
      "state": {
       "margin": "10px 0 0 0",
       "width": "auto"
      }
     },
     "cb00556e3dfa48ce9d55f3b9c6cd9a73": {
      "model_module": "@jupyter-widgets/base",
      "model_module_version": "1.0.0",
      "model_name": "LayoutModel",
      "state": {}
     },
     "cb120202fdaf461d964fcb6b56ef58cd": {
      "model_module": "@jupyter-widgets/base",
      "model_module_version": "1.0.0",
      "model_name": "LayoutModel",
      "state": {
       "padding": "10px 0px 0px 0px"
      }
     },
     "cb27f925f54f489e993ccd340c212257": {
      "model_module": "@jupyter-widgets/base",
      "model_module_version": "1.0.0",
      "model_name": "LayoutModel",
      "state": {}
     },
     "cb61d7923d004357a276d5a1809a832b": {
      "model_module": "@jupyter-widgets/controls",
      "model_module_version": "1.2.0",
      "model_name": "LabelModel",
      "state": {
       "layout": "IPY_MODEL_ecd04a282efe4cd6a2b1cf8ede585f1c",
       "style": "IPY_MODEL_ca36585861994026a3649da2b78d6155",
       "value": "Behind/In-Front :"
      }
     },
     "cb6328c2069b4abea2c8c3293dcde952": {
      "model_module": "@jupyter-widgets/controls",
      "model_module_version": "1.2.0",
      "model_name": "IntSliderModel",
      "state": {
       "layout": "IPY_MODEL_b95ea140e1e24308a4ed7b420d926606",
       "max": 60,
       "min": 6,
       "style": "IPY_MODEL_2512ead32caf4d95b9656901e30dfb89",
       "value": 16
      }
     },
     "cb65a119cada4c68a0c144609d21ffd0": {
      "model_module": "@jupyter-widgets/controls",
      "model_module_version": "1.2.0",
      "model_name": "HBoxModel",
      "state": {
       "children": [
        "IPY_MODEL_a648e24f085c4524b296f43a1e585985",
        "IPY_MODEL_4dfcf415fd9a4417acc211e07e7da1a2"
       ],
       "layout": "IPY_MODEL_2bb7f8e7e3fa40168d90610a3f76237f"
      }
     },
     "cb758ba8f64643189564d01c89c18b2d": {
      "model_module": "@jupyter-widgets/base",
      "model_module_version": "1.0.0",
      "model_name": "LayoutModel",
      "state": {}
     },
     "cbae02b558204075a4818c9881514380": {
      "model_module": "@jupyter-widgets/base",
      "model_module_version": "1.0.0",
      "model_name": "LayoutModel",
      "state": {
       "justify_content": "center",
       "padding": "10px 0px 0px 0px"
      }
     },
     "cbc59a1239fa4495a1164cc9747a205d": {
      "model_module": "@jupyter-widgets/base",
      "model_module_version": "1.0.0",
      "model_name": "LayoutModel",
      "state": {
       "padding": "10px 0px 0px 0px"
      }
     },
     "cbcaff2904a94c3885a1a72478ed2ed6": {
      "model_module": "@jupyter-widgets/base",
      "model_module_version": "1.0.0",
      "model_name": "LayoutModel",
      "state": {}
     },
     "cbdbfe05708a4eb784a3a2810c84a646": {
      "model_module": "@jupyter-widgets/base",
      "model_module_version": "1.0.0",
      "model_name": "LayoutModel",
      "state": {}
     },
     "cbe7f728d75f461fa2629580364e7a74": {
      "model_module": "@jupyter-widgets/controls",
      "model_module_version": "1.2.0",
      "model_name": "DescriptionStyleModel",
      "state": {
       "description_width": ""
      }
     },
     "cc0d46c8e5ab44339b47bf18f3061aa9": {
      "model_module": "@jupyter-widgets/controls",
      "model_module_version": "1.2.0",
      "model_name": "HBoxModel",
      "state": {
       "children": [
        "IPY_MODEL_871a5d022a464c40a3046d293988e86f",
        "IPY_MODEL_a74c350bd47f4f1c811f88d728796b9f"
       ],
       "layout": "IPY_MODEL_f16e7ca4657a4e8cbd6623623b6a478a"
      }
     },
     "cc7778c35026487fb9255d3354f87eb6": {
      "model_module": "@jupyter-widgets/controls",
      "model_module_version": "1.2.0",
      "model_name": "HTMLModel",
      "state": {
       "layout": "IPY_MODEL_95653cd6817c45faa1f45ad3506116bd",
       "style": "IPY_MODEL_766cb5b72c0f48e3b7a131ea583ddef7",
       "value": "<h5>Paste the <a>NDEx URL</a> of the dataset to download :</h5>"
      }
     },
     "cc7f836ba7be44de802f5dc28e352a64": {
      "model_module": "@jupyter-widgets/controls",
      "model_module_version": "1.2.0",
      "model_name": "VBoxModel",
      "state": {
       "children": [
        "IPY_MODEL_c86890bd9de447aa98939ae9890fd414",
        "IPY_MODEL_85a0d0cc90f34ba995f6b69a1d9fc985",
        "IPY_MODEL_eb909339d5ca42e9b997275a75df06d4"
       ],
       "layout": "IPY_MODEL_99342a38839b44138ca5d7596e1265ca"
      }
     },
     "cc97391ab4b54b969424c9640acee6b3": {
      "model_module": "@jupyter-widgets/base",
      "model_module_version": "1.0.0",
      "model_name": "LayoutModel",
      "state": {}
     },
     "ccbb5a5fed154d0da58a2b0eaa9a484a": {
      "model_module": "@jupyter-widgets/controls",
      "model_module_version": "1.2.0",
      "model_name": "DescriptionStyleModel",
      "state": {
       "description_width": ""
      }
     },
     "ccbbf26dd0414f6db3c568243e9130a3": {
      "model_module": "@jupyter-widgets/controls",
      "model_module_version": "1.2.0",
      "model_name": "SliderStyleModel",
      "state": {
       "description_width": ""
      }
     },
     "cd12ead92ca1424988b4c2b9db03fc21": {
      "model_module": "@jupyter-widgets/controls",
      "model_module_version": "1.2.0",
      "model_name": "HTMLModel",
      "state": {
       "layout": "IPY_MODEL_2297b0bd753d492a98dd41ef91fa0781",
       "style": "IPY_MODEL_7c2bee7c51074fef86261bedc3cadd47",
       "value": "<p>&nbsp&nbsp&nbsp&nbsp&nbsp</p>"
      }
     },
     "cd277445e3a2477b9bd23b2b7e8611d6": {
      "model_module": "@jupyter-widgets/base",
      "model_module_version": "1.0.0",
      "model_name": "LayoutModel",
      "state": {}
     },
     "cd6139ed985a4c9d85f01a9e32ab31d5": {
      "model_module": "@jupyter-widgets/controls",
      "model_module_version": "1.2.0",
      "model_name": "DescriptionStyleModel",
      "state": {
       "description_width": ""
      }
     },
     "cd635e95eac441ed9c4b71f0c03ca8b4": {
      "model_module": "@jupyter-widgets/controls",
      "model_module_version": "1.2.0",
      "model_name": "DescriptionStyleModel",
      "state": {
       "description_width": ""
      }
     },
     "cd982a7da3354be2bf502ec7289e56b7": {
      "model_module": "@jupyter-widgets/base",
      "model_module_version": "1.0.0",
      "model_name": "LayoutModel",
      "state": {
       "padding": "10px 0px 0px 0px"
      }
     },
     "cdb2bfdb96a5442891461784b2b87765": {
      "model_module": "@jupyter-widgets/controls",
      "model_module_version": "1.2.0",
      "model_name": "VBoxModel",
      "state": {
       "children": [
        "IPY_MODEL_fc36734703434c8a94e0699f545a7104",
        "IPY_MODEL_08cfbc5d42f8456080234d9d219631f7",
        "IPY_MODEL_aa12ab6e8d9944bda75c870fcc59ea6b"
       ],
       "layout": "IPY_MODEL_7fa3ab073ed5457d94ff5142a86e043b"
      }
     },
     "cdc684dd616541468785cb2761f7dc8a": {
      "model_module": "@jupyter-widgets/base",
      "model_module_version": "1.0.0",
      "model_name": "LayoutModel",
      "state": {}
     },
     "cdd57bba5efd493686327ecf8d585936": {
      "model_module": "@jupyter-widgets/controls",
      "model_module_version": "1.2.0",
      "model_name": "ButtonModel",
      "state": {
       "button_style": "danger",
       "icon": "image",
       "layout": "IPY_MODEL_7fdc00b716554adc891011a4b99a8c64",
       "style": "IPY_MODEL_1e01a58b86f648148a011a9ff8bee531"
      }
     },
     "cdf55961649a4d25bf16641f46e911a3": {
      "model_module": "@jupyter-widgets/controls",
      "model_module_version": "1.2.0",
      "model_name": "DescriptionStyleModel",
      "state": {
       "description_width": ""
      }
     },
     "cdf6e58d15af479a955adc0b1383bf8d": {
      "model_module": "@jupyter-widgets/base",
      "model_module_version": "1.0.0",
      "model_name": "LayoutModel",
      "state": {}
     },
     "ce6d3a6833de483ba003170b7f8eb28e": {
      "model_module": "@jupyter-widgets/controls",
      "model_module_version": "1.2.0",
      "model_name": "VBoxModel",
      "state": {
       "children": [
        "IPY_MODEL_1d09b32cfdb94370b89bacb10d8bff81",
        "IPY_MODEL_2ce2d00864684636806ec01933454d08"
       ],
       "layout": "IPY_MODEL_10beed100dae4942bf302fec2091a37c"
      }
     },
     "ce91ba2529b54cf7851d9cdec500c0f2": {
      "model_module": "@jupyter-widgets/controls",
      "model_module_version": "1.2.0",
      "model_name": "LabelModel",
      "state": {
       "layout": "IPY_MODEL_f89ececc6258446dab216527ae7a0fb9",
       "style": "IPY_MODEL_3d3c2f3008c1468f8ea01819d5fc8941",
       "value": "Style"
      }
     },
     "cea8154e98a14433b97669778be67277": {
      "model_module": "@jupyter-widgets/controls",
      "model_module_version": "1.2.0",
      "model_name": "VBoxModel",
      "state": {
       "layout": "IPY_MODEL_a563dadc330647c49e0fad8e8c0788d8"
      }
     },
     "cee917b331684e0ab4d741204eb3397d": {
      "model_module": "@jupyter-widgets/controls",
      "model_module_version": "1.2.0",
      "model_name": "DescriptionStyleModel",
      "state": {
       "description_width": ""
      }
     },
     "cf1b6f57920942c1a9df4876b44d3ddd": {
      "model_module": "@jupyter-widgets/base",
      "model_module_version": "1.0.0",
      "model_name": "LayoutModel",
      "state": {}
     },
     "cf24f543a1354d4a824854496fe7251d": {
      "model_module": "@jupyter-widgets/controls",
      "model_module_version": "1.2.0",
      "model_name": "ButtonModel",
      "state": {
       "button_style": "success",
       "description": "Save",
       "layout": "IPY_MODEL_7a59a0fedcd84222a5ddf94190256bec",
       "style": "IPY_MODEL_0ad2a3a17df84430b97a0b11357a857d"
      }
     },
     "cf28d52026cd4d718722b8a6884a59c7": {
      "model_module": "@jupyter-widgets/base",
      "model_module_version": "1.0.0",
      "model_name": "LayoutModel",
      "state": {
       "margin": "0px 0px 0px 5px",
       "min_width": "30px"
      }
     },
     "cf28e818c56e41c991173d4f37bfef86": {
      "model_module": "@jupyter-widgets/controls",
      "model_module_version": "1.2.0",
      "model_name": "VBoxModel",
      "state": {
       "children": [
        "IPY_MODEL_0be432a6655d419b928c3ab686f610eb",
        "IPY_MODEL_4688ed0865284102a1082232b86d46bb"
       ],
       "layout": "IPY_MODEL_bcc36cbfcbc5420390c5f873b7286425"
      }
     },
     "cf570a28e4384a6094feb91580d2921d": {
      "model_module": "@jupyter-widgets/base",
      "model_module_version": "1.0.0",
      "model_name": "LayoutModel",
      "state": {}
     },
     "cf67d1f6c01548ffacdc6db57b3ebbcd": {
      "model_module": "@jupyter-widgets/base",
      "model_module_version": "1.0.0",
      "model_name": "LayoutModel",
      "state": {}
     },
     "cf87c368a1eb43f29c6ddabb6ee0a0d8": {
      "model_module": "@jupyter-widgets/controls",
      "model_module_version": "1.2.0",
      "model_name": "DescriptionStyleModel",
      "state": {
       "description_width": ""
      }
     },
     "cf911854314443eebae5d08af9072c6e": {
      "model_module": "@jupyter-widgets/controls",
      "model_module_version": "1.2.0",
      "model_name": "DescriptionStyleModel",
      "state": {
       "description_width": ""
      }
     },
     "cfa85798f9174e939265981dd756a8b6": {
      "model_module": "@jupyter-widgets/controls",
      "model_module_version": "1.2.0",
      "model_name": "AccordionModel",
      "state": {
       "_titles": {
        "0": "Load",
        "1": "Save"
       },
       "children": [
        "IPY_MODEL_50d88573388144599bc1e9ee65b1c72e",
        "IPY_MODEL_644ef6a58a854798b42e96f7bc1418ab"
       ],
       "layout": "IPY_MODEL_3dff4bbcd64f4ba4afd6c8f92a0e16a2"
      }
     },
     "cfacf46d12ed43b3a0081f88815ba37a": {
      "model_module": "@jupyter-widgets/base",
      "model_module_version": "1.0.0",
      "model_name": "LayoutModel",
      "state": {
       "display": "none"
      }
     },
     "cfb738b0053443f68b462588fcda9dd3": {
      "model_module": "@jupyter-widgets/base",
      "model_module_version": "1.0.0",
      "model_name": "LayoutModel",
      "state": {}
     },
     "cfbe3d06f2f24a21ab640b6e6cf5a35b": {
      "model_module": "@jupyter-widgets/base",
      "model_module_version": "1.0.0",
      "model_name": "LayoutModel",
      "state": {
       "align_items": "center",
       "display": "none"
      }
     },
     "cfc266601a214584b1453a0ce4c819ae": {
      "model_module": "@jupyter-widgets/base",
      "model_module_version": "1.0.0",
      "model_name": "LayoutModel",
      "state": {}
     },
     "cfd34b87f75e4231acae426ca18c76dc": {
      "model_module": "@jupyter-widgets/controls",
      "model_module_version": "1.2.0",
      "model_name": "DescriptionStyleModel",
      "state": {
       "description_width": ""
      }
     },
     "cff67d82ec8d4b3b9656d9e4e3295888": {
      "model_module": "@jupyter-widgets/controls",
      "model_module_version": "1.2.0",
      "model_name": "ButtonStyleModel",
      "state": {}
     },
     "cff921b078d7451bb7b0eb9eef52ace8": {
      "model_module": "@jupyter-widgets/controls",
      "model_module_version": "1.2.0",
      "model_name": "SelectModel",
      "state": {
       "_options_labels": [
        "Node",
        "Edge"
       ],
       "index": 0,
       "layout": "IPY_MODEL_a91044894a044f90b4364882e2b307bd",
       "style": "IPY_MODEL_578842f14c4247e78fe0cbea9b836590"
      }
     },
     "cfffb010d4b34eb9b08e9cac4fe3e884": {
      "model_module": "@jupyter-widgets/controls",
      "model_module_version": "1.2.0",
      "model_name": "DescriptionStyleModel",
      "state": {
       "description_width": ""
      }
     },
     "d03e837257d34254bf3cc2834980f3c8": {
      "model_module": "@jupyter-widgets/controls",
      "model_module_version": "1.2.0",
      "model_name": "HBoxModel",
      "state": {
       "children": [
        "IPY_MODEL_27bf35519c9d41e89d16bdba0c30a905",
        "IPY_MODEL_059bec1b4a6e4b71a1615c2cc32d269a"
       ],
       "layout": "IPY_MODEL_d34f6a35aafc41b9aa41cac3d92710ee"
      }
     },
     "d04c6a1e82864b7785b09b4b9757fb27": {
      "model_module": "@jupyter-widgets/controls",
      "model_module_version": "1.2.0",
      "model_name": "HBoxModel",
      "state": {
       "children": [
        "IPY_MODEL_c92f37d622ee47489f95d3b1a7a6c473"
       ],
       "layout": "IPY_MODEL_954620cf0eb14cfa83735d1f68b843ba"
      }
     },
     "d0556e1cfa5146b380a634593f561ad4": {
      "model_module": "@jupyter-widgets/base",
      "model_module_version": "1.0.0",
      "model_name": "LayoutModel",
      "state": {}
     },
     "d0bd2487e4b143bcaabfd64bbe9117e5": {
      "model_module": "@jupyter-widgets/base",
      "model_module_version": "1.0.0",
      "model_name": "LayoutModel",
      "state": {}
     },
     "d0d7f8eb3325439dbf1be765e8472a0b": {
      "model_module": "@jupyter-widgets/base",
      "model_module_version": "1.0.0",
      "model_name": "LayoutModel",
      "state": {}
     },
     "d1290994ad1649e597249c25289c2123": {
      "model_module": "@jupyter-widgets/controls",
      "model_module_version": "1.2.0",
      "model_name": "DescriptionStyleModel",
      "state": {
       "description_width": ""
      }
     },
     "d18394a8dc3a4814b28495c00b686f97": {
      "model_module": "@jupyter-widgets/controls",
      "model_module_version": "1.2.0",
      "model_name": "HBoxModel",
      "state": {
       "children": [
        "IPY_MODEL_aaf218bc4b094b4486a7934022392d8e"
       ],
       "layout": "IPY_MODEL_7b236ae0ea7f4cf7952fecf95a8d5ba2"
      }
     },
     "d1874610b74547c8a21e21aff57d43b4": {
      "model_module": "@jupyter-widgets/base",
      "model_module_version": "1.0.0",
      "model_name": "LayoutModel",
      "state": {}
     },
     "d18755a51f64424c9adfbab6bf54ca41": {
      "model_module": "@jupyter-widgets/base",
      "model_module_version": "1.0.0",
      "model_name": "LayoutModel",
      "state": {
       "width": "auto"
      }
     },
     "d1e5dd227b7c49e9b83c42de1d8da7bc": {
      "model_module": "@jupyter-widgets/controls",
      "model_module_version": "1.2.0",
      "model_name": "TextModel",
      "state": {
       "layout": "IPY_MODEL_b3c323186f7944038c06801a99de8930",
       "style": "IPY_MODEL_938b09f3eef5478396ca782fbcb5b95a",
       "value": "Books/Deep_Learning.jpeg"
      }
     },
     "d217919766084c87831b5b734337403e": {
      "model_module": "@jupyter-widgets/controls",
      "model_module_version": "1.2.0",
      "model_name": "TextModel",
      "state": {
       "continuous_update": false,
       "description": "Search :",
       "layout": "IPY_MODEL_a6911a638dec47bea7c262be603aa97c",
       "style": "IPY_MODEL_121a875c529a47bd956fccab870a4ebb"
      }
     },
     "d2392d30e0344e09957639f6c6a06938": {
      "model_module": "@jupyter-widgets/controls",
      "model_module_version": "1.2.0",
      "model_name": "HTMLModel",
      "state": {
       "layout": "IPY_MODEL_d4833ceb4c5c4fd2b5d59ebd3e42f8b2",
       "style": "IPY_MODEL_003287ea3cc9476e885a715bb0a92469",
       "value": "<h4 style='color: purple' >Edges</h4>"
      }
     },
     "d27cd35eafed4bba8b383496e6d43d7f": {
      "model_module": "@jupyter-widgets/controls",
      "model_module_version": "1.2.0",
      "model_name": "VBoxModel",
      "state": {
       "children": [
        "IPY_MODEL_56bfd49589804ad9ba3ff67b3b472aaa",
        "IPY_MODEL_6f4056c12c3a4aa1b3d81f944938e064"
       ],
       "layout": "IPY_MODEL_46952d72385b4138bf04a069591216e5"
      }
     },
     "d292a5db46da4faaafeae07255c31c4e": {
      "model_module": "@jupyter-widgets/base",
      "model_module_version": "1.0.0",
      "model_name": "LayoutModel",
      "state": {
       "width": "auto"
      }
     },
     "d29ce59b4cf04505ae467c42b407ca91": {
      "model_module": "@jupyter-widgets/base",
      "model_module_version": "1.0.0",
      "model_name": "LayoutModel",
      "state": {
       "padding": "0px 0px 10px 0px"
      }
     },
     "d2afc1a4b3cc4291b6b1e0c8d662305d": {
      "model_module": "@jupyter-widgets/base",
      "model_module_version": "1.0.0",
      "model_name": "LayoutModel",
      "state": {
       "visibility": "hidden"
      }
     },
     "d2ee88c4b9264ee99e4857bfcfbc9693": {
      "model_module": "@jupyter-widgets/controls",
      "model_module_version": "1.2.0",
      "model_name": "DescriptionStyleModel",
      "state": {
       "description_width": ""
      }
     },
     "d3087b8769334cada95699de584f8bd7": {
      "model_module": "@jupyter-widgets/base",
      "model_module_version": "1.0.0",
      "model_name": "LayoutModel",
      "state": {}
     },
     "d34f6a35aafc41b9aa41cac3d92710ee": {
      "model_module": "@jupyter-widgets/base",
      "model_module_version": "1.0.0",
      "model_name": "LayoutModel",
      "state": {
       "justify_content": "center",
       "padding": "0px 0px 10px 0px"
      }
     },
     "d3643c21ba4d4aa5a5e896c147754f3c": {
      "model_module": "@jupyter-widgets/controls",
      "model_module_version": "1.2.0",
      "model_name": "DescriptionStyleModel",
      "state": {
       "description_width": ""
      }
     },
     "d370f3de9bc34c95b3dfaeb8d97a1ddb": {
      "model_module": "@jupyter-widgets/controls",
      "model_module_version": "1.2.0",
      "model_name": "TextModel",
      "state": {
       "layout": "IPY_MODEL_75e793a081b44bb1ac019d7259249a2f",
       "style": "IPY_MODEL_f9285915efda4d6c81addb8f240bdff8"
      }
     },
     "d3821d8bf1074a939e296681da210dab": {
      "model_module": "@jupyter-widgets/controls",
      "model_module_version": "1.2.0",
      "model_name": "VBoxModel",
      "state": {
       "children": [
        "IPY_MODEL_afae8b9352ce41a49f8c153c5a0167a4",
        "IPY_MODEL_2f15f28bd8324bd48d0656a576da9ce7"
       ],
       "layout": "IPY_MODEL_74d325bc8a6048c1b50e61aa3dc74253"
      }
     },
     "d3b68354bf8f4acbb033249db417861b": {
      "model_module": "@jupyter-widgets/base",
      "model_module_version": "1.0.0",
      "model_name": "LayoutModel",
      "state": {}
     },
     "d3cf9ead0c5543daa2275d2ead1828d1": {
      "model_module": "@jupyter-widgets/controls",
      "model_module_version": "1.2.0",
      "model_name": "HBoxModel",
      "state": {
       "children": [
        "IPY_MODEL_e55ba28842294a5495e4971e5ade5969",
        "IPY_MODEL_7df50dc14169427dbc66fd61c9f61ad1"
       ],
       "layout": "IPY_MODEL_094736f138d34487b83f8ff62240910e"
      }
     },
     "d3f4c474204c4b88a2d35ff313bb0592": {
      "model_module": "@jupyter-widgets/controls",
      "model_module_version": "1.2.0",
      "model_name": "HBoxModel",
      "state": {
       "children": [
        "IPY_MODEL_08a21e3f054c4df6b90af354e66748d4",
        "IPY_MODEL_568b4ee54c22476cb98b39f5b0b8ce4f",
        "IPY_MODEL_f523538fdd464ad185d4a8642e2edfad",
        "IPY_MODEL_f449f0050ad0481fa3a192a30967e9ce"
       ],
       "layout": "IPY_MODEL_3ee33d3370134bb19167ebce98c90e7b"
      }
     },
     "d4486f96e8854032b90815d8490adc7f": {
      "model_module": "@jupyter-widgets/base",
      "model_module_version": "1.0.0",
      "model_name": "LayoutModel",
      "state": {}
     },
     "d46a4242b07249da945e2f60bf2a8f2b": {
      "model_module": "@jupyter-widgets/base",
      "model_module_version": "1.0.0",
      "model_name": "LayoutModel",
      "state": {}
     },
     "d4833ceb4c5c4fd2b5d59ebd3e42f8b2": {
      "model_module": "@jupyter-widgets/base",
      "model_module_version": "1.0.0",
      "model_name": "LayoutModel",
      "state": {}
     },
     "d4854fbe4b7445b49b953a054fc5173f": {
      "model_module": "@jupyter-widgets/controls",
      "model_module_version": "1.2.0",
      "model_name": "ButtonModel",
      "state": {
       "button_style": "success",
       "icon": "image",
       "layout": "IPY_MODEL_99def0f8f38d4e06a7d9c1152752165b",
       "style": "IPY_MODEL_2fd69bb862db4de4855044a5eb753499"
      }
     },
     "d4a1735317ae44abbd571b2acbca36bd": {
      "model_module": "@jupyter-widgets/controls",
      "model_module_version": "1.2.0",
      "model_name": "DescriptionStyleModel",
      "state": {
       "description_width": ""
      }
     },
     "d4ae8c4f08454aab9f543a4ba6fef722": {
      "model_module": "@jupyter-widgets/controls",
      "model_module_version": "1.2.0",
      "model_name": "HTMLModel",
      "state": {
       "layout": "IPY_MODEL_e61e4f2eaf4e42848983899ef5c20185",
       "style": "IPY_MODEL_250c69adebe6444795e2a31a382421d4",
       "value": "<h5>Here you can load in a cytoscape <font color='darkKhaki'>.html</font> file. \nPut the file you want to load into the same place as this notebook, then load it in! </h5>"
      }
     },
     "d4bb02aaaade46828689d679ab33cb41": {
      "model_module": "@jupyter-widgets/base",
      "model_module_version": "1.0.0",
      "model_name": "LayoutModel",
      "state": {
       "height": "80px",
       "width": "99%"
      }
     },
     "d4d12abb1d2b4f5983cd656ffb5463d8": {
      "model_module": "@jupyter-widgets/controls",
      "model_module_version": "1.2.0",
      "model_name": "HTMLModel",
      "state": {
       "layout": "IPY_MODEL_3cc686a6296c4c99bb2f5b9b96ae1c12",
       "style": "IPY_MODEL_75cc5a68b08a4767872b20500c3a7659",
       "value": "<h2 class='text-danger text-center'>Coming Soon! Wait for Update</h2>"
      }
     },
     "d501553ea9e044ba80674f13eba8df52": {
      "model_module": "@jupyter-widgets/controls",
      "model_module_version": "1.2.0",
      "model_name": "DropdownModel",
      "state": {
       "_options_labels": [
        "center",
        "top",
        "bottom",
        "left",
        "right"
       ],
       "index": 0,
       "layout": "IPY_MODEL_4319dc5e900a43ee8f31be6ce1e8cd36",
       "style": "IPY_MODEL_e5f71e11b57e4d9698c5f2431bf0997c"
      }
     },
     "d50ee1db9b7641758f5fbbef2f2f9fcd": {
      "model_module": "@jupyter-widgets/controls",
      "model_module_version": "1.2.0",
      "model_name": "DescriptionStyleModel",
      "state": {
       "description_width": ""
      }
     },
     "d5652b9f3b014f9685aa134d70a7dd8a": {
      "model_module": "@jupyter-widgets/controls",
      "model_module_version": "1.2.0",
      "model_name": "DescriptionStyleModel",
      "state": {
       "description_width": ""
      }
     },
     "d5b1df549afb4b4fbe3dffbee9ba95a2": {
      "model_module": "@jupyter-widgets/controls",
      "model_module_version": "1.2.0",
      "model_name": "HTMLModel",
      "state": {
       "layout": "IPY_MODEL_e1618594f13946f786a97edb3445cece",
       "style": "IPY_MODEL_d79ec6c21b2d43a69b29d4ef9a339836",
       "value": "<h3 class='text-center' style='color:red'>Error in .html File</h3>"
      }
     },
     "d5e1a1c056254ee0a39000c57587d947": {
      "model_module": "@jupyter-widgets/controls",
      "model_module_version": "1.2.0",
      "model_name": "ButtonStyleModel",
      "state": {}
     },
     "d610dec455e64671a64e44b79313d786": {
      "model_module": "@jupyter-widgets/controls",
      "model_module_version": "1.2.0",
      "model_name": "DescriptionStyleModel",
      "state": {
       "description_width": ""
      }
     },
     "d6217c6cf09c48dc8844ad8b56059a10": {
      "model_module": "@jupyter-widgets/base",
      "model_module_version": "1.0.0",
      "model_name": "LayoutModel",
      "state": {}
     },
     "d668ba889d1b42bc9ec99d3d14177d96": {
      "model_module": "@jupyter-widgets/controls",
      "model_module_version": "1.2.0",
      "model_name": "ButtonModel",
      "state": {
       "button_style": "primary",
       "description": "Download",
       "layout": "IPY_MODEL_306ea609cc404f80b870d41e3669edea",
       "style": "IPY_MODEL_6e14526f69c647eb9b00ef52484ac9dd"
      }
     },
     "d6f58eee6a0148899e057a8cfbf950cd": {
      "model_module": "@jupyter-widgets/controls",
      "model_module_version": "1.2.0",
      "model_name": "DescriptionStyleModel",
      "state": {
       "description_width": ""
      }
     },
     "d6fdb41d023a4cb7b0cf205c6e0be459": {
      "model_module": "@jupyter-widgets/controls",
      "model_module_version": "1.2.0",
      "model_name": "DescriptionStyleModel",
      "state": {
       "description_width": ""
      }
     },
     "d7164edf03f44713bf5ebeae67c015d5": {
      "model_module": "@jupyter-widgets/controls",
      "model_module_version": "1.2.0",
      "model_name": "DescriptionStyleModel",
      "state": {
       "description_width": ""
      }
     },
     "d720de6712754c338518d880dc04dbf3": {
      "model_module": "@jupyter-widgets/controls",
      "model_module_version": "1.2.0",
      "model_name": "DescriptionStyleModel",
      "state": {
       "description_width": ""
      }
     },
     "d72a00fe271d41cb8864d7c887558e69": {
      "model_module": "@jupyter-widgets/controls",
      "model_module_version": "1.2.0",
      "model_name": "LabelModel",
      "state": {
       "layout": "IPY_MODEL_a5593887c43249c9bbec92c601ddfa61",
       "style": "IPY_MODEL_83095723c96141a1acf0f3b31ca22582",
       "value": "Line Style :"
      }
     },
     "d76627ddea3f4091bc060ec2bbee6f6e": {
      "model_module": "@jupyter-widgets/controls",
      "model_module_version": "1.2.0",
      "model_name": "TextModel",
      "state": {
       "layout": "IPY_MODEL_0e6791a1d0ad4855a1d7908173080ba8",
       "placeholder": "Variable Name:",
       "style": "IPY_MODEL_a6c2d36288f349999ee718090274ff2f"
      }
     },
     "d76660cee7374b86b69e83b1a6be9dbd": {
      "model_module": "@jupyter-widgets/controls",
      "model_module_version": "1.2.0",
      "model_name": "DescriptionStyleModel",
      "state": {
       "description_width": ""
      }
     },
     "d76dae9c39b34f95934420298fd5384b": {
      "model_module": "@jupyter-widgets/controls",
      "model_module_version": "1.2.0",
      "model_name": "DescriptionStyleModel",
      "state": {
       "description_width": ""
      }
     },
     "d782f1ba8e0a43ff9e571e84aac8a447": {
      "model_module": "@jupyter-widgets/base",
      "model_module_version": "1.0.0",
      "model_name": "LayoutModel",
      "state": {}
     },
     "d79ec6c21b2d43a69b29d4ef9a339836": {
      "model_module": "@jupyter-widgets/controls",
      "model_module_version": "1.2.0",
      "model_name": "DescriptionStyleModel",
      "state": {
       "description_width": ""
      }
     },
     "d7e477d29009455e9faafdd5556809ee": {
      "model_module": "@jupyter-widgets/controls",
      "model_module_version": "1.2.0",
      "model_name": "SliderStyleModel",
      "state": {
       "description_width": ""
      }
     },
     "d7f2ae992dbb494d9a260c93a07c58af": {
      "model_module": "@jupyter-widgets/base",
      "model_module_version": "1.0.0",
      "model_name": "LayoutModel",
      "state": {}
     },
     "d85ebdaaee35470c987c047037afc2f4": {
      "model_module": "@jupyter-widgets/base",
      "model_module_version": "1.0.0",
      "model_name": "LayoutModel",
      "state": {
       "min_width": "30px"
      }
     },
     "d883771eedfd45e7ab08be6021a2d520": {
      "model_module": "@jupyter-widgets/controls",
      "model_module_version": "1.2.0",
      "model_name": "LabelModel",
      "state": {
       "layout": "IPY_MODEL_dbfaf103bfaa43068d67ca7f2556e215",
       "style": "IPY_MODEL_9560a0246da54aea9b9050429717fe37",
       "value": "See-Through :"
      }
     },
     "d8844f5c596a4f2b9a4d547b1f4e8401": {
      "model_module": "@jupyter-widgets/base",
      "model_module_version": "1.0.0",
      "model_name": "LayoutModel",
      "state": {}
     },
     "d891876ff27449e08619e7f92eb80973": {
      "model_module": "@jupyter-widgets/controls",
      "model_module_version": "1.2.0",
      "model_name": "DescriptionStyleModel",
      "state": {
       "description_width": ""
      }
     },
     "d89d8aac08134aba940caca0507c90d6": {
      "model_module": "@jupyter-widgets/base",
      "model_module_version": "1.0.0",
      "model_name": "LayoutModel",
      "state": {}
     },
     "d8b2bd808e1c4cda81fdf8da5cfe0981": {
      "model_module": "@jupyter-widgets/controls",
      "model_module_version": "1.2.0",
      "model_name": "DescriptionStyleModel",
      "state": {
       "description_width": ""
      }
     },
     "d934608c459e4e5685b39f85284aa663": {
      "model_module": "@jupyter-widgets/controls",
      "model_module_version": "1.2.0",
      "model_name": "HBoxModel",
      "state": {
       "children": [
        "IPY_MODEL_9fcb63d7d88c47f9a47cf62bc507d496",
        "IPY_MODEL_1741ac3e092f4e43b3843ae5c1e40114"
       ],
       "layout": "IPY_MODEL_7600d370ae514117a30ada18989aa1a9"
      }
     },
     "d94387af37b64cd08b020925fd562c8a": {
      "model_module": "@jupyter-widgets/base",
      "model_module_version": "1.0.0",
      "model_name": "LayoutModel",
      "state": {}
     },
     "d954b0c5be7b44ba9d77f1b997fbd945": {
      "model_module": "@jupyter-widgets/controls",
      "model_module_version": "1.2.0",
      "model_name": "TextModel",
      "state": {
       "layout": "IPY_MODEL_05f98a062ecd49e29c5e1eb94512d826",
       "style": "IPY_MODEL_63b2214c0aa340ee99d13d51d5e47525"
      }
     },
     "d9b322a0db984805a50929decdf6c6f0": {
      "model_module": "@jupyter-widgets/controls",
      "model_module_version": "1.2.0",
      "model_name": "ButtonModel",
      "state": {
       "button_style": "info",
       "icon": "refresh",
       "layout": "IPY_MODEL_e88185cc49c642d4aad396bbf3c0fd74",
       "style": "IPY_MODEL_91946242385a464dade7329b3221c28c"
      }
     },
     "d9d963ed4b85450c8e641ba7bef1d83f": {
      "model_module": "@jupyter-widgets/controls",
      "model_module_version": "1.2.0",
      "model_name": "HTMLModel",
      "state": {
       "layout": "IPY_MODEL_05ca1bef06d64864bf5ed39dd3a31622",
       "style": "IPY_MODEL_4a96cef0cef648e0be830ba7a57a2f7b",
       "value": "<h5>Title  &nbsp</h5> "
      }
     },
     "d9e8d0eb0ca34c1ebebc6fd09b3b7f67": {
      "model_module": "@jupyter-widgets/base",
      "model_module_version": "1.0.0",
      "model_name": "LayoutModel",
      "state": {}
     },
     "da15127c15de471198d83a6828e78b99": {
      "model_module": "@jupyter-widgets/controls",
      "model_module_version": "1.2.0",
      "model_name": "HBoxModel",
      "state": {
       "children": [
        "IPY_MODEL_79794248f44e4946b359d5017b21dbc2",
        "IPY_MODEL_866b15fe88eb414da3fe543a3fae455e"
       ],
       "layout": "IPY_MODEL_c3f29fd310a8429d906bd56d78c02d16"
      }
     },
     "da2887748f824a0c9cf2683f9d4feb86": {
      "model_module": "@jupyter-widgets/base",
      "model_module_version": "1.0.0",
      "model_name": "LayoutModel",
      "state": {}
     },
     "da728eb9098442df90f9c0ce513297f4": {
      "model_module": "@jupyter-widgets/controls",
      "model_module_version": "1.2.0",
      "model_name": "HBoxModel",
      "state": {
       "children": [
        "IPY_MODEL_bfef5f6af1244f6e9a8944e0edb1292f",
        "IPY_MODEL_8da6cb260ba0428188ca74ffeac0884f"
       ],
       "layout": "IPY_MODEL_a356bce666df43deabba693df1eda110"
      }
     },
     "da8e95fa845b4518b0db8eba9ac1ff9f": {
      "model_module": "@jupyter-widgets/controls",
      "model_module_version": "1.2.0",
      "model_name": "ButtonStyleModel",
      "state": {}
     },
     "da96c93a2eb545469377cdaa256a4975": {
      "model_module": "@jupyter-widgets/controls",
      "model_module_version": "1.2.0",
      "model_name": "HBoxModel",
      "state": {
       "children": [
        "IPY_MODEL_5e765f3974e84e109ae881aa0e1eae46",
        "IPY_MODEL_2e937914bb2340ae81d3b0da150ece10"
       ],
       "layout": "IPY_MODEL_16ba59495f1048e0b22c5e8efcca5685"
      }
     },
     "daa0d8e2b1ad4ab59516be12daa958d1": {
      "model_module": "@jupyter-widgets/controls",
      "model_module_version": "1.2.0",
      "model_name": "ButtonModel",
      "state": {
       "button_style": "success",
       "description": "Upload",
       "layout": "IPY_MODEL_c589768f29a5453893e8f7f9018f9a02",
       "style": "IPY_MODEL_68c183ae5a854fbcbd38038d4fb55219"
      }
     },
     "db1957d482a04e41847b15ebed8161cb": {
      "model_module": "@jupyter-widgets/controls",
      "model_module_version": "1.2.0",
      "model_name": "TextModel",
      "state": {
       "description": "Name :",
       "layout": "IPY_MODEL_b6bfcbcb6f0d434ea88e30aca50bd0a8",
       "placeholder": "Network Name",
       "style": "IPY_MODEL_d5652b9f3b014f9685aa134d70a7dd8a"
      }
     },
     "db2ee090784245038ff2fdbceb25b932": {
      "model_module": "@jupyter-widgets/base",
      "model_module_version": "1.0.0",
      "model_name": "LayoutModel",
      "state": {}
     },
     "db35d3bc8caa4df8bf34a486bfc1eea1": {
      "model_module": "@jupyter-widgets/base",
      "model_module_version": "1.0.0",
      "model_name": "LayoutModel",
      "state": {}
     },
     "db7d93dee16e486ebeff3665e24ff171": {
      "model_module": "@jupyter-widgets/controls",
      "model_module_version": "1.2.0",
      "model_name": "ButtonModel",
      "state": {
       "button_style": "success",
       "description": "Save",
       "layout": "IPY_MODEL_0860a0f14e91448884a70df05945ca4e",
       "style": "IPY_MODEL_2817e3bd93044531a3d87b0f2dc2c416"
      }
     },
     "db8457e0db744f23bf7a670ff1549efd": {
      "model_module": "@jupyter-widgets/controls",
      "model_module_version": "1.2.0",
      "model_name": "LabelModel",
      "state": {
       "layout": "IPY_MODEL_f1bc90c622e94a73b337726b827835b2",
       "style": "IPY_MODEL_22d58b34d22f4393b2533109f4505253",
       "value": "See-Through :"
      }
     },
     "dba0116b706f4871bb6c35977c4c469e": {
      "model_module": "@jupyter-widgets/controls",
      "model_module_version": "1.2.0",
      "model_name": "DescriptionStyleModel",
      "state": {
       "description_width": ""
      }
     },
     "dba824cf5a454608ac078b90461f4748": {
      "model_module": "@jupyter-widgets/controls",
      "model_module_version": "1.2.0",
      "model_name": "DescriptionStyleModel",
      "state": {
       "description_width": ""
      }
     },
     "dbcbc2952c33414cbad57d0faea3f816": {
      "model_module": "@jupyter-widgets/controls",
      "model_module_version": "1.2.0",
      "model_name": "DescriptionStyleModel",
      "state": {
       "description_width": ""
      }
     },
     "dbf7621718a7428a8f832d7a84b5f977": {
      "model_module": "@jupyter-widgets/base",
      "model_module_version": "1.0.0",
      "model_name": "LayoutModel",
      "state": {
       "padding": "0px 0px 10px 0px"
      }
     },
     "dbfaf103bfaa43068d67ca7f2556e215": {
      "model_module": "@jupyter-widgets/base",
      "model_module_version": "1.0.0",
      "model_name": "LayoutModel",
      "state": {}
     },
     "dc0a66d5528845a481bd551d6a1c8e3d": {
      "model_module": "@jupyter-widgets/controls",
      "model_module_version": "1.2.0",
      "model_name": "SliderStyleModel",
      "state": {
       "description_width": ""
      }
     },
     "dc3880a2c8bd42c8aff07a543d332e22": {
      "model_module": "@jupyter-widgets/base",
      "model_module_version": "1.0.0",
      "model_name": "LayoutModel",
      "state": {}
     },
     "dc4c6f16df754cdc8a270486692b5d6b": {
      "model_module": "@jupyter-widgets/controls",
      "model_module_version": "1.2.0",
      "model_name": "HTMLModel",
      "state": {
       "layout": "IPY_MODEL_7320b2f06d154aeda9a6ae1e128abf24",
       "style": "IPY_MODEL_e51bc8a232984a31af19aaed3f092f25",
       "value": "<h5>Here you can load in a cytoscape <font color='darkKhaki'>.html</font> file. \nPut the file you want to load into the same place as this notebook, then load it in! </h5>"
      }
     },
     "dc57924c3ab24ce29691cbb566e71d59": {
      "model_module": "@jupyter-widgets/controls",
      "model_module_version": "1.2.0",
      "model_name": "DescriptionStyleModel",
      "state": {
       "description_width": ""
      }
     },
     "dc5fcc2ddd4e4309b6bae6ee09294940": {
      "model_module": "@jupyter-widgets/controls",
      "model_module_version": "1.2.0",
      "model_name": "DescriptionStyleModel",
      "state": {
       "description_width": ""
      }
     },
     "dc6eaf64bf7a4616aa25ff958754f443": {
      "model_module": "@jupyter-widgets/controls",
      "model_module_version": "1.2.0",
      "model_name": "ToggleButtonModel",
      "state": {
       "button_style": "info",
       "description": "Border",
       "layout": "IPY_MODEL_798048beb6cd4fa7b0f5dfdbae67ce2f",
       "style": "IPY_MODEL_5ec2ff37f2694bba844c92e892fbda70"
      }
     },
     "dc8a85173f364c4d962cb579a2d11ec3": {
      "model_module": "@jupyter-widgets/controls",
      "model_module_version": "1.2.0",
      "model_name": "DescriptionStyleModel",
      "state": {
       "description_width": ""
      }
     },
     "dc91f1abf42e4ed3b5cd35dbe74a44dd": {
      "model_module": "@jupyter-widgets/controls",
      "model_module_version": "1.2.0",
      "model_name": "ButtonStyleModel",
      "state": {}
     },
     "dcb55416e68e4665954e95131331db2b": {
      "model_module": "@jupyter-widgets/base",
      "model_module_version": "1.0.0",
      "model_name": "LayoutModel",
      "state": {
       "justify_content": "center",
       "margin": "0 0 15px 0"
      }
     },
     "dd2a33228bb94830892cfa8f7bdf04f4": {
      "model_module": "@jupyter-widgets/base",
      "model_module_version": "1.0.0",
      "model_name": "LayoutModel",
      "state": {
       "visibility": "hidden"
      }
     },
     "dd36e67858ae47a7b436f42b4afdcf7a": {
      "model_module": "@jupyter-widgets/controls",
      "model_module_version": "1.2.0",
      "model_name": "HBoxModel",
      "state": {
       "children": [
        "IPY_MODEL_ff5b01d3400b43b4b5193bb266dc187b",
        "IPY_MODEL_f0fa99f7feda41fdb810a5b3b2cd03c8"
       ],
       "layout": "IPY_MODEL_17d96518f0a244d4a9f229848938eed5"
      }
     },
     "dd425023cd594a769c2ce3ff0f63312c": {
      "model_module": "@jupyter-widgets/base",
      "model_module_version": "1.0.0",
      "model_name": "LayoutModel",
      "state": {
       "padding": "10px 0px 0px 0px"
      }
     },
     "dd7286d776ee4464b5282657c3eba89b": {
      "model_module": "@jupyter-widgets/base",
      "model_module_version": "1.0.0",
      "model_name": "LayoutModel",
      "state": {}
     },
     "dd8445ef87df42668658744d1cbbf60d": {
      "model_module": "@jupyter-widgets/controls",
      "model_module_version": "1.2.0",
      "model_name": "LabelModel",
      "state": {
       "layout": "IPY_MODEL_bf4e5128ec8f4fdd973e3b2d04a17ff8",
       "style": "IPY_MODEL_7bba8091aeca48e590aef01f42e88a82",
       "value": "Text :"
      }
     },
     "dd861aa5ef174c9090a5209666f579fb": {
      "model_module": "@jupyter-widgets/controls",
      "model_module_version": "1.2.0",
      "model_name": "DescriptionStyleModel",
      "state": {
       "description_width": ""
      }
     },
     "de019bdce6b146dcbffb7ee5be1815b9": {
      "model_module": "@jupyter-widgets/base",
      "model_module_version": "1.0.0",
      "model_name": "LayoutModel",
      "state": {}
     },
     "de0469c9f03545948390bf999ce819b8": {
      "model_module": "@jupyter-widgets/base",
      "model_module_version": "1.0.0",
      "model_name": "LayoutModel",
      "state": {
       "padding": "10px 0px 0px 0px"
      }
     },
     "de267a9181544f9595afed3a5e1cf17d": {
      "model_module": "@jupyter-widgets/base",
      "model_module_version": "1.0.0",
      "model_name": "LayoutModel",
      "state": {}
     },
     "de5048bf11bf4e368262bc4e3c51cf39": {
      "model_module": "@jupyter-widgets/base",
      "model_module_version": "1.0.0",
      "model_name": "LayoutModel",
      "state": {
       "visibility": "hidden"
      }
     },
     "de63e5521f964087b36c30a9193b2bf8": {
      "model_module": "@jupyter-widgets/base",
      "model_module_version": "1.0.0",
      "model_name": "LayoutModel",
      "state": {}
     },
     "de8d7f8103694fe48afb7c19232b7352": {
      "model_module": "@jupyter-widgets/base",
      "model_module_version": "1.0.0",
      "model_name": "LayoutModel",
      "state": {
       "padding": "10px 0px 0px 0px"
      }
     },
     "de91bcbe27744b2da9e3d725ead0945f": {
      "model_module": "@jupyter-widgets/base",
      "model_module_version": "1.0.0",
      "model_name": "LayoutModel",
      "state": {}
     },
     "deaf24c7b2f34bf780571d6ffc518f36": {
      "model_module": "@jupyter-widgets/base",
      "model_module_version": "1.0.0",
      "model_name": "LayoutModel",
      "state": {}
     },
     "deb53a02fd7b48229056399aa456e60d": {
      "model_module": "@jupyter-widgets/controls",
      "model_module_version": "1.2.0",
      "model_name": "HTMLModel",
      "state": {
       "layout": "IPY_MODEL_f5cc0fc00b1e4cdd989b98f29678c648",
       "style": "IPY_MODEL_f7ce4133462c4ef49630d9c1c7e80db6",
       "value": "<h1 class='text-center text-success' style='margin:0'>Saved!</h1>"
      }
     },
     "df05b7a6f6ce49d8b6aa2673819f099b": {
      "model_module": "@jupyter-widgets/controls",
      "model_module_version": "1.2.0",
      "model_name": "ButtonModel",
      "state": {
       "button_style": "success",
       "icon": "image",
       "layout": "IPY_MODEL_6de5c82aaa5346aaa9710870ff0bf3cf",
       "style": "IPY_MODEL_a978ea7828ed4a009d374374823c8238"
      }
     },
     "df175bfc38a541eebae8d1af04545437": {
      "model_module": "@jupyter-widgets/base",
      "model_module_version": "1.0.0",
      "model_name": "LayoutModel",
      "state": {
       "margin": "0 15px 0 0px",
       "width": "auto"
      }
     },
     "df2be5ad7cca43ebba4b6cab267d8ccf": {
      "model_module": "@jupyter-widgets/controls",
      "model_module_version": "1.2.0",
      "model_name": "LabelModel",
      "state": {
       "layout": "IPY_MODEL_c9c6603c44e840d4907be0ddcf19395c",
       "style": "IPY_MODEL_251fea1fdeab4b42ae45d0c611eaa9cb",
       "value": "Style"
      }
     },
     "df33bfa69a524f1d907cfe1aa2ede153": {
      "model_module": "@jupyter-widgets/controls",
      "model_module_version": "1.2.0",
      "model_name": "TextModel",
      "state": {
       "continuous_update": false,
       "description": "Search :",
       "layout": "IPY_MODEL_bee64204928946e58a41600d34191ee5",
       "style": "IPY_MODEL_84df3384822e481491b8df7c9929cecc"
      }
     },
     "df7efed26bc843a0b8b7a6cc21254873": {
      "model_module": "@jupyter-widgets/base",
      "model_module_version": "1.0.0",
      "model_name": "LayoutModel",
      "state": {}
     },
     "df8b4f6a27384e7bacefb42884852e77": {
      "model_module": "@jupyter-widgets/controls",
      "model_module_version": "1.2.0",
      "model_name": "LabelModel",
      "state": {
       "layout": "IPY_MODEL_a43a25b985c74d9a9e3ba5871909a963",
       "style": "IPY_MODEL_9ba23fba19d6412fa345f6e4962be6b0",
       "value": "Size :"
      }
     },
     "dfaf2c9c662548a19e3edd1abf9de309": {
      "model_module": "@jupyter-widgets/base",
      "model_module_version": "1.0.0",
      "model_name": "LayoutModel",
      "state": {}
     },
     "dfd22c654a604e539ffec25918548d98": {
      "model_module": "@jupyter-widgets/base",
      "model_module_version": "1.0.0",
      "model_name": "LayoutModel",
      "state": {}
     },
     "dfd4df061f504715b8eb50dd7274524b": {
      "model_module": "@jupyter-widgets/controls",
      "model_module_version": "1.2.0",
      "model_name": "FloatSliderModel",
      "state": {
       "layout": "IPY_MODEL_6108d2a38cd94856a97835a955679ce5",
       "max": 1,
       "step": 0.05,
       "style": "IPY_MODEL_727cf53909474940a054d9854fb1766a",
       "value": 0.5
      }
     },
     "e076ac0416f64477a20c28d864664e33": {
      "model_module": "@jupyter-widgets/controls",
      "model_module_version": "1.2.0",
      "model_name": "HTMLModel",
      "state": {
       "layout": "IPY_MODEL_8dfe025ffe8347de83702d4120526ac6",
       "style": "IPY_MODEL_bead474a6572489dba989da62f41d017",
       "value": "<h5>Paste the <a>NDEx URL</a> of the dataset to download :</h5>"
      }
     },
     "e09450e0533a4843925cd30c3b7b8edf": {
      "model_module": "@jupyter-widgets/controls",
      "model_module_version": "1.2.0",
      "model_name": "HBoxModel",
      "state": {
       "children": [
        "IPY_MODEL_ce91ba2529b54cf7851d9cdec500c0f2",
        "IPY_MODEL_99283d8aaff34f638ec2782611e338be"
       ],
       "layout": "IPY_MODEL_dd425023cd594a769c2ce3ff0f63312c"
      }
     },
     "e0dece5853be4ffe94bf010dc5ac4f37": {
      "model_module": "@jupyter-widgets/base",
      "model_module_version": "1.0.0",
      "model_name": "LayoutModel",
      "state": {}
     },
     "e0e205fbd37241ee97834e1c76b991b8": {
      "model_module": "@jupyter-widgets/controls",
      "model_module_version": "1.2.0",
      "model_name": "HTMLModel",
      "state": {
       "layout": "IPY_MODEL_9775e5a046a04fdfbcbef0935e37cb58",
       "style": "IPY_MODEL_bf56d4aa19cc40cab229b8687a890963",
       "value": "<h5>Here you save your graph as a <a href='https://www.datacamp.com/community/tutorials/pandas-tutorial-dataframe-python'>Pandas DataFrame</a> called <font color=\"blue\">Graph.data</font> .\nThis is great for doing data analysis in <font color=\"blue\">python</font>.</h5>"
      }
     },
     "e117908b544e44359753b19aaba81f11": {
      "model_module": "@jupyter-widgets/controls",
      "model_module_version": "1.2.0",
      "model_name": "DescriptionStyleModel",
      "state": {
       "description_width": ""
      }
     },
     "e14cd38f23ec41019921c1a4f3222962": {
      "model_module": "@jupyter-widgets/base",
      "model_module_version": "1.0.0",
      "model_name": "LayoutModel",
      "state": {}
     },
     "e1618594f13946f786a97edb3445cece": {
      "model_module": "@jupyter-widgets/base",
      "model_module_version": "1.0.0",
      "model_name": "LayoutModel",
      "state": {
       "visibility": "hidden"
      }
     },
     "e16869e26a204e9e85d1b8cfa79a8fd3": {
      "model_module": "@jupyter-widgets/base",
      "model_module_version": "1.0.0",
      "model_name": "LayoutModel",
      "state": {
       "align_items": "center",
       "display": "none"
      }
     },
     "e19cb78a8fdf416a9885041618c719cd": {
      "model_module": "@jupyter-widgets/controls",
      "model_module_version": "1.2.0",
      "model_name": "VBoxModel",
      "state": {
       "children": [
        "IPY_MODEL_ec648aed2cba4fe0871803dfe930f321",
        "IPY_MODEL_a3930cf763e54aac83fe442a9ebca605",
        "IPY_MODEL_c2f3fca876564a4583271f7704dc6eb6",
        "IPY_MODEL_76251747177042bc814f6ad34efc98d9",
        "IPY_MODEL_1cbaf55103554ba788cd869a6a8a52fe",
        "IPY_MODEL_8f0d638c328d43d4bcb7ceaf37c3da50",
        "IPY_MODEL_86a8c90698d44ee69c49748a74d681ae",
        "IPY_MODEL_feb3d57ec2b949f88b8db5d4e844b67e",
        "IPY_MODEL_da96c93a2eb545469377cdaa256a4975",
        "IPY_MODEL_26d6911ba44b4aaba92971ad9243ed08",
        "IPY_MODEL_742ea8239c494930844a21600420ca39"
       ],
       "layout": "IPY_MODEL_d1874610b74547c8a21e21aff57d43b4"
      }
     },
     "e19efe82e10142e7b9527e8e4ec92300": {
      "model_module": "@jupyter-widgets/base",
      "model_module_version": "1.0.0",
      "model_name": "LayoutModel",
      "state": {}
     },
     "e1a3546951ab415bafe66f246ac3bf7f": {
      "model_module": "@jupyter-widgets/base",
      "model_module_version": "1.0.0",
      "model_name": "LayoutModel",
      "state": {
       "height": "40px",
       "min_width": "50px",
       "width": "10%"
      }
     },
     "e1a67ce4ccd04039a452321372ee4a84": {
      "model_module": "@jupyter-widgets/base",
      "model_module_version": "1.0.0",
      "model_name": "LayoutModel",
      "state": {}
     },
     "e1bdf5c47139440d992971b738adb122": {
      "model_module": "@jupyter-widgets/base",
      "model_module_version": "1.0.0",
      "model_name": "LayoutModel",
      "state": {
       "margin": "2px 25px 2px 0px",
       "width": "auto"
      }
     },
     "e1efcbf9524a4116913d9bfdfe9db265": {
      "model_module": "@jupyter-widgets/base",
      "model_module_version": "1.0.0",
      "model_name": "LayoutModel",
      "state": {}
     },
     "e1f9924e29c34477836896901c0244eb": {
      "model_module": "@jupyter-widgets/base",
      "model_module_version": "1.0.0",
      "model_name": "LayoutModel",
      "state": {
       "padding": "10px 0px 0px 0px"
      }
     },
     "e2124b6a5128474d967ea117c1ff603e": {
      "model_module": "@jupyter-widgets/base",
      "model_module_version": "1.0.0",
      "model_name": "LayoutModel",
      "state": {}
     },
     "e22ec14d71f6485c87c360b6f441d1dc": {
      "model_module": "@jupyter-widgets/controls",
      "model_module_version": "1.2.0",
      "model_name": "DescriptionStyleModel",
      "state": {
       "description_width": ""
      }
     },
     "e252ae4a8be145e6aca3b722dde36638": {
      "model_module": "@jupyter-widgets/controls",
      "model_module_version": "1.2.0",
      "model_name": "HTMLModel",
      "state": {
       "layout": "IPY_MODEL_beff3b8e8ced4a119b0749e1a118c3ea",
       "style": "IPY_MODEL_5b76bdcc993f4546b63fa138fe44861e",
       "value": "<h5>Here you can load in a cytoscape <font color='darkKhaki'>.html</font> file. \nPut the file you want to load into the same place as this notebook, then load it in! </h5>"
      }
     },
     "e25c22c99fb54a00a4c82aef63726f65": {
      "model_module": "@jupyter-widgets/controls",
      "model_module_version": "1.2.0",
      "model_name": "ButtonModel",
      "state": {
       "button_style": "warning",
       "description": "Start Cytoscape!",
       "layout": "IPY_MODEL_53622282d5d847a68245cce28f75da7e",
       "style": "IPY_MODEL_b179262f1df042098dbbe3e769ee8bf9"
      }
     },
     "e262ce60dfe041329f12026669b4db74": {
      "model_module": "@jupyter-widgets/base",
      "model_module_version": "1.0.0",
      "model_name": "LayoutModel",
      "state": {}
     },
     "e2cdfa6c1ca6479e8e4bcbce42ee8100": {
      "model_module": "@jupyter-widgets/base",
      "model_module_version": "1.0.0",
      "model_name": "LayoutModel",
      "state": {}
     },
     "e2e877b4ccce478abef63da4b2523693": {
      "model_module": "@jupyter-widgets/base",
      "model_module_version": "1.0.0",
      "model_name": "LayoutModel",
      "state": {}
     },
     "e2ffcc59c15244fea660204b192fde6f": {
      "model_module": "@jupyter-widgets/controls",
      "model_module_version": "1.2.0",
      "model_name": "DescriptionStyleModel",
      "state": {
       "description_width": ""
      }
     },
     "e304ca4d7cda4547a740a05a90f378e8": {
      "model_module": "@jupyter-widgets/controls",
      "model_module_version": "1.2.0",
      "model_name": "HBoxModel",
      "state": {
       "children": [
        "IPY_MODEL_7f4120b69485414991332c2125c3a4d8",
        "IPY_MODEL_e3d7b992acc847289ef8d91dbce28502"
       ],
       "layout": "IPY_MODEL_c2243f1ee72241fd9e3fd3219268fb4b"
      }
     },
     "e320c2133101425c966941143b7a8437": {
      "model_module": "@jupyter-widgets/controls",
      "model_module_version": "1.2.0",
      "model_name": "DescriptionStyleModel",
      "state": {
       "description_width": ""
      }
     },
     "e3419f649bbb478ea607d013ea5b4fab": {
      "model_module": "@jupyter-widgets/controls",
      "model_module_version": "1.2.0",
      "model_name": "DropdownModel",
      "state": {
       "_options_labels": [
        "center",
        "top",
        "bottom",
        "left",
        "right"
       ],
       "index": 0,
       "layout": "IPY_MODEL_25e8b923fdbe4eb2be46b2ab514fe738",
       "style": "IPY_MODEL_001a76bf74d346789afc95b8e4e88c2a"
      }
     },
     "e34345876f41413b99e3ccc40ee7df8f": {
      "model_module": "@jupyter-widgets/controls",
      "model_module_version": "1.2.0",
      "model_name": "HBoxModel",
      "state": {
       "children": [
        "IPY_MODEL_9603a9a6156948f88036d47e14c5190d",
        "IPY_MODEL_bdbec55e4e4f4dd6a5983686cb3c2b5b"
       ],
       "layout": "IPY_MODEL_e3fee1159d574bd082130a3c6bf35c25"
      }
     },
     "e39532c0b98a4eacb5a50d7a67ed3064": {
      "model_module": "@jupyter-widgets/controls",
      "model_module_version": "1.2.0",
      "model_name": "ButtonStyleModel",
      "state": {}
     },
     "e39a1267087847128b46851a6544f0a5": {
      "model_module": "@jupyter-widgets/controls",
      "model_module_version": "1.2.0",
      "model_name": "VBoxModel",
      "state": {
       "children": [
        "IPY_MODEL_3b0569a934cc4c6c94a590d7f1fbd030",
        "IPY_MODEL_3ff1d36bb90e43e291234e89ed9116cd",
        "IPY_MODEL_c243918c456343008c07731a8891ca64",
        "IPY_MODEL_353331b4a504466ead4a896864ca5184"
       ],
       "layout": "IPY_MODEL_5ae0aeaea13047c08e06dbf4514a136a"
      }
     },
     "e3ae5b18e5ed46df8f9a80a1a693057a": {
      "model_module": "@jupyter-widgets/controls",
      "model_module_version": "1.2.0",
      "model_name": "SliderStyleModel",
      "state": {
       "description_width": ""
      }
     },
     "e3c9d757a3af4a4ea6b621775dd93023": {
      "model_module": "@jupyter-widgets/controls",
      "model_module_version": "1.2.0",
      "model_name": "ButtonStyleModel",
      "state": {}
     },
     "e3d7b992acc847289ef8d91dbce28502": {
      "model_module": "@jupyter-widgets/controls",
      "model_module_version": "1.2.0",
      "model_name": "DropdownModel",
      "state": {
       "_options_labels": [
        "none",
        "triangle",
        "tee",
        "diamond",
        "square",
        "circle",
        "vee",
        "triangle-tee"
       ],
       "index": 0,
       "layout": "IPY_MODEL_22ffded980414aadbf27e4b5f1c22ca8",
       "style": "IPY_MODEL_26b69687a50b425ea54896ab57a9674e"
      }
     },
     "e3f6b704e44a4376aa75b7623a3f2b5c": {
      "model_module": "@jupyter-widgets/controls",
      "model_module_version": "1.2.0",
      "model_name": "DescriptionStyleModel",
      "state": {
       "description_width": ""
      }
     },
     "e3fee1159d574bd082130a3c6bf35c25": {
      "model_module": "@jupyter-widgets/base",
      "model_module_version": "1.0.0",
      "model_name": "LayoutModel",
      "state": {
       "justify_content": "center",
       "padding": "0px 0px 10px 0px"
      }
     },
     "e435f982faf847ad98fbdcb1e1978956": {
      "model_module": "@jupyter-widgets/controls",
      "model_module_version": "1.2.0",
      "model_name": "ButtonStyleModel",
      "state": {}
     },
     "e4408fcb802742cbbc3297934e25f304": {
      "model_module": "@jupyter-widgets/base",
      "model_module_version": "1.0.0",
      "model_name": "LayoutModel",
      "state": {}
     },
     "e455c2488260412683f6999384c41a17": {
      "model_module": "@jupyter-widgets/controls",
      "model_module_version": "1.2.0",
      "model_name": "IntSliderModel",
      "state": {
       "layout": "IPY_MODEL_234b6d154154451c87d4521f6828ecd0",
       "max": 200,
       "min": 1,
       "style": "IPY_MODEL_7b96ff0fea9846c6a31818dddf590ed1",
       "value": 30
      }
     },
     "e48e4b1156984c218db229162cad83c5": {
      "model_module": "@jupyter-widgets/controls",
      "model_module_version": "1.2.0",
      "model_name": "ButtonStyleModel",
      "state": {}
     },
     "e497245d39a54a699996660d265d7010": {
      "model_module": "@jupyter-widgets/controls",
      "model_module_version": "1.2.0",
      "model_name": "ButtonModel",
      "state": {
       "button_style": "primary",
       "description": "Undo",
       "layout": "IPY_MODEL_ad054099be24483c97e8a8bee7dbbb52",
       "style": "IPY_MODEL_f309ff2c8d894caabc5cdd58352f34b3"
      }
     },
     "e4df364c77924080abbfc66becf1b08e": {
      "model_module": "@jupyter-widgets/controls",
      "model_module_version": "1.2.0",
      "model_name": "LabelModel",
      "state": {
       "layout": "IPY_MODEL_cf1b6f57920942c1a9df4876b44d3ddd",
       "style": "IPY_MODEL_8e439456e9364b4287699b3e5012b657",
       "value": "Shape :"
      }
     },
     "e504bb27c5494e13a5e83a8019fb74f3": {
      "model_module": "@jupyter-widgets/base",
      "model_module_version": "1.0.0",
      "model_name": "LayoutModel",
      "state": {}
     },
     "e51bc8a232984a31af19aaed3f092f25": {
      "model_module": "@jupyter-widgets/controls",
      "model_module_version": "1.2.0",
      "model_name": "DescriptionStyleModel",
      "state": {
       "description_width": ""
      }
     },
     "e55ba28842294a5495e4971e5ade5969": {
      "model_module": "@jupyter-widgets/controls",
      "model_module_version": "1.2.0",
      "model_name": "HTMLModel",
      "state": {
       "layout": "IPY_MODEL_8569ccbd97574ca796bdebec3fa0a9d3",
       "style": "IPY_MODEL_d7164edf03f44713bf5ebeae67c015d5",
       "value": "<h5>Title  &nbsp</h5> "
      }
     },
     "e565acedd1574fdbb2b7db3f3ed0e4e6": {
      "model_module": "@jupyter-widgets/base",
      "model_module_version": "1.0.0",
      "model_name": "LayoutModel",
      "state": {}
     },
     "e5855fedc0704ada92db98c5060d6bf5": {
      "model_module": "@jupyter-widgets/controls",
      "model_module_version": "1.2.0",
      "model_name": "HBoxModel",
      "state": {
       "children": [
        "IPY_MODEL_b8a29d7dcc5840e88bafe793a814abe0",
        "IPY_MODEL_a66e3eaefb07425d94d969abf4742130"
       ],
       "layout": "IPY_MODEL_3369a13da5924588a82e76890ab8e138"
      }
     },
     "e5a4106e230e4fbda0f8c8ce5754308c": {
      "model_module": "@jupyter-widgets/controls",
      "model_module_version": "1.2.0",
      "model_name": "VBoxModel",
      "state": {
       "children": [
        "IPY_MODEL_326fed23f2a94ca3bf844cb47fc0ba4e",
        "IPY_MODEL_b2866d3b32164b3da134b1d1134281ea",
        "IPY_MODEL_2f06cda9e61c42218fb2ccddf33400d2",
        "IPY_MODEL_031323772e6943a1bc41bd1b58c6f59a"
       ],
       "layout": "IPY_MODEL_124c17cd2cb74fe0b89bcebcd8d395b7"
      }
     },
     "e5c9ee5d87424292996285f60dfb1431": {
      "model_module": "@jupyter-widgets/controls",
      "model_module_version": "1.2.0",
      "model_name": "HBoxModel",
      "state": {
       "children": [
        "IPY_MODEL_f3fa483ec9bb43318ae9bbb4890ab636",
        "IPY_MODEL_c21da326e50946299b31452b5afb86ad"
       ],
       "layout": "IPY_MODEL_116630c906f64be4a55944262f3ca2a0"
      }
     },
     "e5f71e11b57e4d9698c5f2431bf0997c": {
      "model_module": "@jupyter-widgets/controls",
      "model_module_version": "1.2.0",
      "model_name": "DescriptionStyleModel",
      "state": {
       "description_width": ""
      }
     },
     "e61e4f2eaf4e42848983899ef5c20185": {
      "model_module": "@jupyter-widgets/base",
      "model_module_version": "1.0.0",
      "model_name": "LayoutModel",
      "state": {
       "padding": "0 15px 0 35px"
      }
     },
     "e63243136b114ac4b0bfafa9024b0e29": {
      "model_module": "@jupyter-widgets/controls",
      "model_module_version": "1.2.0",
      "model_name": "LabelModel",
      "state": {
       "layout": "IPY_MODEL_c8d6015311d047ceb6c27b30b7321dd5",
       "style": "IPY_MODEL_7c9754d30e7e45f7b2e57e5a7e13823b",
       "value": "    "
      }
     },
     "e643924df8724e4081cc128dbe34d262": {
      "model_module": "@jupyter-widgets/controls",
      "model_module_version": "1.2.0",
      "model_name": "ToggleButtonsModel",
      "state": {
       "_options_labels": [
        "Python",
        "HTML",
        "NDEX"
       ],
       "button_style": "danger",
       "icons": [],
       "index": 0,
       "layout": "IPY_MODEL_b9dc7ceae4264636b3f01dc9a0c84303",
       "style": "IPY_MODEL_898744ccb087438785fd5cce497a7075",
       "tooltips": []
      }
     },
     "e64e33c849684b2ca055477e09afa3f0": {
      "model_module": "@jupyter-widgets/controls",
      "model_module_version": "1.2.0",
      "model_name": "TextModel",
      "state": {
       "description": "URL :",
       "layout": "IPY_MODEL_08b5063b73724f5a8638b1e1eb83a111",
       "style": "IPY_MODEL_0b62b8ad6ed44273ad3df1e23589ff38"
      }
     },
     "e65a38f6c2f54ed9b903ebd9ed547104": {
      "model_module": "@jupyter-widgets/controls",
      "model_module_version": "1.2.0",
      "model_name": "HTMLModel",
      "state": {
       "layout": "IPY_MODEL_2c40d93f5707420e87065d5716bf8d83",
       "style": "IPY_MODEL_894de1d0ab7242da9705498500ffbbc9",
       "value": "<h4 style='color: DarkKhaki'>Nodes</h4>"
      }
     },
     "e65ee8bc21b2451bab8324f936069182": {
      "model_module": "@jupyter-widgets/controls",
      "model_module_version": "1.2.0",
      "model_name": "ButtonModel",
      "state": {
       "button_style": "primary",
       "description": "Download",
       "layout": "IPY_MODEL_8050afe1222d4a8298a6ccfb94409819",
       "style": "IPY_MODEL_98b4f9c1739748a39ac54619cad15789"
      }
     },
     "e67082f317ea432c9813b4a8b62316e6": {
      "model_module": "@jupyter-widgets/controls",
      "model_module_version": "1.2.0",
      "model_name": "ButtonStyleModel",
      "state": {}
     },
     "e686b4eac8a6405fa78b5047511dcb7c": {
      "model_module": "@jupyter-widgets/controls",
      "model_module_version": "1.2.0",
      "model_name": "ButtonModel",
      "state": {
       "button_style": "success",
       "description": "Upload",
       "layout": "IPY_MODEL_241b91218831430ca2b9d6f1e85f9e67",
       "style": "IPY_MODEL_cff67d82ec8d4b3b9656d9e4e3295888"
      }
     },
     "e6bf91f472ec41b095f55b7bfcc001ab": {
      "model_module": "@jupyter-widgets/controls",
      "model_module_version": "1.2.0",
      "model_name": "DescriptionStyleModel",
      "state": {
       "description_width": ""
      }
     },
     "e6fcc7cea3bf44eca0a3123190b23ca1": {
      "model_module": "@jupyter-widgets/base",
      "model_module_version": "1.0.0",
      "model_name": "LayoutModel",
      "state": {}
     },
     "e72f81da4dff487986f9dda642676312": {
      "model_module": "@jupyter-widgets/base",
      "model_module_version": "1.0.0",
      "model_name": "LayoutModel",
      "state": {
       "justify_content": "center",
       "padding": "10px 0px 0px 0px"
      }
     },
     "e73283ddfa8a403ba6e26a3672eb8a18": {
      "model_module": "@jupyter-widgets/controls",
      "model_module_version": "1.2.0",
      "model_name": "VBoxModel",
      "state": {
       "children": [
        "IPY_MODEL_86ec563be7db46a4b4b49fece0091a64",
        "IPY_MODEL_5bda3873078148518162c035567dff44",
        "IPY_MODEL_cb65a119cada4c68a0c144609d21ffd0",
        "IPY_MODEL_1d95c15e319b424eb077fd4a473c29f0",
        "IPY_MODEL_8c519822f96d4e7fa024169adb166e0e",
        "IPY_MODEL_940d6055e4614400bbdd2c8bc843cf01"
       ],
       "layout": "IPY_MODEL_f268c187cb8e4dd489b06902f25a9013"
      }
     },
     "e733b399fdf34bf8aa3e77051d7d5b1b": {
      "model_module": "@jupyter-widgets/base",
      "model_module_version": "1.0.0",
      "model_name": "LayoutModel",
      "state": {}
     },
     "e7611a6a847143799f3d8ce05f3602b0": {
      "model_module": "@jupyter-widgets/controls",
      "model_module_version": "1.2.0",
      "model_name": "DescriptionStyleModel",
      "state": {
       "description_width": ""
      }
     },
     "e7b77e6d44584a6a8af24e57dfc90bbe": {
      "model_module": "@jupyter-widgets/controls",
      "model_module_version": "1.2.0",
      "model_name": "HBoxModel",
      "state": {
       "children": [
        "IPY_MODEL_db8457e0db744f23bf7a670ff1549efd",
        "IPY_MODEL_629005e10a20449f8081205c0bc7b13d"
       ],
       "layout": "IPY_MODEL_77dd11e318cc4e508310f01e30dc2b06"
      }
     },
     "e7d1a7928ca94a1f937112af3e735d2e": {
      "model_module": "@jupyter-widgets/controls",
      "model_module_version": "1.2.0",
      "model_name": "DescriptionStyleModel",
      "state": {
       "description_width": ""
      }
     },
     "e7f5174c5af2463fa64cdd4e4056ec28": {
      "model_module": "@jupyter-widgets/controls",
      "model_module_version": "1.2.0",
      "model_name": "DescriptionStyleModel",
      "state": {
       "description_width": ""
      }
     },
     "e806e86d28a244f3b7cd2c43b14b01d8": {
      "model_module": "@jupyter-widgets/controls",
      "model_module_version": "1.2.0",
      "model_name": "VBoxModel",
      "state": {
       "children": [
        "IPY_MODEL_d4ae8c4f08454aab9f543a4ba6fef722",
        "IPY_MODEL_155b2eda6634494a9c8afb0e795372dc",
        "IPY_MODEL_0b2cced9da6d44b8ab1523f4b22f6d12"
       ],
       "layout": "IPY_MODEL_8aa3ca46021c4a8290208d6f8ba1a59b"
      }
     },
     "e84968db9a124d2997f897a5de54b5cf": {
      "model_module": "@jupyter-widgets/controls",
      "model_module_version": "1.2.0",
      "model_name": "DescriptionStyleModel",
      "state": {
       "description_width": ""
      }
     },
     "e88185cc49c642d4aad396bbf3c0fd74": {
      "model_module": "@jupyter-widgets/base",
      "model_module_version": "1.0.0",
      "model_name": "LayoutModel",
      "state": {
       "margin": "2px 25px 2px 0px",
       "width": "auto"
      }
     },
     "e882d8f6c9da496ca6cc87d2e4ff19ed": {
      "model_module": "@jupyter-widgets/controls",
      "model_module_version": "1.2.0",
      "model_name": "VBoxModel",
      "state": {
       "children": [
        "IPY_MODEL_e643924df8724e4081cc128dbe34d262",
        "IPY_MODEL_8b61595726c5475dbbf80f3362fbda20",
        "IPY_MODEL_4067cbaad04f48148cb4106b4c3c5ac2",
        "IPY_MODEL_5b80b72d6d934de3a69c135e5dffcf99"
       ],
       "layout": "IPY_MODEL_0fa82a4827ab4c9bb75d2d16c75101a6"
      }
     },
     "e88791e83d8b46ba9a1a9f4159b1f303": {
      "model_module": "@jupyter-widgets/base",
      "model_module_version": "1.0.0",
      "model_name": "LayoutModel",
      "state": {}
     },
     "e893504e17f14d519dc09578fe2cc06e": {
      "model_module": "@jupyter-widgets/controls",
      "model_module_version": "1.2.0",
      "model_name": "DescriptionStyleModel",
      "state": {
       "description_width": ""
      }
     },
     "e8a1f90c3ede4ab4ab5df96763d2e099": {
      "model_module": "@jupyter-widgets/base",
      "model_module_version": "1.0.0",
      "model_name": "LayoutModel",
      "state": {
       "justify_content": "center"
      }
     },
     "e8a9c1a49fac41afa5b3b3642116a781": {
      "model_module": "@jupyter-widgets/controls",
      "model_module_version": "1.2.0",
      "model_name": "LabelModel",
      "state": {
       "layout": "IPY_MODEL_cf570a28e4384a6094feb91580d2921d",
       "style": "IPY_MODEL_71e8594bbba043c39ce9797e25559c97",
       "value": "Position :"
      }
     },
     "e8b2e060fa45465e8285e32b3ec6b6fc": {
      "model_module": "@jupyter-widgets/controls",
      "model_module_version": "1.2.0",
      "model_name": "ToggleButtonsModel",
      "state": {
       "_options_labels": [
        "Python",
        "HTML",
        "NDEX"
       ],
       "button_style": "success",
       "icons": [],
       "index": 0,
       "layout": "IPY_MODEL_b336a5a32ac54e9ab39a8e69655d9dc7",
       "style": "IPY_MODEL_a887f7b9988e4c7eab50dcefbb163245",
       "tooltips": []
      }
     },
     "e8df665049a344ca9400e7e42c68d2d9": {
      "model_module": "@jupyter-widgets/controls",
      "model_module_version": "1.2.0",
      "model_name": "ButtonModel",
      "state": {
       "button_style": "success",
       "description": "Save",
       "layout": "IPY_MODEL_ae79684dbd9e4f0b978dec189c48236e",
       "style": "IPY_MODEL_0f2720e4ffa441659edb63bbdd651db1"
      }
     },
     "e8ff9ee225c24e45bdb4944ea33da347": {
      "model_module": "@jupyter-widgets/controls",
      "model_module_version": "1.2.0",
      "model_name": "ToggleButtonModel",
      "state": {
       "button_style": "info",
       "description": "Border",
       "layout": "IPY_MODEL_2e4fb9a90ef44fd0bc2d5acf3d93fc1e",
       "style": "IPY_MODEL_0bfda0413c83416090e31c35b0543cc6"
      }
     },
     "e927825c561949c5b4c2ca2efa8af90c": {
      "model_module": "@jupyter-widgets/base",
      "model_module_version": "1.0.0",
      "model_name": "LayoutModel",
      "state": {
       "width": "auto"
      }
     },
     "e9a0068d1d1e4a8abe74ebb578a556f4": {
      "model_module": "@jupyter-widgets/base",
      "model_module_version": "1.0.0",
      "model_name": "LayoutModel",
      "state": {
       "justify_content": "center",
       "margin": "0 0 15px 0"
      }
     },
     "e9a965f0cc0a4d7c82f3a4b34f5ff713": {
      "model_module": "@jupyter-widgets/controls",
      "model_module_version": "1.2.0",
      "model_name": "TextModel",
      "state": {
       "description": "URL :",
       "layout": "IPY_MODEL_3bc6e74e661544b2aa407379c12cce0b",
       "style": "IPY_MODEL_e320c2133101425c966941143b7a8437"
      }
     },
     "e9e1a1874d2d419dabfb32ebb61c49ff": {
      "model_module": "@jupyter-widgets/base",
      "model_module_version": "1.0.0",
      "model_name": "LayoutModel",
      "state": {
       "align_items": "center"
      }
     },
     "ea2498f2c53241e097dbb434bfac88bd": {
      "model_module": "@jupyter-widgets/controls",
      "model_module_version": "1.2.0",
      "model_name": "LabelModel",
      "state": {
       "layout": "IPY_MODEL_3377b25cf1274b80886ccb1a4701735a",
       "style": "IPY_MODEL_2712ad268f5a4bfcb75671c6f30484be",
       "value": "Shape :"
      }
     },
     "ea697c90348a4b0e9dbf16dba32e2a7c": {
      "model_module": "@jupyter-widgets/controls",
      "model_module_version": "1.2.0",
      "model_name": "DescriptionStyleModel",
      "state": {
       "description_width": ""
      }
     },
     "ea802a2fbe83455a8a6ab184dcdbedfd": {
      "model_module": "@jupyter-widgets/controls",
      "model_module_version": "1.2.0",
      "model_name": "PasswordModel",
      "state": {
       "description": "Password :",
       "layout": "IPY_MODEL_ca00036f06cb42eda395c1e0a68b1e5a",
       "style": "IPY_MODEL_4c7f5f6630044adfb19cd9598740e488"
      }
     },
     "eaa1d7c230134bdcaccdf1d429cb7d24": {
      "model_module": "@jupyter-widgets/controls",
      "model_module_version": "1.2.0",
      "model_name": "LabelModel",
      "state": {
       "layout": "IPY_MODEL_d4486f96e8854032b90815d8490adc7f",
       "style": "IPY_MODEL_3339cea55387445696e3224ab787f7b4",
       "value": "Behind/In-Front :"
      }
     },
     "eacec09a6a9d4e109326d1e934fb90f5": {
      "model_module": "@jupyter-widgets/controls",
      "model_module_version": "1.2.0",
      "model_name": "VBoxModel",
      "state": {
       "children": [
        "IPY_MODEL_7ba9e066440046989f185e680fbede56",
        "IPY_MODEL_2b27528b6d14412c93ce4bf456bdfc26",
        "IPY_MODEL_ee0fd7c06eb74f8aa5e877b5b13ef712",
        "IPY_MODEL_e5c9ee5d87424292996285f60dfb1431",
        "IPY_MODEL_d501553ea9e044ba80674f13eba8df52",
        "IPY_MODEL_bcdf68ea60e24953ad67c02671a4febb"
       ],
       "layout": "IPY_MODEL_16b632ae8c3b4154ae03af8f822b6a9f"
      }
     },
     "eaffb871a9684b3884b2620839dc2856": {
      "model_module": "@jupyter-widgets/base",
      "model_module_version": "1.0.0",
      "model_name": "LayoutModel",
      "state": {}
     },
     "eb17570367f74c1d8e117500290ef336": {
      "model_module": "@jupyter-widgets/controls",
      "model_module_version": "1.2.0",
      "model_name": "DescriptionStyleModel",
      "state": {
       "description_width": ""
      }
     },
     "eb428e808d2e4d87a749381d58ef136a": {
      "model_module": "@jupyter-widgets/controls",
      "model_module_version": "1.2.0",
      "model_name": "HBoxModel",
      "state": {
       "children": [
        "IPY_MODEL_869a3b5e5811453099d94a05280eb0aa",
        "IPY_MODEL_54b0327c3c394394b936f2a7978e30aa"
       ],
       "layout": "IPY_MODEL_a1ee22d1a5114ee29755288885014d12"
      }
     },
     "eb70a31805f242d8b97d11272115ab5f": {
      "model_module": "@jupyter-widgets/base",
      "model_module_version": "1.0.0",
      "model_name": "LayoutModel",
      "state": {}
     },
     "eb909339d5ca42e9b997275a75df06d4": {
      "model_module": "@jupyter-widgets/controls",
      "model_module_version": "1.2.0",
      "model_name": "HTMLModel",
      "state": {
       "layout": "IPY_MODEL_d2afc1a4b3cc4291b6b1e0c8d662305d",
       "style": "IPY_MODEL_98c7ee226d234bdea9803e41a58fcdb0",
       "value": "<h3 class='text-center' style='color:red'>Error in .html File</h3>"
      }
     },
     "eb965d662fb046b9a28b64212e4df1c0": {
      "model_module": "@jupyter-widgets/controls",
      "model_module_version": "1.2.0",
      "model_name": "VBoxModel",
      "state": {
       "layout": "IPY_MODEL_b0cd756a07cd4c52b568f0f90b9fc513"
      }
     },
     "eba320c432874d8e8e66115cd225ce7b": {
      "model_module": "@jupyter-widgets/base",
      "model_module_version": "1.0.0",
      "model_name": "LayoutModel",
      "state": {
       "width": "auto"
      }
     },
     "ebb52fb3b3b34b609ac8469b085f3d27": {
      "model_module": "@jupyter-widgets/base",
      "model_module_version": "1.0.0",
      "model_name": "LayoutModel",
      "state": {
       "align_items": "center",
       "display": "none"
      }
     },
     "ec0a295a1eda4c1b895aea724d06bb6e": {
      "model_module": "@jupyter-widgets/base",
      "model_module_version": "1.0.0",
      "model_name": "LayoutModel",
      "state": {}
     },
     "ec1af86a7641488f858104d4944da2b0": {
      "model_module": "@jupyter-widgets/controls",
      "model_module_version": "1.2.0",
      "model_name": "TextModel",
      "state": {
       "layout": "IPY_MODEL_f21080bfd8114d068f73e352484c9a22",
       "style": "IPY_MODEL_e6bf91f472ec41b095f55b7bfcc001ab"
      }
     },
     "ec3b0de805994ec5a7d9bae5286d32ce": {
      "model_module": "@jupyter-widgets/base",
      "model_module_version": "1.0.0",
      "model_name": "LayoutModel",
      "state": {
       "padding": "10px 0px 0px 0px"
      }
     },
     "ec40a42e697645d3a3f0c00cf75a0ba8": {
      "model_module": "@jupyter-widgets/controls",
      "model_module_version": "1.2.0",
      "model_name": "DescriptionStyleModel",
      "state": {
       "description_width": ""
      }
     },
     "ec648aed2cba4fe0871803dfe930f321": {
      "model_module": "@jupyter-widgets/controls",
      "model_module_version": "1.2.0",
      "model_name": "HBoxModel",
      "state": {
       "children": [
        "IPY_MODEL_575281c755654502ad3266476fce1e4b",
        "IPY_MODEL_84ba13c8211546f1b4a5c1b5abc4705b",
        "IPY_MODEL_9039bea8e9cd4394a4d57a5cc6b35e96",
        "IPY_MODEL_f4f9e9fb75d145d2a6d062970744a335"
       ],
       "layout": "IPY_MODEL_d0d7f8eb3325439dbf1be765e8472a0b"
      }
     },
     "ec7046cabdc04bd09470a17021f2f0e5": {
      "model_module": "@jupyter-widgets/controls",
      "model_module_version": "1.2.0",
      "model_name": "DescriptionStyleModel",
      "state": {
       "description_width": ""
      }
     },
     "ec7e171f4f6c4d5a900215419c9a561d": {
      "model_module": "@jupyter-widgets/controls",
      "model_module_version": "1.2.0",
      "model_name": "LabelModel",
      "state": {
       "layout": "IPY_MODEL_cd277445e3a2477b9bd23b2b7e8611d6",
       "style": "IPY_MODEL_0184ba9d4d0e46feafa70079828fa28c",
       "value": "Image : "
      }
     },
     "ec96e5a13a5c4baabea8ba1972ac41df": {
      "model_module": "@jupyter-widgets/base",
      "model_module_version": "1.0.0",
      "model_name": "LayoutModel",
      "state": {}
     },
     "ec9f70fd20d84041972401c5ba992c9d": {
      "model_module": "@jupyter-widgets/base",
      "model_module_version": "1.0.0",
      "model_name": "LayoutModel",
      "state": {}
     },
     "ecd04a282efe4cd6a2b1cf8ede585f1c": {
      "model_module": "@jupyter-widgets/base",
      "model_module_version": "1.0.0",
      "model_name": "LayoutModel",
      "state": {}
     },
     "ece711316f96485f9d8deb52cbda35df": {
      "model_module": "@jupyter-widgets/controls",
      "model_module_version": "1.2.0",
      "model_name": "DescriptionStyleModel",
      "state": {
       "description_width": ""
      }
     },
     "ed4314950b234b8aac5670c716369126": {
      "model_module": "@jupyter-widgets/controls",
      "model_module_version": "1.2.0",
      "model_name": "ToggleButtonsStyleModel",
      "state": {
       "button_width": "",
       "description_width": ""
      }
     },
     "ed5d251bc13d4d02bb72c3470894c159": {
      "model_module": "@jupyter-widgets/controls",
      "model_module_version": "1.2.0",
      "model_name": "DescriptionStyleModel",
      "state": {
       "description_width": ""
      }
     },
     "ed6ba6ea435b43ba9286fef19afcdc92": {
      "model_module": "@jupyter-widgets/controls",
      "model_module_version": "1.2.0",
      "model_name": "TextModel",
      "state": {
       "description": "Name :",
       "layout": "IPY_MODEL_6d3f2f5bd66e4322b57449b159caca26",
       "placeholder": "Network Name",
       "style": "IPY_MODEL_e84968db9a124d2997f897a5de54b5cf"
      }
     },
     "ed839ab49de34c7792335c3a75ef8c5e": {
      "model_module": "@jupyter-widgets/controls",
      "model_module_version": "1.2.0",
      "model_name": "DescriptionStyleModel",
      "state": {
       "description_width": ""
      }
     },
     "ed8d751bdb0448abbc6a76984c6c1886": {
      "model_module": "@jupyter-widgets/controls",
      "model_module_version": "1.2.0",
      "model_name": "HTMLModel",
      "state": {
       "layout": "IPY_MODEL_70888c9f6dc5449a8c2473523f95afb5",
       "style": "IPY_MODEL_dd861aa5ef174c9090a5209666f579fb",
       "value": "<h5>Paste the <a>NDEx URL</a> of the dataset to download :</h5>"
      }
     },
     "ed92878af2fd42abb6bd551477129710": {
      "model_module": "@jupyter-widgets/controls",
      "model_module_version": "1.2.0",
      "model_name": "HBoxModel",
      "state": {
       "children": [
        "IPY_MODEL_1dd7ed9228d54da6a9eff546b27d1de7"
       ],
       "layout": "IPY_MODEL_e72f81da4dff487986f9dda642676312"
      }
     },
     "edb352f89e2d4320aa4e501d0dd71fda": {
      "model_module": "@jupyter-widgets/controls",
      "model_module_version": "1.2.0",
      "model_name": "LabelModel",
      "state": {
       "layout": "IPY_MODEL_88832bf60e544ca7a51abb3b24d758c2",
       "style": "IPY_MODEL_0af132b80c7641e59bbb9086f0ebaba5",
       "value": "Start"
      }
     },
     "eddc815561074ca8bdddfbcf0e92813c": {
      "model_module": "@jupyter-widgets/controls",
      "model_module_version": "1.2.0",
      "model_name": "IntSliderModel",
      "state": {
       "layout": "IPY_MODEL_95dcaef398e64af3bfc786bd9798eb92",
       "max": 60,
       "min": 6,
       "style": "IPY_MODEL_384a328a4bca4cf98dc05fc75ed28896",
       "value": 16
      }
     },
     "ee0bad1b7cd54f82b10a3227765af566": {
      "model_module": "@jupyter-widgets/controls",
      "model_module_version": "1.2.0",
      "model_name": "ToggleButtonModel",
      "state": {
       "button_style": "primary",
       "description": "Box",
       "layout": "IPY_MODEL_493fcd6d92474d46bb3950eb609b9188",
       "style": "IPY_MODEL_19a42e27c65a45fa8e3e88d366337348"
      }
     },
     "ee0fd7c06eb74f8aa5e877b5b13ef712": {
      "model_module": "@jupyter-widgets/controls",
      "model_module_version": "1.2.0",
      "model_name": "HBoxModel",
      "state": {
       "children": [
        "IPY_MODEL_4441cb8255524c3ea9790403cada8d8e",
        "IPY_MODEL_397ef09416f845a7b518b8b7f849d704"
       ],
       "layout": "IPY_MODEL_572b61b9f59849479a9434d9b39adee1"
      }
     },
     "ee2fdca4f1b14eaeb118e1bdcfb6574c": {
      "model_module": "@jupyter-widgets/base",
      "model_module_version": "1.0.0",
      "model_name": "LayoutModel",
      "state": {
       "justify_content": "center",
       "padding": "0px 20px 5px 0px"
      }
     },
     "ee48a2e25f7c4be8ab15130d744caf5b": {
      "model_module": "@jupyter-widgets/controls",
      "model_module_version": "1.2.0",
      "model_name": "DescriptionStyleModel",
      "state": {
       "description_width": ""
      }
     },
     "eea9e3ee532c4be3a810be44152c52a7": {
      "model_module": "@jupyter-widgets/controls",
      "model_module_version": "1.2.0",
      "model_name": "ToggleButtonsModel",
      "state": {
       "_options_labels": [
        "Python",
        "HTML",
        "NDEX"
       ],
       "button_style": "danger",
       "icons": [],
       "index": 0,
       "layout": "IPY_MODEL_57e3c8d7ab714c0ab6734d51cd52a831",
       "style": "IPY_MODEL_345feb4db25b4bf3bb2e3e08f1d3ffe8",
       "tooltips": []
      }
     },
     "eeb105981ff446be9ee0c6b9848216a6": {
      "model_module": "@jupyter-widgets/controls",
      "model_module_version": "1.2.0",
      "model_name": "HTMLModel",
      "state": {
       "layout": "IPY_MODEL_f70daa89099749f99594d91c2c5c9b27",
       "style": "IPY_MODEL_392b2e467057440fbb390b5d7391f4e0",
       "value": "<hr style='padding: 2px; margin: 2px'>"
      }
     },
     "eeb1a431f7fe4cc5a463d54d0e1395af": {
      "model_module": "@jupyter-widgets/controls",
      "model_module_version": "1.2.0",
      "model_name": "DropdownModel",
      "state": {
       "_options_labels": [
        "ellipse",
        "triangle",
        "rectangle",
        "rhomboid",
        "diamond",
        "pentagon",
        "hexagon",
        "concavehexagon",
        "heptagon",
        "octagon",
        "star",
        "tag",
        "vee"
       ],
       "index": 0,
       "layout": "IPY_MODEL_e733b399fdf34bf8aa3e77051d7d5b1b",
       "style": "IPY_MODEL_3338d23e52fe4ace870ec5d54ee97638"
      }
     },
     "eec916b64c944e7f9649fbb6001c2b72": {
      "model_module": "@jupyter-widgets/controls",
      "model_module_version": "1.2.0",
      "model_name": "HBoxModel",
      "state": {
       "children": [
        "IPY_MODEL_6bd388abd33a49998250ed4cc9fa9df0",
        "IPY_MODEL_cb6328c2069b4abea2c8c3293dcde952"
       ],
       "layout": "IPY_MODEL_632bc581f85248d6bf35d29f323b666c"
      }
     },
     "ef1008ce40a24767ba092fe78b1ef339": {
      "model_module": "@jupyter-widgets/controls",
      "model_module_version": "1.2.0",
      "model_name": "SliderStyleModel",
      "state": {
       "description_width": ""
      }
     },
     "ef3e77d9afc34a81b76514f073188cb2": {
      "model_module": "@jupyter-widgets/base",
      "model_module_version": "1.0.0",
      "model_name": "LayoutModel",
      "state": {}
     },
     "ef51575ce06041de94c5cfabb9055777": {
      "model_module": "@jupyter-widgets/base",
      "model_module_version": "1.0.0",
      "model_name": "LayoutModel",
      "state": {}
     },
     "f094696cc7de4e10b2f84da7f17d87d7": {
      "model_module": "@jupyter-widgets/base",
      "model_module_version": "1.0.0",
      "model_name": "LayoutModel",
      "state": {}
     },
     "f0a74e58f2984979a55bbd3916b65694": {
      "model_module": "@jupyter-widgets/base",
      "model_module_version": "1.0.0",
      "model_name": "LayoutModel",
      "state": {}
     },
     "f0c5a318415e4cd0a8665a60c245bda1": {
      "model_module": "@jupyter-widgets/controls",
      "model_module_version": "1.2.0",
      "model_name": "PasswordModel",
      "state": {
       "description": "Password :",
       "layout": "IPY_MODEL_355c26d6627d421e8dcec9e9b5c1ebec",
       "style": "IPY_MODEL_cdf55961649a4d25bf16641f46e911a3"
      }
     },
     "f0ce23d6b6404584b46698e79e03935d": {
      "model_module": "@jupyter-widgets/base",
      "model_module_version": "1.0.0",
      "model_name": "LayoutModel",
      "state": {
       "height": "40px",
       "min_width": "50px",
       "width": "10%"
      }
     },
     "f0daf3c99511424093be9f01ad62c7ca": {
      "model_module": "@jupyter-widgets/controls",
      "model_module_version": "1.2.0",
      "model_name": "VBoxModel",
      "state": {
       "children": [
        "IPY_MODEL_e8b2e060fa45465e8285e32b3ec6b6fc",
        "IPY_MODEL_b1a89b3c27c842dbbce58c88881fe92e",
        "IPY_MODEL_3f5cec33d9d94ee9a1bd89f1e70bad07",
        "IPY_MODEL_619585543bb94e10b4b7e172b50898b3"
       ],
       "layout": "IPY_MODEL_f4998f51e9f740f69a433c16d32571b8"
      }
     },
     "f0dd973953c34fd1b4400928cd7f0aff": {
      "model_module": "@jupyter-widgets/base",
      "model_module_version": "1.0.0",
      "model_name": "LayoutModel",
      "state": {
       "margin": "0px 0px 0px 5px",
       "min_width": "30px"
      }
     },
     "f0ec3652f1424ea2bed94b1e25670b18": {
      "model_module": "@jupyter-widgets/base",
      "model_module_version": "1.0.0",
      "model_name": "LayoutModel",
      "state": {}
     },
     "f0fa99f7feda41fdb810a5b3b2cd03c8": {
      "model_module": "@jupyter-widgets/controls",
      "model_module_version": "1.2.0",
      "model_name": "DropdownModel",
      "state": {
       "_options_labels": [
        "none",
        "triangle",
        "tee",
        "diamond",
        "square",
        "circle",
        "vee",
        "triangle-tee"
       ],
       "index": 0,
       "layout": "IPY_MODEL_8a9020a3a2674e299e045a5dfa9e42d1",
       "style": "IPY_MODEL_683ba9a524d548c0950b0755878108a4"
      }
     },
     "f113be49c5cf4fb4afb8fb5399586f18": {
      "model_module": "@jupyter-widgets/base",
      "model_module_version": "1.0.0",
      "model_name": "LayoutModel",
      "state": {}
     },
     "f1624d20f1c74125922b9f45d323700d": {
      "model_module": "@jupyter-widgets/base",
      "model_module_version": "1.0.0",
      "model_name": "LayoutModel",
      "state": {}
     },
     "f16e7ca4657a4e8cbd6623623b6a478a": {
      "model_module": "@jupyter-widgets/base",
      "model_module_version": "1.0.0",
      "model_name": "LayoutModel",
      "state": {}
     },
     "f1b777af17174c35b3dc7de4484d8fb1": {
      "model_module": "@jupyter-widgets/controls",
      "model_module_version": "1.2.0",
      "model_name": "LabelModel",
      "state": {
       "layout": "IPY_MODEL_3ab9a4fcaf044d269bf0843e4d229cf1",
       "style": "IPY_MODEL_967abdc14d674108978eb4dfe8fdca9e",
       "value": "See-Through :"
      }
     },
     "f1bc90c622e94a73b337726b827835b2": {
      "model_module": "@jupyter-widgets/base",
      "model_module_version": "1.0.0",
      "model_name": "LayoutModel",
      "state": {}
     },
     "f1d50ac44f914dd9a5fb32cd3c2d4273": {
      "model_module": "@jupyter-widgets/controls",
      "model_module_version": "1.2.0",
      "model_name": "HTMLModel",
      "state": {
       "layout": "IPY_MODEL_047c36f264374787b4b8a8ee4f18bc5c",
       "style": "IPY_MODEL_2960ca3170f14080afb6c537c2284a99",
       "value": " <h3 class='text-center text-success' style='margin:0'> Saved!</h3>"
      }
     },
     "f21080bfd8114d068f73e352484c9a22": {
      "model_module": "@jupyter-widgets/base",
      "model_module_version": "1.0.0",
      "model_name": "LayoutModel",
      "state": {}
     },
     "f24cc176bcb148039637177ac620b0ec": {
      "model_module": "@jupyter-widgets/base",
      "model_module_version": "1.0.0",
      "model_name": "LayoutModel",
      "state": {}
     },
     "f24e6ee0e4cb4c5fba2e662ae69f79ce": {
      "model_module": "@jupyter-widgets/base",
      "model_module_version": "1.0.0",
      "model_name": "LayoutModel",
      "state": {}
     },
     "f25176e9dafb4966a4ee19b79b22e9a7": {
      "model_module": "@jupyter-widgets/controls",
      "model_module_version": "1.2.0",
      "model_name": "DescriptionStyleModel",
      "state": {
       "description_width": ""
      }
     },
     "f268c187cb8e4dd489b06902f25a9013": {
      "model_module": "@jupyter-widgets/base",
      "model_module_version": "1.0.0",
      "model_name": "LayoutModel",
      "state": {}
     },
     "f28b7542c3874a13b94e3c6f32b9a695": {
      "model_module": "@jupyter-widgets/base",
      "model_module_version": "1.0.0",
      "model_name": "LayoutModel",
      "state": {
       "width": "auto"
      }
     },
     "f2a2144c913f4a16995b067b29d85320": {
      "model_module": "@jupyter-widgets/controls",
      "model_module_version": "1.2.0",
      "model_name": "SliderStyleModel",
      "state": {
       "description_width": ""
      }
     },
     "f2b31b88c52045aba8744057f3246168": {
      "model_module": "@jupyter-widgets/base",
      "model_module_version": "1.0.0",
      "model_name": "LayoutModel",
      "state": {
       "margin": "0 15px 0 0px",
       "width": "auto"
      }
     },
     "f2d11c0400a544e7a884c73a3862014a": {
      "model_module": "@jupyter-widgets/base",
      "model_module_version": "1.0.0",
      "model_name": "LayoutModel",
      "state": {}
     },
     "f309ff2c8d894caabc5cdd58352f34b3": {
      "model_module": "@jupyter-widgets/controls",
      "model_module_version": "1.2.0",
      "model_name": "ButtonStyleModel",
      "state": {}
     },
     "f3345b6b71214baf81bf2c15e28f966e": {
      "model_module": "@jupyter-widgets/controls",
      "model_module_version": "1.2.0",
      "model_name": "VBoxModel",
      "state": {
       "children": [
        "IPY_MODEL_17e3cc81662e42d38de546f92b743fbb",
        "IPY_MODEL_41e96d1da1494183abbada871b70e037",
        "IPY_MODEL_fed66e9084fb4a1d943e4c5540ef7228",
        "IPY_MODEL_36dd885908e243459b222021674f1fde",
        "IPY_MODEL_fab5996d94c24d57848b493263ed6093",
        "IPY_MODEL_3d52785eefe44b91aee921b3603ec535",
        "IPY_MODEL_c8523fb0d3504f8e8af4bcbe4f428757",
        "IPY_MODEL_26cae55576814fa085d0bee265d6e0d3",
        "IPY_MODEL_adce6d7d91594569a8c5e4c84194425e",
        "IPY_MODEL_393b96da3b114b73ba7689827277d8c2",
        "IPY_MODEL_500a06fb3db34dc78c5311e818063e05"
       ],
       "layout": "IPY_MODEL_7b8609935f144d4994bffcdfead083e8"
      }
     },
     "f35107a5c7864a549b58c910c2633697": {
      "model_module": "@jupyter-widgets/controls",
      "model_module_version": "1.2.0",
      "model_name": "DescriptionStyleModel",
      "state": {
       "description_width": ""
      }
     },
     "f36f9d8320154e3397b2a57ee33b51fe": {
      "model_module": "@jupyter-widgets/controls",
      "model_module_version": "1.2.0",
      "model_name": "DropdownModel",
      "state": {
       "_options_labels": [
        "none",
        "triangle",
        "tee",
        "diamond",
        "square",
        "circle",
        "vee",
        "triangle-tee"
       ],
       "index": 0,
       "layout": "IPY_MODEL_cfb738b0053443f68b462588fcda9dd3",
       "style": "IPY_MODEL_53306784dc3f4f9da33d33b63fc052a5"
      }
     },
     "f377e6f70fe045d6b2a37a560075761b": {
      "model_module": "@jupyter-widgets/controls",
      "model_module_version": "1.2.0",
      "model_name": "DescriptionStyleModel",
      "state": {
       "description_width": ""
      }
     },
     "f3d5f2f0f1db492a8e8c3c7244f295c3": {
      "model_module": "@jupyter-widgets/controls",
      "model_module_version": "1.2.0",
      "model_name": "HBoxModel",
      "state": {
       "children": [
        "IPY_MODEL_3a88bbfb4703478b96a5e3eaa9301fe4"
       ],
       "layout": "IPY_MODEL_4dbf1090a4064b10ba514d09470891af"
      }
     },
     "f3fa483ec9bb43318ae9bbb4890ab636": {
      "model_module": "@jupyter-widgets/controls",
      "model_module_version": "1.2.0",
      "model_name": "LabelModel",
      "state": {
       "layout": "IPY_MODEL_b91de4ff1a064692afd2158f35fe8e80",
       "style": "IPY_MODEL_07929a6675bf42e997cd9e63447dfdad",
       "value": "Size :"
      }
     },
     "f443fe5b1da648b098d54e438f362000": {
      "model_module": "@jupyter-widgets/controls",
      "model_module_version": "1.2.0",
      "model_name": "TextModel",
      "state": {
       "description": "Username :",
       "layout": "IPY_MODEL_1ebd45aca24f4501b178ece0044e1abe",
       "style": "IPY_MODEL_6d387346143a423b9ca58eda91052a86"
      }
     },
     "f44715436a6a493e9be44ab7e5185174": {
      "model_module": "@jupyter-widgets/controls",
      "model_module_version": "1.2.0",
      "model_name": "LabelModel",
      "state": {
       "layout": "IPY_MODEL_4cd3e190829741f8871e3b0d15da2201",
       "style": "IPY_MODEL_019df461c33c474794f9f15cadd87df4",
       "value": "Image : "
      }
     },
     "f449f0050ad0481fa3a192a30967e9ce": {
      "model_module": "@jupyter-widgets/controls",
      "model_module_version": "1.2.0",
      "model_name": "ButtonModel",
      "state": {
       "button_style": "primary",
       "description": "Load",
       "layout": "IPY_MODEL_8868f40cdd414fa2a718c33f100998d6",
       "style": "IPY_MODEL_da8e95fa845b4518b0db8eba9ac1ff9f"
      }
     },
     "f45ae5129bd0488d8548901ae4d62668": {
      "model_module": "@jupyter-widgets/base",
      "model_module_version": "1.0.0",
      "model_name": "LayoutModel",
      "state": {}
     },
     "f4998f51e9f740f69a433c16d32571b8": {
      "model_module": "@jupyter-widgets/base",
      "model_module_version": "1.0.0",
      "model_name": "LayoutModel",
      "state": {}
     },
     "f4c8bf7f5db34a63b4884e185ac1f022": {
      "model_module": "@jupyter-widgets/controls",
      "model_module_version": "1.2.0",
      "model_name": "HTMLModel",
      "state": {
       "layout": "IPY_MODEL_f9958ea2727741e396c708244f1bc312",
       "style": "IPY_MODEL_5d4e920eda22498eb813cfb1df3e5a27",
       "value": "<hr style='padding: 2px; margin: 2px'>"
      }
     },
     "f4f8b7711f7d4b5da5c1cc10e524949a": {
      "model_module": "@jupyter-widgets/controls",
      "model_module_version": "1.2.0",
      "model_name": "DescriptionStyleModel",
      "state": {
       "description_width": ""
      }
     },
     "f4f9e9fb75d145d2a6d062970744a335": {
      "model_module": "@jupyter-widgets/controls",
      "model_module_version": "1.2.0",
      "model_name": "ButtonModel",
      "state": {
       "button_style": "danger",
       "icon": "image",
       "layout": "IPY_MODEL_6baf81dcf3934b1fb92eb63f26c6bc72",
       "style": "IPY_MODEL_fb3352d3e995432aabd8b0b0e76d1d2d"
      }
     },
     "f51506c057da44a5a844b99a87ba85fb": {
      "model_module": "@jupyter-widgets/base",
      "model_module_version": "1.0.0",
      "model_name": "LayoutModel",
      "state": {
       "padding": "0 15px 0 35px"
      }
     },
     "f523538fdd464ad185d4a8642e2edfad": {
      "model_module": "@jupyter-widgets/controls",
      "model_module_version": "1.2.0",
      "model_name": "ButtonModel",
      "state": {
       "button_style": "info",
       "icon": "refresh",
       "layout": "IPY_MODEL_e1bdf5c47139440d992971b738adb122",
       "style": "IPY_MODEL_441af8e95243409493bbba04935c9e75"
      }
     },
     "f552d8b50262434bb6f25fb752df3c57": {
      "model_module": "@jupyter-widgets/base",
      "model_module_version": "1.0.0",
      "model_name": "LayoutModel",
      "state": {}
     },
     "f5969753ee1c439b87f84faa8fa9c406": {
      "model_module": "@jupyter-widgets/controls",
      "model_module_version": "1.2.0",
      "model_name": "HBoxModel",
      "state": {
       "children": [
        "IPY_MODEL_12e47021dc9a4965a4ae897e12bfa550",
        "IPY_MODEL_e455c2488260412683f6999384c41a17"
       ],
       "layout": "IPY_MODEL_c9ce16ae8bbf4c92a2c25c211098f5b0"
      }
     },
     "f5cc0fc00b1e4cdd989b98f29678c648": {
      "model_module": "@jupyter-widgets/base",
      "model_module_version": "1.0.0",
      "model_name": "LayoutModel",
      "state": {
       "visibility": "hidden"
      }
     },
     "f61f06d194e2405f9c6b19dbdbed91c3": {
      "model_module": "@jupyter-widgets/controls",
      "model_module_version": "1.2.0",
      "model_name": "VBoxModel",
      "state": {
       "children": [
        "IPY_MODEL_17b8f19f3ca54c559e0c68268dd12961",
        "IPY_MODEL_7eb023760d934e28852351efeb0119a6",
        "IPY_MODEL_3119ff3e2b294aa1a4501aaf637191ba",
        "IPY_MODEL_c01aa215d33a4ed38f7b328e6de210cf",
        "IPY_MODEL_cf24f543a1354d4a824854496fe7251d",
        "IPY_MODEL_aad9bfc3e2dd429393756b97d522247b"
       ],
       "layout": "IPY_MODEL_ebb52fb3b3b34b609ac8469b085f3d27"
      }
     },
     "f656d5fa029944d79790b914a67a0daf": {
      "model_module": "@jupyter-widgets/controls",
      "model_module_version": "1.2.0",
      "model_name": "HBoxModel",
      "state": {
       "children": [
        "IPY_MODEL_edb352f89e2d4320aa4e501d0dd71fda",
        "IPY_MODEL_8467ed621e804794b8b7b6bdbc3e08b2"
       ],
       "layout": "IPY_MODEL_aabdadd2362c41a7b21fb6613fa74e97"
      }
     },
     "f6bd5439dd284244b76e55f0b18b5980": {
      "model_module": "@jupyter-widgets/controls",
      "model_module_version": "1.2.0",
      "model_name": "DescriptionStyleModel",
      "state": {
       "description_width": ""
      }
     },
     "f6c588dcdf6042aba0e417e3385a8955": {
      "model_module": "@jupyter-widgets/controls",
      "model_module_version": "1.2.0",
      "model_name": "DescriptionStyleModel",
      "state": {
       "description_width": ""
      }
     },
     "f6f428b24385472d80addd7d574d5cf3": {
      "model_module": "@jupyter-widgets/controls",
      "model_module_version": "1.2.0",
      "model_name": "DescriptionStyleModel",
      "state": {
       "description_width": ""
      }
     },
     "f70254e326ab4f73af5d2126f7d7cce3": {
      "model_module": "@jupyter-widgets/controls",
      "model_module_version": "1.2.0",
      "model_name": "PasswordModel",
      "state": {
       "description": "Password :",
       "layout": "IPY_MODEL_2556827775124839b284b4209d3a598b",
       "style": "IPY_MODEL_c4e46a66ede44657ab9aed92514297df"
      }
     },
     "f70ba7b7a76f438394c7ab9c3b249ddd": {
      "model_module": "@jupyter-widgets/controls",
      "model_module_version": "1.2.0",
      "model_name": "ButtonModel",
      "state": {
       "button_style": "primary",
       "description": "Download",
       "layout": "IPY_MODEL_2e2daf707bfb40a6a413f4016d3bf366",
       "style": "IPY_MODEL_e39532c0b98a4eacb5a50d7a67ed3064"
      }
     },
     "f70daa89099749f99594d91c2c5c9b27": {
      "model_module": "@jupyter-widgets/base",
      "model_module_version": "1.0.0",
      "model_name": "LayoutModel",
      "state": {}
     },
     "f7314b3d09204e698e7ca2ef798a1edc": {
      "model_module": "@jupyter-widgets/base",
      "model_module_version": "1.0.0",
      "model_name": "LayoutModel",
      "state": {}
     },
     "f73d0e910bff41f5a92b749d163acf45": {
      "model_module": "@jupyter-widgets/controls",
      "model_module_version": "1.2.0",
      "model_name": "DescriptionStyleModel",
      "state": {
       "description_width": ""
      }
     },
     "f75cbfcf50d648a2843d0649d2ef90b9": {
      "model_module": "@jupyter-widgets/base",
      "model_module_version": "1.0.0",
      "model_name": "LayoutModel",
      "state": {}
     },
     "f76e2974bada4f8cbcaf035b4e6cac9e": {
      "model_module": "@jupyter-widgets/controls",
      "model_module_version": "1.2.0",
      "model_name": "HTMLModel",
      "state": {
       "layout": "IPY_MODEL_6e8dced9b7e140b98db553608a0081c5",
       "style": "IPY_MODEL_6d00f1431a1d4240abbb21f06d6db9a1",
       "value": "<h3 class='text-center' style='color:red'>Error in .html File</h3>"
      }
     },
     "f7acaf12a80f426da5ebb9d85215c683": {
      "model_module": "@jupyter-widgets/controls",
      "model_module_version": "1.2.0",
      "model_name": "DescriptionStyleModel",
      "state": {
       "description_width": ""
      }
     },
     "f7ce4133462c4ef49630d9c1c7e80db6": {
      "model_module": "@jupyter-widgets/controls",
      "model_module_version": "1.2.0",
      "model_name": "DescriptionStyleModel",
      "state": {
       "description_width": ""
      }
     },
     "f7daad5e8f5a4e79b38a8274f80c3c0c": {
      "model_module": "@jupyter-widgets/controls",
      "model_module_version": "1.2.0",
      "model_name": "ButtonModel",
      "state": {
       "button_style": "primary",
       "description": "Create",
       "layout": "IPY_MODEL_eba320c432874d8e8e66115cd225ce7b",
       "style": "IPY_MODEL_523010a1b4eb4730ad3cd58b449bbacf"
      }
     },
     "f7e0d434ed394559b22078349ac7bfab": {
      "model_module": "@jupyter-widgets/controls",
      "model_module_version": "1.2.0",
      "model_name": "ButtonStyleModel",
      "state": {}
     },
     "f84ecdfa0afa4dc9b93a2bc4362d2b99": {
      "model_module": "@jupyter-widgets/controls",
      "model_module_version": "1.2.0",
      "model_name": "DescriptionStyleModel",
      "state": {
       "description_width": ""
      }
     },
     "f887f40f4c064937aa2bedc7bbad06f4": {
      "model_module": "@jupyter-widgets/controls",
      "model_module_version": "1.2.0",
      "model_name": "ButtonStyleModel",
      "state": {}
     },
     "f89ececc6258446dab216527ae7a0fb9": {
      "model_module": "@jupyter-widgets/base",
      "model_module_version": "1.0.0",
      "model_name": "LayoutModel",
      "state": {
       "min_width": "30px"
      }
     },
     "f8f5190fc5f74d4094682367d2d9f27b": {
      "model_module": "@jupyter-widgets/controls",
      "model_module_version": "1.2.0",
      "model_name": "VBoxModel",
      "state": {
       "children": [
        "IPY_MODEL_c5e8fbb66fb741aba1c606f2d6d3a359",
        "IPY_MODEL_950ae90e98c846b38d3f495fb9e82644",
        "IPY_MODEL_e5855fedc0704ada92db98c5060d6bf5",
        "IPY_MODEL_8f3d005013eb469c8d6a30728840f73d",
        "IPY_MODEL_277ffe13971e43f680aeee031d03080c",
        "IPY_MODEL_ed92878af2fd42abb6bd551477129710"
       ],
       "layout": "IPY_MODEL_1f908f1c2d7b4bea9bb01f32e100b6b2"
      }
     },
     "f90eb10dda3c482fadfea0fa35a42f4b": {
      "model_module": "@jupyter-widgets/controls",
      "model_module_version": "1.2.0",
      "model_name": "DescriptionStyleModel",
      "state": {
       "description_width": ""
      }
     },
     "f9285915efda4d6c81addb8f240bdff8": {
      "model_module": "@jupyter-widgets/controls",
      "model_module_version": "1.2.0",
      "model_name": "DescriptionStyleModel",
      "state": {
       "description_width": ""
      }
     },
     "f9958ea2727741e396c708244f1bc312": {
      "model_module": "@jupyter-widgets/base",
      "model_module_version": "1.0.0",
      "model_name": "LayoutModel",
      "state": {}
     },
     "f9d086286dcf4770a6cd196e93dbcc36": {
      "model_module": "@jupyter-widgets/base",
      "model_module_version": "1.0.0",
      "model_name": "LayoutModel",
      "state": {
       "padding": "10px 0px 0px 0px"
      }
     },
     "f9d30eb2f3d04b899baba72c03372939": {
      "model_module": "@jupyter-widgets/base",
      "model_module_version": "1.0.0",
      "model_name": "LayoutModel",
      "state": {}
     },
     "f9ed9ec9fca0473a943be56999c0ec7b": {
      "model_module": "@jupyter-widgets/controls",
      "model_module_version": "1.2.0",
      "model_name": "DescriptionStyleModel",
      "state": {
       "description_width": ""
      }
     },
     "f9fd8f49de3c41968555182578b5c1ce": {
      "model_module": "@jupyter-widgets/base",
      "model_module_version": "1.0.0",
      "model_name": "LayoutModel",
      "state": {}
     },
     "fa6233321ec84c97aaf1ae262fda2800": {
      "model_module": "@jupyter-widgets/controls",
      "model_module_version": "1.2.0",
      "model_name": "DescriptionStyleModel",
      "state": {
       "description_width": ""
      }
     },
     "fa764e300b974beca36ac54b0a20a6b9": {
      "model_module": "@jupyter-widgets/controls",
      "model_module_version": "1.2.0",
      "model_name": "LabelModel",
      "state": {
       "layout": "IPY_MODEL_091b5e74be2f428da0aa00fb7b1d7951",
       "style": "IPY_MODEL_73edd1bc44fd48c88ad5d8302c2715e5",
       "value": "Position :"
      }
     },
     "fa983a6ff8ea4e208a9253cba7c5fdbf": {
      "model_module": "@jupyter-widgets/base",
      "model_module_version": "1.0.0",
      "model_name": "LayoutModel",
      "state": {}
     },
     "fa9d31b76fc346ca946520430984e694": {
      "model_module": "@jupyter-widgets/base",
      "model_module_version": "1.0.0",
      "model_name": "LayoutModel",
      "state": {
       "justify_content": "center",
       "padding": "10px 0px 0px 0px"
      }
     },
     "fab5996d94c24d57848b493263ed6093": {
      "model_module": "@jupyter-widgets/controls",
      "model_module_version": "1.2.0",
      "model_name": "HTMLModel",
      "state": {
       "layout": "IPY_MODEL_fa983a6ff8ea4e208a9253cba7c5fdbf",
       "style": "IPY_MODEL_bed45a81829d474ea1f3b0b5743e3508",
       "value": "<h4 style='color:DarkKhaki'>Node :</h4>"
      }
     },
     "fadbec5db4ce4314a98ed872e990a19a": {
      "model_module": "@jupyter-widgets/base",
      "model_module_version": "1.0.0",
      "model_name": "LayoutModel",
      "state": {}
     },
     "fb3352d3e995432aabd8b0b0e76d1d2d": {
      "model_module": "@jupyter-widgets/controls",
      "model_module_version": "1.2.0",
      "model_name": "ButtonStyleModel",
      "state": {}
     },
     "fb4d1f1251fd4b5e96d4a2b48e486a30": {
      "model_module": "@jupyter-widgets/controls",
      "model_module_version": "1.2.0",
      "model_name": "DescriptionStyleModel",
      "state": {
       "description_width": ""
      }
     },
     "fb75fe283fe64e5c985beac72b75cca5": {
      "model_module": "@jupyter-widgets/controls",
      "model_module_version": "1.2.0",
      "model_name": "FloatSliderModel",
      "state": {
       "layout": "IPY_MODEL_607859f013b245deb9ede060b1affad9",
       "max": 1,
       "step": 0.05,
       "style": "IPY_MODEL_05bfc8e27ae64a0fb01d77c3340d4428",
       "value": 0.5
      }
     },
     "fba3f5c56cb64251b560b6d6fa323534": {
      "model_module": "@jupyter-widgets/base",
      "model_module_version": "1.0.0",
      "model_name": "LayoutModel",
      "state": {}
     },
     "fbc5671cac7c41e3aa0d016a040852b1": {
      "model_module": "@jupyter-widgets/base",
      "model_module_version": "1.0.0",
      "model_name": "LayoutModel",
      "state": {}
     },
     "fbc8f06504594ace9efbe74d2a53b2d9": {
      "model_module": "@jupyter-widgets/controls",
      "model_module_version": "1.2.0",
      "model_name": "HBoxModel",
      "state": {
       "children": [
        "IPY_MODEL_c43d5d85587c4b2b83e05db00306a77d",
        "IPY_MODEL_b3b135ef410140a3b4f4b3f67d098bdb"
       ],
       "layout": "IPY_MODEL_7595b36f3dda4f27b276f45f97891fec"
      }
     },
     "fbcf6953d2744a94b11ba4264740fae6": {
      "model_module": "@jupyter-widgets/base",
      "model_module_version": "1.0.0",
      "model_name": "LayoutModel",
      "state": {
       "justify_content": "center",
       "padding": "0px 20px 5px 0px"
      }
     },
     "fbe3878e0dec4e3d8ca18e3e30ba9258": {
      "model_module": "@jupyter-widgets/controls",
      "model_module_version": "1.2.0",
      "model_name": "LabelModel",
      "state": {
       "layout": "IPY_MODEL_b09c2174decf4538b0e96a1bb30bd3b2",
       "style": "IPY_MODEL_d2ee88c4b9264ee99e4857bfcfbc9693",
       "value": "See-Through :"
      }
     },
     "fbe6689fd97b4c9ba90ece3758dd934f": {
      "model_module": "@jupyter-widgets/base",
      "model_module_version": "1.0.0",
      "model_name": "LayoutModel",
      "state": {}
     },
     "fbee65da0b6947d490478f6133337e1c": {
      "model_module": "@jupyter-widgets/base",
      "model_module_version": "1.0.0",
      "model_name": "LayoutModel",
      "state": {}
     },
     "fbfacd37b0e74c4eaf7976585d6a2467": {
      "model_module": "@jupyter-widgets/controls",
      "model_module_version": "1.2.0",
      "model_name": "HTMLModel",
      "state": {
       "layout": "IPY_MODEL_5a6187853e104d468cdc629a9c9bb6b8",
       "style": "IPY_MODEL_dba824cf5a454608ac078b90461f4748",
       "value": "<h5>Description</h5>"
      }
     },
     "fc0e46a61e4b426393530781bcd2efd7": {
      "model_module": "@jupyter-widgets/controls",
      "model_module_version": "1.2.0",
      "model_name": "SliderStyleModel",
      "state": {
       "description_width": ""
      }
     },
     "fc3604e44b324fa39516fa3aeeb2ccf3": {
      "model_module": "@jupyter-widgets/controls",
      "model_module_version": "1.2.0",
      "model_name": "DescriptionStyleModel",
      "state": {
       "description_width": ""
      }
     },
     "fc36734703434c8a94e0699f545a7104": {
      "model_module": "@jupyter-widgets/controls",
      "model_module_version": "1.2.0",
      "model_name": "HTMLModel",
      "state": {
       "layout": "IPY_MODEL_8147d99bb56b4981ac90d3fc7d9b8b48",
       "style": "IPY_MODEL_c1c9a1c3bdca4348a255916bd35991e8",
       "value": "<h5>Here you can load in a cytoscape <font color='darkKhaki'>.html</font> file. \nPut the file you want to load into the same place as this notebook, then load it in! </h5>"
      }
     },
     "fc579980eb1e46658d8e5bba523ad693": {
      "model_module": "@jupyter-widgets/controls",
      "model_module_version": "1.2.0",
      "model_name": "ButtonModel",
      "state": {
       "button_style": "primary",
       "description": "Load",
       "layout": "IPY_MODEL_4987c7e79c494ef4bc492870b5e4a682",
       "style": "IPY_MODEL_8cdb9a119a164a8997589883c3654620"
      }
     },
     "fc805ccf17794626998a66c65d6ad9ec": {
      "model_module": "@jupyter-widgets/base",
      "model_module_version": "1.0.0",
      "model_name": "LayoutModel",
      "state": {
       "align_items": "center"
      }
     },
     "fcd6a3754b0a46cfa9c01030008c6ddd": {
      "model_module": "@jupyter-widgets/base",
      "model_module_version": "1.0.0",
      "model_name": "LayoutModel",
      "state": {}
     },
     "fd069dd4e3a3459580164f048b7b4f22": {
      "model_module": "@jupyter-widgets/controls",
      "model_module_version": "1.2.0",
      "model_name": "ButtonStyleModel",
      "state": {}
     },
     "fd56c56886d6449eb1a74bbe371031d4": {
      "model_module": "@jupyter-widgets/controls",
      "model_module_version": "1.2.0",
      "model_name": "HBoxModel",
      "state": {
       "children": [
        "IPY_MODEL_d883771eedfd45e7ab08be6021a2d520",
        "IPY_MODEL_5566cfeab65241fca38d4bf12535f00e",
        "IPY_MODEL_e8ff9ee225c24e45bdb4944ea33da347"
       ],
       "layout": "IPY_MODEL_ec3b0de805994ec5a7d9bae5286d32ce"
      }
     },
     "fd70e57cf0bf4425bd195b358dd226da": {
      "model_module": "@jupyter-widgets/controls",
      "model_module_version": "1.2.0",
      "model_name": "DescriptionStyleModel",
      "state": {
       "description_width": ""
      }
     },
     "fd8b6ad6679247ba8289252d064b0c05": {
      "model_module": "@jupyter-widgets/base",
      "model_module_version": "1.0.0",
      "model_name": "LayoutModel",
      "state": {}
     },
     "fdbddb57ce1d445a931542a00741a386": {
      "model_module": "@jupyter-widgets/controls",
      "model_module_version": "1.2.0",
      "model_name": "LabelModel",
      "state": {
       "layout": "IPY_MODEL_170e025feabe4c34919a8c3e4e701312",
       "style": "IPY_MODEL_96b7aad89ba94774bf0bb52e261a52d7",
       "value": "    "
      }
     },
     "fdbf2242c51e453084ac1f787ad5eba3": {
      "model_module": "@jupyter-widgets/controls",
      "model_module_version": "1.2.0",
      "model_name": "DescriptionStyleModel",
      "state": {
       "description_width": ""
      }
     },
     "fde65abdae83417f9505f1ae625d5b1c": {
      "model_module": "@jupyter-widgets/controls",
      "model_module_version": "1.2.0",
      "model_name": "HBoxModel",
      "state": {
       "children": [
        "IPY_MODEL_7608ed3f4edc4df78702f960082b3247",
        "IPY_MODEL_278cdcd9aef44ce89cd73311d03c2313",
        "IPY_MODEL_55db7b0fa96947c8b3f6fb39b6deceb1"
       ],
       "layout": "IPY_MODEL_8ca5051563344f12bb6b7cc6007b76ce"
      }
     },
     "fe3632eebb9b477e9e8343316ebea92b": {
      "model_module": "@jupyter-widgets/controls",
      "model_module_version": "1.2.0",
      "model_name": "HTMLModel",
      "state": {
       "layout": "IPY_MODEL_cfc266601a214584b1453a0ce4c819ae",
       "style": "IPY_MODEL_4cde10bccf7446399af5d0bae34909c0",
       "value": "<h4 style='color:purple'>Edge :</h4>"
      }
     },
     "fe37b30d7f784766bfd05b3d68d7ca80": {
      "model_module": "@jupyter-widgets/base",
      "model_module_version": "1.0.0",
      "model_name": "LayoutModel",
      "state": {
       "margin": "0px 0px 0px 5px",
       "min_width": "30px"
      }
     },
     "fe4040adf69644a981ec24b8213b8933": {
      "model_module": "@jupyter-widgets/controls",
      "model_module_version": "1.2.0",
      "model_name": "ButtonStyleModel",
      "state": {}
     },
     "fe525c16ef8f412ea766e2246be5ed6c": {
      "model_module": "@jupyter-widgets/controls",
      "model_module_version": "1.2.0",
      "model_name": "VBoxModel",
      "state": {
       "children": [
        "IPY_MODEL_e0e205fbd37241ee97834e1c76b991b8",
        "IPY_MODEL_c3acf57db48b4a7180a793bbc1771562"
       ],
       "layout": "IPY_MODEL_cdf6e58d15af479a955adc0b1383bf8d"
      }
     },
     "fe5bafb3cc2a4b358fc1098692c625df": {
      "model_module": "@jupyter-widgets/controls",
      "model_module_version": "1.2.0",
      "model_name": "HTMLModel",
      "state": {
       "layout": "IPY_MODEL_4a796024d7824d97a15c7aff875e78ee",
       "style": "IPY_MODEL_1865d41df0af4a42aa7ac593db80640a",
       "value": "<hr style='padding: 2px; margin: 2px'>"
      }
     },
     "fe94fad7dfd2439a8e30869ab803898b": {
      "model_module": "@jupyter-widgets/controls",
      "model_module_version": "1.2.0",
      "model_name": "DescriptionStyleModel",
      "state": {
       "description_width": ""
      }
     },
     "feb3d57ec2b949f88b8db5d4e844b67e": {
      "model_module": "@jupyter-widgets/controls",
      "model_module_version": "1.2.0",
      "model_name": "HTMLModel",
      "state": {
       "layout": "IPY_MODEL_696bd93e248a4cde8a5a5c498870fa3d",
       "style": "IPY_MODEL_3e0db2de189940c5b484d3ac5a4aff07",
       "value": "<h4 style='color:purple'>Edge :</h4>"
      }
     },
     "feb4e739ab554ddd8b748612dbda1ba6": {
      "model_module": "@jupyter-widgets/base",
      "model_module_version": "1.0.0",
      "model_name": "LayoutModel",
      "state": {}
     },
     "feb52eb36fed4185808659417bc5e535": {
      "model_module": "@jupyter-widgets/base",
      "model_module_version": "1.0.0",
      "model_name": "LayoutModel",
      "state": {}
     },
     "fed66e9084fb4a1d943e4c5540ef7228": {
      "model_module": "@jupyter-widgets/controls",
      "model_module_version": "1.2.0",
      "model_name": "HBoxModel",
      "state": {
       "children": [
        "IPY_MODEL_bfb52e6f40bf438896773f5154c5eea8",
        "IPY_MODEL_5a1562abdb104a2399ec0ad5ab7bc0e3",
        "IPY_MODEL_26e2b6606d6346998bf93a6ddd268088"
       ],
       "layout": "IPY_MODEL_cd982a7da3354be2bf502ec7289e56b7"
      }
     },
     "ff110c1811e24d07b3f8bf18af9b0417": {
      "model_module": "@jupyter-widgets/controls",
      "model_module_version": "1.2.0",
      "model_name": "VBoxModel",
      "state": {
       "children": [
        "IPY_MODEL_6d94f8522ed747ecaf70f1a4d79096b1",
        "IPY_MODEL_a3238eb8517d4eb985ad38fadbf205a1"
       ],
       "layout": "IPY_MODEL_72e466039a4d4f8ab25695b41602c426"
      }
     },
     "ff4cd05b0f2d44aea0398e6e8de393fa": {
      "model_module": "@jupyter-widgets/controls",
      "model_module_version": "1.2.0",
      "model_name": "HBoxModel",
      "state": {
       "children": [
        "IPY_MODEL_8ec7a05560dc496ea46dc7a74a095d52"
       ],
       "layout": "IPY_MODEL_fa9d31b76fc346ca946520430984e694"
      }
     },
     "ff51abe3f20c487bbfbcfe4fb3ca1e1f": {
      "model_module": "@jupyter-widgets/base",
      "model_module_version": "1.0.0",
      "model_name": "LayoutModel",
      "state": {}
     },
     "ff5b01d3400b43b4b5193bb266dc187b": {
      "model_module": "@jupyter-widgets/controls",
      "model_module_version": "1.2.0",
      "model_name": "LabelModel",
      "state": {
       "layout": "IPY_MODEL_919c0710f7584bc19cea4331de4fbd3e",
       "style": "IPY_MODEL_c35de5401bc542cfaf04e653b820ea9e",
       "value": "End"
      }
     },
     "ff8d78126e264b078fb961e53cb240e8": {
      "model_module": "@jupyter-widgets/controls",
      "model_module_version": "1.2.0",
      "model_name": "HTMLModel",
      "state": {
       "layout": "IPY_MODEL_db35d3bc8caa4df8bf34a486bfc1eea1",
       "style": "IPY_MODEL_e7d1a7928ca94a1f937112af3e735d2e",
       "value": "<h4 style='color: DarkKhaki'>Nodes</h4>"
      }
     },
     "ffeabbfead7b40bcaa82a1a13fa57487": {
      "model_module": "@jupyter-widgets/controls",
      "model_module_version": "1.2.0",
      "model_name": "DescriptionStyleModel",
      "state": {
       "description_width": ""
      }
     }
    },
    "version_major": 2,
    "version_minor": 0
   }
  }
 },
 "nbformat": 4,
 "nbformat_minor": 2
}
