{
 "cells": [
  {
   "cell_type": "code",
   "execution_count": 1,
   "metadata": {},
   "outputs": [
    {
     "data": {
      "text/html": [
       "<script>var py = Jupyter.notebook.kernel</script>"
      ],
      "text/plain": [
       "<IPython.core.display.HTML object>"
      ]
     },
     "metadata": {},
     "output_type": "display_data"
    },
    {
     "data": {
      "text/html": [
       "<style>\n",
       "#node_table_body tr td, #edge_table_body tr td {\n",
       "    padding: 2px;\n",
       "}\n",
       "#node_table_body tr td input, #edge_table_body tr td input {\n",
       "    height: 100%;\n",
       "    width: 100%;\n",
       "    border: 0px;\n",
       "    text-align: center;\n",
       "}\n",
       "</style>"
      ],
      "text/plain": [
       "<IPython.core.display.HTML object>"
      ]
     },
     "metadata": {},
     "output_type": "display_data"
    },
    {
     "data": {
      "text/html": [
       "<script>\n",
       "cy.io.saveNdex = Jupyter.notebook.kernel.comm_manager.new_comm( 'saveNdexComm' );\n",
       "</script>"
      ],
      "text/plain": [
       "<IPython.core.display.HTML object>"
      ]
     },
     "metadata": {},
     "output_type": "display_data"
    }
   ],
   "source": [
    "%run ~/Public/Cytoscape/Embed.ipynb"
   ]
  },
  {
   "cell_type": "code",
   "execution_count": 2,
   "metadata": {},
   "outputs": [
    {
     "data": {
      "application/javascript": [
       "\n",
       "        var code = Jupyter.notebook.insert_cell_below('code');\n",
       "        code.set_text(atob(\"ZGlzcGxheSggR3JhcGguYm94LnN0YXJ0ICk=\"));\n",
       "        \n",
       "        var cell_index = Jupyter.notebook.find_cell_index(code)        \n",
       "        Jupyter.notebook.execute_cells([cell_index])\n",
       "    "
      ],
      "text/plain": [
       "<IPython.core.display.Javascript object>"
      ]
     },
     "metadata": {},
     "output_type": "display_data"
    },
    {
     "data": {
      "application/javascript": [
       "\n",
       "        var code = Jupyter.notebook.insert_cell_below('code');\n",
       "        code.set_text(atob(\"ZGlzcGxheSggR3JhcGguaHRtbC5jeSAp\"));\n",
       "        \n",
       "        var cell_index = Jupyter.notebook.find_cell_index(code)        \n",
       "        Jupyter.notebook.execute_cells([cell_index])\n",
       "    "
      ],
      "text/plain": [
       "<IPython.core.display.Javascript object>"
      ]
     },
     "metadata": {},
     "output_type": "display_data"
    },
    {
     "data": {
      "application/javascript": [
       "\n",
       "        var code = Jupyter.notebook.insert_cell_below('code');\n",
       "        code.set_text(atob(\"ZGlzcGxheSggR3JhcGguYm94LmVkaXRvciApIA==\"));\n",
       "        \n",
       "            code.metadata.cell_style = 'split';\n",
       "            code.element.attr('style', 'float:left; width:50%;' );\n",
       "        \n",
       "        var cell_index = Jupyter.notebook.find_cell_index(code)        \n",
       "        Jupyter.notebook.execute_cells([cell_index])\n",
       "    "
      ],
      "text/plain": [
       "<IPython.core.display.Javascript object>"
      ]
     },
     "metadata": {},
     "output_type": "display_data"
    },
    {
     "data": {
      "application/javascript": [
       "\n",
       "        var code = Jupyter.notebook.insert_cell_below('code');\n",
       "        code.set_text(atob(\"ZGlzcGxheSggR3JhcGguaHRtbC50YWJsZSApIA==\"));\n",
       "        \n",
       "            code.metadata.cell_style = 'split';\n",
       "            code.element.attr('style', 'float:left; width:50%;' );\n",
       "        \n",
       "        var cell_index = Jupyter.notebook.find_cell_index(code)        \n",
       "        Jupyter.notebook.execute_cells([cell_index])\n",
       "    "
      ],
      "text/plain": [
       "<IPython.core.display.Javascript object>"
      ]
     },
     "metadata": {},
     "output_type": "display_data"
    },
    {
     "data": {
      "application/javascript": [
       "\n",
       "        var code = Jupyter.notebook.insert_cell_below('code');\n",
       "        code.set_text(atob(\"ZGlzcGxheSggR3JhcGguYm94LmxvYWRTYXZlICkg\"));\n",
       "        \n",
       "            code.metadata.cell_style = 'split';\n",
       "            code.element.attr('style', 'float:left; width:50%;' );\n",
       "        \n",
       "        var cell_index = Jupyter.notebook.find_cell_index(code)        \n",
       "        Jupyter.notebook.execute_cells([cell_index])\n",
       "    "
      ],
      "text/plain": [
       "<IPython.core.display.Javascript object>"
      ]
     },
     "metadata": {},
     "output_type": "display_data"
    }
   ],
   "source": [
    "#Graph.embed()"
   ]
  },
  {
   "cell_type": "code",
   "execution_count": null,
   "metadata": {},
   "outputs": [],
   "source": []
  },
  {
   "cell_type": "code",
   "execution_count": 3,
   "metadata": {},
   "outputs": [
    {
     "data": {
      "application/vnd.jupyter.widget-view+json": {
       "model_id": "bbcf32d08c91446a98ad5f456500cbb9",
       "version_major": 2,
       "version_minor": 0
      },
      "text/plain": [
       "HBox(children=(Button(button_style='warning', description='Start Cytoscape!', style=ButtonStyle()),), layout=L…"
      ]
     },
     "metadata": {},
     "output_type": "display_data"
    }
   ],
   "source": [
    "display( Graph.box.start )"
   ]
  },
  {
   "cell_type": "code",
   "execution_count": 4,
   "metadata": {},
   "outputs": [
    {
     "data": {
      "text/html": [
       "\n",
       "<style>.cy{ \n",
       "    width: 100%; \n",
       "    height: 50vw;\n",
       "    border-style: solid;\n",
       "    border-width: 1px;\n",
       "}</style>\n",
       "<div id='cy' class='cy'></div>\n"
      ],
      "text/plain": [
       "<IPython.core.display.HTML object>"
      ]
     },
     "metadata": {},
     "output_type": "display_data"
    }
   ],
   "source": [
    "display( Graph.html.cy )"
   ]
  },
  {
   "cell_type": "code",
   "execution_count": 5,
   "metadata": {
    "cell_style": "split"
   },
   "outputs": [
    {
     "data": {
      "application/vnd.jupyter.widget-view+json": {
       "model_id": "48ce3f1504f64262bd5a31430fa138f8",
       "version_major": 2,
       "version_minor": 0
      },
      "text/plain": [
       "VBox(children=(VBox(children=(HBox(children=(Text(value='', continuous_update=False, description='Search :'), …"
      ]
     },
     "metadata": {},
     "output_type": "display_data"
    }
   ],
   "source": [
    "display( Graph.box.editor ) "
   ]
  },
  {
   "cell_type": "code",
   "execution_count": 6,
   "metadata": {
    "cell_style": "split"
   },
   "outputs": [
    {
     "data": {
      "text/html": [
       "\n",
       "<h2 style='color: DarkKhaki'>Nodes</h2>\n",
       "<table id=\"node_table\" class=\"table table-striped table-bordered\">\n",
       "    <thead><tr id=\"node_table_head\"></tr></thead>\n",
       "    <tbody id=\"node_table_body\"></tbody>    \n",
       "</table>\n",
       "\n",
       "<h2 style='color: purple'>Edges</h2>\n",
       "<table id=\"edge_table\" class=\"table table-striped table-bordered\">\n",
       "    <thead><tr id=\"edge_table_head\"></tr></thead>\n",
       "    <tbody id=\"edge_table_body\"></tbody>    \n",
       "</table>\n"
      ],
      "text/plain": [
       "<IPython.core.display.HTML object>"
      ]
     },
     "metadata": {},
     "output_type": "display_data"
    }
   ],
   "source": [
    "display( Graph.html.table ) "
   ]
  },
  {
   "cell_type": "code",
   "execution_count": 7,
   "metadata": {
    "cell_style": "split"
   },
   "outputs": [
    {
     "data": {
      "application/vnd.jupyter.widget-view+json": {
       "model_id": "b5e89df2266347bbbc12adb105d9f8a6",
       "version_major": 2,
       "version_minor": 0
      },
      "text/plain": [
       "Accordion(children=(VBox(children=(ToggleButtons(button_style='success', layout=Layout(justify_content='center…"
      ]
     },
     "metadata": {},
     "output_type": "display_data"
    }
   ],
   "source": [
    "display( Graph.box.loadSave ) "
   ]
  }
 ],
 "metadata": {
  "hide_input": false,
  "kernelspec": {
   "display_name": "Python 3",
   "language": "python",
   "name": "python3"
  },
  "language_info": {
   "codemirror_mode": {
    "name": "ipython",
    "version": 3
   },
   "file_extension": ".py",
   "mimetype": "text/x-python",
   "name": "python",
   "nbconvert_exporter": "python",
   "pygments_lexer": "ipython3",
   "version": "3.6.6"
  },
  "toc": {
   "base_numbering": 1,
   "nav_menu": {},
   "number_sections": true,
   "sideBar": true,
   "skip_h1_title": false,
   "title_cell": "Table of Contents",
   "title_sidebar": "Contents",
   "toc_cell": false,
   "toc_position": {},
   "toc_section_display": true,
   "toc_window_display": false
  },
  "varInspector": {
   "cols": {
    "lenName": 16,
    "lenType": 16,
    "lenVar": 40
   },
   "kernels_config": {
    "python": {
     "delete_cmd_postfix": "",
     "delete_cmd_prefix": "del ",
     "library": "var_list.py",
     "varRefreshCmd": "print(var_dic_list())"
    },
    "r": {
     "delete_cmd_postfix": ") ",
     "delete_cmd_prefix": "rm(",
     "library": "var_list.r",
     "varRefreshCmd": "cat(var_dic_list()) "
    }
   },
   "types_to_exclude": [
    "module",
    "function",
    "builtin_function_or_method",
    "instance",
    "_Feature"
   ],
   "window_display": false
  }
 },
 "nbformat": 4,
 "nbformat_minor": 2
}
